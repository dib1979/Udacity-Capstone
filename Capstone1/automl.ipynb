{
 "cells": [
  {
   "cell_type": "code",
   "execution_count": 1,
   "metadata": {},
   "outputs": [
    {
     "name": "stdout",
     "output_type": "stream",
     "text": [
      "SDK version: 1.19.0\n"
     ]
    }
   ],
   "source": [
    "import logging\n",
    "import os\n",
    "import csv\n",
    "\n",
    "from matplotlib import pyplot as plt\n",
    "import numpy as np\n",
    "import pandas as pd\n",
    "#from sklearn import datasets\n",
    "import pkg_resources\n",
    "\n",
    "import azureml.core\n",
    "from azureml.core.experiment import Experiment\n",
    "from azureml.core.workspace import Workspace\n",
    "from azureml.train.automl import AutoMLConfig\n",
    "#from azureml.core.dataset import Dataset\n",
    "\n",
    "from azureml.pipeline.steps import AutoMLStep\n",
    "\n",
    "# Check core SDK version number\n",
    "print(\"SDK version:\", azureml.core.VERSION)"
   ]
  },
  {
   "cell_type": "code",
   "execution_count": 2,
   "metadata": {},
   "outputs": [
    {
     "name": "stdout",
     "output_type": "stream",
     "text": [
      "Workspace name: quick-starts-ws-132408\n",
      "Azure region: southcentralus\n",
      "Subscription id: 9b72f9e6-56c5-4c16-991b-19c652994860\n",
      "Resource group: aml-quickstarts-132408\n"
     ]
    }
   ],
   "source": [
    "from azureml.core import Workspace, Experiment\n",
    "ws = Workspace.from_config()\n",
    "print('Workspace name: ' + ws.name, \n",
    "      'Azure region: ' + ws.location, \n",
    "      'Subscription id: ' + ws.subscription_id, \n",
    "      'Resource group: ' + ws.resource_group, sep = '\\n')\n",
    "experiment_name = 'udacity-project'\n",
    "exp=Experiment(ws, experiment_name)\n",
    "project_folder = './automlproject'\n",
    "run = exp.start_logging()"
   ]
  },
  {
   "cell_type": "code",
   "execution_count": 3,
   "metadata": {},
   "outputs": [
    {
     "name": "stdout",
     "output_type": "stream",
     "text": [
      "Creating\n",
      "Succeeded\n",
      "AmlCompute wait for completion finished\n",
      "\n",
      "Minimum number of nodes requested have been provisioned\n"
     ]
    }
   ],
   "source": [
    "from azureml.core.compute import ComputeTarget, AmlCompute\n",
    "\n",
    "# TODO: Create compute cluster\n",
    "# Use vm_size = \"Standard_D2_V2\" in your provisioning configuration.\n",
    "# max_nodes should be no greater than 4.\n",
    "\n",
    "# Choose a name for your CPU cluster\n",
    "from azureml.core.compute_target import ComputeTargetException\n",
    "cpu_cluster_name = \"cpu-cluster-mla\"\n",
    "\n",
    "   # Verify that cluster does not exist already\n",
    "try:\n",
    "    cpu_cluster = ComputeTarget(workspace=ws, name=cpu_cluster_name)\n",
    "    print('Found existing cluster, use it.')\n",
    "except ComputeTargetException:\n",
    "    compute_config = AmlCompute.provisioning_configuration(vm_size='STANDARD_D2_V2',\n",
    "                                                              max_nodes=4)\n",
    "    cpu_cluster = ComputeTarget.create(ws, cpu_cluster_name, compute_config)\n",
    "\n",
    "    cpu_cluster.wait_for_completion(show_output=True)"
   ]
  },
  {
   "cell_type": "code",
   "execution_count": 4,
   "metadata": {},
   "outputs": [
    {
     "data": {
      "text/html": [
       "<div>\n",
       "<style scoped>\n",
       "    .dataframe tbody tr th:only-of-type {\n",
       "        vertical-align: middle;\n",
       "    }\n",
       "\n",
       "    .dataframe tbody tr th {\n",
       "        vertical-align: top;\n",
       "    }\n",
       "\n",
       "    .dataframe thead th {\n",
       "        text-align: right;\n",
       "    }\n",
       "</style>\n",
       "<table border=\"1\" class=\"dataframe\">\n",
       "  <thead>\n",
       "    <tr style=\"text-align: right;\">\n",
       "      <th></th>\n",
       "      <th>sepal_length</th>\n",
       "      <th>sepal_width</th>\n",
       "      <th>petal_length</th>\n",
       "      <th>petal_width</th>\n",
       "      <th>species</th>\n",
       "    </tr>\n",
       "  </thead>\n",
       "  <tbody>\n",
       "    <tr>\n",
       "      <th>0</th>\n",
       "      <td>5.1</td>\n",
       "      <td>3.5</td>\n",
       "      <td>1.4</td>\n",
       "      <td>0.2</td>\n",
       "      <td>Iris-setosa</td>\n",
       "    </tr>\n",
       "    <tr>\n",
       "      <th>1</th>\n",
       "      <td>4.9</td>\n",
       "      <td>3.0</td>\n",
       "      <td>1.4</td>\n",
       "      <td>0.2</td>\n",
       "      <td>Iris-setosa</td>\n",
       "    </tr>\n",
       "    <tr>\n",
       "      <th>2</th>\n",
       "      <td>4.7</td>\n",
       "      <td>3.2</td>\n",
       "      <td>1.3</td>\n",
       "      <td>0.2</td>\n",
       "      <td>Iris-setosa</td>\n",
       "    </tr>\n",
       "    <tr>\n",
       "      <th>3</th>\n",
       "      <td>4.6</td>\n",
       "      <td>3.1</td>\n",
       "      <td>1.5</td>\n",
       "      <td>0.2</td>\n",
       "      <td>Iris-setosa</td>\n",
       "    </tr>\n",
       "    <tr>\n",
       "      <th>4</th>\n",
       "      <td>5.0</td>\n",
       "      <td>3.6</td>\n",
       "      <td>1.4</td>\n",
       "      <td>0.2</td>\n",
       "      <td>Iris-setosa</td>\n",
       "    </tr>\n",
       "  </tbody>\n",
       "</table>\n",
       "</div>"
      ],
      "text/plain": [
       "   sepal_length  sepal_width  petal_length  petal_width      species\n",
       "0           5.1          3.5           1.4          0.2  Iris-setosa\n",
       "1           4.9          3.0           1.4          0.2  Iris-setosa\n",
       "2           4.7          3.2           1.3          0.2  Iris-setosa\n",
       "3           4.6          3.1           1.5          0.2  Iris-setosa\n",
       "4           5.0          3.6           1.4          0.2  Iris-setosa"
      ]
     },
     "execution_count": 4,
     "metadata": {},
     "output_type": "execute_result"
    }
   ],
   "source": [
    "from azureml.data.dataset_factory import TabularDatasetFactory\n",
    "from azureml.core.dataset import Dataset\n",
    "from azureml.data.datapath import DataPath\n",
    "\n",
    "url_path = 'https://raw.githubusercontent.com/dib1979/Temporary/main/IRIS.csv'\n",
    "dataset = TabularDatasetFactory.from_delimited_files(path=url_path)\n",
    "dataset = dataset.register(workspace=ws,\n",
    "                    name='iris_data',\n",
    "                    description='Udacity Project')\n",
    "dataset.to_pandas_dataframe().head()"
   ]
  },
  {
   "cell_type": "code",
   "execution_count": 5,
   "metadata": {},
   "outputs": [
    {
     "data": {
      "text/html": [
       "<div>\n",
       "<style scoped>\n",
       "    .dataframe tbody tr th:only-of-type {\n",
       "        vertical-align: middle;\n",
       "    }\n",
       "\n",
       "    .dataframe tbody tr th {\n",
       "        vertical-align: top;\n",
       "    }\n",
       "\n",
       "    .dataframe thead th {\n",
       "        text-align: right;\n",
       "    }\n",
       "</style>\n",
       "<table border=\"1\" class=\"dataframe\">\n",
       "  <thead>\n",
       "    <tr style=\"text-align: right;\">\n",
       "      <th></th>\n",
       "      <th>sepal_length</th>\n",
       "      <th>sepal_width</th>\n",
       "      <th>petal_length</th>\n",
       "      <th>petal_width</th>\n",
       "    </tr>\n",
       "  </thead>\n",
       "  <tbody>\n",
       "    <tr>\n",
       "      <th>count</th>\n",
       "      <td>150.000000</td>\n",
       "      <td>150.000000</td>\n",
       "      <td>150.000000</td>\n",
       "      <td>150.000000</td>\n",
       "    </tr>\n",
       "    <tr>\n",
       "      <th>mean</th>\n",
       "      <td>5.843333</td>\n",
       "      <td>3.054000</td>\n",
       "      <td>3.758667</td>\n",
       "      <td>1.198667</td>\n",
       "    </tr>\n",
       "    <tr>\n",
       "      <th>std</th>\n",
       "      <td>0.828066</td>\n",
       "      <td>0.433594</td>\n",
       "      <td>1.764420</td>\n",
       "      <td>0.763161</td>\n",
       "    </tr>\n",
       "    <tr>\n",
       "      <th>min</th>\n",
       "      <td>4.300000</td>\n",
       "      <td>2.000000</td>\n",
       "      <td>1.000000</td>\n",
       "      <td>0.100000</td>\n",
       "    </tr>\n",
       "    <tr>\n",
       "      <th>25%</th>\n",
       "      <td>5.100000</td>\n",
       "      <td>2.800000</td>\n",
       "      <td>1.600000</td>\n",
       "      <td>0.300000</td>\n",
       "    </tr>\n",
       "    <tr>\n",
       "      <th>50%</th>\n",
       "      <td>5.800000</td>\n",
       "      <td>3.000000</td>\n",
       "      <td>4.350000</td>\n",
       "      <td>1.300000</td>\n",
       "    </tr>\n",
       "    <tr>\n",
       "      <th>75%</th>\n",
       "      <td>6.400000</td>\n",
       "      <td>3.300000</td>\n",
       "      <td>5.100000</td>\n",
       "      <td>1.800000</td>\n",
       "    </tr>\n",
       "    <tr>\n",
       "      <th>max</th>\n",
       "      <td>7.900000</td>\n",
       "      <td>4.400000</td>\n",
       "      <td>6.900000</td>\n",
       "      <td>2.500000</td>\n",
       "    </tr>\n",
       "  </tbody>\n",
       "</table>\n",
       "</div>"
      ],
      "text/plain": [
       "       sepal_length  sepal_width  petal_length  petal_width\n",
       "count    150.000000   150.000000    150.000000   150.000000\n",
       "mean       5.843333     3.054000      3.758667     1.198667\n",
       "std        0.828066     0.433594      1.764420     0.763161\n",
       "min        4.300000     2.000000      1.000000     0.100000\n",
       "25%        5.100000     2.800000      1.600000     0.300000\n",
       "50%        5.800000     3.000000      4.350000     1.300000\n",
       "75%        6.400000     3.300000      5.100000     1.800000\n",
       "max        7.900000     4.400000      6.900000     2.500000"
      ]
     },
     "execution_count": 5,
     "metadata": {},
     "output_type": "execute_result"
    }
   ],
   "source": [
    "df = dataset.to_pandas_dataframe()\n",
    "df.describe()"
   ]
  },
  {
   "cell_type": "code",
   "execution_count": 6,
   "metadata": {},
   "outputs": [
    {
     "data": {
      "text/plain": [
       "Iris-setosa        50\n",
       "Iris-versicolor    50\n",
       "Iris-virginica     50\n",
       "Name: species, dtype: int64"
      ]
     },
     "execution_count": 6,
     "metadata": {},
     "output_type": "execute_result"
    }
   ],
   "source": [
    "df['species'].value_counts()"
   ]
  },
  {
   "cell_type": "code",
   "execution_count": 7,
   "metadata": {},
   "outputs": [],
   "source": [
    "X= df.drop(['species'], axis=1)"
   ]
  },
  {
   "cell_type": "code",
   "execution_count": 8,
   "metadata": {},
   "outputs": [],
   "source": [
    "y = df['species']\n"
   ]
  },
  {
   "cell_type": "code",
   "execution_count": 9,
   "metadata": {},
   "outputs": [],
   "source": [
    "from sklearn.model_selection import train_test_split\n",
    "import pandas as pd\n",
    "\n",
    "(X_train, X_test, y_train, y_test) = train_test_split(X, y, test_size= 0.3, random_state = 0)\n",
    "label = 'species'"
   ]
  },
  {
   "cell_type": "code",
   "execution_count": 10,
   "metadata": {},
   "outputs": [
    {
     "data": {
      "text/html": [
       "<div>\n",
       "<style scoped>\n",
       "    .dataframe tbody tr th:only-of-type {\n",
       "        vertical-align: middle;\n",
       "    }\n",
       "\n",
       "    .dataframe tbody tr th {\n",
       "        vertical-align: top;\n",
       "    }\n",
       "\n",
       "    .dataframe thead th {\n",
       "        text-align: right;\n",
       "    }\n",
       "</style>\n",
       "<table border=\"1\" class=\"dataframe\">\n",
       "  <thead>\n",
       "    <tr style=\"text-align: right;\">\n",
       "      <th></th>\n",
       "      <th>sepal_length</th>\n",
       "      <th>sepal_width</th>\n",
       "      <th>petal_length</th>\n",
       "      <th>petal_width</th>\n",
       "      <th>species</th>\n",
       "    </tr>\n",
       "  </thead>\n",
       "  <tbody>\n",
       "    <tr>\n",
       "      <th>60</th>\n",
       "      <td>5.0</td>\n",
       "      <td>2.0</td>\n",
       "      <td>3.5</td>\n",
       "      <td>1.0</td>\n",
       "      <td>Iris-versicolor</td>\n",
       "    </tr>\n",
       "    <tr>\n",
       "      <th>116</th>\n",
       "      <td>6.5</td>\n",
       "      <td>3.0</td>\n",
       "      <td>5.5</td>\n",
       "      <td>1.8</td>\n",
       "      <td>Iris-virginica</td>\n",
       "    </tr>\n",
       "    <tr>\n",
       "      <th>144</th>\n",
       "      <td>6.7</td>\n",
       "      <td>3.3</td>\n",
       "      <td>5.7</td>\n",
       "      <td>2.5</td>\n",
       "      <td>Iris-virginica</td>\n",
       "    </tr>\n",
       "    <tr>\n",
       "      <th>119</th>\n",
       "      <td>6.0</td>\n",
       "      <td>2.2</td>\n",
       "      <td>5.0</td>\n",
       "      <td>1.5</td>\n",
       "      <td>Iris-virginica</td>\n",
       "    </tr>\n",
       "    <tr>\n",
       "      <th>108</th>\n",
       "      <td>6.7</td>\n",
       "      <td>2.5</td>\n",
       "      <td>5.8</td>\n",
       "      <td>1.8</td>\n",
       "      <td>Iris-virginica</td>\n",
       "    </tr>\n",
       "  </tbody>\n",
       "</table>\n",
       "</div>"
      ],
      "text/plain": [
       "     sepal_length  sepal_width  petal_length  petal_width          species\n",
       "60            5.0          2.0           3.5          1.0  Iris-versicolor\n",
       "116           6.5          3.0           5.5          1.8   Iris-virginica\n",
       "144           6.7          3.3           5.7          2.5   Iris-virginica\n",
       "119           6.0          2.2           5.0          1.5   Iris-virginica\n",
       "108           6.7          2.5           5.8          1.8   Iris-virginica"
      ]
     },
     "execution_count": 10,
     "metadata": {},
     "output_type": "execute_result"
    }
   ],
   "source": [
    "train_data_df = pd.concat([X_train, y_train], axis=1)\n",
    "\n",
    "train_data_df.head()"
   ]
  },
  {
   "cell_type": "code",
   "execution_count": 11,
   "metadata": {},
   "outputs": [
    {
     "name": "stdout",
     "output_type": "stream",
     "text": [
      "Uploading an estimated of 1 files\n",
      "Uploading ./data/train_data.csv\n",
      "Uploaded ./data/train_data.csv, 1 files out of an estimated total of 1\n",
      "Uploaded 1 files\n"
     ]
    }
   ],
   "source": [
    "# save training data in tabular format to allow for remote run\n",
    "if not os.path.isdir('data'):  # create data folder if it does not exist\n",
    "    os.mkdir('data')\n",
    "    \n",
    "if not os.path.exists('project_folder'):  # create project folder if it does not exist\n",
    "    os.makedirs('project_folder')\n",
    "\n",
    "# Save the train data to a csv file to be uploaded to the datastore\n",
    "pd.DataFrame(train_data_df).to_csv(\"data/train_data.csv\", index=False)\n",
    "\n",
    "# Upload the training data as a tabular dataset for access during training on remote compute\n",
    "# upload to data store\n",
    "ds = ws.get_default_datastore()\n",
    "ds.upload(src_dir='./data', target_path='automlclassifier', overwrite=True, show_progress=True)\n",
    "\n",
    " # access datastore during training on remote compute\n",
    "train_data = TabularDatasetFactory.from_delimited_files(path=ds.path('automlclassifier/train_data.csv'))"
   ]
  },
  {
   "cell_type": "code",
   "execution_count": 12,
   "metadata": {},
   "outputs": [],
   "source": [
    "# Set parameters for AutoMLConfig\n",
    "\n",
    "# define autoconfig settings\n",
    "automl_settings = {\n",
    "    \"enable_early_stopping\" : True,\n",
    "    \"iteration_timeout_minutes\": 5,\n",
    "    \"max_concurrent_iterations\": 4,\n",
    "    \"max_cores_per_iteration\": -1,    \n",
    "    \"featurization\": 'auto',\n",
    "    \"verbosity\": logging.INFO,\n",
    "}\n",
    "\n",
    "# define automl autconfig parameters\n",
    "automl_config = AutoMLConfig(\n",
    "    experiment_timeout_minutes=30,\n",
    "    task= 'classification',\n",
    "    primary_metric='accuracy',\n",
    "    enable_onnx_compatible_models=True,\n",
    "    compute_target=cpu_cluster, # included to allow for remote compute\n",
    "    training_data= train_data,\n",
    "    label_column_name= label,\n",
    "    path = project_folder,\n",
    "    n_cross_validations=3,\n",
    "    debug_log = \"automl_errors.log\",    \n",
    "    **automl_settings)"
   ]
  },
  {
   "cell_type": "code",
   "execution_count": 13,
   "metadata": {
    "scrolled": true
   },
   "outputs": [
    {
     "name": "stdout",
     "output_type": "stream",
     "text": [
      "Running on remote.\n",
      "No run_configuration provided, running on cpu-cluster-mla with default configuration\n",
      "Running on remote compute: cpu-cluster-mla\n",
      "Parent Run ID: AutoML_e51d9550-c605-45cc-b6a8-83916e298ca2\n",
      "\n",
      "Current status: FeaturesGeneration. Generating features for the dataset.\n",
      "Current status: DatasetCrossValidationSplit. Generating individually featurized CV splits.\n",
      "Current status: ModelSelection. Beginning model selection.\n",
      "\n",
      "****************************************************************************************************\n",
      "DATA GUARDRAILS: \n",
      "\n",
      "TYPE:         Class balancing detection\n",
      "STATUS:       PASSED\n",
      "DESCRIPTION:  Your inputs were analyzed, and all classes are balanced in your training data.\n",
      "              Learn more about imbalanced data: https://aka.ms/AutomatedMLImbalancedData\n",
      "\n",
      "****************************************************************************************************\n",
      "\n",
      "TYPE:         High cardinality feature detection\n",
      "STATUS:       PASSED\n",
      "DESCRIPTION:  Your inputs were analyzed, and no high cardinality features were detected.\n",
      "              Learn more about high cardinality feature handling: https://aka.ms/AutomatedMLFeaturization\n",
      "\n",
      "****************************************************************************************************\n",
      "\n",
      "****************************************************************************************************\n",
      "ITERATION: The iteration being evaluated.\n",
      "PIPELINE: A summary description of the pipeline being evaluated.\n",
      "DURATION: Time taken for the current iteration.\n",
      "METRIC: The result of computing score on the fitted pipeline.\n",
      "BEST: The best observed score thus far.\n",
      "****************************************************************************************************\n",
      "\n",
      " ITERATION   PIPELINE                                       DURATION      METRIC      BEST\n",
      "         0   MaxAbsScaler LightGBM                          0:00:52       0.9429    0.9429\n",
      "         3   MinMaxScaler RandomForest                      0:00:59       0.9429    0.9429\n",
      "         2   MinMaxScaler RandomForest                      0:01:03       0.9238    0.9429\n",
      "         6   MinMaxScaler SVM                               0:00:55       0.9429    0.9429\n",
      "         7   MaxAbsScaler GradientBoosting                  0:00:59       0.9238    0.9429\n",
      "         5   SparseNormalizer XGBoostClassifier             0:03:26       0.9619    0.9619\n",
      "         1   MaxAbsScaler XGBoostClassifier                 0:03:32       0.9333    0.9619\n",
      "         4   MinMaxScaler RandomForest                      0:03:34       0.9333    0.9619\n",
      "         8   StandardScalerWrapper RandomForest             0:00:54       0.8952    0.9619\n",
      "         9   SparseNormalizer XGBoostClassifier             0:00:52       0.9619    0.9619\n",
      "        10   SparseNormalizer XGBoostClassifier             0:00:50       0.9619    0.9619\n",
      "        11   SparseNormalizer XGBoostClassifier             0:01:00       0.9619    0.9619\n",
      "        12   SparseNormalizer XGBoostClassifier             0:00:53       0.9524    0.9619\n",
      "        13   StandardScalerWrapper LightGBM                 0:00:54       0.9333    0.9619\n",
      "        14   RobustScaler LightGBM                          0:00:55       0.9048    0.9619\n",
      "        15   StandardScalerWrapper ExtremeRandomTrees       0:00:58       0.9333    0.9619\n",
      "        16   StandardScalerWrapper ExtremeRandomTrees       0:00:56       0.9333    0.9619\n",
      "        17   MinMaxScaler LightGBM                          0:01:01       0.9048    0.9619\n",
      "        18   StandardScalerWrapper LogisticRegression       0:01:00       0.9810    0.9810\n",
      "        19   StandardScalerWrapper LightGBM                 0:00:58       0.9238    0.9810\n",
      "        20   StandardScalerWrapper LogisticRegression       0:00:52       0.9429    0.9810\n",
      "        21   MaxAbsScaler LightGBM                          0:00:57       0.9238    0.9810\n",
      "        23   StandardScalerWrapper XGBoostClassifier        0:00:52       0.9238    0.9810\n",
      "        24   StandardScalerWrapper LightGBM                 0:00:59       0.9524    0.9810\n",
      "        22   RobustScaler LightGBM                          0:01:12       0.9333    0.9810\n",
      "        25   MaxAbsScaler LogisticRegression                0:00:58       0.3429    0.9810\n",
      "        26   TruncatedSVDWrapper XGBoostClassifier          0:00:53       0.9429    0.9810\n",
      "        27   StandardScalerWrapper LightGBM                 0:00:54       0.9333    0.9810\n",
      "        28   MinMaxScaler LightGBM                          0:00:51       0.8762    0.9810\n",
      "        29   StandardScalerWrapper XGBoostClassifier        0:00:55       0.9143    0.9810\n",
      "        31   MinMaxScaler ExtremeRandomTrees                0:00:55       0.9429    0.9810\n",
      "        32   SparseNormalizer XGBoostClassifier             0:00:51       0.9524    0.9810\n",
      "        30   SparseNormalizer LogisticRegression            0:01:06       0.3429    0.9810\n",
      "        33                                                  0:00:10          nan    0.9810\n",
      "        34                                                  0:00:17          nan    0.9810\n",
      "        35    VotingEnsemble                                0:01:14       0.9810    0.9810\n"
     ]
    }
   ],
   "source": [
    "#Submit experiment for remote run\n",
    "automl_run = exp.submit(automl_config, show_output = True)"
   ]
  },
  {
   "cell_type": "code",
   "execution_count": 14,
   "metadata": {},
   "outputs": [
    {
     "data": {
      "application/vnd.jupyter.widget-view+json": {
       "model_id": "e6267f5c0f86432c9239a91a2faa2727",
       "version_major": 2,
       "version_minor": 0
      },
      "text/plain": [
       "_AutoMLWidget(widget_settings={'childWidgetDisplay': 'popup', 'send_telemetry': False, 'log_level': 'INFO', 's…"
      ]
     },
     "metadata": {},
     "output_type": "display_data"
    },
    {
     "data": {
      "application/aml.mini.widget.v1": "{\"status\": \"Completed\", \"workbench_run_details_uri\": \"https://ml.azure.com/experiments/udacity-project/runs/AutoML_e51d9550-c605-45cc-b6a8-83916e298ca2?wsid=/subscriptions/9b72f9e6-56c5-4c16-991b-19c652994860/resourcegroups/aml-quickstarts-132408/workspaces/quick-starts-ws-132408\", \"run_id\": \"AutoML_e51d9550-c605-45cc-b6a8-83916e298ca2\", \"run_properties\": {\"run_id\": \"AutoML_e51d9550-c605-45cc-b6a8-83916e298ca2\", \"created_utc\": \"2020-12-30T00:41:15.700243Z\", \"properties\": {\"num_iterations\": \"1000\", \"training_type\": \"TrainFull\", \"acquisition_function\": \"EI\", \"primary_metric\": \"accuracy\", \"train_split\": \"0\", \"acquisition_parameter\": \"0\", \"num_cross_validation\": \"3\", \"target\": \"cpu-cluster-mla\", \"AMLSettingsJsonString\": \"{\\\"path\\\":null,\\\"name\\\":\\\"udacity-project\\\",\\\"subscription_id\\\":\\\"9b72f9e6-56c5-4c16-991b-19c652994860\\\",\\\"resource_group\\\":\\\"aml-quickstarts-132408\\\",\\\"workspace_name\\\":\\\"quick-starts-ws-132408\\\",\\\"region\\\":\\\"southcentralus\\\",\\\"compute_target\\\":\\\"cpu-cluster-mla\\\",\\\"spark_service\\\":null,\\\"azure_service\\\":\\\"remote\\\",\\\"many_models\\\":false,\\\"pipeline_fetch_max_batch_size\\\":1,\\\"iterations\\\":1000,\\\"primary_metric\\\":\\\"accuracy\\\",\\\"task_type\\\":\\\"classification\\\",\\\"data_script\\\":null,\\\"validation_size\\\":0.0,\\\"n_cross_validations\\\":3,\\\"y_min\\\":null,\\\"y_max\\\":null,\\\"num_classes\\\":null,\\\"featurization\\\":\\\"auto\\\",\\\"_ignore_package_version_incompatibilities\\\":false,\\\"is_timeseries\\\":false,\\\"max_cores_per_iteration\\\":-1,\\\"max_concurrent_iterations\\\":4,\\\"iteration_timeout_minutes\\\":5,\\\"mem_in_mb\\\":null,\\\"enforce_time_on_windows\\\":false,\\\"experiment_timeout_minutes\\\":30,\\\"experiment_exit_score\\\":null,\\\"whitelist_models\\\":null,\\\"blacklist_algos\\\":[\\\"TensorFlowLinearClassifier\\\",\\\"TensorFlowDNN\\\"],\\\"supported_models\\\":[\\\"SVM\\\",\\\"BernoulliNaiveBayes\\\",\\\"MultinomialNaiveBayes\\\",\\\"LightGBM\\\",\\\"LogisticRegression\\\",\\\"DecisionTree\\\",\\\"AveragedPerceptronClassifier\\\",\\\"SGD\\\",\\\"GradientBoosting\\\",\\\"TensorFlowLinearClassifier\\\",\\\"XGBoostClassifier\\\",\\\"RandomForest\\\",\\\"LinearSVM\\\",\\\"TensorFlowDNN\\\",\\\"ExtremeRandomTrees\\\",\\\"KNN\\\"],\\\"auto_blacklist\\\":true,\\\"blacklist_samples_reached\\\":false,\\\"exclude_nan_labels\\\":true,\\\"verbosity\\\":20,\\\"_debug_log\\\":\\\"azureml_automl.log\\\",\\\"show_warnings\\\":false,\\\"model_explainability\\\":true,\\\"service_url\\\":null,\\\"sdk_url\\\":null,\\\"sdk_packages\\\":null,\\\"enable_onnx_compatible_models\\\":true,\\\"enable_split_onnx_featurizer_estimator_models\\\":false,\\\"vm_type\\\":\\\"STANDARD_D2_V2\\\",\\\"telemetry_verbosity\\\":20,\\\"send_telemetry\\\":true,\\\"enable_dnn\\\":false,\\\"scenario\\\":\\\"SDK-1.13.0\\\",\\\"environment_label\\\":null,\\\"force_text_dnn\\\":false,\\\"enable_feature_sweeping\\\":false,\\\"enable_early_stopping\\\":true,\\\"early_stopping_n_iters\\\":10,\\\"metrics\\\":null,\\\"enable_ensembling\\\":true,\\\"enable_stack_ensembling\\\":false,\\\"ensemble_iterations\\\":15,\\\"enable_tf\\\":false,\\\"enable_subsampling\\\":null,\\\"subsample_seed\\\":null,\\\"enable_nimbusml\\\":false,\\\"enable_streaming\\\":false,\\\"force_streaming\\\":false,\\\"track_child_runs\\\":true,\\\"allowed_private_models\\\":[],\\\"label_column_name\\\":\\\"species\\\",\\\"weight_column_name\\\":null,\\\"cv_split_column_names\\\":null,\\\"enable_local_managed\\\":false,\\\"_local_managed_run_id\\\":null,\\\"cost_mode\\\":1,\\\"lag_length\\\":0,\\\"metric_operation\\\":\\\"maximize\\\",\\\"preprocess\\\":true}\", \"DataPrepJsonString\": \"{\\\\\\\"training_data\\\\\\\": \\\\\\\"{\\\\\\\\\\\\\\\"blocks\\\\\\\\\\\\\\\": [{\\\\\\\\\\\\\\\"id\\\\\\\\\\\\\\\": \\\\\\\\\\\\\\\"b394420c-8023-4e9c-b826-129bcb9a3a56\\\\\\\\\\\\\\\", \\\\\\\\\\\\\\\"type\\\\\\\\\\\\\\\": \\\\\\\\\\\\\\\"Microsoft.DPrep.GetDatastoreFilesBlock\\\\\\\\\\\\\\\", \\\\\\\\\\\\\\\"arguments\\\\\\\\\\\\\\\": {\\\\\\\\\\\\\\\"datastores\\\\\\\\\\\\\\\": [{\\\\\\\\\\\\\\\"datastoreName\\\\\\\\\\\\\\\": \\\\\\\\\\\\\\\"workspaceblobstore\\\\\\\\\\\\\\\", \\\\\\\\\\\\\\\"path\\\\\\\\\\\\\\\": \\\\\\\\\\\\\\\"automlclassifier/train_data.csv\\\\\\\\\\\\\\\", \\\\\\\\\\\\\\\"resourceGroup\\\\\\\\\\\\\\\": \\\\\\\\\\\\\\\"aml-quickstarts-132408\\\\\\\\\\\\\\\", \\\\\\\\\\\\\\\"subscription\\\\\\\\\\\\\\\": \\\\\\\\\\\\\\\"9b72f9e6-56c5-4c16-991b-19c652994860\\\\\\\\\\\\\\\", \\\\\\\\\\\\\\\"workspaceName\\\\\\\\\\\\\\\": \\\\\\\\\\\\\\\"quick-starts-ws-132408\\\\\\\\\\\\\\\"}]}, \\\\\\\\\\\\\\\"localData\\\\\\\\\\\\\\\": {}, \\\\\\\\\\\\\\\"isEnabled\\\\\\\\\\\\\\\": true, \\\\\\\\\\\\\\\"name\\\\\\\\\\\\\\\": null, \\\\\\\\\\\\\\\"annotation\\\\\\\\\\\\\\\": null}, {\\\\\\\\\\\\\\\"id\\\\\\\\\\\\\\\": \\\\\\\\\\\\\\\"45dc80ac-051a-40fa-ad92-c333181df25d\\\\\\\\\\\\\\\", \\\\\\\\\\\\\\\"type\\\\\\\\\\\\\\\": \\\\\\\\\\\\\\\"Microsoft.DPrep.ParseDelimitedBlock\\\\\\\\\\\\\\\", \\\\\\\\\\\\\\\"arguments\\\\\\\\\\\\\\\": {\\\\\\\\\\\\\\\"columnHeadersMode\\\\\\\\\\\\\\\": 3, \\\\\\\\\\\\\\\"fileEncoding\\\\\\\\\\\\\\\": 0, \\\\\\\\\\\\\\\"handleQuotedLineBreaks\\\\\\\\\\\\\\\": false, \\\\\\\\\\\\\\\"preview\\\\\\\\\\\\\\\": false, \\\\\\\\\\\\\\\"separator\\\\\\\\\\\\\\\": \\\\\\\\\\\\\\\",\\\\\\\\\\\\\\\", \\\\\\\\\\\\\\\"skipRows\\\\\\\\\\\\\\\": 0, \\\\\\\\\\\\\\\"skipRowsMode\\\\\\\\\\\\\\\": 0}, \\\\\\\\\\\\\\\"localData\\\\\\\\\\\\\\\": {}, \\\\\\\\\\\\\\\"isEnabled\\\\\\\\\\\\\\\": true, \\\\\\\\\\\\\\\"name\\\\\\\\\\\\\\\": null, \\\\\\\\\\\\\\\"annotation\\\\\\\\\\\\\\\": null}, {\\\\\\\\\\\\\\\"id\\\\\\\\\\\\\\\": \\\\\\\\\\\\\\\"3fd0301b-6846-4ee1-a39a-e1b4e8225cc0\\\\\\\\\\\\\\\", \\\\\\\\\\\\\\\"type\\\\\\\\\\\\\\\": \\\\\\\\\\\\\\\"Microsoft.DPrep.DropColumnsBlock\\\\\\\\\\\\\\\", \\\\\\\\\\\\\\\"arguments\\\\\\\\\\\\\\\": {\\\\\\\\\\\\\\\"columns\\\\\\\\\\\\\\\": {\\\\\\\\\\\\\\\"type\\\\\\\\\\\\\\\": 0, \\\\\\\\\\\\\\\"details\\\\\\\\\\\\\\\": {\\\\\\\\\\\\\\\"selectedColumns\\\\\\\\\\\\\\\": [\\\\\\\\\\\\\\\"Path\\\\\\\\\\\\\\\"]}}}, \\\\\\\\\\\\\\\"localData\\\\\\\\\\\\\\\": {}, \\\\\\\\\\\\\\\"isEnabled\\\\\\\\\\\\\\\": true, \\\\\\\\\\\\\\\"name\\\\\\\\\\\\\\\": null, \\\\\\\\\\\\\\\"annotation\\\\\\\\\\\\\\\": null}, {\\\\\\\\\\\\\\\"id\\\\\\\\\\\\\\\": \\\\\\\\\\\\\\\"f86a13de-d1bb-4138-9678-385f0bf05425\\\\\\\\\\\\\\\", \\\\\\\\\\\\\\\"type\\\\\\\\\\\\\\\": \\\\\\\\\\\\\\\"Microsoft.DPrep.SetColumnTypesBlock\\\\\\\\\\\\\\\", \\\\\\\\\\\\\\\"arguments\\\\\\\\\\\\\\\": {\\\\\\\\\\\\\\\"columnConversion\\\\\\\\\\\\\\\": [{\\\\\\\\\\\\\\\"column\\\\\\\\\\\\\\\": {\\\\\\\\\\\\\\\"type\\\\\\\\\\\\\\\": 2, \\\\\\\\\\\\\\\"details\\\\\\\\\\\\\\\": {\\\\\\\\\\\\\\\"selectedColumn\\\\\\\\\\\\\\\": \\\\\\\\\\\\\\\"sepal_length\\\\\\\\\\\\\\\"}}, \\\\\\\\\\\\\\\"typeProperty\\\\\\\\\\\\\\\": 3}, {\\\\\\\\\\\\\\\"column\\\\\\\\\\\\\\\": {\\\\\\\\\\\\\\\"type\\\\\\\\\\\\\\\": 2, \\\\\\\\\\\\\\\"details\\\\\\\\\\\\\\\": {\\\\\\\\\\\\\\\"selectedColumn\\\\\\\\\\\\\\\": \\\\\\\\\\\\\\\"sepal_width\\\\\\\\\\\\\\\"}}, \\\\\\\\\\\\\\\"typeProperty\\\\\\\\\\\\\\\": 3}, {\\\\\\\\\\\\\\\"column\\\\\\\\\\\\\\\": {\\\\\\\\\\\\\\\"type\\\\\\\\\\\\\\\": 2, \\\\\\\\\\\\\\\"details\\\\\\\\\\\\\\\": {\\\\\\\\\\\\\\\"selectedColumn\\\\\\\\\\\\\\\": \\\\\\\\\\\\\\\"petal_length\\\\\\\\\\\\\\\"}}, \\\\\\\\\\\\\\\"typeProperty\\\\\\\\\\\\\\\": 3}, {\\\\\\\\\\\\\\\"column\\\\\\\\\\\\\\\": {\\\\\\\\\\\\\\\"type\\\\\\\\\\\\\\\": 2, \\\\\\\\\\\\\\\"details\\\\\\\\\\\\\\\": {\\\\\\\\\\\\\\\"selectedColumn\\\\\\\\\\\\\\\": \\\\\\\\\\\\\\\"petal_width\\\\\\\\\\\\\\\"}}, \\\\\\\\\\\\\\\"typeProperty\\\\\\\\\\\\\\\": 3}, {\\\\\\\\\\\\\\\"column\\\\\\\\\\\\\\\": {\\\\\\\\\\\\\\\"type\\\\\\\\\\\\\\\": 2, \\\\\\\\\\\\\\\"details\\\\\\\\\\\\\\\": {\\\\\\\\\\\\\\\"selectedColumn\\\\\\\\\\\\\\\": \\\\\\\\\\\\\\\"species\\\\\\\\\\\\\\\"}}, \\\\\\\\\\\\\\\"typeProperty\\\\\\\\\\\\\\\": 0}]}, \\\\\\\\\\\\\\\"localData\\\\\\\\\\\\\\\": {}, \\\\\\\\\\\\\\\"isEnabled\\\\\\\\\\\\\\\": true, \\\\\\\\\\\\\\\"name\\\\\\\\\\\\\\\": null, \\\\\\\\\\\\\\\"annotation\\\\\\\\\\\\\\\": null}], \\\\\\\\\\\\\\\"inspectors\\\\\\\\\\\\\\\": [], \\\\\\\\\\\\\\\"meta\\\\\\\\\\\\\\\": {\\\\\\\\\\\\\\\"savedDatasetId\\\\\\\\\\\\\\\": \\\\\\\\\\\\\\\"1e600a84-7bd9-4198-8cdc-39d1d79716f7\\\\\\\\\\\\\\\", \\\\\\\\\\\\\\\"datasetType\\\\\\\\\\\\\\\": \\\\\\\\\\\\\\\"tabular\\\\\\\\\\\\\\\", \\\\\\\\\\\\\\\"subscriptionId\\\\\\\\\\\\\\\": \\\\\\\\\\\\\\\"9b72f9e6-56c5-4c16-991b-19c652994860\\\\\\\\\\\\\\\", \\\\\\\\\\\\\\\"workspaceId\\\\\\\\\\\\\\\": \\\\\\\\\\\\\\\"3153828d-9717-4a26-bed8-f8a311768e93\\\\\\\\\\\\\\\", \\\\\\\\\\\\\\\"workspaceLocation\\\\\\\\\\\\\\\": \\\\\\\\\\\\\\\"southcentralus\\\\\\\\\\\\\\\"}}\\\\\\\", \\\\\\\"activities\\\\\\\": 0}\", \"EnableSubsampling\": null, \"runTemplate\": \"AutoML\", \"azureml.runsource\": \"automl\", \"display_task_type\": \"classification\", \"dependencies_versions\": \"{\\\"azureml-widgets\\\": \\\"1.19.0\\\", \\\"azureml-train\\\": \\\"1.19.0\\\", \\\"azureml-train-restclients-hyperdrive\\\": \\\"1.19.0\\\", \\\"azureml-train-core\\\": \\\"1.19.0\\\", \\\"azureml-train-automl\\\": \\\"1.19.0\\\", \\\"azureml-train-automl-runtime\\\": \\\"1.19.0\\\", \\\"azureml-train-automl-client\\\": \\\"1.19.0\\\", \\\"azureml-tensorboard\\\": \\\"1.19.0\\\", \\\"azureml-telemetry\\\": \\\"1.19.0\\\", \\\"azureml-sdk\\\": \\\"1.19.0\\\", \\\"azureml-samples\\\": \\\"0+unknown\\\", \\\"azureml-pipeline\\\": \\\"1.19.0\\\", \\\"azureml-pipeline-steps\\\": \\\"1.19.0\\\", \\\"azureml-pipeline-core\\\": \\\"1.19.0\\\", \\\"azureml-opendatasets\\\": \\\"1.19.0\\\", \\\"azureml-model-management-sdk\\\": \\\"1.0.1b6.post1\\\", \\\"azureml-mlflow\\\": \\\"1.19.0\\\", \\\"azureml-interpret\\\": \\\"1.19.0\\\", \\\"azureml-explain-model\\\": \\\"1.19.0\\\", \\\"azureml-defaults\\\": \\\"1.19.0\\\", \\\"azureml-dataset-runtime\\\": \\\"1.19.0\\\", \\\"azureml-dataprep\\\": \\\"2.6.1\\\", \\\"azureml-dataprep-rslex\\\": \\\"1.4.0\\\", \\\"azureml-dataprep-native\\\": \\\"26.0.0\\\", \\\"azureml-datadrift\\\": \\\"1.19.0\\\", \\\"azureml-core\\\": \\\"1.19.0\\\", \\\"azureml-contrib-services\\\": \\\"1.19.0\\\", \\\"azureml-contrib-server\\\": \\\"1.19.0\\\", \\\"azureml-contrib-reinforcementlearning\\\": \\\"1.19.0\\\", \\\"azureml-contrib-pipeline-steps\\\": \\\"1.19.0\\\", \\\"azureml-contrib-notebook\\\": \\\"1.19.0\\\", \\\"azureml-contrib-interpret\\\": \\\"1.19.0\\\", \\\"azureml-contrib-gbdt\\\": \\\"1.19.0\\\", \\\"azureml-contrib-fairness\\\": \\\"1.19.0\\\", \\\"azureml-contrib-dataset\\\": \\\"1.19.0\\\", \\\"azureml-cli-common\\\": \\\"1.19.0\\\", \\\"azureml-automl-runtime\\\": \\\"1.19.0\\\", \\\"azureml-automl-core\\\": \\\"1.19.0\\\", \\\"azureml-accel-models\\\": \\\"1.19.0\\\"}\", \"_aml_system_scenario_identification\": \"Remote.Parent\", \"ClientType\": \"SDK\", \"environment_cpu_name\": \"AzureML-AutoML\", \"environment_cpu_label\": \"prod\", \"environment_gpu_name\": \"AzureML-AutoML-GPU\", \"environment_gpu_label\": \"prod\", \"root_attribution\": \"automl\", \"attribution\": \"AutoML\", \"Orchestrator\": \"AutoML\", \"CancelUri\": \"https://southcentralus.experiments.azureml.net/jasmine/v1.0/subscriptions/9b72f9e6-56c5-4c16-991b-19c652994860/resourceGroups/aml-quickstarts-132408/providers/Microsoft.MachineLearningServices/workspaces/quick-starts-ws-132408/experimentids/83ff8ca7-6256-4d8e-829d-75831c2a2d9a/cancel/AutoML_e51d9550-c605-45cc-b6a8-83916e298ca2\", \"ClientSdkVersion\": \"1.19.0\", \"snapshotId\": \"00000000-0000-0000-0000-000000000000\", \"SetupRunId\": \"AutoML_e51d9550-c605-45cc-b6a8-83916e298ca2_setup\", \"SetupRunContainerId\": \"dcid.AutoML_e51d9550-c605-45cc-b6a8-83916e298ca2_setup\", \"FeaturizationRunJsonPath\": \"featurizer_container.json\", \"FeaturizationRunId\": \"AutoML_e51d9550-c605-45cc-b6a8-83916e298ca2_featurize\", \"ProblemInfoJsonString\": \"{\\\"dataset_num_categorical\\\": 0, \\\"is_sparse\\\": false, \\\"subsampling\\\": false, \\\"dataset_classes\\\": 3, \\\"dataset_features\\\": 4, \\\"dataset_samples\\\": 105, \\\"single_frequency_class_detected\\\": false}\", \"ModelExplainRunId\": \"AutoML_e51d9550-c605-45cc-b6a8-83916e298ca2_ModelExplain\"}, \"tags\": {\"model_explain_run\": \"best_run\", \"_aml_system_azureml.automlComponent\": \"AutoML\", \"pipeline_id\": \"\", \"score\": \"\", \"predicted_cost\": \"\", \"fit_time\": \"\", \"training_percent\": \"\", \"iteration\": \"\", \"run_preprocessor\": \"\", \"run_algorithm\": \"\", \"dynamic_whitelisting_iterations\": \"<25>;<30>;\", \"automl_best_child_run_id\": \"AutoML_e51d9550-c605-45cc-b6a8-83916e298ca2_18\", \"model_explain_best_run_child_id\": \"AutoML_e51d9550-c605-45cc-b6a8-83916e298ca2_18\"}, \"end_time_utc\": \"2020-12-30T01:05:25.625095Z\", \"status\": \"Completed\", \"log_files\": {}, \"log_groups\": [], \"run_duration\": \"0:24:09\"}, \"child_runs\": [{\"run_id\": \"AutoML_e51d9550-c605-45cc-b6a8-83916e298ca2_0\", \"run_number\": 6, \"metric\": null, \"status\": \"Completed\", \"run_type\": \"azureml.scriptrun\", \"training_percent\": \"100\", \"start_time\": \"2020-12-30T00:49:48.671294Z\", \"end_time\": \"2020-12-30T00:50:40.991691Z\", \"created_time\": \"2020-12-30T00:49:36.868216Z\", \"created_time_dt\": \"2020-12-30T00:49:36.868216Z\", \"duration\": \"0:01:04\", \"iteration\": \"0\", \"goal\": \"accuracy_max\", \"run_name\": \"MaxAbsScaler, LightGBM\", \"run_properties\": \"copy=True\", \"primary_metric\": 0.94285714, \"best_metric\": 0.94285714}, {\"run_id\": \"AutoML_e51d9550-c605-45cc-b6a8-83916e298ca2_1\", \"run_number\": 7, \"metric\": null, \"status\": \"Completed\", \"run_type\": \"azureml.scriptrun\", \"training_percent\": \"100\", \"start_time\": \"2020-12-30T00:52:45.766469Z\", \"end_time\": \"2020-12-30T00:56:18.208482Z\", \"created_time\": \"2020-12-30T00:49:36.902717Z\", \"created_time_dt\": \"2020-12-30T00:49:36.902717Z\", \"duration\": \"0:06:41\", \"iteration\": \"1\", \"goal\": \"accuracy_max\", \"run_name\": \"MaxAbsScaler, XGBoostClassifier\", \"run_properties\": \"copy=True\", \"primary_metric\": 0.93333333, \"best_metric\": 0.94285714}, {\"run_id\": \"AutoML_e51d9550-c605-45cc-b6a8-83916e298ca2_2\", \"run_number\": 8, \"metric\": null, \"status\": \"Completed\", \"run_type\": \"azureml.scriptrun\", \"training_percent\": \"100\", \"start_time\": \"2020-12-30T00:51:43.92296Z\", \"end_time\": \"2020-12-30T00:52:47.308908Z\", \"created_time\": \"2020-12-30T00:49:36.953432Z\", \"created_time_dt\": \"2020-12-30T00:49:36.953432Z\", \"duration\": \"0:03:10\", \"iteration\": \"2\", \"goal\": \"accuracy_max\", \"run_name\": \"MinMaxScaler, RandomForest\", \"run_properties\": \"copy=True, feature_range=(0, 1\", \"primary_metric\": 0.92380952, \"best_metric\": 0.94285714}, {\"run_id\": \"AutoML_e51d9550-c605-45cc-b6a8-83916e298ca2_3\", \"run_number\": 9, \"metric\": null, \"status\": \"Completed\", \"run_type\": \"azureml.scriptrun\", \"training_percent\": \"100\", \"start_time\": \"2020-12-30T00:50:45.209967Z\", \"end_time\": \"2020-12-30T00:51:44.144779Z\", \"created_time\": \"2020-12-30T00:49:36.959878Z\", \"created_time_dt\": \"2020-12-30T00:49:36.959878Z\", \"duration\": \"0:02:07\", \"iteration\": \"3\", \"goal\": \"accuracy_max\", \"run_name\": \"MinMaxScaler, RandomForest\", \"run_properties\": \"copy=True, feature_range=(0, 1\", \"primary_metric\": 0.94285714, \"best_metric\": 0.94285714}, {\"run_id\": \"AutoML_e51d9550-c605-45cc-b6a8-83916e298ca2_4\", \"run_number\": 10, \"metric\": null, \"status\": \"Completed\", \"run_type\": \"azureml.scriptrun\", \"training_percent\": \"100\", \"start_time\": \"2020-12-30T00:52:44.006282Z\", \"end_time\": \"2020-12-30T00:56:17.853122Z\", \"created_time\": \"2020-12-30T00:50:42.274362Z\", \"created_time_dt\": \"2020-12-30T00:50:42.274362Z\", \"duration\": \"0:05:35\", \"iteration\": \"4\", \"goal\": \"accuracy_max\", \"run_name\": \"MinMaxScaler, RandomForest\", \"run_properties\": \"copy=True, feature_range=(0, 1\", \"primary_metric\": 0.93333333, \"best_metric\": 0.94285714}, {\"run_id\": \"AutoML_e51d9550-c605-45cc-b6a8-83916e298ca2_5\", \"run_number\": 11, \"metric\": null, \"status\": \"Completed\", \"run_type\": \"azureml.scriptrun\", \"training_percent\": \"100\", \"start_time\": \"2020-12-30T00:52:43.043926Z\", \"end_time\": \"2020-12-30T00:56:08.70947Z\", \"created_time\": \"2020-12-30T00:51:46.722694Z\", \"created_time_dt\": \"2020-12-30T00:51:46.722694Z\", \"duration\": \"0:04:21\", \"iteration\": \"5\", \"goal\": \"accuracy_max\", \"run_name\": \"SparseNormalizer, XGBoostClassifier\", \"run_properties\": \"<azureml.automl.runtime.shared.model_wrappers.SparseNormalizer object at 0x7ff7c8abcc18\", \"primary_metric\": 0.96190476, \"best_metric\": 0.96190476}, {\"run_id\": \"AutoML_e51d9550-c605-45cc-b6a8-83916e298ca2_6\", \"run_number\": 12, \"metric\": null, \"status\": \"Completed\", \"run_type\": \"azureml.scriptrun\", \"training_percent\": \"100\", \"start_time\": \"2020-12-30T00:53:01.906366Z\", \"end_time\": \"2020-12-30T00:53:56.569994Z\", \"created_time\": \"2020-12-30T00:52:49.366906Z\", \"created_time_dt\": \"2020-12-30T00:52:49.366906Z\", \"duration\": \"0:01:07\", \"iteration\": \"6\", \"goal\": \"accuracy_max\", \"run_name\": \"MinMaxScaler, SVM\", \"run_properties\": \"copy=True, feature_range=(0, 1\", \"primary_metric\": 0.94285714, \"best_metric\": 0.96190476}, {\"run_id\": \"AutoML_e51d9550-c605-45cc-b6a8-83916e298ca2_7\", \"run_number\": 13, \"metric\": null, \"status\": \"Completed\", \"run_type\": \"azureml.scriptrun\", \"training_percent\": \"100\", \"start_time\": \"2020-12-30T00:54:12.283385Z\", \"end_time\": \"2020-12-30T00:55:11.637284Z\", \"created_time\": \"2020-12-30T00:54:00.716122Z\", \"created_time_dt\": \"2020-12-30T00:54:00.716122Z\", \"duration\": \"0:01:10\", \"iteration\": \"7\", \"goal\": \"accuracy_max\", \"run_name\": \"MaxAbsScaler, GradientBoosting\", \"run_properties\": \"copy=True\", \"primary_metric\": 0.92380952, \"best_metric\": 0.96190476}, {\"run_id\": \"AutoML_e51d9550-c605-45cc-b6a8-83916e298ca2_8\", \"run_number\": 14, \"metric\": null, \"status\": \"Completed\", \"run_type\": \"azureml.scriptrun\", \"training_percent\": \"100\", \"start_time\": \"2020-12-30T00:55:31.050859Z\", \"end_time\": \"2020-12-30T00:56:24.739852Z\", \"created_time\": \"2020-12-30T00:55:14.457038Z\", \"created_time_dt\": \"2020-12-30T00:55:14.457038Z\", \"duration\": \"0:01:10\", \"iteration\": \"8\", \"goal\": \"accuracy_max\", \"run_name\": \"StandardScalerWrapper, RandomForest\", \"run_properties\": \"<azureml.automl.runtime.shared.model_wrappers.StandardScalerWrapper object at 0x7f5730529ba8\", \"primary_metric\": 0.8952381, \"best_metric\": 0.96190476}, {\"run_id\": \"AutoML_e51d9550-c605-45cc-b6a8-83916e298ca2_9\", \"run_number\": 15, \"metric\": null, \"status\": \"Completed\", \"run_type\": \"azureml.scriptrun\", \"training_percent\": \"100\", \"start_time\": \"2020-12-30T00:56:25.325426Z\", \"end_time\": \"2020-12-30T00:57:16.976919Z\", \"created_time\": \"2020-12-30T00:56:11.709566Z\", \"created_time_dt\": \"2020-12-30T00:56:11.709566Z\", \"duration\": \"0:01:05\", \"iteration\": \"9\", \"goal\": \"accuracy_max\", \"run_name\": \"SparseNormalizer, XGBoostClassifier\", \"run_properties\": \"<azureml.automl.runtime.shared.model_wrappers.SparseNormalizer object at 0x7f0ca1707dd8\", \"primary_metric\": 0.96190476, \"best_metric\": 0.96190476}, {\"run_id\": \"AutoML_e51d9550-c605-45cc-b6a8-83916e298ca2_10\", \"run_number\": 16, \"metric\": null, \"status\": \"Completed\", \"run_type\": \"azureml.scriptrun\", \"training_percent\": \"100\", \"start_time\": \"2020-12-30T00:56:36.902329Z\", \"end_time\": \"2020-12-30T00:57:27.39526Z\", \"created_time\": \"2020-12-30T00:56:20.071219Z\", \"created_time_dt\": \"2020-12-30T00:56:20.071219Z\", \"duration\": \"0:01:07\", \"iteration\": \"10\", \"goal\": \"accuracy_max\", \"run_name\": \"SparseNormalizer, XGBoostClassifier\", \"run_properties\": \"<azureml.automl.runtime.shared.model_wrappers.SparseNormalizer object at 0x7f09003c9898\", \"primary_metric\": 0.96190476, \"best_metric\": 0.96190476}, {\"run_id\": \"AutoML_e51d9550-c605-45cc-b6a8-83916e298ca2_11\", \"run_number\": 17, \"metric\": null, \"status\": \"Completed\", \"run_type\": \"azureml.scriptrun\", \"training_percent\": \"100\", \"start_time\": \"2020-12-30T00:56:32.051701Z\", \"end_time\": \"2020-12-30T00:57:31.595273Z\", \"created_time\": \"2020-12-30T00:56:20.300272Z\", \"created_time_dt\": \"2020-12-30T00:56:20.300272Z\", \"duration\": \"0:01:11\", \"iteration\": \"11\", \"goal\": \"accuracy_max\", \"run_name\": \"SparseNormalizer, XGBoostClassifier\", \"run_properties\": \"<azureml.automl.runtime.shared.model_wrappers.SparseNormalizer object at 0x7fbd35555ef0\", \"primary_metric\": 0.96190476, \"best_metric\": 0.96190476}, {\"run_id\": \"AutoML_e51d9550-c605-45cc-b6a8-83916e298ca2_12\", \"run_number\": 18, \"metric\": null, \"status\": \"Completed\", \"run_type\": \"azureml.scriptrun\", \"training_percent\": \"100\", \"start_time\": \"2020-12-30T00:56:38.88659Z\", \"end_time\": \"2020-12-30T00:57:32.313853Z\", \"created_time\": \"2020-12-30T00:56:28.577534Z\", \"created_time_dt\": \"2020-12-30T00:56:28.577534Z\", \"duration\": \"0:01:03\", \"iteration\": \"12\", \"goal\": \"accuracy_max\", \"run_name\": \"SparseNormalizer, XGBoostClassifier\", \"run_properties\": \"<azureml.automl.runtime.shared.model_wrappers.SparseNormalizer object at 0x7fd1e0551278\", \"primary_metric\": 0.95238095, \"best_metric\": 0.96190476}, {\"run_id\": \"AutoML_e51d9550-c605-45cc-b6a8-83916e298ca2_13\", \"run_number\": 19, \"metric\": null, \"status\": \"Completed\", \"run_type\": \"azureml.scriptrun\", \"training_percent\": \"100\", \"start_time\": \"2020-12-30T00:57:32.372273Z\", \"end_time\": \"2020-12-30T00:58:26.816952Z\", \"created_time\": \"2020-12-30T00:57:19.220956Z\", \"created_time_dt\": \"2020-12-30T00:57:19.220956Z\", \"duration\": \"0:01:07\", \"iteration\": \"13\", \"goal\": \"accuracy_max\", \"run_name\": \"StandardScalerWrapper, LightGBM\", \"run_properties\": \"<azureml.automl.runtime.shared.model_wrappers.StandardScalerWrapper object at 0x7f5642492dd8\", \"primary_metric\": 0.93333333, \"best_metric\": 0.96190476}, {\"run_id\": \"AutoML_e51d9550-c605-45cc-b6a8-83916e298ca2_14\", \"run_number\": 20, \"metric\": null, \"status\": \"Completed\", \"run_type\": \"azureml.scriptrun\", \"training_percent\": \"100\", \"start_time\": \"2020-12-30T00:57:41.018565Z\", \"end_time\": \"2020-12-30T00:58:35.567546Z\", \"created_time\": \"2020-12-30T00:57:29.595588Z\", \"created_time_dt\": \"2020-12-30T00:57:29.595588Z\", \"duration\": \"0:01:05\", \"iteration\": \"14\", \"goal\": \"accuracy_max\", \"run_name\": \"RobustScaler, LightGBM\", \"run_properties\": \"copy=True, quantile_range=[10, 90], with_centering=False,\\n             with_scaling=False\", \"primary_metric\": 0.9047619, \"best_metric\": 0.96190476}, {\"run_id\": \"AutoML_e51d9550-c605-45cc-b6a8-83916e298ca2_15\", \"run_number\": 21, \"metric\": null, \"status\": \"Completed\", \"run_type\": \"azureml.scriptrun\", \"training_percent\": \"100\", \"start_time\": \"2020-12-30T00:57:45.443548Z\", \"end_time\": \"2020-12-30T00:58:43.109196Z\", \"created_time\": \"2020-12-30T00:57:33.784853Z\", \"created_time_dt\": \"2020-12-30T00:57:33.784853Z\", \"duration\": \"0:01:09\", \"iteration\": \"15\", \"goal\": \"accuracy_max\", \"run_name\": \"StandardScalerWrapper, ExtremeRandomTrees\", \"run_properties\": \"<azureml.automl.runtime.shared.model_wrappers.StandardScalerWrapper object at 0x7f775e002f60\", \"primary_metric\": 0.93333333, \"best_metric\": 0.96190476}, {\"run_id\": \"AutoML_e51d9550-c605-45cc-b6a8-83916e298ca2_16\", \"run_number\": 22, \"metric\": null, \"status\": \"Completed\", \"run_type\": \"azureml.scriptrun\", \"training_percent\": \"100\", \"start_time\": \"2020-12-30T00:57:49.940306Z\", \"end_time\": \"2020-12-30T00:58:46.14986Z\", \"created_time\": \"2020-12-30T00:57:37.941065Z\", \"created_time_dt\": \"2020-12-30T00:57:37.941065Z\", \"duration\": \"0:01:08\", \"iteration\": \"16\", \"goal\": \"accuracy_max\", \"run_name\": \"StandardScalerWrapper, ExtremeRandomTrees\", \"run_properties\": \"<azureml.automl.runtime.shared.model_wrappers.StandardScalerWrapper object at 0x7fc31d0ed390\", \"primary_metric\": 0.93333333, \"best_metric\": 0.96190476}, {\"run_id\": \"AutoML_e51d9550-c605-45cc-b6a8-83916e298ca2_17\", \"run_number\": 23, \"metric\": null, \"status\": \"Completed\", \"run_type\": \"azureml.scriptrun\", \"training_percent\": \"100\", \"start_time\": \"2020-12-30T00:58:40.230741Z\", \"end_time\": \"2020-12-30T00:59:40.902974Z\", \"created_time\": \"2020-12-30T00:58:29.186173Z\", \"created_time_dt\": \"2020-12-30T00:58:29.186173Z\", \"duration\": \"0:01:11\", \"iteration\": \"17\", \"goal\": \"accuracy_max\", \"run_name\": \"MinMaxScaler, LightGBM\", \"run_properties\": \"copy=True, feature_range=(0, 1\", \"primary_metric\": 0.9047619, \"best_metric\": 0.96190476}, {\"run_id\": \"AutoML_e51d9550-c605-45cc-b6a8-83916e298ca2_18\", \"run_number\": 24, \"metric\": null, \"status\": \"Completed\", \"run_type\": \"azureml.scriptrun\", \"training_percent\": \"100\", \"start_time\": \"2020-12-30T00:58:50.211043Z\", \"end_time\": \"2020-12-30T00:59:49.755907Z\", \"created_time\": \"2020-12-30T00:58:39.237224Z\", \"created_time_dt\": \"2020-12-30T00:58:39.237224Z\", \"duration\": \"0:01:10\", \"iteration\": \"18\", \"goal\": \"accuracy_max\", \"run_name\": \"StandardScalerWrapper, LogisticRegression\", \"run_properties\": \"<azureml.automl.runtime.shared.model_wrappers.StandardScalerWrapper object at 0x7fb30a9b2b70\", \"primary_metric\": 0.98095238, \"best_metric\": 0.98095238}, {\"run_id\": \"AutoML_e51d9550-c605-45cc-b6a8-83916e298ca2_19\", \"run_number\": 25, \"metric\": null, \"status\": \"Completed\", \"run_type\": \"azureml.scriptrun\", \"training_percent\": \"100\", \"start_time\": \"2020-12-30T00:58:57.439695Z\", \"end_time\": \"2020-12-30T00:59:55.268229Z\", \"created_time\": \"2020-12-30T00:58:45.22708Z\", \"created_time_dt\": \"2020-12-30T00:58:45.22708Z\", \"duration\": \"0:01:10\", \"iteration\": \"19\", \"goal\": \"accuracy_max\", \"run_name\": \"StandardScalerWrapper, LightGBM\", \"run_properties\": \"<azureml.automl.runtime.shared.model_wrappers.StandardScalerWrapper object at 0x7f621d7b7588\", \"primary_metric\": 0.92380952, \"best_metric\": 0.98095238}, {\"run_id\": \"AutoML_e51d9550-c605-45cc-b6a8-83916e298ca2_20\", \"run_number\": 26, \"metric\": null, \"status\": \"Completed\", \"run_type\": \"azureml.scriptrun\", \"training_percent\": \"100\", \"start_time\": \"2020-12-30T00:59:01.09037Z\", \"end_time\": \"2020-12-30T00:59:52.750146Z\", \"created_time\": \"2020-12-30T00:58:48.869872Z\", \"created_time_dt\": \"2020-12-30T00:58:48.869872Z\", \"duration\": \"0:01:03\", \"iteration\": \"20\", \"goal\": \"accuracy_max\", \"run_name\": \"StandardScalerWrapper, LogisticRegression\", \"run_properties\": \"<azureml.automl.runtime.shared.model_wrappers.StandardScalerWrapper object at 0x7fec6dff3f28\", \"primary_metric\": 0.94285714, \"best_metric\": 0.98095238}, {\"run_id\": \"AutoML_e51d9550-c605-45cc-b6a8-83916e298ca2_21\", \"run_number\": 27, \"metric\": null, \"status\": \"Completed\", \"run_type\": \"azureml.scriptrun\", \"training_percent\": \"100\", \"start_time\": \"2020-12-30T00:59:56.200579Z\", \"end_time\": \"2020-12-30T01:00:52.757663Z\", \"created_time\": \"2020-12-30T00:59:43.768991Z\", \"created_time_dt\": \"2020-12-30T00:59:43.768991Z\", \"duration\": \"0:01:08\", \"iteration\": \"21\", \"goal\": \"accuracy_max\", \"run_name\": \"MaxAbsScaler, LightGBM\", \"run_properties\": \"copy=True\", \"primary_metric\": 0.92380952, \"best_metric\": 0.98095238}, {\"run_id\": \"AutoML_e51d9550-c605-45cc-b6a8-83916e298ca2_22\", \"run_number\": 28, \"metric\": null, \"status\": \"Completed\", \"run_type\": \"azureml.scriptrun\", \"training_percent\": \"100\", \"start_time\": \"2020-12-30T01:00:02.54585Z\", \"end_time\": \"2020-12-30T01:01:14.594412Z\", \"created_time\": \"2020-12-30T00:59:52.048807Z\", \"created_time_dt\": \"2020-12-30T00:59:52.048807Z\", \"duration\": \"0:01:22\", \"iteration\": \"22\", \"goal\": \"accuracy_max\", \"run_name\": \"RobustScaler, LightGBM\", \"run_properties\": \"copy=True, quantile_range=[25, 75], with_centering=True,\\n             with_scaling=False\", \"primary_metric\": 0.93333333, \"best_metric\": 0.98095238}, {\"run_id\": \"AutoML_e51d9550-c605-45cc-b6a8-83916e298ca2_23\", \"run_number\": 29, \"metric\": null, \"status\": \"Completed\", \"run_type\": \"azureml.scriptrun\", \"training_percent\": \"100\", \"start_time\": \"2020-12-30T01:00:08.029619Z\", \"end_time\": \"2020-12-30T01:00:59.562883Z\", \"created_time\": \"2020-12-30T00:59:56.144398Z\", \"created_time_dt\": \"2020-12-30T00:59:56.144398Z\", \"duration\": \"0:01:03\", \"iteration\": \"23\", \"goal\": \"accuracy_max\", \"run_name\": \"StandardScalerWrapper, XGBoostClassifier\", \"run_properties\": \"<azureml.automl.runtime.shared.model_wrappers.StandardScalerWrapper object at 0x7f31390a6240\", \"primary_metric\": 0.92380952, \"best_metric\": 0.98095238}, {\"run_id\": \"AutoML_e51d9550-c605-45cc-b6a8-83916e298ca2_24\", \"run_number\": 30, \"metric\": null, \"status\": \"Completed\", \"run_type\": \"azureml.scriptrun\", \"training_percent\": \"100\", \"start_time\": \"2020-12-30T01:00:10.804639Z\", \"end_time\": \"2020-12-30T01:01:10.244452Z\", \"created_time\": \"2020-12-30T01:00:00.314586Z\", \"created_time_dt\": \"2020-12-30T01:00:00.314586Z\", \"duration\": \"0:01:09\", \"iteration\": \"24\", \"goal\": \"accuracy_max\", \"run_name\": \"StandardScalerWrapper, LightGBM\", \"run_properties\": \"<azureml.automl.runtime.shared.model_wrappers.StandardScalerWrapper object at 0x7fb4dc220e48\", \"primary_metric\": 0.95238095, \"best_metric\": 0.98095238}, {\"run_id\": \"AutoML_e51d9550-c605-45cc-b6a8-83916e298ca2_25\", \"run_number\": 31, \"metric\": null, \"status\": \"Completed\", \"run_type\": \"azureml.scriptrun\", \"training_percent\": \"100\", \"start_time\": \"2020-12-30T01:01:08.494243Z\", \"end_time\": \"2020-12-30T01:02:06.676427Z\", \"created_time\": \"2020-12-30T01:00:55.943563Z\", \"created_time_dt\": \"2020-12-30T01:00:55.943563Z\", \"duration\": \"0:01:10\", \"iteration\": \"25\", \"goal\": \"accuracy_max\", \"run_name\": \"MaxAbsScaler, LogisticRegression\", \"run_properties\": \"copy=True\", \"primary_metric\": 0.34285714, \"best_metric\": 0.98095238}, {\"run_id\": \"AutoML_e51d9550-c605-45cc-b6a8-83916e298ca2_26\", \"run_number\": 32, \"metric\": null, \"status\": \"Completed\", \"run_type\": \"azureml.scriptrun\", \"training_percent\": \"100\", \"start_time\": \"2020-12-30T01:01:14.145574Z\", \"end_time\": \"2020-12-30T01:02:07.604453Z\", \"created_time\": \"2020-12-30T01:01:02.348657Z\", \"created_time_dt\": \"2020-12-30T01:01:02.348657Z\", \"duration\": \"0:01:05\", \"iteration\": \"26\", \"goal\": \"accuracy_max\", \"run_name\": \"TruncatedSVDWrapper, XGBoostClassifier\", \"run_properties\": \"n_components=0.7521052631578947, random_state=None\", \"primary_metric\": 0.94285714, \"best_metric\": 0.98095238}, {\"run_id\": \"AutoML_e51d9550-c605-45cc-b6a8-83916e298ca2_27\", \"run_number\": 33, \"metric\": null, \"status\": \"Completed\", \"run_type\": \"azureml.scriptrun\", \"training_percent\": \"100\", \"start_time\": \"2020-12-30T01:01:23.694432Z\", \"end_time\": \"2020-12-30T01:02:17.28646Z\", \"created_time\": \"2020-12-30T01:01:12.633891Z\", \"created_time_dt\": \"2020-12-30T01:01:12.633891Z\", \"duration\": \"0:01:04\", \"iteration\": \"27\", \"goal\": \"accuracy_max\", \"run_name\": \"StandardScalerWrapper, LightGBM\", \"run_properties\": \"<azureml.automl.runtime.shared.model_wrappers.StandardScalerWrapper object at 0x7f3e167b6eb8\", \"primary_metric\": 0.93333333, \"best_metric\": 0.98095238}, {\"run_id\": \"AutoML_e51d9550-c605-45cc-b6a8-83916e298ca2_28\", \"run_number\": 34, \"metric\": null, \"status\": \"Completed\", \"run_type\": \"azureml.scriptrun\", \"training_percent\": \"100\", \"start_time\": \"2020-12-30T01:01:28.070856Z\", \"end_time\": \"2020-12-30T01:02:18.902418Z\", \"created_time\": \"2020-12-30T01:01:16.911574Z\", \"created_time_dt\": \"2020-12-30T01:01:16.911574Z\", \"duration\": \"0:01:01\", \"iteration\": \"28\", \"goal\": \"accuracy_max\", \"run_name\": \"MinMaxScaler, LightGBM\", \"run_properties\": \"copy=True, feature_range=(0, 1\", \"primary_metric\": 0.87619048, \"best_metric\": 0.98095238}, {\"run_id\": \"AutoML_e51d9550-c605-45cc-b6a8-83916e298ca2_29\", \"run_number\": 35, \"metric\": null, \"status\": \"Completed\", \"run_type\": \"azureml.scriptrun\", \"training_percent\": \"100\", \"start_time\": \"2020-12-30T01:02:20.770797Z\", \"end_time\": \"2020-12-30T01:03:15.331876Z\", \"created_time\": \"2020-12-30T01:02:08.823551Z\", \"created_time_dt\": \"2020-12-30T01:02:08.823551Z\", \"duration\": \"0:01:06\", \"iteration\": \"29\", \"goal\": \"accuracy_max\", \"run_name\": \"StandardScalerWrapper, XGBoostClassifier\", \"run_properties\": \"<azureml.automl.runtime.shared.model_wrappers.StandardScalerWrapper object at 0x7f05bf167470\", \"primary_metric\": 0.91428571, \"best_metric\": 0.98095238}, {\"run_id\": \"AutoML_e51d9550-c605-45cc-b6a8-83916e298ca2_30\", \"run_number\": 36, \"metric\": null, \"status\": \"Completed\", \"run_type\": \"azureml.scriptrun\", \"training_percent\": \"100\", \"start_time\": \"2020-12-30T01:02:25.304761Z\", \"end_time\": \"2020-12-30T01:03:31.253336Z\", \"created_time\": \"2020-12-30T01:02:14.070659Z\", \"created_time_dt\": \"2020-12-30T01:02:14.070659Z\", \"duration\": \"0:01:17\", \"iteration\": \"30\", \"goal\": \"accuracy_max\", \"run_name\": \"SparseNormalizer, LogisticRegression\", \"run_properties\": \"<azureml.automl.runtime.shared.model_wrappers.SparseNormalizer object at 0x7fafb537a1d0\", \"primary_metric\": 0.34285714, \"best_metric\": 0.98095238}, {\"run_id\": \"AutoML_e51d9550-c605-45cc-b6a8-83916e298ca2_31\", \"run_number\": 37, \"metric\": null, \"status\": \"Completed\", \"run_type\": \"azureml.scriptrun\", \"training_percent\": \"100\", \"start_time\": \"2020-12-30T01:02:31.207617Z\", \"end_time\": \"2020-12-30T01:03:25.959469Z\", \"created_time\": \"2020-12-30T01:02:19.484159Z\", \"created_time_dt\": \"2020-12-30T01:02:19.484159Z\", \"duration\": \"0:01:06\", \"iteration\": \"31\", \"goal\": \"accuracy_max\", \"run_name\": \"MinMaxScaler, ExtremeRandomTrees\", \"run_properties\": \"copy=True, feature_range=(0, 1\", \"primary_metric\": 0.94285714, \"best_metric\": 0.98095238}, {\"run_id\": \"AutoML_e51d9550-c605-45cc-b6a8-83916e298ca2_32\", \"run_number\": 38, \"metric\": null, \"status\": \"Completed\", \"run_type\": \"azureml.scriptrun\", \"training_percent\": \"100\", \"start_time\": \"2020-12-30T01:02:36.247252Z\", \"end_time\": \"2020-12-30T01:03:27.068727Z\", \"created_time\": \"2020-12-30T01:02:24.189323Z\", \"created_time_dt\": \"2020-12-30T01:02:24.189323Z\", \"duration\": \"0:01:02\", \"iteration\": \"32\", \"goal\": \"accuracy_max\", \"run_name\": \"SparseNormalizer, XGBoostClassifier\", \"run_properties\": \"<azureml.automl.runtime.shared.model_wrappers.SparseNormalizer object at 0x7f48b5d30dd8\", \"primary_metric\": 0.95238095, \"best_metric\": 0.98095238}, {\"run_id\": \"AutoML_e51d9550-c605-45cc-b6a8-83916e298ca2_33\", \"run_number\": 39, \"metric\": null, \"status\": \"Canceled\", \"run_type\": \"azureml.scriptrun\", \"training_percent\": \"100\", \"start_time\": \"2020-12-30T01:03:29.671956Z\", \"end_time\": \"2020-12-30T01:03:39.631985Z\", \"created_time\": \"2020-12-30T01:03:17.714261Z\", \"created_time_dt\": \"2020-12-30T01:03:17.714261Z\", \"duration\": \"0:00:21\", \"iteration\": \"33\", \"goal\": null, \"run_name\": \"Canceled\", \"run_properties\": null}, {\"run_id\": \"AutoML_e51d9550-c605-45cc-b6a8-83916e298ca2_34\", \"run_number\": 40, \"metric\": null, \"status\": \"Canceled\", \"run_type\": \"azureml.scriptrun\", \"training_percent\": \"100\", \"start_time\": \"2020-12-30T01:03:29.219967Z\", \"end_time\": \"2020-12-30T01:03:46.566429Z\", \"created_time\": \"2020-12-30T01:03:29.219967Z\", \"created_time_dt\": \"2020-12-30T01:03:29.219967Z\", \"duration\": \"0:00:17\", \"iteration\": \"34\", \"goal\": null, \"run_name\": \"Canceled\", \"run_properties\": null}, {\"run_id\": \"AutoML_e51d9550-c605-45cc-b6a8-83916e298ca2_35\", \"run_number\": 41, \"metric\": null, \"status\": \"Completed\", \"run_type\": \"azureml.scriptrun\", \"training_percent\": \"100\", \"start_time\": \"2020-12-30T01:04:00.102237Z\", \"end_time\": \"2020-12-30T01:05:13.752594Z\", \"created_time\": \"2020-12-30T01:03:47.796046Z\", \"created_time_dt\": \"2020-12-30T01:03:47.796046Z\", \"duration\": \"0:01:25\", \"iteration\": \"35\", \"goal\": \"accuracy_max\", \"run_name\": \"VotingEnsemble\", \"run_properties\": \"classification_labels=None,\\n                              estimators=[('18',\\n                                           Pipeline(memory=None,\\n                                                    steps=[('standardscalerwrapper',\\n                                                            <azureml.automl.runtime.shared.model_wrappers.StandardScalerWrapper object at 0x7f64867300f0>\", \"primary_metric\": 0.98095238, \"best_metric\": 0.98095238}], \"children_metrics\": {\"categories\": [0], \"series\": {\"AUC_macro\": [{\"categories\": [\"0\", \"1\", \"2\", \"3\", \"4\", \"5\", \"6\", \"7\", \"8\", \"9\", \"10\", \"11\", \"12\", \"13\", \"14\", \"15\", \"16\", \"17\", \"18\", \"19\", \"20\", \"21\", \"22\", \"23\", \"24\", \"25\", \"26\", \"27\", \"28\", \"29\", \"30\", \"31\", \"32\", \"35\"], \"mode\": \"markers\", \"name\": \"AUC_macro\", \"stepped\": false, \"type\": \"scatter\", \"data\": [0.9884635015056177, 0.9800085844510766, 0.994113040914828, 0.994113040914828, 0.9936107170054811, 0.9958353509078147, 0.994418273328865, 0.9899086451064223, 0.9828702145908205, 0.9900810408056785, 0.9957490174881479, 0.9904836172952116, 0.9979969708230577, 0.9933449673492717, 0.9764330780185636, 0.9954480079044207, 0.994113040914828, 0.9773716639181934, 0.9981901992022402, 0.9872945312086644, 0.9861750583391643, 0.9796495832714096, 0.9953930277020612, 0.9852322567909089, 0.9940951401259781, 0.5, 0.9975880600880601, 0.9944606372020015, 0.9767108834546451, 0.9825215622180861, 0.829480637451652, 0.9953930277020612, 0.9935324173705453, 0.9987200132127668]}, {\"categories\": [\"0\", \"1\", \"2\", \"3\", \"4\", \"5\", \"6\", \"7\", \"8\", \"9\", \"10\", \"11\", \"12\", \"13\", \"14\", \"15\", \"16\", \"17\", \"18\", \"19\", \"20\", \"21\", \"22\", \"23\", \"24\", \"25\", \"26\", \"27\", \"28\", \"29\", \"30\", \"31\", \"32\", \"35\"], \"mode\": \"lines\", \"name\": \"AUC_macro_max\", \"stepped\": true, \"type\": \"scatter\", \"data\": [0.9884635015056177, 0.9884635015056177, 0.994113040914828, 0.994113040914828, 0.994113040914828, 0.9958353509078147, 0.9958353509078147, 0.9958353509078147, 0.9958353509078147, 0.9958353509078147, 0.9958353509078147, 0.9958353509078147, 0.9979969708230577, 0.9979969708230577, 0.9979969708230577, 0.9979969708230577, 0.9979969708230577, 0.9979969708230577, 0.9981901992022402, 0.9981901992022402, 0.9981901992022402, 0.9981901992022402, 0.9981901992022402, 0.9981901992022402, 0.9981901992022402, 0.9981901992022402, 0.9981901992022402, 0.9981901992022402, 0.9981901992022402, 0.9981901992022402, 0.9981901992022402, 0.9981901992022402, 0.9981901992022402, 0.9987200132127668]}], \"balanced_accuracy\": [{\"categories\": [\"0\", \"1\", \"2\", \"3\", \"4\", \"5\", \"6\", \"7\", \"8\", \"9\", \"10\", \"11\", \"12\", \"13\", \"14\", \"15\", \"16\", \"17\", \"18\", \"19\", \"20\", \"21\", \"22\", \"23\", \"24\", \"25\", \"26\", \"27\", \"28\", \"29\", \"30\", \"31\", \"32\", \"35\"], \"mode\": \"markers\", \"name\": \"balanced_accuracy\", \"stepped\": false, \"type\": \"scatter\", \"data\": [0.9487768566715936, 0.9364311776592479, 0.9278841691122394, 0.9395800755449878, 0.9364311776592479, 0.9643874643874645, 0.9480511366476279, 0.9278841691122394, 0.8908471320752023, 0.9657102157102159, 0.9677987704303495, 0.9657102157102159, 0.9598622624938415, 0.9337321223286136, 0.9127769566366059, 0.9337321223286136, 0.9364311776592479, 0.9127769566366059, 0.9848927875243665, 0.9244728630693544, 0.9394783254432378, 0.9278841691122394, 0.9337321223286136, 0.9275592828224407, 0.9508261394226306, 0.3333333333333333, 0.9545488624435993, 0.9337321223286136, 0.884999178858828, 0.9186249098529801, 0.4444444444444444, 0.9422791308756221, 0.9519257545573335, 0.9821937321937323]}, {\"categories\": [\"0\", \"1\", \"2\", \"3\", \"4\", \"5\", \"6\", \"7\", \"8\", \"9\", \"10\", \"11\", \"12\", \"13\", \"14\", \"15\", \"16\", \"17\", \"18\", \"19\", \"20\", \"21\", \"22\", \"23\", \"24\", \"25\", \"26\", \"27\", \"28\", \"29\", \"30\", \"31\", \"32\", \"35\"], \"mode\": \"lines\", \"name\": \"balanced_accuracy_max\", \"stepped\": true, \"type\": \"scatter\", \"data\": [0.9487768566715936, 0.9487768566715936, 0.9487768566715936, 0.9487768566715936, 0.9487768566715936, 0.9643874643874645, 0.9643874643874645, 0.9643874643874645, 0.9643874643874645, 0.9657102157102159, 0.9677987704303495, 0.9677987704303495, 0.9677987704303495, 0.9677987704303495, 0.9677987704303495, 0.9677987704303495, 0.9677987704303495, 0.9677987704303495, 0.9848927875243665, 0.9848927875243665, 0.9848927875243665, 0.9848927875243665, 0.9848927875243665, 0.9848927875243665, 0.9848927875243665, 0.9848927875243665, 0.9848927875243665, 0.9848927875243665, 0.9848927875243665, 0.9848927875243665, 0.9848927875243665, 0.9848927875243665, 0.9848927875243665, 0.9848927875243665]}], \"accuracy\": [{\"categories\": [\"0\", \"1\", \"2\", \"3\", \"4\", \"5\", \"6\", \"7\", \"8\", \"9\", \"10\", \"11\", \"12\", \"13\", \"14\", \"15\", \"16\", \"17\", \"18\", \"19\", \"20\", \"21\", \"22\", \"23\", \"24\", \"25\", \"26\", \"27\", \"28\", \"29\", \"30\", \"31\", \"32\", \"35\"], \"mode\": \"markers\", \"name\": \"accuracy\", \"stepped\": false, \"type\": \"scatter\", \"data\": [0.942857142857143, 0.9333333333333332, 0.9238095238095237, 0.9428571428571427, 0.9333333333333332, 0.9619047619047619, 0.9428571428571427, 0.9238095238095237, 0.8952380952380952, 0.9619047619047619, 0.9619047619047619, 0.9619047619047619, 0.9523809523809522, 0.9333333333333332, 0.9047619047619047, 0.9333333333333332, 0.9333333333333332, 0.9047619047619047, 0.980952380952381, 0.9238095238095237, 0.9428571428571427, 0.9238095238095237, 0.9333333333333332, 0.9238095238095237, 0.9523809523809522, 0.3428571428571428, 0.942857142857143, 0.9333333333333332, 0.8761904761904762, 0.9142857142857143, 0.3428571428571428, 0.9428571428571427, 0.9523809523809524, 0.980952380952381]}, {\"categories\": [\"0\", \"1\", \"2\", \"3\", \"4\", \"5\", \"6\", \"7\", \"8\", \"9\", \"10\", \"11\", \"12\", \"13\", \"14\", \"15\", \"16\", \"17\", \"18\", \"19\", \"20\", \"21\", \"22\", \"23\", \"24\", \"25\", \"26\", \"27\", \"28\", \"29\", \"30\", \"31\", \"32\", \"35\"], \"mode\": \"lines\", \"name\": \"accuracy_max\", \"stepped\": true, \"type\": \"scatter\", \"data\": [0.942857142857143, 0.942857142857143, 0.942857142857143, 0.942857142857143, 0.942857142857143, 0.9619047619047619, 0.9619047619047619, 0.9619047619047619, 0.9619047619047619, 0.9619047619047619, 0.9619047619047619, 0.9619047619047619, 0.9619047619047619, 0.9619047619047619, 0.9619047619047619, 0.9619047619047619, 0.9619047619047619, 0.9619047619047619, 0.980952380952381, 0.980952380952381, 0.980952380952381, 0.980952380952381, 0.980952380952381, 0.980952380952381, 0.980952380952381, 0.980952380952381, 0.980952380952381, 0.980952380952381, 0.980952380952381, 0.980952380952381, 0.980952380952381, 0.980952380952381, 0.980952380952381, 0.980952380952381]}], \"precision_score_micro\": [{\"categories\": [\"0\", \"1\", \"2\", \"3\", \"4\", \"5\", \"6\", \"7\", \"8\", \"9\", \"10\", \"11\", \"12\", \"13\", \"14\", \"15\", \"16\", \"17\", \"18\", \"19\", \"20\", \"21\", \"22\", \"23\", \"24\", \"25\", \"26\", \"27\", \"28\", \"29\", \"30\", \"31\", \"32\", \"35\"], \"mode\": \"markers\", \"name\": \"precision_score_micro\", \"stepped\": false, \"type\": \"scatter\", \"data\": [0.942857142857143, 0.9333333333333332, 0.9238095238095237, 0.9428571428571427, 0.9333333333333332, 0.9619047619047619, 0.9428571428571427, 0.9238095238095237, 0.8952380952380952, 0.9619047619047619, 0.9619047619047619, 0.9619047619047619, 0.9523809523809522, 0.9333333333333332, 0.9047619047619047, 0.9333333333333332, 0.9333333333333332, 0.9047619047619047, 0.980952380952381, 0.9238095238095237, 0.9428571428571427, 0.9238095238095237, 0.9333333333333332, 0.9238095238095237, 0.9523809523809522, 0.3428571428571428, 0.942857142857143, 0.9333333333333332, 0.8761904761904762, 0.9142857142857143, 0.3428571428571428, 0.9428571428571427, 0.9523809523809524, 0.980952380952381]}, {\"categories\": [\"0\", \"1\", \"2\", \"3\", \"4\", \"5\", \"6\", \"7\", \"8\", \"9\", \"10\", \"11\", \"12\", \"13\", \"14\", \"15\", \"16\", \"17\", \"18\", \"19\", \"20\", \"21\", \"22\", \"23\", \"24\", \"25\", \"26\", \"27\", \"28\", \"29\", \"30\", \"31\", \"32\", \"35\"], \"mode\": \"lines\", \"name\": \"precision_score_micro_max\", \"stepped\": true, \"type\": \"scatter\", \"data\": [0.942857142857143, 0.942857142857143, 0.942857142857143, 0.942857142857143, 0.942857142857143, 0.9619047619047619, 0.9619047619047619, 0.9619047619047619, 0.9619047619047619, 0.9619047619047619, 0.9619047619047619, 0.9619047619047619, 0.9619047619047619, 0.9619047619047619, 0.9619047619047619, 0.9619047619047619, 0.9619047619047619, 0.9619047619047619, 0.980952380952381, 0.980952380952381, 0.980952380952381, 0.980952380952381, 0.980952380952381, 0.980952380952381, 0.980952380952381, 0.980952380952381, 0.980952380952381, 0.980952380952381, 0.980952380952381, 0.980952380952381, 0.980952380952381, 0.980952380952381, 0.980952380952381, 0.980952380952381]}], \"precision_score_macro\": [{\"categories\": [\"0\", \"1\", \"2\", \"3\", \"4\", \"5\", \"6\", \"7\", \"8\", \"9\", \"10\", \"11\", \"12\", \"13\", \"14\", \"15\", \"16\", \"17\", \"18\", \"19\", \"20\", \"21\", \"22\", \"23\", \"24\", \"25\", \"26\", \"27\", \"28\", \"29\", \"30\", \"31\", \"32\", \"35\"], \"mode\": \"markers\", \"name\": \"precision_score_macro\", \"stepped\": false, \"type\": \"scatter\", \"data\": [0.9360566448801743, 0.9255628177196803, 0.9177280598849226, 0.9395800755449878, 0.9255628177196803, 0.9627039627039627, 0.9350556850556849, 0.9177280598849226, 0.8911848500083795, 0.9625356125356125, 0.957905982905983, 0.9625356125356125, 0.9486467236467236, 0.9273504273504273, 0.8991938616938616, 0.9273504273504273, 0.9255628177196803, 0.8991938616938616, 0.9750000000000001, 0.9166321332988, 0.9375382901698691, 0.9177280598849226, 0.9273504273504273, 0.9211775878442546, 0.9444444444444445, 0.11428571428571428, 0.9377492877492878, 0.9273504273504273, 0.8748931623931625, 0.9094789016357643, 0.20451770451770454, 0.9351851851851851, 0.9500739027054816, 0.9796296296296297]}, {\"categories\": [\"0\", \"1\", \"2\", \"3\", \"4\", \"5\", \"6\", \"7\", \"8\", \"9\", \"10\", \"11\", \"12\", \"13\", \"14\", \"15\", \"16\", \"17\", \"18\", \"19\", \"20\", \"21\", \"22\", \"23\", \"24\", \"25\", \"26\", \"27\", \"28\", \"29\", \"30\", \"31\", \"32\", \"35\"], \"mode\": \"lines\", \"name\": \"precision_score_macro_max\", \"stepped\": true, \"type\": \"scatter\", \"data\": [0.9360566448801743, 0.9360566448801743, 0.9360566448801743, 0.9395800755449878, 0.9395800755449878, 0.9627039627039627, 0.9627039627039627, 0.9627039627039627, 0.9627039627039627, 0.9627039627039627, 0.9627039627039627, 0.9627039627039627, 0.9627039627039627, 0.9627039627039627, 0.9627039627039627, 0.9627039627039627, 0.9627039627039627, 0.9627039627039627, 0.9750000000000001, 0.9750000000000001, 0.9750000000000001, 0.9750000000000001, 0.9750000000000001, 0.9750000000000001, 0.9750000000000001, 0.9750000000000001, 0.9750000000000001, 0.9750000000000001, 0.9750000000000001, 0.9750000000000001, 0.9750000000000001, 0.9750000000000001, 0.9750000000000001, 0.9796296296296297]}], \"recall_score_micro\": [{\"categories\": [\"0\", \"1\", \"2\", \"3\", \"4\", \"5\", \"6\", \"7\", \"8\", \"9\", \"10\", \"11\", \"12\", \"13\", \"14\", \"15\", \"16\", \"17\", \"18\", \"19\", \"20\", \"21\", \"22\", \"23\", \"24\", \"25\", \"26\", \"27\", \"28\", \"29\", \"30\", \"31\", \"32\", \"35\"], \"mode\": \"markers\", \"name\": \"recall_score_micro\", \"stepped\": false, \"type\": \"scatter\", \"data\": [0.942857142857143, 0.9333333333333332, 0.9238095238095237, 0.9428571428571427, 0.9333333333333332, 0.9619047619047619, 0.9428571428571427, 0.9238095238095237, 0.8952380952380952, 0.9619047619047619, 0.9619047619047619, 0.9619047619047619, 0.9523809523809522, 0.9333333333333332, 0.9047619047619047, 0.9333333333333332, 0.9333333333333332, 0.9047619047619047, 0.980952380952381, 0.9238095238095237, 0.9428571428571427, 0.9238095238095237, 0.9333333333333332, 0.9238095238095237, 0.9523809523809522, 0.3428571428571428, 0.942857142857143, 0.9333333333333332, 0.8761904761904762, 0.9142857142857143, 0.3428571428571428, 0.9428571428571427, 0.9523809523809524, 0.980952380952381]}, {\"categories\": [\"0\", \"1\", \"2\", \"3\", \"4\", \"5\", \"6\", \"7\", \"8\", \"9\", \"10\", \"11\", \"12\", \"13\", \"14\", \"15\", \"16\", \"17\", \"18\", \"19\", \"20\", \"21\", \"22\", \"23\", \"24\", \"25\", \"26\", \"27\", \"28\", \"29\", \"30\", \"31\", \"32\", \"35\"], \"mode\": \"lines\", \"name\": \"recall_score_micro_max\", \"stepped\": true, \"type\": \"scatter\", \"data\": [0.942857142857143, 0.942857142857143, 0.942857142857143, 0.942857142857143, 0.942857142857143, 0.9619047619047619, 0.9619047619047619, 0.9619047619047619, 0.9619047619047619, 0.9619047619047619, 0.9619047619047619, 0.9619047619047619, 0.9619047619047619, 0.9619047619047619, 0.9619047619047619, 0.9619047619047619, 0.9619047619047619, 0.9619047619047619, 0.980952380952381, 0.980952380952381, 0.980952380952381, 0.980952380952381, 0.980952380952381, 0.980952380952381, 0.980952380952381, 0.980952380952381, 0.980952380952381, 0.980952380952381, 0.980952380952381, 0.980952380952381, 0.980952380952381, 0.980952380952381, 0.980952380952381, 0.980952380952381]}], \"f1_score_weighted\": [{\"categories\": [\"0\", \"1\", \"2\", \"3\", \"4\", \"5\", \"6\", \"7\", \"8\", \"9\", \"10\", \"11\", \"12\", \"13\", \"14\", \"15\", \"16\", \"17\", \"18\", \"19\", \"20\", \"21\", \"22\", \"23\", \"24\", \"25\", \"26\", \"27\", \"28\", \"29\", \"30\", \"31\", \"32\", \"35\"], \"mode\": \"markers\", \"name\": \"f1_score_weighted\", \"stepped\": false, \"type\": \"scatter\", \"data\": [0.944240044555834, 0.9346726478030826, 0.9251322751322751, 0.9428571428571427, 0.9346726478030826, 0.9619913419913421, 0.9435185185185185, 0.9251322751322751, 0.8944444444444445, 0.9619790216281444, 0.9621371093224641, 0.9619790216281444, 0.952643972293095, 0.933899613899614, 0.9070535307944688, 0.933899613899614, 0.9346726478030826, 0.9070535307944688, 0.9811847283700831, 0.9245065660626302, 0.9434326557133574, 0.9251322751322751, 0.933899613899614, 0.9243758043758045, 0.952947232947233, 0.17831890331890332, 0.9441775306613872, 0.933899613899614, 0.8778318600167339, 0.9151515512085228, 0.19916556873078609, 0.9434399865704215, 0.9524245396098943, 0.9810125313283208]}, {\"categories\": [\"0\", \"1\", \"2\", \"3\", \"4\", \"5\", \"6\", \"7\", \"8\", \"9\", \"10\", \"11\", \"12\", \"13\", \"14\", \"15\", \"16\", \"17\", \"18\", \"19\", \"20\", \"21\", \"22\", \"23\", \"24\", \"25\", \"26\", \"27\", \"28\", \"29\", \"30\", \"31\", \"32\", \"35\"], \"mode\": \"lines\", \"name\": \"f1_score_weighted_max\", \"stepped\": true, \"type\": \"scatter\", \"data\": [0.944240044555834, 0.944240044555834, 0.944240044555834, 0.944240044555834, 0.944240044555834, 0.9619913419913421, 0.9619913419913421, 0.9619913419913421, 0.9619913419913421, 0.9619913419913421, 0.9621371093224641, 0.9621371093224641, 0.9621371093224641, 0.9621371093224641, 0.9621371093224641, 0.9621371093224641, 0.9621371093224641, 0.9621371093224641, 0.9811847283700831, 0.9811847283700831, 0.9811847283700831, 0.9811847283700831, 0.9811847283700831, 0.9811847283700831, 0.9811847283700831, 0.9811847283700831, 0.9811847283700831, 0.9811847283700831, 0.9811847283700831, 0.9811847283700831, 0.9811847283700831, 0.9811847283700831, 0.9811847283700831, 0.9811847283700831]}], \"recall_score_macro\": [{\"categories\": [\"0\", \"1\", \"2\", \"3\", \"4\", \"5\", \"6\", \"7\", \"8\", \"9\", \"10\", \"11\", \"12\", \"13\", \"14\", \"15\", \"16\", \"17\", \"18\", \"19\", \"20\", \"21\", \"22\", \"23\", \"24\", \"25\", \"26\", \"27\", \"28\", \"29\", \"30\", \"31\", \"32\", \"35\"], \"mode\": \"markers\", \"name\": \"recall_score_macro\", \"stepped\": false, \"type\": \"scatter\", \"data\": [0.9487768566715936, 0.9364311776592479, 0.9278841691122394, 0.9395800755449878, 0.9364311776592479, 0.9643874643874645, 0.9480511366476279, 0.9278841691122394, 0.8908471320752023, 0.9657102157102159, 0.9677987704303495, 0.9657102157102159, 0.9598622624938415, 0.9337321223286136, 0.9127769566366059, 0.9337321223286136, 0.9364311776592479, 0.9127769566366059, 0.9848927875243665, 0.9244728630693544, 0.9394783254432378, 0.9278841691122394, 0.9337321223286136, 0.9275592828224407, 0.9508261394226306, 0.3333333333333333, 0.9545488624435993, 0.9337321223286136, 0.884999178858828, 0.9186249098529801, 0.4444444444444444, 0.9422791308756221, 0.9519257545573335, 0.9821937321937323]}, {\"categories\": [\"0\", \"1\", \"2\", \"3\", \"4\", \"5\", \"6\", \"7\", \"8\", \"9\", \"10\", \"11\", \"12\", \"13\", \"14\", \"15\", \"16\", \"17\", \"18\", \"19\", \"20\", \"21\", \"22\", \"23\", \"24\", \"25\", \"26\", \"27\", \"28\", \"29\", \"30\", \"31\", \"32\", \"35\"], \"mode\": \"lines\", \"name\": \"recall_score_macro_max\", \"stepped\": true, \"type\": \"scatter\", \"data\": [0.9487768566715936, 0.9487768566715936, 0.9487768566715936, 0.9487768566715936, 0.9487768566715936, 0.9643874643874645, 0.9643874643874645, 0.9643874643874645, 0.9643874643874645, 0.9657102157102159, 0.9677987704303495, 0.9677987704303495, 0.9677987704303495, 0.9677987704303495, 0.9677987704303495, 0.9677987704303495, 0.9677987704303495, 0.9677987704303495, 0.9848927875243665, 0.9848927875243665, 0.9848927875243665, 0.9848927875243665, 0.9848927875243665, 0.9848927875243665, 0.9848927875243665, 0.9848927875243665, 0.9848927875243665, 0.9848927875243665, 0.9848927875243665, 0.9848927875243665, 0.9848927875243665, 0.9848927875243665, 0.9848927875243665, 0.9848927875243665]}], \"precision_score_weighted\": [{\"categories\": [\"0\", \"1\", \"2\", \"3\", \"4\", \"5\", \"6\", \"7\", \"8\", \"9\", \"10\", \"11\", \"12\", \"13\", \"14\", \"15\", \"16\", \"17\", \"18\", \"19\", \"20\", \"21\", \"22\", \"23\", \"24\", \"25\", \"26\", \"27\", \"28\", \"29\", \"30\", \"31\", \"32\", \"35\"], \"mode\": \"markers\", \"name\": \"precision_score_weighted\", \"stepped\": false, \"type\": \"scatter\", \"data\": [0.9498319327731092, 0.9393557422969186, 0.9319686849098613, 0.9457875457875456, 0.9393557422969186, 0.9682983682983682, 0.947089947089947, 0.9319686849098613, 0.9062543991955755, 0.9657875457875459, 0.9669780219780219, 0.9657875457875459, 0.9574542124542124, 0.938115588115588, 0.9183741258741259, 0.938115588115588, 0.9393557422969186, 0.9183741258741259, 0.9830952380952381, 0.9296307396307396, 0.9447619047619048, 0.9319686849098613, 0.938115588115588, 0.9357346357346357, 0.9542328042328041, 0.12136054421768709, 0.953174603174603, 0.938115588115588, 0.8986538461538461, 0.9222139951551717, 0.15862899005756148, 0.9455026455026454, 0.9562637362637362, 0.9826984126984127]}, {\"categories\": [\"0\", \"1\", \"2\", \"3\", \"4\", \"5\", \"6\", \"7\", \"8\", \"9\", \"10\", \"11\", \"12\", \"13\", \"14\", \"15\", \"16\", \"17\", \"18\", \"19\", \"20\", \"21\", \"22\", \"23\", \"24\", \"25\", \"26\", \"27\", \"28\", \"29\", \"30\", \"31\", \"32\", \"35\"], \"mode\": \"lines\", \"name\": \"precision_score_weighted_max\", \"stepped\": true, \"type\": \"scatter\", \"data\": [0.9498319327731092, 0.9498319327731092, 0.9498319327731092, 0.9498319327731092, 0.9498319327731092, 0.9682983682983682, 0.9682983682983682, 0.9682983682983682, 0.9682983682983682, 0.9682983682983682, 0.9682983682983682, 0.9682983682983682, 0.9682983682983682, 0.9682983682983682, 0.9682983682983682, 0.9682983682983682, 0.9682983682983682, 0.9682983682983682, 0.9830952380952381, 0.9830952380952381, 0.9830952380952381, 0.9830952380952381, 0.9830952380952381, 0.9830952380952381, 0.9830952380952381, 0.9830952380952381, 0.9830952380952381, 0.9830952380952381, 0.9830952380952381, 0.9830952380952381, 0.9830952380952381, 0.9830952380952381, 0.9830952380952381, 0.9830952380952381]}], \"f1_score_micro\": [{\"categories\": [\"0\", \"1\", \"2\", \"3\", \"4\", \"5\", \"6\", \"7\", \"8\", \"9\", \"10\", \"11\", \"12\", \"13\", \"14\", \"15\", \"16\", \"17\", \"18\", \"19\", \"20\", \"21\", \"22\", \"23\", \"24\", \"25\", \"26\", \"27\", \"28\", \"29\", \"30\", \"31\", \"32\", \"35\"], \"mode\": \"markers\", \"name\": \"f1_score_micro\", \"stepped\": false, \"type\": \"scatter\", \"data\": [0.942857142857143, 0.9333333333333332, 0.9238095238095237, 0.9428571428571427, 0.9333333333333332, 0.9619047619047619, 0.9428571428571427, 0.9238095238095237, 0.8952380952380952, 0.9619047619047619, 0.9619047619047619, 0.9619047619047619, 0.9523809523809522, 0.9333333333333332, 0.9047619047619047, 0.9333333333333332, 0.9333333333333332, 0.9047619047619047, 0.980952380952381, 0.9238095238095237, 0.9428571428571427, 0.9238095238095237, 0.9333333333333332, 0.9238095238095237, 0.9523809523809522, 0.3428571428571429, 0.942857142857143, 0.9333333333333332, 0.8761904761904762, 0.9142857142857143, 0.3428571428571428, 0.9428571428571427, 0.9523809523809524, 0.980952380952381]}, {\"categories\": [\"0\", \"1\", \"2\", \"3\", \"4\", \"5\", \"6\", \"7\", \"8\", \"9\", \"10\", \"11\", \"12\", \"13\", \"14\", \"15\", \"16\", \"17\", \"18\", \"19\", \"20\", \"21\", \"22\", \"23\", \"24\", \"25\", \"26\", \"27\", \"28\", \"29\", \"30\", \"31\", \"32\", \"35\"], \"mode\": \"lines\", \"name\": \"f1_score_micro_max\", \"stepped\": true, \"type\": \"scatter\", \"data\": [0.942857142857143, 0.942857142857143, 0.942857142857143, 0.942857142857143, 0.942857142857143, 0.9619047619047619, 0.9619047619047619, 0.9619047619047619, 0.9619047619047619, 0.9619047619047619, 0.9619047619047619, 0.9619047619047619, 0.9619047619047619, 0.9619047619047619, 0.9619047619047619, 0.9619047619047619, 0.9619047619047619, 0.9619047619047619, 0.980952380952381, 0.980952380952381, 0.980952380952381, 0.980952380952381, 0.980952380952381, 0.980952380952381, 0.980952380952381, 0.980952380952381, 0.980952380952381, 0.980952380952381, 0.980952380952381, 0.980952380952381, 0.980952380952381, 0.980952380952381, 0.980952380952381, 0.980952380952381]}], \"weighted_accuracy\": [{\"categories\": [\"0\", \"1\", \"2\", \"3\", \"4\", \"5\", \"6\", \"7\", \"8\", \"9\", \"10\", \"11\", \"12\", \"13\", \"14\", \"15\", \"16\", \"17\", \"18\", \"19\", \"20\", \"21\", \"22\", \"23\", \"24\", \"25\", \"26\", \"27\", \"28\", \"29\", \"30\", \"31\", \"32\", \"35\"], \"mode\": \"markers\", \"name\": \"weighted_accuracy\", \"stepped\": false, \"type\": \"scatter\", \"data\": [0.936506678186368, 0.9293807874500258, 0.9188373973445921, 0.9446350891300638, 0.9293807874500258, 0.95991084449222, 0.9381105096350829, 0.9188373973445921, 0.8974597251355659, 0.9583273132174773, 0.9565131862479402, 0.9583273132174773, 0.9454284673247414, 0.931736243237328, 0.8964373638034001, 0.931736243237328, 0.9293807874500258, 0.8964373638034001, 0.9775999664588081, 0.9222350555888719, 0.9451359627692769, 0.9188373973445921, 0.931736243237328, 0.919859758676758, 0.9528230234481958, 0.34723995299603394, 0.932337554478689, 0.931736243237328, 0.8679338008580321, 0.909336209696136, 0.25052290897977564, 0.9422796333427618, 0.951760979866406, 0.9799554222461101]}, {\"categories\": [\"0\", \"1\", \"2\", \"3\", \"4\", \"5\", \"6\", \"7\", \"8\", \"9\", \"10\", \"11\", \"12\", \"13\", \"14\", \"15\", \"16\", \"17\", \"18\", \"19\", \"20\", \"21\", \"22\", \"23\", \"24\", \"25\", \"26\", \"27\", \"28\", \"29\", \"30\", \"31\", \"32\", \"35\"], \"mode\": \"lines\", \"name\": \"weighted_accuracy_max\", \"stepped\": true, \"type\": \"scatter\", \"data\": [0.936506678186368, 0.936506678186368, 0.936506678186368, 0.9446350891300638, 0.9446350891300638, 0.95991084449222, 0.95991084449222, 0.95991084449222, 0.95991084449222, 0.95991084449222, 0.95991084449222, 0.95991084449222, 0.95991084449222, 0.95991084449222, 0.95991084449222, 0.95991084449222, 0.95991084449222, 0.95991084449222, 0.9775999664588081, 0.9775999664588081, 0.9775999664588081, 0.9775999664588081, 0.9775999664588081, 0.9775999664588081, 0.9775999664588081, 0.9775999664588081, 0.9775999664588081, 0.9775999664588081, 0.9775999664588081, 0.9775999664588081, 0.9775999664588081, 0.9775999664588081, 0.9775999664588081, 0.9799554222461101]}], \"AUC_micro\": [{\"categories\": [\"0\", \"1\", \"2\", \"3\", \"4\", \"5\", \"6\", \"7\", \"8\", \"9\", \"10\", \"11\", \"12\", \"13\", \"14\", \"15\", \"16\", \"17\", \"18\", \"19\", \"20\", \"21\", \"22\", \"23\", \"24\", \"25\", \"26\", \"27\", \"28\", \"29\", \"30\", \"31\", \"32\", \"35\"], \"mode\": \"markers\", \"name\": \"AUC_micro\", \"stepped\": false, \"type\": \"scatter\", \"data\": [0.9940136054421768, 0.974013605442177, 0.9937414965986395, 0.9956462585034013, 0.9946938775510205, 0.9970068027210884, 0.994829931972789, 0.993061224489796, 0.9843537414965987, 0.9900680272108843, 0.997278911564626, 0.9873469387755103, 0.997687074829932, 0.9880272108843539, 0.97156462585034, 0.9964625850340135, 0.9951700680272109, 0.9764625850340135, 0.998639455782313, 0.9877551020408163, 0.9908843537414965, 0.9835374149659865, 0.9945578231292517, 0.993061224489796, 0.9949659863945578, 0.47142857142857136, 0.9960544217687074, 0.9946938775510205, 0.9648979591836735, 0.9839455782312925, 0.596734693877551, 0.9959183673469388, 0.9952380952380953, 0.998639455782313]}, {\"categories\": [\"0\", \"1\", \"2\", \"3\", \"4\", \"5\", \"6\", \"7\", \"8\", \"9\", \"10\", \"11\", \"12\", \"13\", \"14\", \"15\", \"16\", \"17\", \"18\", \"19\", \"20\", \"21\", \"22\", \"23\", \"24\", \"25\", \"26\", \"27\", \"28\", \"29\", \"30\", \"31\", \"32\", \"35\"], \"mode\": \"lines\", \"name\": \"AUC_micro_max\", \"stepped\": true, \"type\": \"scatter\", \"data\": [0.9940136054421768, 0.9940136054421768, 0.9940136054421768, 0.9956462585034013, 0.9956462585034013, 0.9970068027210884, 0.9970068027210884, 0.9970068027210884, 0.9970068027210884, 0.9970068027210884, 0.997278911564626, 0.997278911564626, 0.997687074829932, 0.997687074829932, 0.997687074829932, 0.997687074829932, 0.997687074829932, 0.997687074829932, 0.998639455782313, 0.998639455782313, 0.998639455782313, 0.998639455782313, 0.998639455782313, 0.998639455782313, 0.998639455782313, 0.998639455782313, 0.998639455782313, 0.998639455782313, 0.998639455782313, 0.998639455782313, 0.998639455782313, 0.998639455782313, 0.998639455782313, 0.998639455782313]}], \"AUC_weighted\": [{\"categories\": [\"0\", \"1\", \"2\", \"3\", \"4\", \"5\", \"6\", \"7\", \"8\", \"9\", \"10\", \"11\", \"12\", \"13\", \"14\", \"15\", \"16\", \"17\", \"18\", \"19\", \"20\", \"21\", \"22\", \"23\", \"24\", \"25\", \"26\", \"27\", \"28\", \"29\", \"30\", \"31\", \"32\", \"35\"], \"mode\": \"markers\", \"name\": \"AUC_weighted\", \"stepped\": false, \"type\": \"scatter\", \"data\": [0.9894407093941254, 0.9800444508907242, 0.9942836666439151, 0.9942836666439151, 0.9938398687234091, 0.9959328111502025, 0.9946515268720239, 0.9901758696789753, 0.9825188269287648, 0.9902277674016805, 0.9959994112168026, 0.9906418460766285, 0.9979092163874773, 0.993274349873729, 0.9773321743818638, 0.9956331194685232, 0.9942836666439151, 0.9776091661961227, 0.9982842468090917, 0.9872466043273497, 0.98660728505449, 0.9838984255909722, 0.9954781243601118, 0.9852171594795819, 0.993947512115214, 0.5, 0.9974927849927849, 0.994542750210452, 0.9766880721073269, 0.9835693809296294, 0.8523816762947197, 0.9954781243601118, 0.9938680108711164, 0.9988055422838031]}, {\"categories\": [\"0\", \"1\", \"2\", \"3\", \"4\", \"5\", \"6\", \"7\", \"8\", \"9\", \"10\", \"11\", \"12\", \"13\", \"14\", \"15\", \"16\", \"17\", \"18\", \"19\", \"20\", \"21\", \"22\", \"23\", \"24\", \"25\", \"26\", \"27\", \"28\", \"29\", \"30\", \"31\", \"32\", \"35\"], \"mode\": \"lines\", \"name\": \"AUC_weighted_max\", \"stepped\": true, \"type\": \"scatter\", \"data\": [0.9894407093941254, 0.9894407093941254, 0.9942836666439151, 0.9942836666439151, 0.9942836666439151, 0.9959328111502025, 0.9959328111502025, 0.9959328111502025, 0.9959328111502025, 0.9959328111502025, 0.9959994112168026, 0.9959994112168026, 0.9979092163874773, 0.9979092163874773, 0.9979092163874773, 0.9979092163874773, 0.9979092163874773, 0.9979092163874773, 0.9982842468090917, 0.9982842468090917, 0.9982842468090917, 0.9982842468090917, 0.9982842468090917, 0.9982842468090917, 0.9982842468090917, 0.9982842468090917, 0.9982842468090917, 0.9982842468090917, 0.9982842468090917, 0.9982842468090917, 0.9982842468090917, 0.9982842468090917, 0.9982842468090917, 0.9988055422838031]}], \"average_precision_score_weighted\": [{\"categories\": [\"0\", \"1\", \"2\", \"3\", \"4\", \"5\", \"6\", \"7\", \"8\", \"9\", \"10\", \"11\", \"12\", \"13\", \"14\", \"15\", \"16\", \"17\", \"18\", \"19\", \"20\", \"21\", \"22\", \"23\", \"24\", \"25\", \"26\", \"27\", \"28\", \"29\", \"30\", \"31\", \"32\", \"35\"], \"mode\": \"markers\", \"name\": \"average_precision_score_weighted\", \"stepped\": false, \"type\": \"scatter\", \"data\": [0.9831260781415581, 0.9654837347931977, 0.9905825317899621, 0.9903052512871177, 0.9862916458449408, 0.9926170126170125, 0.9904837490551776, 0.9838957661746249, 0.9754249194054591, 0.9874565381708238, 0.9920161055875342, 0.9882501889644747, 0.9962672248386534, 0.9862622220605415, 0.9533076519638514, 0.9923784597468809, 0.990584231566098, 0.9611195872288308, 0.9966483516483516, 0.9794660894660895, 0.9804368392758485, 0.9692566168068062, 0.9895986024557454, 0.9760997120395617, 0.9903984253088632, 0.36000000000000004, 0.993963443963444, 0.9885022043005237, 0.958561020367743, 0.9708626784046951, 0.7961336113734244, 0.9927850466240559, 0.9881148481148482, 0.9976870748299319]}, {\"categories\": [\"0\", \"1\", \"2\", \"3\", \"4\", \"5\", \"6\", \"7\", \"8\", \"9\", \"10\", \"11\", \"12\", \"13\", \"14\", \"15\", \"16\", \"17\", \"18\", \"19\", \"20\", \"21\", \"22\", \"23\", \"24\", \"25\", \"26\", \"27\", \"28\", \"29\", \"30\", \"31\", \"32\", \"35\"], \"mode\": \"lines\", \"name\": \"average_precision_score_weighted_max\", \"stepped\": true, \"type\": \"scatter\", \"data\": [0.9831260781415581, 0.9831260781415581, 0.9905825317899621, 0.9905825317899621, 0.9905825317899621, 0.9926170126170125, 0.9926170126170125, 0.9926170126170125, 0.9926170126170125, 0.9926170126170125, 0.9926170126170125, 0.9926170126170125, 0.9962672248386534, 0.9962672248386534, 0.9962672248386534, 0.9962672248386534, 0.9962672248386534, 0.9962672248386534, 0.9966483516483516, 0.9966483516483516, 0.9966483516483516, 0.9966483516483516, 0.9966483516483516, 0.9966483516483516, 0.9966483516483516, 0.9966483516483516, 0.9966483516483516, 0.9966483516483516, 0.9966483516483516, 0.9966483516483516, 0.9966483516483516, 0.9966483516483516, 0.9966483516483516, 0.9976870748299319]}], \"average_precision_score_macro\": [{\"categories\": [\"0\", \"1\", \"2\", \"3\", \"4\", \"5\", \"6\", \"7\", \"8\", \"9\", \"10\", \"11\", \"12\", \"13\", \"14\", \"15\", \"16\", \"17\", \"18\", \"19\", \"20\", \"21\", \"22\", \"23\", \"24\", \"25\", \"26\", \"27\", \"28\", \"29\", \"30\", \"31\", \"32\", \"35\"], \"mode\": \"markers\", \"name\": \"average_precision_score_macro\", \"stepped\": false, \"type\": \"scatter\", \"data\": [0.9814006318487336, 0.9605425513466076, 0.9885178634308079, 0.9882582597432265, 0.9831026789924074, 0.9921907732449041, 0.9890352842594557, 0.9799176592165687, 0.9716459715044499, 0.9863073997333256, 0.9911766638974616, 0.9870790046715973, 0.9964064307013025, 0.9832648379217006, 0.9434103739787268, 0.9905844997142319, 0.9886199008456084, 0.9552984578280364, 0.995776656741569, 0.9760627426684932, 0.9771438083509972, 0.955174944333473, 0.9865492532159199, 0.9765389854494195, 0.9881144863677628, 0.3333333333333333, 0.9940292591807743, 0.9853443941679236, 0.9495417194877241, 0.9614368511103812, 0.7688540120140032, 0.9910121074044816, 0.986442664067768, 0.9974426807760142]}, {\"categories\": [\"0\", \"1\", \"2\", \"3\", \"4\", \"5\", \"6\", \"7\", \"8\", \"9\", \"10\", \"11\", \"12\", \"13\", \"14\", \"15\", \"16\", \"17\", \"18\", \"19\", \"20\", \"21\", \"22\", \"23\", \"24\", \"25\", \"26\", \"27\", \"28\", \"29\", \"30\", \"31\", \"32\", \"35\"], \"mode\": \"lines\", \"name\": \"average_precision_score_macro_max\", \"stepped\": true, \"type\": \"scatter\", \"data\": [0.9814006318487336, 0.9814006318487336, 0.9885178634308079, 0.9885178634308079, 0.9885178634308079, 0.9921907732449041, 0.9921907732449041, 0.9921907732449041, 0.9921907732449041, 0.9921907732449041, 0.9921907732449041, 0.9921907732449041, 0.9964064307013025, 0.9964064307013025, 0.9964064307013025, 0.9964064307013025, 0.9964064307013025, 0.9964064307013025, 0.9964064307013025, 0.9964064307013025, 0.9964064307013025, 0.9964064307013025, 0.9964064307013025, 0.9964064307013025, 0.9964064307013025, 0.9964064307013025, 0.9964064307013025, 0.9964064307013025, 0.9964064307013025, 0.9964064307013025, 0.9964064307013025, 0.9964064307013025, 0.9964064307013025, 0.9974426807760142]}], \"matthews_correlation\": [{\"categories\": [\"0\", \"1\", \"2\", \"3\", \"4\", \"5\", \"6\", \"7\", \"8\", \"9\", \"10\", \"11\", \"12\", \"13\", \"14\", \"15\", \"16\", \"17\", \"18\", \"19\", \"20\", \"21\", \"22\", \"23\", \"24\", \"25\", \"26\", \"27\", \"28\", \"29\", \"30\", \"31\", \"32\", \"35\"], \"mode\": \"markers\", \"name\": \"matthews_correlation\", \"stepped\": false, \"type\": \"scatter\", \"data\": [0.9120064650195943, 0.8970451308261346, 0.883923793817979, 0.9121621316301866, 0.8970451308261346, 0.9456786298006773, 0.9132427499688852, 0.883923793817979, 0.8426156842906632, 0.9445113622680243, 0.9437349024725036, 0.9445113622680243, 0.9293335164464004, 0.8974502432075676, 0.857415960436275, 0.8974502432075676, 0.8970451308261346, 0.857415960436275, 0.9707619294995306, 0.8834619431966049, 0.9108708651682954, 0.883923793817979, 0.8974502432075676, 0.8866708070549971, 0.9244772702345946, 0.0, 0.9157832965407527, 0.8974502432075676, 0.8195956422953904, 0.8696681527750373, 0.16891345224461266, 0.9105715802157232, 0.9271234658236462, 0.972034085302283]}, {\"categories\": [\"0\", \"1\", \"2\", \"3\", \"4\", \"5\", \"6\", \"7\", \"8\", \"9\", \"10\", \"11\", \"12\", \"13\", \"14\", \"15\", \"16\", \"17\", \"18\", \"19\", \"20\", \"21\", \"22\", \"23\", \"24\", \"25\", \"26\", \"27\", \"28\", \"29\", \"30\", \"31\", \"32\", \"35\"], \"mode\": \"lines\", \"name\": \"matthews_correlation_max\", \"stepped\": true, \"type\": \"scatter\", \"data\": [0.9120064650195943, 0.9120064650195943, 0.9120064650195943, 0.9121621316301866, 0.9121621316301866, 0.9456786298006773, 0.9456786298006773, 0.9456786298006773, 0.9456786298006773, 0.9456786298006773, 0.9456786298006773, 0.9456786298006773, 0.9456786298006773, 0.9456786298006773, 0.9456786298006773, 0.9456786298006773, 0.9456786298006773, 0.9456786298006773, 0.9707619294995306, 0.9707619294995306, 0.9707619294995306, 0.9707619294995306, 0.9707619294995306, 0.9707619294995306, 0.9707619294995306, 0.9707619294995306, 0.9707619294995306, 0.9707619294995306, 0.9707619294995306, 0.9707619294995306, 0.9707619294995306, 0.9707619294995306, 0.9707619294995306, 0.972034085302283]}], \"log_loss\": [{\"categories\": [\"0\", \"1\", \"2\", \"3\", \"4\", \"5\", \"6\", \"7\", \"8\", \"9\", \"10\", \"11\", \"12\", \"13\", \"14\", \"15\", \"16\", \"17\", \"18\", \"19\", \"20\", \"21\", \"22\", \"23\", \"24\", \"25\", \"26\", \"27\", \"28\", \"29\", \"30\", \"31\", \"32\", \"35\"], \"mode\": \"markers\", \"name\": \"log_loss\", \"stepped\": false, \"type\": \"scatter\", \"data\": [0.12860986256552234, 0.2600259634963905, 0.15831426800506862, 0.1448194105319669, 0.14941668839458186, 0.22207452169891162, 0.17549318607288, 0.19066854631608524, 0.21804735597631775, 0.208131888024477, 0.1429894658484626, 0.13971197546006361, 0.20522944342894742, 0.5495477288560172, 0.5119383691560497, 0.22618792352228476, 0.16354089525203652, 0.38568010305056677, 0.07164707180338777, 0.23670733014479076, 0.22722332456758898, 0.3004744460925997, 0.22990637798391345, 0.5419591343102103, 0.17976757872784818, 1.1709444725200289, 0.489957308047586, 0.2161417657499242, 0.6222207998802066, 0.4666774057665062, 1.1358651769272188, 0.1157147884423192, 0.26494862399022523, 0.13084551654969315]}, {\"categories\": [\"0\", \"1\", \"2\", \"3\", \"4\", \"5\", \"6\", \"7\", \"8\", \"9\", \"10\", \"11\", \"12\", \"13\", \"14\", \"15\", \"16\", \"17\", \"18\", \"19\", \"20\", \"21\", \"22\", \"23\", \"24\", \"25\", \"26\", \"27\", \"28\", \"29\", \"30\", \"31\", \"32\", \"35\"], \"mode\": \"lines\", \"name\": \"log_loss_min\", \"stepped\": true, \"type\": \"scatter\", \"data\": [0.12860986256552234, 0.12860986256552234, 0.12860986256552234, 0.12860986256552234, 0.12860986256552234, 0.12860986256552234, 0.12860986256552234, 0.12860986256552234, 0.12860986256552234, 0.12860986256552234, 0.12860986256552234, 0.12860986256552234, 0.12860986256552234, 0.12860986256552234, 0.12860986256552234, 0.12860986256552234, 0.12860986256552234, 0.12860986256552234, 0.07164707180338777, 0.07164707180338777, 0.07164707180338777, 0.07164707180338777, 0.07164707180338777, 0.07164707180338777, 0.07164707180338777, 0.07164707180338777, 0.07164707180338777, 0.07164707180338777, 0.07164707180338777, 0.07164707180338777, 0.07164707180338777, 0.07164707180338777, 0.07164707180338777, 0.07164707180338777]}], \"norm_macro_recall\": [{\"categories\": [\"0\", \"1\", \"2\", \"3\", \"4\", \"5\", \"6\", \"7\", \"8\", \"9\", \"10\", \"11\", \"12\", \"13\", \"14\", \"15\", \"16\", \"17\", \"18\", \"19\", \"20\", \"21\", \"22\", \"23\", \"24\", \"25\", \"26\", \"27\", \"28\", \"29\", \"30\", \"31\", \"32\", \"35\"], \"mode\": \"markers\", \"name\": \"norm_macro_recall\", \"stepped\": false, \"type\": \"scatter\", \"data\": [0.9231652850073903, 0.9046467664888717, 0.8918262536683589, 0.9093701133174816, 0.9046467664888717, 0.9465811965811964, 0.9220767049714417, 0.8918262536683589, 0.8362706981128034, 0.9485653235653234, 0.951698155645524, 0.9485653235653234, 0.9397933937407621, 0.9005981834929203, 0.8691654349549086, 0.9005981834929203, 0.9046467664888717, 0.8691654349549086, 0.9773391812865496, 0.8867092946040315, 0.9092174881648565, 0.8918262536683589, 0.9005981834929203, 0.891338924233661, 0.926239209133946, 0.0, 0.9318232936653987, 0.9005981834929203, 0.8274987682882419, 0.87793736477947, 0.16666666666666666, 0.9134186963134332, 0.9278886318360001, 0.9732905982905983]}, {\"categories\": [\"0\", \"1\", \"2\", \"3\", \"4\", \"5\", \"6\", \"7\", \"8\", \"9\", \"10\", \"11\", \"12\", \"13\", \"14\", \"15\", \"16\", \"17\", \"18\", \"19\", \"20\", \"21\", \"22\", \"23\", \"24\", \"25\", \"26\", \"27\", \"28\", \"29\", \"30\", \"31\", \"32\", \"35\"], \"mode\": \"lines\", \"name\": \"norm_macro_recall_max\", \"stepped\": true, \"type\": \"scatter\", \"data\": [0.9231652850073903, 0.9231652850073903, 0.9231652850073903, 0.9231652850073903, 0.9231652850073903, 0.9465811965811964, 0.9465811965811964, 0.9465811965811964, 0.9465811965811964, 0.9485653235653234, 0.951698155645524, 0.951698155645524, 0.951698155645524, 0.951698155645524, 0.951698155645524, 0.951698155645524, 0.951698155645524, 0.951698155645524, 0.9773391812865496, 0.9773391812865496, 0.9773391812865496, 0.9773391812865496, 0.9773391812865496, 0.9773391812865496, 0.9773391812865496, 0.9773391812865496, 0.9773391812865496, 0.9773391812865496, 0.9773391812865496, 0.9773391812865496, 0.9773391812865496, 0.9773391812865496, 0.9773391812865496, 0.9773391812865496]}], \"f1_score_macro\": [{\"categories\": [\"0\", \"1\", \"2\", \"3\", \"4\", \"5\", \"6\", \"7\", \"8\", \"9\", \"10\", \"11\", \"12\", \"13\", \"14\", \"15\", \"16\", \"17\", \"18\", \"19\", \"20\", \"21\", \"22\", \"23\", \"24\", \"25\", \"26\", \"27\", \"28\", \"29\", \"30\", \"31\", \"32\", \"35\"], \"mode\": \"markers\", \"name\": \"f1_score_macro\", \"stepped\": false, \"type\": \"scatter\", \"data\": [0.9399223098002656, 0.9289962426194309, 0.9197530864197531, 0.9381555741204863, 0.9289962426194309, 0.9602693602693603, 0.9396853146853147, 0.9197530864197531, 0.8837448559670782, 0.9622590426683993, 0.9603921999803006, 0.9622590426683993, 0.951848632257989, 0.9286453119786452, 0.9008921137740629, 0.9286453119786452, 0.9289962426194309, 0.9008921137740629, 0.9789107184988192, 0.918213636977939, 0.93810142640552, 0.9197530864197531, 0.9286453119786452, 0.9185042185042184, 0.9471638304971638, 0.16913179413179413, 0.9415205445357552, 0.9286453119786452, 0.8692923634100104, 0.9106881744313028, 0.25684380032206117, 0.9378884681783232, 0.9490816413013209, 0.980045766590389]}, {\"categories\": [\"0\", \"1\", \"2\", \"3\", \"4\", \"5\", \"6\", \"7\", \"8\", \"9\", \"10\", \"11\", \"12\", \"13\", \"14\", \"15\", \"16\", \"17\", \"18\", \"19\", \"20\", \"21\", \"22\", \"23\", \"24\", \"25\", \"26\", \"27\", \"28\", \"29\", \"30\", \"31\", \"32\", \"35\"], \"mode\": \"lines\", \"name\": \"f1_score_macro_max\", \"stepped\": true, \"type\": \"scatter\", \"data\": [0.9399223098002656, 0.9399223098002656, 0.9399223098002656, 0.9399223098002656, 0.9399223098002656, 0.9602693602693603, 0.9602693602693603, 0.9602693602693603, 0.9602693602693603, 0.9622590426683993, 0.9622590426683993, 0.9622590426683993, 0.9622590426683993, 0.9622590426683993, 0.9622590426683993, 0.9622590426683993, 0.9622590426683993, 0.9622590426683993, 0.9789107184988192, 0.9789107184988192, 0.9789107184988192, 0.9789107184988192, 0.9789107184988192, 0.9789107184988192, 0.9789107184988192, 0.9789107184988192, 0.9789107184988192, 0.9789107184988192, 0.9789107184988192, 0.9789107184988192, 0.9789107184988192, 0.9789107184988192, 0.9789107184988192, 0.980045766590389]}], \"recall_score_weighted\": [{\"categories\": [\"0\", \"1\", \"2\", \"3\", \"4\", \"5\", \"6\", \"7\", \"8\", \"9\", \"10\", \"11\", \"12\", \"13\", \"14\", \"15\", \"16\", \"17\", \"18\", \"19\", \"20\", \"21\", \"22\", \"23\", \"24\", \"25\", \"26\", \"27\", \"28\", \"29\", \"30\", \"31\", \"32\", \"35\"], \"mode\": \"markers\", \"name\": \"recall_score_weighted\", \"stepped\": false, \"type\": \"scatter\", \"data\": [0.942857142857143, 0.9333333333333332, 0.9238095238095237, 0.9428571428571427, 0.9333333333333332, 0.9619047619047619, 0.9428571428571427, 0.9238095238095237, 0.8952380952380952, 0.9619047619047619, 0.9619047619047619, 0.9619047619047619, 0.9523809523809522, 0.9333333333333332, 0.9047619047619047, 0.9333333333333332, 0.9333333333333332, 0.9047619047619047, 0.980952380952381, 0.9238095238095237, 0.9428571428571427, 0.9238095238095237, 0.9333333333333332, 0.9238095238095237, 0.9523809523809522, 0.3428571428571428, 0.942857142857143, 0.9333333333333332, 0.8761904761904762, 0.9142857142857143, 0.3428571428571428, 0.9428571428571427, 0.9523809523809524, 0.980952380952381]}, {\"categories\": [\"0\", \"1\", \"2\", \"3\", \"4\", \"5\", \"6\", \"7\", \"8\", \"9\", \"10\", \"11\", \"12\", \"13\", \"14\", \"15\", \"16\", \"17\", \"18\", \"19\", \"20\", \"21\", \"22\", \"23\", \"24\", \"25\", \"26\", \"27\", \"28\", \"29\", \"30\", \"31\", \"32\", \"35\"], \"mode\": \"lines\", \"name\": \"recall_score_weighted_max\", \"stepped\": true, \"type\": \"scatter\", \"data\": [0.942857142857143, 0.942857142857143, 0.942857142857143, 0.942857142857143, 0.942857142857143, 0.9619047619047619, 0.9619047619047619, 0.9619047619047619, 0.9619047619047619, 0.9619047619047619, 0.9619047619047619, 0.9619047619047619, 0.9619047619047619, 0.9619047619047619, 0.9619047619047619, 0.9619047619047619, 0.9619047619047619, 0.9619047619047619, 0.980952380952381, 0.980952380952381, 0.980952380952381, 0.980952380952381, 0.980952380952381, 0.980952380952381, 0.980952380952381, 0.980952380952381, 0.980952380952381, 0.980952380952381, 0.980952380952381, 0.980952380952381, 0.980952380952381, 0.980952380952381, 0.980952380952381, 0.980952380952381]}], \"average_precision_score_micro\": [{\"categories\": [\"0\", \"1\", \"2\", \"3\", \"4\", \"5\", \"6\", \"7\", \"8\", \"9\", \"10\", \"11\", \"12\", \"13\", \"14\", \"15\", \"16\", \"17\", \"18\", \"19\", \"20\", \"21\", \"22\", \"23\", \"24\", \"25\", \"26\", \"27\", \"28\", \"29\", \"30\", \"31\", \"32\", \"35\"], \"mode\": \"markers\", \"name\": \"average_precision_score_micro\", \"stepped\": false, \"type\": \"scatter\", \"data\": [0.9867605414031845, 0.9541279276626389, 0.9883309564701577, 0.9917765035799948, 0.9882263075250796, 0.9942929404512704, 0.9901656503877407, 0.9873620743940941, 0.9718130439481875, 0.9823021472237577, 0.9948277634672964, 0.9775912075861553, 0.9956380377831063, 0.9765285968186087, 0.9502809336671579, 0.9933149482115647, 0.9908343475787192, 0.9624816998109886, 0.9973954684879054, 0.9798169142426065, 0.9824907510783176, 0.9739654958305447, 0.9887130202311182, 0.9847544510423768, 0.9905188374167809, 0.3340136054421769, 0.992010215847848, 0.989144542367638, 0.9390306661802231, 0.972357218978878, 0.5480183958396169, 0.992303871253451, 0.9912540131201357, 0.9973954684879055]}, {\"categories\": [\"0\", \"1\", \"2\", \"3\", \"4\", \"5\", \"6\", \"7\", \"8\", \"9\", \"10\", \"11\", \"12\", \"13\", \"14\", \"15\", \"16\", \"17\", \"18\", \"19\", \"20\", \"21\", \"22\", \"23\", \"24\", \"25\", \"26\", \"27\", \"28\", \"29\", \"30\", \"31\", \"32\", \"35\"], \"mode\": \"lines\", \"name\": \"average_precision_score_micro_max\", \"stepped\": true, \"type\": \"scatter\", \"data\": [0.9867605414031845, 0.9867605414031845, 0.9883309564701577, 0.9917765035799948, 0.9917765035799948, 0.9942929404512704, 0.9942929404512704, 0.9942929404512704, 0.9942929404512704, 0.9942929404512704, 0.9948277634672964, 0.9948277634672964, 0.9956380377831063, 0.9956380377831063, 0.9956380377831063, 0.9956380377831063, 0.9956380377831063, 0.9956380377831063, 0.9973954684879054, 0.9973954684879054, 0.9973954684879054, 0.9973954684879054, 0.9973954684879054, 0.9973954684879054, 0.9973954684879054, 0.9973954684879054, 0.9973954684879054, 0.9973954684879054, 0.9973954684879054, 0.9973954684879054, 0.9973954684879054, 0.9973954684879054, 0.9973954684879054, 0.9973954684879055]}]}, \"metricName\": null, \"primaryMetricName\": \"accuracy\", \"showLegend\": false}, \"run_metrics\": [{\"name\": \"experiment_status\", \"run_id\": \"AutoML_e51d9550-c605-45cc-b6a8-83916e298ca2\", \"categories\": [0, 1, 2, 3, 4, 5, 6, 7, 8, 9, 10, 11, 12, 13], \"series\": [{\"data\": [\"DatasetEvaluation\", \"FeaturesGeneration\", \"DatasetFeaturization\", \"DatasetFeaturizationCompleted\", \"DatasetCrossValidationSplit\", \"ModelSelection\", \"BestRunExplainModel\", \"ModelExplanationDataSetSetup\", \"PickSurrogateModel\", \"EngineeredFeatureExplanations\", \"EngineeredFeatureExplanations\", \"RawFeaturesExplanations\", \"RawFeaturesExplanations\", \"BestRunExplainModel\"]}]}, {\"name\": \"experiment_status_description\", \"run_id\": \"AutoML_e51d9550-c605-45cc-b6a8-83916e298ca2\", \"categories\": [0, 1, 2, 3, 4, 5, 6, 7, 8, 9, 10, 11, 12, 13], \"series\": [{\"data\": [\"Gathering dataset statistics.\", \"Generating features for the dataset.\", \"Beginning to fit featurizers and featurize the dataset.\", \"Completed fit featurizers and featurizing the dataset.\", \"Generating individually featurized CV splits.\", \"Beginning model selection.\", \"Best run model explanations started\", \"Model explanations data setup completed\", \"Choosing LightGBM as the surrogate model for explanations\", \"Computation of engineered features started\", \"Computation of engineered features completed\", \"Computation of raw features started\", \"Computation of raw features completed\", \"Best run model explanations completed\"]}]}, {\"name\": \"f1_score_macro\", \"run_id\": \"AutoML_e51d9550-c605-45cc-b6a8-83916e298ca2\", \"categories\": [0], \"series\": [{\"data\": [0.9789107184988192]}]}, {\"name\": \"AUC_macro\", \"run_id\": \"AutoML_e51d9550-c605-45cc-b6a8-83916e298ca2\", \"categories\": [0], \"series\": [{\"data\": [0.9981901992022402]}]}, {\"name\": \"f1_score_weighted\", \"run_id\": \"AutoML_e51d9550-c605-45cc-b6a8-83916e298ca2\", \"categories\": [0], \"series\": [{\"data\": [0.9811847283700831]}]}, {\"name\": \"recall_score_weighted\", \"run_id\": \"AutoML_e51d9550-c605-45cc-b6a8-83916e298ca2\", \"categories\": [0], \"series\": [{\"data\": [0.980952380952381]}]}, {\"name\": \"average_precision_score_macro\", \"run_id\": \"AutoML_e51d9550-c605-45cc-b6a8-83916e298ca2\", \"categories\": [0], \"series\": [{\"data\": [0.995776656741569]}]}, {\"name\": \"precision_score_macro\", \"run_id\": \"AutoML_e51d9550-c605-45cc-b6a8-83916e298ca2\", \"categories\": [0], \"series\": [{\"data\": [0.9750000000000001]}]}, {\"name\": \"weighted_accuracy\", \"run_id\": \"AutoML_e51d9550-c605-45cc-b6a8-83916e298ca2\", \"categories\": [0], \"series\": [{\"data\": [0.9775999664588081]}]}, {\"name\": \"precision_score_weighted\", \"run_id\": \"AutoML_e51d9550-c605-45cc-b6a8-83916e298ca2\", \"categories\": [0], \"series\": [{\"data\": [0.9830952380952381]}]}, {\"name\": \"average_precision_score_micro\", \"run_id\": \"AutoML_e51d9550-c605-45cc-b6a8-83916e298ca2\", \"categories\": [0], \"series\": [{\"data\": [0.9973954684879054]}]}, {\"name\": \"balanced_accuracy\", \"run_id\": \"AutoML_e51d9550-c605-45cc-b6a8-83916e298ca2\", \"categories\": [0], \"series\": [{\"data\": [0.9848927875243665]}]}, {\"name\": \"accuracy\", \"run_id\": \"AutoML_e51d9550-c605-45cc-b6a8-83916e298ca2\", \"categories\": [0], \"series\": [{\"data\": [0.980952380952381]}]}, {\"name\": \"average_precision_score_weighted\", \"run_id\": \"AutoML_e51d9550-c605-45cc-b6a8-83916e298ca2\", \"categories\": [0], \"series\": [{\"data\": [0.9966483516483516]}]}, {\"name\": \"log_loss\", \"run_id\": \"AutoML_e51d9550-c605-45cc-b6a8-83916e298ca2\", \"categories\": [0], \"series\": [{\"data\": [0.07164707180338777]}]}, {\"name\": \"AUC_weighted\", \"run_id\": \"AutoML_e51d9550-c605-45cc-b6a8-83916e298ca2\", \"categories\": [0], \"series\": [{\"data\": [0.9982842468090917]}]}, {\"name\": \"recall_score_macro\", \"run_id\": \"AutoML_e51d9550-c605-45cc-b6a8-83916e298ca2\", \"categories\": [0], \"series\": [{\"data\": [0.9848927875243665]}]}, {\"name\": \"precision_score_micro\", \"run_id\": \"AutoML_e51d9550-c605-45cc-b6a8-83916e298ca2\", \"categories\": [0], \"series\": [{\"data\": [0.980952380952381]}]}, {\"name\": \"f1_score_micro\", \"run_id\": \"AutoML_e51d9550-c605-45cc-b6a8-83916e298ca2\", \"categories\": [0], \"series\": [{\"data\": [0.980952380952381]}]}, {\"name\": \"norm_macro_recall\", \"run_id\": \"AutoML_e51d9550-c605-45cc-b6a8-83916e298ca2\", \"categories\": [0], \"series\": [{\"data\": [0.9773391812865496]}]}, {\"name\": \"recall_score_micro\", \"run_id\": \"AutoML_e51d9550-c605-45cc-b6a8-83916e298ca2\", \"categories\": [0], \"series\": [{\"data\": [0.980952380952381]}]}, {\"name\": \"AUC_micro\", \"run_id\": \"AutoML_e51d9550-c605-45cc-b6a8-83916e298ca2\", \"categories\": [0], \"series\": [{\"data\": [0.998639455782313]}]}, {\"name\": \"matthews_correlation\", \"run_id\": \"AutoML_e51d9550-c605-45cc-b6a8-83916e298ca2\", \"categories\": [0], \"series\": [{\"data\": [0.9707619294995306]}]}], \"run_logs\": \"\\nRun is completed.\", \"graph\": {}, \"widget_settings\": {\"childWidgetDisplay\": \"popup\", \"send_telemetry\": false, \"log_level\": \"INFO\", \"sdk_version\": \"1.19.0\"}, \"loading\": false}"
     },
     "metadata": {},
     "output_type": "display_data"
    },
    {
     "name": "stdout",
     "output_type": "stream",
     "text": [
      "\n",
      "\n",
      "****************************************************************************************************\n",
      "DATA GUARDRAILS: \n",
      "\n",
      "TYPE:         Class balancing detection\n",
      "STATUS:       PASSED\n",
      "DESCRIPTION:  Your inputs were analyzed, and all classes are balanced in your training data.\n",
      "              Learn more about imbalanced data: https://aka.ms/AutomatedMLImbalancedData\n",
      "\n",
      "****************************************************************************************************\n",
      "\n",
      "TYPE:         High cardinality feature detection\n",
      "STATUS:       PASSED\n",
      "DESCRIPTION:  Your inputs were analyzed, and no high cardinality features were detected.\n",
      "              Learn more about high cardinality feature handling: https://aka.ms/AutomatedMLFeaturization\n",
      "\n",
      "****************************************************************************************************\n",
      "\n",
      "****************************************************************************************************\n",
      "ITERATION: The iteration being evaluated.\n",
      "PIPELINE: A summary description of the pipeline being evaluated.\n",
      "DURATION: Time taken for the current iteration.\n",
      "METRIC: The result of computing score on the fitted pipeline.\n",
      "BEST: The best observed score thus far.\n",
      "****************************************************************************************************\n",
      "\n",
      " ITERATION   PIPELINE                                       DURATION      METRIC      BEST\n",
      "         0   MaxAbsScaler LightGBM                          0:00:52       0.9429    0.9429\n",
      "         1   MaxAbsScaler XGBoostClassifier                 0:03:32       0.9333    0.9429\n",
      "         2   MinMaxScaler RandomForest                      0:01:03       0.9238    0.9429\n",
      "         3   MinMaxScaler RandomForest                      0:00:59       0.9429    0.9429\n",
      "         4   MinMaxScaler RandomForest                      0:03:34       0.9333    0.9429\n",
      "         5   SparseNormalizer XGBoostClassifier             0:03:26       0.9619    0.9619\n",
      "         6   MinMaxScaler SVM                               0:00:55       0.9429    0.9619\n",
      "         7   MaxAbsScaler GradientBoosting                  0:00:59       0.9238    0.9619\n",
      "        10   SparseNormalizer XGBoostClassifier             0:00:50       0.9619    0.9619\n",
      "        11   SparseNormalizer XGBoostClassifier             0:01:00       0.9619    0.9619\n",
      "         8   StandardScalerWrapper RandomForest             0:00:54       0.8952    0.9619\n",
      "         9   SparseNormalizer XGBoostClassifier             0:00:52       0.9619    0.9619\n",
      "        12   SparseNormalizer XGBoostClassifier             0:00:53       0.9524    0.9619\n",
      "        13   StandardScalerWrapper LightGBM                 0:00:54       0.9333    0.9619\n",
      "        14   RobustScaler LightGBM                          0:00:55       0.9048    0.9619\n",
      "        15   StandardScalerWrapper ExtremeRandomTrees       0:00:58       0.9333    0.9619\n",
      "        16   StandardScalerWrapper ExtremeRandomTrees       0:00:56       0.9333    0.9619\n",
      "        17   MinMaxScaler LightGBM                          0:01:01       0.9048    0.9619\n",
      "        18   StandardScalerWrapper LogisticRegression       0:01:00       0.9810    0.9810\n",
      "        19   StandardScalerWrapper LightGBM                 0:00:58       0.9238    0.9810\n",
      "        20   StandardScalerWrapper LogisticRegression       0:00:52       0.9429    0.9810\n",
      "        21   MaxAbsScaler LightGBM                          0:00:57       0.9238    0.9810\n",
      "        22   RobustScaler LightGBM                          0:01:12       0.9333    0.9810\n",
      "        23   StandardScalerWrapper XGBoostClassifier        0:00:52       0.9238    0.9810\n",
      "        24   StandardScalerWrapper LightGBM                 0:00:59       0.9524    0.9810\n",
      "        25   MaxAbsScaler LogisticRegression                0:00:58       0.3429    0.9810\n",
      "        26   TruncatedSVDWrapper XGBoostClassifier          0:00:53       0.9429    0.9810\n",
      "        27   StandardScalerWrapper LightGBM                 0:00:54       0.9333    0.9810\n",
      "        28   MinMaxScaler LightGBM                          0:00:51       0.8762    0.9810\n",
      "        29   StandardScalerWrapper XGBoostClassifier        0:00:55       0.9143    0.9810\n",
      "        30   SparseNormalizer LogisticRegression            0:01:06       0.3429    0.9810\n",
      "        31   MinMaxScaler ExtremeRandomTrees                0:00:55       0.9429    0.9810\n",
      "        32   SparseNormalizer XGBoostClassifier             0:00:51       0.9524    0.9810\n",
      "        33                                                  0:00:10          nan    0.9810\n",
      "        34                                                  0:00:17          nan    0.9810\n",
      "        35    VotingEnsemble                                0:01:14       0.9810    0.9810\n"
     ]
    },
    {
     "data": {
      "text/plain": [
       "{'runId': 'AutoML_e51d9550-c605-45cc-b6a8-83916e298ca2',\n",
       " 'target': 'cpu-cluster-mla',\n",
       " 'status': 'Completed',\n",
       " 'startTimeUtc': '2020-12-30T00:41:31.966712Z',\n",
       " 'endTimeUtc': '2020-12-30T01:05:25.625095Z',\n",
       " 'properties': {'num_iterations': '1000',\n",
       "  'training_type': 'TrainFull',\n",
       "  'acquisition_function': 'EI',\n",
       "  'primary_metric': 'accuracy',\n",
       "  'train_split': '0',\n",
       "  'acquisition_parameter': '0',\n",
       "  'num_cross_validation': '3',\n",
       "  'target': 'cpu-cluster-mla',\n",
       "  'AMLSettingsJsonString': '{\"path\":null,\"name\":\"udacity-project\",\"subscription_id\":\"9b72f9e6-56c5-4c16-991b-19c652994860\",\"resource_group\":\"aml-quickstarts-132408\",\"workspace_name\":\"quick-starts-ws-132408\",\"region\":\"southcentralus\",\"compute_target\":\"cpu-cluster-mla\",\"spark_service\":null,\"azure_service\":\"remote\",\"many_models\":false,\"pipeline_fetch_max_batch_size\":1,\"iterations\":1000,\"primary_metric\":\"accuracy\",\"task_type\":\"classification\",\"data_script\":null,\"validation_size\":0.0,\"n_cross_validations\":3,\"y_min\":null,\"y_max\":null,\"num_classes\":null,\"featurization\":\"auto\",\"_ignore_package_version_incompatibilities\":false,\"is_timeseries\":false,\"max_cores_per_iteration\":-1,\"max_concurrent_iterations\":4,\"iteration_timeout_minutes\":5,\"mem_in_mb\":null,\"enforce_time_on_windows\":false,\"experiment_timeout_minutes\":30,\"experiment_exit_score\":null,\"whitelist_models\":null,\"blacklist_algos\":[\"TensorFlowLinearClassifier\",\"TensorFlowDNN\"],\"supported_models\":[\"SVM\",\"BernoulliNaiveBayes\",\"MultinomialNaiveBayes\",\"LightGBM\",\"LogisticRegression\",\"DecisionTree\",\"AveragedPerceptronClassifier\",\"SGD\",\"GradientBoosting\",\"TensorFlowLinearClassifier\",\"XGBoostClassifier\",\"RandomForest\",\"LinearSVM\",\"TensorFlowDNN\",\"ExtremeRandomTrees\",\"KNN\"],\"auto_blacklist\":true,\"blacklist_samples_reached\":false,\"exclude_nan_labels\":true,\"verbosity\":20,\"_debug_log\":\"azureml_automl.log\",\"show_warnings\":false,\"model_explainability\":true,\"service_url\":null,\"sdk_url\":null,\"sdk_packages\":null,\"enable_onnx_compatible_models\":true,\"enable_split_onnx_featurizer_estimator_models\":false,\"vm_type\":\"STANDARD_D2_V2\",\"telemetry_verbosity\":20,\"send_telemetry\":true,\"enable_dnn\":false,\"scenario\":\"SDK-1.13.0\",\"environment_label\":null,\"force_text_dnn\":false,\"enable_feature_sweeping\":false,\"enable_early_stopping\":true,\"early_stopping_n_iters\":10,\"metrics\":null,\"enable_ensembling\":true,\"enable_stack_ensembling\":false,\"ensemble_iterations\":15,\"enable_tf\":false,\"enable_subsampling\":null,\"subsample_seed\":null,\"enable_nimbusml\":false,\"enable_streaming\":false,\"force_streaming\":false,\"track_child_runs\":true,\"allowed_private_models\":[],\"label_column_name\":\"species\",\"weight_column_name\":null,\"cv_split_column_names\":null,\"enable_local_managed\":false,\"_local_managed_run_id\":null,\"cost_mode\":1,\"lag_length\":0,\"metric_operation\":\"maximize\",\"preprocess\":true}',\n",
       "  'DataPrepJsonString': '{\\\\\"training_data\\\\\": \\\\\"{\\\\\\\\\\\\\"blocks\\\\\\\\\\\\\": [{\\\\\\\\\\\\\"id\\\\\\\\\\\\\": \\\\\\\\\\\\\"b394420c-8023-4e9c-b826-129bcb9a3a56\\\\\\\\\\\\\", \\\\\\\\\\\\\"type\\\\\\\\\\\\\": \\\\\\\\\\\\\"Microsoft.DPrep.GetDatastoreFilesBlock\\\\\\\\\\\\\", \\\\\\\\\\\\\"arguments\\\\\\\\\\\\\": {\\\\\\\\\\\\\"datastores\\\\\\\\\\\\\": [{\\\\\\\\\\\\\"datastoreName\\\\\\\\\\\\\": \\\\\\\\\\\\\"workspaceblobstore\\\\\\\\\\\\\", \\\\\\\\\\\\\"path\\\\\\\\\\\\\": \\\\\\\\\\\\\"automlclassifier/train_data.csv\\\\\\\\\\\\\", \\\\\\\\\\\\\"resourceGroup\\\\\\\\\\\\\": \\\\\\\\\\\\\"aml-quickstarts-132408\\\\\\\\\\\\\", \\\\\\\\\\\\\"subscription\\\\\\\\\\\\\": \\\\\\\\\\\\\"9b72f9e6-56c5-4c16-991b-19c652994860\\\\\\\\\\\\\", \\\\\\\\\\\\\"workspaceName\\\\\\\\\\\\\": \\\\\\\\\\\\\"quick-starts-ws-132408\\\\\\\\\\\\\"}]}, \\\\\\\\\\\\\"localData\\\\\\\\\\\\\": {}, \\\\\\\\\\\\\"isEnabled\\\\\\\\\\\\\": true, \\\\\\\\\\\\\"name\\\\\\\\\\\\\": null, \\\\\\\\\\\\\"annotation\\\\\\\\\\\\\": null}, {\\\\\\\\\\\\\"id\\\\\\\\\\\\\": \\\\\\\\\\\\\"45dc80ac-051a-40fa-ad92-c333181df25d\\\\\\\\\\\\\", \\\\\\\\\\\\\"type\\\\\\\\\\\\\": \\\\\\\\\\\\\"Microsoft.DPrep.ParseDelimitedBlock\\\\\\\\\\\\\", \\\\\\\\\\\\\"arguments\\\\\\\\\\\\\": {\\\\\\\\\\\\\"columnHeadersMode\\\\\\\\\\\\\": 3, \\\\\\\\\\\\\"fileEncoding\\\\\\\\\\\\\": 0, \\\\\\\\\\\\\"handleQuotedLineBreaks\\\\\\\\\\\\\": false, \\\\\\\\\\\\\"preview\\\\\\\\\\\\\": false, \\\\\\\\\\\\\"separator\\\\\\\\\\\\\": \\\\\\\\\\\\\",\\\\\\\\\\\\\", \\\\\\\\\\\\\"skipRows\\\\\\\\\\\\\": 0, \\\\\\\\\\\\\"skipRowsMode\\\\\\\\\\\\\": 0}, \\\\\\\\\\\\\"localData\\\\\\\\\\\\\": {}, \\\\\\\\\\\\\"isEnabled\\\\\\\\\\\\\": true, \\\\\\\\\\\\\"name\\\\\\\\\\\\\": null, \\\\\\\\\\\\\"annotation\\\\\\\\\\\\\": null}, {\\\\\\\\\\\\\"id\\\\\\\\\\\\\": \\\\\\\\\\\\\"3fd0301b-6846-4ee1-a39a-e1b4e8225cc0\\\\\\\\\\\\\", \\\\\\\\\\\\\"type\\\\\\\\\\\\\": \\\\\\\\\\\\\"Microsoft.DPrep.DropColumnsBlock\\\\\\\\\\\\\", \\\\\\\\\\\\\"arguments\\\\\\\\\\\\\": {\\\\\\\\\\\\\"columns\\\\\\\\\\\\\": {\\\\\\\\\\\\\"type\\\\\\\\\\\\\": 0, \\\\\\\\\\\\\"details\\\\\\\\\\\\\": {\\\\\\\\\\\\\"selectedColumns\\\\\\\\\\\\\": [\\\\\\\\\\\\\"Path\\\\\\\\\\\\\"]}}}, \\\\\\\\\\\\\"localData\\\\\\\\\\\\\": {}, \\\\\\\\\\\\\"isEnabled\\\\\\\\\\\\\": true, \\\\\\\\\\\\\"name\\\\\\\\\\\\\": null, \\\\\\\\\\\\\"annotation\\\\\\\\\\\\\": null}, {\\\\\\\\\\\\\"id\\\\\\\\\\\\\": \\\\\\\\\\\\\"f86a13de-d1bb-4138-9678-385f0bf05425\\\\\\\\\\\\\", \\\\\\\\\\\\\"type\\\\\\\\\\\\\": \\\\\\\\\\\\\"Microsoft.DPrep.SetColumnTypesBlock\\\\\\\\\\\\\", \\\\\\\\\\\\\"arguments\\\\\\\\\\\\\": {\\\\\\\\\\\\\"columnConversion\\\\\\\\\\\\\": [{\\\\\\\\\\\\\"column\\\\\\\\\\\\\": {\\\\\\\\\\\\\"type\\\\\\\\\\\\\": 2, \\\\\\\\\\\\\"details\\\\\\\\\\\\\": {\\\\\\\\\\\\\"selectedColumn\\\\\\\\\\\\\": \\\\\\\\\\\\\"sepal_length\\\\\\\\\\\\\"}}, \\\\\\\\\\\\\"typeProperty\\\\\\\\\\\\\": 3}, {\\\\\\\\\\\\\"column\\\\\\\\\\\\\": {\\\\\\\\\\\\\"type\\\\\\\\\\\\\": 2, \\\\\\\\\\\\\"details\\\\\\\\\\\\\": {\\\\\\\\\\\\\"selectedColumn\\\\\\\\\\\\\": \\\\\\\\\\\\\"sepal_width\\\\\\\\\\\\\"}}, \\\\\\\\\\\\\"typeProperty\\\\\\\\\\\\\": 3}, {\\\\\\\\\\\\\"column\\\\\\\\\\\\\": {\\\\\\\\\\\\\"type\\\\\\\\\\\\\": 2, \\\\\\\\\\\\\"details\\\\\\\\\\\\\": {\\\\\\\\\\\\\"selectedColumn\\\\\\\\\\\\\": \\\\\\\\\\\\\"petal_length\\\\\\\\\\\\\"}}, \\\\\\\\\\\\\"typeProperty\\\\\\\\\\\\\": 3}, {\\\\\\\\\\\\\"column\\\\\\\\\\\\\": {\\\\\\\\\\\\\"type\\\\\\\\\\\\\": 2, \\\\\\\\\\\\\"details\\\\\\\\\\\\\": {\\\\\\\\\\\\\"selectedColumn\\\\\\\\\\\\\": \\\\\\\\\\\\\"petal_width\\\\\\\\\\\\\"}}, \\\\\\\\\\\\\"typeProperty\\\\\\\\\\\\\": 3}, {\\\\\\\\\\\\\"column\\\\\\\\\\\\\": {\\\\\\\\\\\\\"type\\\\\\\\\\\\\": 2, \\\\\\\\\\\\\"details\\\\\\\\\\\\\": {\\\\\\\\\\\\\"selectedColumn\\\\\\\\\\\\\": \\\\\\\\\\\\\"species\\\\\\\\\\\\\"}}, \\\\\\\\\\\\\"typeProperty\\\\\\\\\\\\\": 0}]}, \\\\\\\\\\\\\"localData\\\\\\\\\\\\\": {}, \\\\\\\\\\\\\"isEnabled\\\\\\\\\\\\\": true, \\\\\\\\\\\\\"name\\\\\\\\\\\\\": null, \\\\\\\\\\\\\"annotation\\\\\\\\\\\\\": null}], \\\\\\\\\\\\\"inspectors\\\\\\\\\\\\\": [], \\\\\\\\\\\\\"meta\\\\\\\\\\\\\": {\\\\\\\\\\\\\"savedDatasetId\\\\\\\\\\\\\": \\\\\\\\\\\\\"1e600a84-7bd9-4198-8cdc-39d1d79716f7\\\\\\\\\\\\\", \\\\\\\\\\\\\"datasetType\\\\\\\\\\\\\": \\\\\\\\\\\\\"tabular\\\\\\\\\\\\\", \\\\\\\\\\\\\"subscriptionId\\\\\\\\\\\\\": \\\\\\\\\\\\\"9b72f9e6-56c5-4c16-991b-19c652994860\\\\\\\\\\\\\", \\\\\\\\\\\\\"workspaceId\\\\\\\\\\\\\": \\\\\\\\\\\\\"3153828d-9717-4a26-bed8-f8a311768e93\\\\\\\\\\\\\", \\\\\\\\\\\\\"workspaceLocation\\\\\\\\\\\\\": \\\\\\\\\\\\\"southcentralus\\\\\\\\\\\\\"}}\\\\\", \\\\\"activities\\\\\": 0}',\n",
       "  'EnableSubsampling': None,\n",
       "  'runTemplate': 'AutoML',\n",
       "  'azureml.runsource': 'automl',\n",
       "  'display_task_type': 'classification',\n",
       "  'dependencies_versions': '{\"azureml-widgets\": \"1.19.0\", \"azureml-train\": \"1.19.0\", \"azureml-train-restclients-hyperdrive\": \"1.19.0\", \"azureml-train-core\": \"1.19.0\", \"azureml-train-automl\": \"1.19.0\", \"azureml-train-automl-runtime\": \"1.19.0\", \"azureml-train-automl-client\": \"1.19.0\", \"azureml-tensorboard\": \"1.19.0\", \"azureml-telemetry\": \"1.19.0\", \"azureml-sdk\": \"1.19.0\", \"azureml-samples\": \"0+unknown\", \"azureml-pipeline\": \"1.19.0\", \"azureml-pipeline-steps\": \"1.19.0\", \"azureml-pipeline-core\": \"1.19.0\", \"azureml-opendatasets\": \"1.19.0\", \"azureml-model-management-sdk\": \"1.0.1b6.post1\", \"azureml-mlflow\": \"1.19.0\", \"azureml-interpret\": \"1.19.0\", \"azureml-explain-model\": \"1.19.0\", \"azureml-defaults\": \"1.19.0\", \"azureml-dataset-runtime\": \"1.19.0\", \"azureml-dataprep\": \"2.6.1\", \"azureml-dataprep-rslex\": \"1.4.0\", \"azureml-dataprep-native\": \"26.0.0\", \"azureml-datadrift\": \"1.19.0\", \"azureml-core\": \"1.19.0\", \"azureml-contrib-services\": \"1.19.0\", \"azureml-contrib-server\": \"1.19.0\", \"azureml-contrib-reinforcementlearning\": \"1.19.0\", \"azureml-contrib-pipeline-steps\": \"1.19.0\", \"azureml-contrib-notebook\": \"1.19.0\", \"azureml-contrib-interpret\": \"1.19.0\", \"azureml-contrib-gbdt\": \"1.19.0\", \"azureml-contrib-fairness\": \"1.19.0\", \"azureml-contrib-dataset\": \"1.19.0\", \"azureml-cli-common\": \"1.19.0\", \"azureml-automl-runtime\": \"1.19.0\", \"azureml-automl-core\": \"1.19.0\", \"azureml-accel-models\": \"1.19.0\"}',\n",
       "  '_aml_system_scenario_identification': 'Remote.Parent',\n",
       "  'ClientType': 'SDK',\n",
       "  'environment_cpu_name': 'AzureML-AutoML',\n",
       "  'environment_cpu_label': 'prod',\n",
       "  'environment_gpu_name': 'AzureML-AutoML-GPU',\n",
       "  'environment_gpu_label': 'prod',\n",
       "  'root_attribution': 'automl',\n",
       "  'attribution': 'AutoML',\n",
       "  'Orchestrator': 'AutoML',\n",
       "  'CancelUri': 'https://southcentralus.experiments.azureml.net/jasmine/v1.0/subscriptions/9b72f9e6-56c5-4c16-991b-19c652994860/resourceGroups/aml-quickstarts-132408/providers/Microsoft.MachineLearningServices/workspaces/quick-starts-ws-132408/experimentids/83ff8ca7-6256-4d8e-829d-75831c2a2d9a/cancel/AutoML_e51d9550-c605-45cc-b6a8-83916e298ca2',\n",
       "  'ClientSdkVersion': '1.19.0',\n",
       "  'snapshotId': '00000000-0000-0000-0000-000000000000',\n",
       "  'SetupRunId': 'AutoML_e51d9550-c605-45cc-b6a8-83916e298ca2_setup',\n",
       "  'SetupRunContainerId': 'dcid.AutoML_e51d9550-c605-45cc-b6a8-83916e298ca2_setup',\n",
       "  'FeaturizationRunJsonPath': 'featurizer_container.json',\n",
       "  'FeaturizationRunId': 'AutoML_e51d9550-c605-45cc-b6a8-83916e298ca2_featurize',\n",
       "  'ProblemInfoJsonString': '{\"dataset_num_categorical\": 0, \"is_sparse\": false, \"subsampling\": false, \"dataset_classes\": 3, \"dataset_features\": 4, \"dataset_samples\": 105, \"single_frequency_class_detected\": false}',\n",
       "  'ModelExplainRunId': 'AutoML_e51d9550-c605-45cc-b6a8-83916e298ca2_ModelExplain'},\n",
       " 'inputDatasets': [{'dataset': {'id': '1e600a84-7bd9-4198-8cdc-39d1d79716f7'}, 'consumptionDetails': {'type': 'RunInput', 'inputName': 'training_data', 'mechanism': 'Direct'}}],\n",
       " 'outputDatasets': [],\n",
       " 'logFiles': {}}"
      ]
     },
     "execution_count": 14,
     "metadata": {},
     "output_type": "execute_result"
    }
   ],
   "source": [
    "# show run details\n",
    "from azureml.widgets import RunDetails\n",
    "RunDetails(automl_run).show()\n",
    "\n",
    "# wait for completion\n",
    "automl_run.wait_for_completion(show_output=True)"
   ]
  },
  {
   "cell_type": "code",
   "execution_count": 15,
   "metadata": {
    "scrolled": true
   },
   "outputs": [
    {
     "name": "stdout",
     "output_type": "stream",
     "text": [
      "Pipeline(memory=None,\n",
      "         steps=[('datatransformer',\n",
      "                 DataTransformer(enable_dnn=None, enable_feature_sweeping=None,\n",
      "                                 feature_sweeping_config=None,\n",
      "                                 feature_sweeping_timeout=None,\n",
      "                                 featurization_config=None, force_text_dnn=None,\n",
      "                                 is_cross_validation=None,\n",
      "                                 is_onnx_compatible=None, logger=None,\n",
      "                                 observer=None, task=None, working_dir=None)),\n",
      "                ('StandardScalerWrapper',\n",
      "                 <azureml...pers.StandardScalerWrapper object at 0x7fe38bae3d30>),\n",
      "                ('LogisticRegression',\n",
      "                 LogisticRegression(C=11.513953993264458,\n",
      "                                    class_weight='balanced', dual=False,\n",
      "                                    fit_intercept=True, intercept_scaling=1,\n",
      "                                    l1_ratio=None, max_iter=100,\n",
      "                                    multi_class='multinomial', n_jobs=-1,\n",
      "                                    penalty='l1', random_state=None,\n",
      "                                    solver='saga', tol=0.0001, verbose=0,\n",
      "                                    warm_start=False))],\n",
      "         verbose=False)\n",
      "Y_transformer(['LabelEncoder', LabelEncoder()])\n"
     ]
    }
   ],
   "source": [
    "best_automl, best_fit_model = automl_run.get_output()\n",
    "print(best_fit_model)"
   ]
  },
  {
   "cell_type": "code",
   "execution_count": 16,
   "metadata": {},
   "outputs": [
    {
     "name": "stdout",
     "output_type": "stream",
     "text": [
      "Run(Experiment: udacity-project,\n",
      "Id: AutoML_e51d9550-c605-45cc-b6a8-83916e298ca2_18,\n",
      "Type: azureml.scriptrun,\n",
      "Status: Completed)\n"
     ]
    }
   ],
   "source": [
    "print(best_automl)"
   ]
  },
  {
   "cell_type": "code",
   "execution_count": 17,
   "metadata": {},
   "outputs": [
    {
     "data": {
      "text/plain": [
       "['best_fit_automl_model.pkl']"
      ]
     },
     "execution_count": 17,
     "metadata": {},
     "output_type": "execute_result"
    }
   ],
   "source": [
    "#TODO: Save the best model\n",
    "\n",
    "import joblib\n",
    "joblib.dump(best_fit_model, 'best_fit_automl_model.pkl')"
   ]
  },
  {
   "cell_type": "code",
   "execution_count": 18,
   "metadata": {},
   "outputs": [
    {
     "name": "stdout",
     "output_type": "stream",
     "text": [
      "Registering model best_fit_automl_model\n",
      "best_fit_automl_model\tbest_fit_automl_model:1\t1\n"
     ]
    }
   ],
   "source": [
    "# Register the Model\n",
    "from azureml.core.model import Model\n",
    "model = Model.register(workspace = ws, model_name = 'best_fit_automl_model', model_path = 'best_fit_automl_model.pkl')\n",
    "print(model.name, model.id, model.version, sep='\\t')"
   ]
  },
  {
   "cell_type": "code",
   "execution_count": 19,
   "metadata": {},
   "outputs": [
    {
     "name": "stdout",
     "output_type": "stream",
     "text": [
      "Tips: You can try get_logs(): https://aka.ms/debugimage#dockerlog or local deployment: https://aka.ms/debugimage#debug-locally to debug if deployment takes longer than 10 minutes.\n",
      "Running............................................\n",
      "Succeeded\n",
      "ACI service creation operation finished, operation \"Succeeded\"\n"
     ]
    }
   ],
   "source": [
    "from azureml.core.model import InferenceConfig\n",
    "from azureml.core.webservice import AciWebservice\n",
    "from azureml.core import Environment\n",
    "from azureml.core.model import Model\n",
    "\n",
    "service_name = 'my-ctg-service'\n",
    "env = Environment.get(workspace=ws, name=\"AzureML-Tutorial\")  \n",
    "env.python.conda_dependencies.add_pip_package(\"scikit-learn\")\n",
    "\n",
    "inference_config = InferenceConfig(entry_script='score3.py', environment=env)\n",
    "aci_config = AciWebservice.deploy_configuration(cpu_cores=1, memory_gb=4, enable_app_insights=True)\n",
    "\n",
    "model = Model(ws,name='best_fit_automl_model')\n",
    "service = Model.deploy(workspace=ws,\n",
    "                       name=service_name,\n",
    "                       models=[model],\n",
    "                       inference_config=inference_config,\n",
    "                       deployment_config=aci_config,\n",
    "                       overwrite=True)\n",
    "\n",
    "service.wait_for_deployment(show_output=True)"
   ]
  },
  {
   "cell_type": "code",
   "execution_count": 20,
   "metadata": {},
   "outputs": [
    {
     "name": "stdout",
     "output_type": "stream",
     "text": [
      "Healthy\n",
      "http://46c9cc8c-d4e0-4517-9ef2-56ca17646bd0.southcentralus.azurecontainer.io/score\n",
      "http://46c9cc8c-d4e0-4517-9ef2-56ca17646bd0.southcentralus.azurecontainer.io/swagger.json\n"
     ]
    }
   ],
   "source": [
    "print(service.state)\n",
    "print(service.scoring_uri)\n",
    "print(service.swagger_uri)"
   ]
  },
  {
   "cell_type": "code",
   "execution_count": 21,
   "metadata": {},
   "outputs": [
    {
     "name": "stdout",
     "output_type": "stream",
     "text": [
      "Response Code :  200\n",
      "Predicted Value :  [\"Iris-virginica\", \"Iris-setosa\"]\n"
     ]
    }
   ],
   "source": [
    "import requests\n",
    "import json\n",
    "\n",
    "# URL for the web service\n",
    "scoring_uri = 'http://46c9cc8c-d4e0-4517-9ef2-56ca17646bd0.southcentralus.azurecontainer.io/score'\n",
    "\n",
    "# Set the content type\n",
    "headers = {'Content-Type': 'application/json'}\n",
    "\n",
    "data = {\"data\":\n",
    "        [\n",
    "          {\n",
    "            \"sepal_length\": 6.0,\n",
    "            \"sepal_width\": 2.0,\n",
    "            \"petal_length\": 5.6,\n",
    "            \"petal_width\": 3.2,\n",
    "           \n",
    "          },\n",
    "          {\n",
    "            \"sepal_length\": 2.0,\n",
    "            \"sepal_width\": 3.0,\n",
    "            \"petal_length\": 1.6,\n",
    "            \"petal_width\": 1.2,\n",
    "          }\n",
    "      ]\n",
    "    }\n",
    "# Convert to JSON string\n",
    "input_data = json.dumps(data)\n",
    "\n",
    "# Make the request and display the response\n",
    "resp = requests.post(scoring_uri, input_data, headers=headers)\n",
    "\n",
    "print(\"Response Code : \", resp.status_code)\n",
    "print(\"Predicted Value : \",resp.text)"
   ]
  },
  {
   "cell_type": "code",
   "execution_count": 22,
   "metadata": {},
   "outputs": [
    {
     "name": "stdout",
     "output_type": "stream",
     "text": [
      "2020-12-30T01:13:52,468180395+00:00 - gunicorn/run \n",
      "2020-12-30T01:13:52,468444799+00:00 - rsyslog/run \n",
      "2020-12-30T01:13:52,468442799+00:00 - iot-server/run \n",
      "2020-12-30T01:13:52,522275508+00:00 - nginx/run \n",
      "/usr/sbin/nginx: /azureml-envs/azureml_a1736710baabf05d37337a101fa8d6d1/lib/libcrypto.so.1.0.0: no version information available (required by /usr/sbin/nginx)\n",
      "/usr/sbin/nginx: /azureml-envs/azureml_a1736710baabf05d37337a101fa8d6d1/lib/libcrypto.so.1.0.0: no version information available (required by /usr/sbin/nginx)\n",
      "/usr/sbin/nginx: /azureml-envs/azureml_a1736710baabf05d37337a101fa8d6d1/lib/libssl.so.1.0.0: no version information available (required by /usr/sbin/nginx)\n",
      "/usr/sbin/nginx: /azureml-envs/azureml_a1736710baabf05d37337a101fa8d6d1/lib/libssl.so.1.0.0: no version information available (required by /usr/sbin/nginx)\n",
      "/usr/sbin/nginx: /azureml-envs/azureml_a1736710baabf05d37337a101fa8d6d1/lib/libssl.so.1.0.0: no version information available (required by /usr/sbin/nginx)\n",
      "EdgeHubConnectionString and IOTEDGE_IOTHUBHOSTNAME are not set. Exiting...\n",
      "2020-12-30T01:13:52,669893402+00:00 - iot-server/finish 1 0\n",
      "2020-12-30T01:13:52,671486429+00:00 - Exit code 1 is normal. Not restarting iot-server.\n",
      "rsyslogd: /azureml-envs/azureml_a1736710baabf05d37337a101fa8d6d1/lib/libuuid.so.1: no version information available (required by rsyslogd)\n",
      "Starting gunicorn 19.9.0\n",
      "Listening at: http://127.0.0.1:31311 (14)\n",
      "Using worker: sync\n",
      "worker timeout is set to 300\n",
      "Booting worker with pid: 43\n",
      "SPARK_HOME not set. Skipping PySpark Initialization.\n",
      "Failure while loading azureml_run_type_providers. Failed to load entrypoint automl = azureml.train.automl.run:AutoMLRun._from_run_dto with exception (pyarrow 2.0.0 (/azureml-envs/azureml_a1736710baabf05d37337a101fa8d6d1/lib/python3.6/site-packages), Requirement.parse('pyarrow<2.0.0,>=0.17.0'), {'azureml-dataset-runtime'}).\n",
      "Initializing logger\n",
      "2020-12-30 01:13:56,461 | root | INFO | Starting up app insights client\n",
      "Starting up app insights client\n",
      "2020-12-30 01:13:56,461 | root | INFO | Starting up request id generator\n",
      "Starting up request id generator\n",
      "2020-12-30 01:13:56,461 | root | INFO | Starting up app insight hooks\n",
      "Starting up app insight hooks\n",
      "2020-12-30 01:13:56,461 | root | INFO | Invoking user's init function\n",
      "Invoking user's init function\n",
      "2020-12-30 01:13:57,276 | root | INFO | Users's init has completed successfully\n",
      "Users's init has completed successfully\n",
      "/azureml-envs/azureml_a1736710baabf05d37337a101fa8d6d1/lib/python3.6/site-packages/sklearn/externals/joblib/__init__.py:15: FutureWarning: sklearn.externals.joblib is deprecated in 0.21 and will be removed in 0.23. Please import this functionality directly from joblib, which can be installed with: pip install joblib. If this warning is raised when loading pickled models, you may need to re-serialize those models with scikit-learn 0.21+.\n",
      "  warnings.warn(msg, category=FutureWarning)\n",
      "2020-12-30 01:13:57,278 | root | INFO | Skipping middleware: dbg_model_info as it's not enabled.\n",
      "Skipping middleware: dbg_model_info as it's not enabled.\n",
      "2020-12-30 01:13:57,279 | root | INFO | Skipping middleware: dbg_resource_usage as it's not enabled.\n",
      "Skipping middleware: dbg_resource_usage as it's not enabled.\n",
      "2020-12-30 01:13:57,279 | root | INFO | Scoring timeout is found from os.environ: 60000 ms\n",
      "Scoring timeout is found from os.environ: 60000 ms\n",
      "2020-12-30 01:14:00,216 | root | INFO | Swagger file not present\n",
      "Swagger file not present\n",
      "2020-12-30 01:14:00,217 | root | INFO | 404\n",
      "404\n",
      "127.0.0.1 - - [30/Dec/2020:01:14:00 +0000] \"GET /swagger.json HTTP/1.0\" 404 19 \"-\" \"Go-http-client/1.1\"\n",
      "2020-12-30 01:14:01,629 | root | INFO | Swagger file not present\n",
      "Swagger file not present\n",
      "2020-12-30 01:14:01,630 | root | INFO | 404\n",
      "404\n",
      "127.0.0.1 - - [30/Dec/2020:01:14:01 +0000] \"GET /swagger.json HTTP/1.0\" 404 19 \"-\" \"Go-http-client/1.1\"\n",
      "2020-12-30 01:14:44,849 | root | INFO | Validation Request Content-Type\n",
      "Validation Request Content-Type\n",
      "2020-12-30 01:14:44,850 | root | INFO | \tHost: localhost:5001\n",
      "\tHost: localhost:5001\n",
      "2020-12-30 01:14:44,850 | root | INFO | \tX-Real-Ip: 127.0.0.1\n",
      "\tX-Real-Ip: 127.0.0.1\n",
      "2020-12-30 01:14:44,850 | root | INFO | \tX-Forwarded-For: 127.0.0.1\n",
      "\tX-Forwarded-For: 127.0.0.1\n",
      "2020-12-30 01:14:44,850 | root | INFO | \tX-Forwarded-Proto: http\n",
      "\tX-Forwarded-Proto: http\n",
      "2020-12-30 01:14:44,850 | root | INFO | \tConnection: close\n",
      "\tConnection: close\n",
      "2020-12-30 01:14:44,850 | root | INFO | \tContent-Length: 178\n",
      "\tContent-Length: 178\n",
      "2020-12-30 01:14:44,850 | root | INFO | \tUser-Agent: python-requests/2.25.0\n",
      "\tUser-Agent: python-requests/2.25.0\n",
      "2020-12-30 01:14:44,851 | root | INFO | \tAccept: */*\n",
      "\tAccept: */*\n",
      "2020-12-30 01:14:44,851 | root | INFO | \tAccept-Encoding: gzip, deflate\n",
      "\tAccept-Encoding: gzip, deflate\n",
      "2020-12-30 01:14:44,851 | root | INFO | \tContent-Type: application/json\n",
      "\tContent-Type: application/json\n",
      "2020-12-30 01:14:44,851 | root | INFO | \tX-Ms-Request-Id: 5c5cfb40-f806-4378-bfcf-33366a4f9095\n",
      "\tX-Ms-Request-Id: 5c5cfb40-f806-4378-bfcf-33366a4f9095\n",
      "2020-12-30 01:14:44,851 | root | INFO | Scoring Timer is set to 60.0 seconds\n",
      "Scoring Timer is set to 60.0 seconds\n",
      "[TRANSFORM] ['sepal_length']: 0.001138 secs\n",
      "[TRANSFORM] ['sepal_width']: 0.000721 secs\n",
      "[TRANSFORM] ['petal_length']: 0.000731 secs\n",
      "[TRANSFORM] ['petal_width']: 0.000695 secs\n",
      "2020-12-30 01:14:44,861 | root | INFO | 200\n",
      "200\n",
      "127.0.0.1 - - [30/Dec/2020:01:14:44 +0000] \"POST /score HTTP/1.0\" 200 33 \"-\" \"python-requests/2.25.0\"\n",
      "\n"
     ]
    }
   ],
   "source": [
    "# Web Service Logs\n",
    "print(service.get_logs())"
   ]
  },
  {
   "cell_type": "code",
   "execution_count": 24,
   "metadata": {},
   "outputs": [
    {
     "name": "stdout",
     "output_type": "stream",
     "text": [
      "No service with name my-ctg-service found to delete.\n"
     ]
    }
   ],
   "source": [
    "# Delete the service\n",
    "service.delete()"
   ]
  },
  {
   "cell_type": "code",
   "execution_count": null,
   "metadata": {},
   "outputs": [],
   "source": []
  }
 ],
 "metadata": {
  "kernelspec": {
   "display_name": "Python 3.6 - AzureML",
   "language": "python",
   "name": "python3-azureml"
  },
  "language_info": {
   "codemirror_mode": {
    "name": "ipython",
    "version": 3
   },
   "file_extension": ".py",
   "mimetype": "text/x-python",
   "name": "python",
   "nbconvert_exporter": "python",
   "pygments_lexer": "ipython3",
   "version": "3.6.9"
  }
 },
 "nbformat": 4,
 "nbformat_minor": 4
}
