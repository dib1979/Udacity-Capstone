{
 "cells": [
  {
   "cell_type": "code",
   "execution_count": 2,
   "metadata": {},
   "outputs": [
    {
     "name": "stdout",
     "output_type": "stream",
     "text": [
      "SDK version: 1.19.0\n"
     ]
    }
   ],
   "source": [
    "# IMPORT ALL REQUIRED LIBRARIES\n",
    "import logging\n",
    "import os\n",
    "import csv\n",
    "\n",
    "from matplotlib import pyplot as plt\n",
    "import numpy as np\n",
    "import pandas as pd\n",
    "\n",
    "import pkg_resources\n",
    "\n",
    "import azureml.core\n",
    "from azureml.core.experiment import Experiment\n",
    "from azureml.core.workspace import Workspace\n",
    "from azureml.train.automl import AutoMLConfig\n",
    "\n",
    "\n",
    "from azureml.pipeline.steps import AutoMLStep\n",
    "\n",
    "# Check core SDK version number\n",
    "print(\"SDK version:\", azureml.core.VERSION)"
   ]
  },
  {
   "cell_type": "code",
   "execution_count": 3,
   "metadata": {},
   "outputs": [
    {
     "name": "stdout",
     "output_type": "stream",
     "text": [
      "Workspace name: quick-starts-ws-132062\n",
      "Azure region: southcentralus\n",
      "Subscription id: f5091c60-1c3c-430f-8d81-d802f6bf2414\n",
      "Resource group: aml-quickstarts-132062\n"
     ]
    }
   ],
   "source": [
    "from azureml.core import Workspace, Experiment\n",
    "ws = Workspace.from_config()\n",
    "print('Workspace name: ' + ws.name, \n",
    "      'Azure region: ' + ws.location, \n",
    "      'Subscription id: ' + ws.subscription_id, \n",
    "      'Resource group: ' + ws.resource_group, sep = '\\n')\n",
    "experiment_name = 'udacity-capstone-project'\n",
    "exp=Experiment(ws, experiment_name)\n",
    "project_folder = './automlproject'\n",
    "run = exp.start_logging()"
   ]
  },
  {
   "cell_type": "code",
   "execution_count": 4,
   "metadata": {},
   "outputs": [
    {
     "name": "stdout",
     "output_type": "stream",
     "text": [
      "Creating\n",
      "Succeeded\n",
      "AmlCompute wait for completion finished\n",
      "\n",
      "Minimum number of nodes requested have been provisioned\n"
     ]
    }
   ],
   "source": [
    "from azureml.core.compute import ComputeTarget, AmlCompute\n",
    "\n",
    "# TODO: Create compute cluster\n",
    "# Use vm_size = \"Standard_D2_V2\" in your provisioning configuration.\n",
    "# max_nodes should be no greater than 4.\n",
    "\n",
    "# Choose a name for your CPU cluster\n",
    "from azureml.core.compute_target import ComputeTargetException\n",
    "cpu_cluster_name = \"cpu-cluster-mla\"\n",
    "\n",
    "   # Verify that cluster does not exist already\n",
    "try:\n",
    "    cpu_cluster = ComputeTarget(workspace=ws, name=cpu_cluster_name)\n",
    "    print('Found existing cluster, use it.')\n",
    "except ComputeTargetException:\n",
    "    compute_config = AmlCompute.provisioning_configuration(vm_size='STANDARD_D2_V2',\n",
    "                                                              max_nodes=4)\n",
    "    cpu_cluster = ComputeTarget.create(ws, cpu_cluster_name, compute_config)\n",
    "\n",
    "    cpu_cluster.wait_for_completion(show_output=True)"
   ]
  },
  {
   "cell_type": "code",
   "execution_count": 5,
   "metadata": {},
   "outputs": [
    {
     "data": {
      "text/html": [
       "<div>\n",
       "<style scoped>\n",
       "    .dataframe tbody tr th:only-of-type {\n",
       "        vertical-align: middle;\n",
       "    }\n",
       "\n",
       "    .dataframe tbody tr th {\n",
       "        vertical-align: top;\n",
       "    }\n",
       "\n",
       "    .dataframe thead th {\n",
       "        text-align: right;\n",
       "    }\n",
       "</style>\n",
       "<table border=\"1\" class=\"dataframe\">\n",
       "  <thead>\n",
       "    <tr style=\"text-align: right;\">\n",
       "      <th></th>\n",
       "      <th>sepal_length</th>\n",
       "      <th>sepal_width</th>\n",
       "      <th>petal_length</th>\n",
       "      <th>petal_width</th>\n",
       "      <th>species</th>\n",
       "    </tr>\n",
       "  </thead>\n",
       "  <tbody>\n",
       "    <tr>\n",
       "      <th>0</th>\n",
       "      <td>5.1</td>\n",
       "      <td>3.5</td>\n",
       "      <td>1.4</td>\n",
       "      <td>0.2</td>\n",
       "      <td>Iris-setosa</td>\n",
       "    </tr>\n",
       "    <tr>\n",
       "      <th>1</th>\n",
       "      <td>4.9</td>\n",
       "      <td>3.0</td>\n",
       "      <td>1.4</td>\n",
       "      <td>0.2</td>\n",
       "      <td>Iris-setosa</td>\n",
       "    </tr>\n",
       "    <tr>\n",
       "      <th>2</th>\n",
       "      <td>4.7</td>\n",
       "      <td>3.2</td>\n",
       "      <td>1.3</td>\n",
       "      <td>0.2</td>\n",
       "      <td>Iris-setosa</td>\n",
       "    </tr>\n",
       "    <tr>\n",
       "      <th>3</th>\n",
       "      <td>4.6</td>\n",
       "      <td>3.1</td>\n",
       "      <td>1.5</td>\n",
       "      <td>0.2</td>\n",
       "      <td>Iris-setosa</td>\n",
       "    </tr>\n",
       "    <tr>\n",
       "      <th>4</th>\n",
       "      <td>5.0</td>\n",
       "      <td>3.6</td>\n",
       "      <td>1.4</td>\n",
       "      <td>0.2</td>\n",
       "      <td>Iris-setosa</td>\n",
       "    </tr>\n",
       "  </tbody>\n",
       "</table>\n",
       "</div>"
      ],
      "text/plain": [
       "   sepal_length  sepal_width  petal_length  petal_width      species\n",
       "0           5.1          3.5           1.4          0.2  Iris-setosa\n",
       "1           4.9          3.0           1.4          0.2  Iris-setosa\n",
       "2           4.7          3.2           1.3          0.2  Iris-setosa\n",
       "3           4.6          3.1           1.5          0.2  Iris-setosa\n",
       "4           5.0          3.6           1.4          0.2  Iris-setosa"
      ]
     },
     "execution_count": 5,
     "metadata": {},
     "output_type": "execute_result"
    }
   ],
   "source": [
    "from azureml.data.dataset_factory import TabularDatasetFactory\n",
    "from azureml.core.dataset import Dataset\n",
    "from azureml.data.datapath import DataPath\n",
    "\n",
    "url_path = 'https://raw.githubusercontent.com/dib1979/Temporary/main/IRIS.csv'\n",
    "dataset = TabularDatasetFactory.from_delimited_files(path=url_path)\n",
    "\n",
    "dataset = dataset.register(workspace=ws,\n",
    "                    name='iris_data',\n",
    "                    description='Udacity Project')\n",
    "dataset.to_pandas_dataframe().head()"
   ]
  },
  {
   "cell_type": "code",
   "execution_count": 8,
   "metadata": {},
   "outputs": [
    {
     "data": {
      "text/html": [
       "<div>\n",
       "<style scoped>\n",
       "    .dataframe tbody tr th:only-of-type {\n",
       "        vertical-align: middle;\n",
       "    }\n",
       "\n",
       "    .dataframe tbody tr th {\n",
       "        vertical-align: top;\n",
       "    }\n",
       "\n",
       "    .dataframe thead th {\n",
       "        text-align: right;\n",
       "    }\n",
       "</style>\n",
       "<table border=\"1\" class=\"dataframe\">\n",
       "  <thead>\n",
       "    <tr style=\"text-align: right;\">\n",
       "      <th></th>\n",
       "      <th>sepal_length</th>\n",
       "      <th>sepal_width</th>\n",
       "      <th>petal_length</th>\n",
       "      <th>petal_width</th>\n",
       "    </tr>\n",
       "  </thead>\n",
       "  <tbody>\n",
       "    <tr>\n",
       "      <th>count</th>\n",
       "      <td>150.000000</td>\n",
       "      <td>150.000000</td>\n",
       "      <td>150.000000</td>\n",
       "      <td>150.000000</td>\n",
       "    </tr>\n",
       "    <tr>\n",
       "      <th>mean</th>\n",
       "      <td>5.843333</td>\n",
       "      <td>3.054000</td>\n",
       "      <td>3.758667</td>\n",
       "      <td>1.198667</td>\n",
       "    </tr>\n",
       "    <tr>\n",
       "      <th>std</th>\n",
       "      <td>0.828066</td>\n",
       "      <td>0.433594</td>\n",
       "      <td>1.764420</td>\n",
       "      <td>0.763161</td>\n",
       "    </tr>\n",
       "    <tr>\n",
       "      <th>min</th>\n",
       "      <td>4.300000</td>\n",
       "      <td>2.000000</td>\n",
       "      <td>1.000000</td>\n",
       "      <td>0.100000</td>\n",
       "    </tr>\n",
       "    <tr>\n",
       "      <th>25%</th>\n",
       "      <td>5.100000</td>\n",
       "      <td>2.800000</td>\n",
       "      <td>1.600000</td>\n",
       "      <td>0.300000</td>\n",
       "    </tr>\n",
       "    <tr>\n",
       "      <th>50%</th>\n",
       "      <td>5.800000</td>\n",
       "      <td>3.000000</td>\n",
       "      <td>4.350000</td>\n",
       "      <td>1.300000</td>\n",
       "    </tr>\n",
       "    <tr>\n",
       "      <th>75%</th>\n",
       "      <td>6.400000</td>\n",
       "      <td>3.300000</td>\n",
       "      <td>5.100000</td>\n",
       "      <td>1.800000</td>\n",
       "    </tr>\n",
       "    <tr>\n",
       "      <th>max</th>\n",
       "      <td>7.900000</td>\n",
       "      <td>4.400000</td>\n",
       "      <td>6.900000</td>\n",
       "      <td>2.500000</td>\n",
       "    </tr>\n",
       "  </tbody>\n",
       "</table>\n",
       "</div>"
      ],
      "text/plain": [
       "       sepal_length  sepal_width  petal_length  petal_width\n",
       "count    150.000000   150.000000    150.000000   150.000000\n",
       "mean       5.843333     3.054000      3.758667     1.198667\n",
       "std        0.828066     0.433594      1.764420     0.763161\n",
       "min        4.300000     2.000000      1.000000     0.100000\n",
       "25%        5.100000     2.800000      1.600000     0.300000\n",
       "50%        5.800000     3.000000      4.350000     1.300000\n",
       "75%        6.400000     3.300000      5.100000     1.800000\n",
       "max        7.900000     4.400000      6.900000     2.500000"
      ]
     },
     "execution_count": 8,
     "metadata": {},
     "output_type": "execute_result"
    }
   ],
   "source": [
    "df = dataset.to_pandas_dataframe()\n",
    "df.describe()"
   ]
  },
  {
   "cell_type": "code",
   "execution_count": 9,
   "metadata": {},
   "outputs": [
    {
     "data": {
      "text/plain": [
       "Iris-versicolor    50\n",
       "Iris-setosa        50\n",
       "Iris-virginica     50\n",
       "Name: species, dtype: int64"
      ]
     },
     "execution_count": 9,
     "metadata": {},
     "output_type": "execute_result"
    }
   ],
   "source": [
    "df['species'].value_counts()"
   ]
  },
  {
   "cell_type": "code",
   "execution_count": 10,
   "metadata": {},
   "outputs": [],
   "source": [
    "X= df.drop(['species'], axis=1)"
   ]
  },
  {
   "cell_type": "code",
   "execution_count": 11,
   "metadata": {},
   "outputs": [],
   "source": [
    "y = df['species']\n"
   ]
  },
  {
   "cell_type": "code",
   "execution_count": 12,
   "metadata": {},
   "outputs": [],
   "source": [
    "from sklearn.model_selection import train_test_split\n",
    "import pandas as pd\n",
    "\n",
    "(X_train, X_test, y_train, y_test) = train_test_split(X, y, test_size= 0.3, random_state = 0)\n",
    "label = 'species'"
   ]
  },
  {
   "cell_type": "code",
   "execution_count": 13,
   "metadata": {},
   "outputs": [
    {
     "data": {
      "text/html": [
       "<div>\n",
       "<style scoped>\n",
       "    .dataframe tbody tr th:only-of-type {\n",
       "        vertical-align: middle;\n",
       "    }\n",
       "\n",
       "    .dataframe tbody tr th {\n",
       "        vertical-align: top;\n",
       "    }\n",
       "\n",
       "    .dataframe thead th {\n",
       "        text-align: right;\n",
       "    }\n",
       "</style>\n",
       "<table border=\"1\" class=\"dataframe\">\n",
       "  <thead>\n",
       "    <tr style=\"text-align: right;\">\n",
       "      <th></th>\n",
       "      <th>sepal_length</th>\n",
       "      <th>sepal_width</th>\n",
       "      <th>petal_length</th>\n",
       "      <th>petal_width</th>\n",
       "      <th>species</th>\n",
       "    </tr>\n",
       "  </thead>\n",
       "  <tbody>\n",
       "    <tr>\n",
       "      <th>60</th>\n",
       "      <td>5.0</td>\n",
       "      <td>2.0</td>\n",
       "      <td>3.5</td>\n",
       "      <td>1.0</td>\n",
       "      <td>Iris-versicolor</td>\n",
       "    </tr>\n",
       "    <tr>\n",
       "      <th>116</th>\n",
       "      <td>6.5</td>\n",
       "      <td>3.0</td>\n",
       "      <td>5.5</td>\n",
       "      <td>1.8</td>\n",
       "      <td>Iris-virginica</td>\n",
       "    </tr>\n",
       "    <tr>\n",
       "      <th>144</th>\n",
       "      <td>6.7</td>\n",
       "      <td>3.3</td>\n",
       "      <td>5.7</td>\n",
       "      <td>2.5</td>\n",
       "      <td>Iris-virginica</td>\n",
       "    </tr>\n",
       "    <tr>\n",
       "      <th>119</th>\n",
       "      <td>6.0</td>\n",
       "      <td>2.2</td>\n",
       "      <td>5.0</td>\n",
       "      <td>1.5</td>\n",
       "      <td>Iris-virginica</td>\n",
       "    </tr>\n",
       "    <tr>\n",
       "      <th>108</th>\n",
       "      <td>6.7</td>\n",
       "      <td>2.5</td>\n",
       "      <td>5.8</td>\n",
       "      <td>1.8</td>\n",
       "      <td>Iris-virginica</td>\n",
       "    </tr>\n",
       "  </tbody>\n",
       "</table>\n",
       "</div>"
      ],
      "text/plain": [
       "     sepal_length  sepal_width  petal_length  petal_width          species\n",
       "60            5.0          2.0           3.5          1.0  Iris-versicolor\n",
       "116           6.5          3.0           5.5          1.8   Iris-virginica\n",
       "144           6.7          3.3           5.7          2.5   Iris-virginica\n",
       "119           6.0          2.2           5.0          1.5   Iris-virginica\n",
       "108           6.7          2.5           5.8          1.8   Iris-virginica"
      ]
     },
     "execution_count": 13,
     "metadata": {},
     "output_type": "execute_result"
    }
   ],
   "source": [
    "train_data_df = pd.concat([X_train, y_train], axis=1)\n",
    "\n",
    "train_data_df.head()"
   ]
  },
  {
   "cell_type": "code",
   "execution_count": 14,
   "metadata": {},
   "outputs": [
    {
     "name": "stdout",
     "output_type": "stream",
     "text": [
      "Uploading an estimated of 1 files\n",
      "Uploading ./data/train_data.csv\n",
      "Uploaded ./data/train_data.csv, 1 files out of an estimated total of 1\n",
      "Uploaded 1 files\n"
     ]
    }
   ],
   "source": [
    "# save training data in tabular format to allow for remote run\n",
    "if not os.path.isdir('data'):  # create data folder if it does not exist\n",
    "    os.mkdir('data')\n",
    "    \n",
    "if not os.path.exists('project_folder'):  # create project folder if it does not exist\n",
    "    os.makedirs('project_folder')\n",
    "\n",
    "# Save the train data to a csv file to be uploaded to the datastore\n",
    "pd.DataFrame(train_data_df).to_csv(\"data/train_data.csv\", index=False)\n",
    "\n",
    "# Upload the training data as a tabular dataset for access during training on remote compute\n",
    "# upload to data store\n",
    "ds = ws.get_default_datastore()\n",
    "ds.upload(src_dir='./data', target_path='automlclassifier', overwrite=True, show_progress=True)\n",
    "\n",
    " # access datastore during training on remote compute\n",
    "train_data = TabularDatasetFactory.from_delimited_files(path=ds.path('automlclassifier/train_data.csv'))"
   ]
  },
  {
   "cell_type": "code",
   "execution_count": 15,
   "metadata": {},
   "outputs": [],
   "source": [
    "# Set parameters for AutoMLConfig\n",
    "\n",
    "# define autoconfig settings\n",
    "automl_settings = {\n",
    "    \"enable_early_stopping\" : True,\n",
    "    \"iteration_timeout_minutes\": 5,\n",
    "    \"max_concurrent_iterations\": 4,\n",
    "    \"max_cores_per_iteration\": -1,    \n",
    "    \"featurization\": 'auto',\n",
    "    \"verbosity\": logging.INFO,\n",
    "}\n",
    "\n",
    "# define automl autconfig parameters\n",
    "automl_config = AutoMLConfig(\n",
    "    experiment_timeout_minutes=30,\n",
    "    task= 'classification',\n",
    "    primary_metric='accuracy',\n",
    "    enable_onnx_compatible_models=True,\n",
    "    compute_target=cpu_cluster, # included to allow for remote compute\n",
    "    training_data= train_data,\n",
    "    label_column_name= label,\n",
    "    path = project_folder,\n",
    "    n_cross_validations=3,\n",
    "    debug_log = \"automl_errors.log\",    \n",
    "    **automl_settings)"
   ]
  },
  {
   "cell_type": "code",
   "execution_count": 16,
   "metadata": {},
   "outputs": [
    {
     "name": "stdout",
     "output_type": "stream",
     "text": [
      "Running on remote.\n",
      "No run_configuration provided, running on cpu-cluster-mla with default configuration\n",
      "Running on remote compute: cpu-cluster-mla\n",
      "Parent Run ID: AutoML_92c4ac84-b98b-4fc3-91f0-6090eded1910\n",
      "\n",
      "Current status: FeaturesGeneration. Generating features for the dataset.\n",
      "Current status: DatasetCrossValidationSplit. Beginning model selection.\n",
      "Current status: ModelSelection. Beginning model selection.\n",
      "\n",
      "****************************************************************************************************\n",
      "DATA GUARDRAILS: \n",
      "\n",
      "TYPE:         Class balancing detection\n",
      "STATUS:       PASSED\n",
      "DESCRIPTION:  Your inputs were analyzed, and all classes are balanced in your training data.\n",
      "              Learn more about imbalanced data: https://aka.ms/AutomatedMLImbalancedData\n",
      "\n",
      "****************************************************************************************************\n",
      "\n",
      "TYPE:         High cardinality feature detection\n",
      "STATUS:       PASSED\n",
      "DESCRIPTION:  Your inputs were analyzed, and no high cardinality features were detected.\n",
      "              Learn more about high cardinality feature handling: https://aka.ms/AutomatedMLFeaturization\n",
      "\n",
      "****************************************************************************************************\n",
      "\n",
      "****************************************************************************************************\n",
      "ITERATION: The iteration being evaluated.\n",
      "PIPELINE: A summary description of the pipeline being evaluated.\n",
      "DURATION: Time taken for the current iteration.\n",
      "METRIC: The result of computing score on the fitted pipeline.\n",
      "BEST: The best observed score thus far.\n",
      "****************************************************************************************************\n",
      "\n",
      " ITERATION   PIPELINE                                       DURATION      METRIC      BEST\n",
      "         3   MinMaxScaler RandomForest                      0:00:59       0.9238    0.9238\n",
      "         0   MaxAbsScaler LightGBM                          0:00:57       0.9429    0.9429\n",
      "         1   MaxAbsScaler XGBoostClassifier                 0:00:58       0.9333    0.9429\n",
      "         6   StandardScalerWrapper LogisticRegression       0:00:56       0.9333    0.9429\n",
      "         7   MaxAbsScaler LightGBM                          0:00:57       0.9048    0.9429\n",
      "         8   SparseNormalizer XGBoostClassifier             0:00:54       0.9524    0.9524\n",
      "         2   MinMaxScaler RandomForest                      0:05:30       0.9238    0.9524\n",
      "         5   MaxAbsScaler LightGBM                          0:05:32       0.9238    0.9524\n",
      "         9   MaxAbsScaler LogisticRegression                0:01:01       0.9238    0.9524\n",
      "        10   StandardScalerWrapper LightGBM                 0:00:54       0.9238    0.9524\n",
      "        11   SparseNormalizer LightGBM                      0:00:59       0.9714    0.9714\n",
      "        12   SparseNormalizer LightGBM                      0:00:48       0.9714    0.9714\n",
      "        13   SparseNormalizer XGBoostClassifier             0:01:00       0.9524    0.9714\n",
      "        14   MaxAbsScaler RandomForest                      0:00:49       0.9238    0.9714\n",
      "         4   MinMaxScaler RandomForest                      0:08:34       0.9333    0.9714\n",
      "        15   SparseNormalizer LightGBM                      0:00:53       0.9429    0.9714\n",
      "        16   MaxAbsScaler LightGBM                          0:00:52       0.8667    0.9714\n",
      "        18   StandardScalerWrapper LightGBM                 0:00:51       0.9238    0.9714\n",
      "        17   StandardScalerWrapper LightGBM                 0:00:58       0.9143    0.9714\n",
      "        19   RobustScaler ExtremeRandomTrees                0:00:56       0.9143    0.9714\n",
      "        21   SparseNormalizer XGBoostClassifier             0:01:00       0.9524    0.9714\n",
      "        20   SparseNormalizer XGBoostClassifier             0:01:02       0.9619    0.9714\n",
      "        22   MaxAbsScaler ExtremeRandomTrees                0:01:04       0.9238    0.9714\n",
      "        23   MaxAbsScaler LightGBM                          0:01:01       0.9333    0.9714\n",
      "        24   MaxAbsScaler ExtremeRandomTrees                0:01:04       0.9714    0.9714\n",
      "        25   StandardScalerWrapper LightGBM                 0:01:03       0.9238    0.9714\n",
      "        26   MaxAbsScaler ExtremeRandomTrees                0:01:02       0.9333    0.9714\n",
      "        27   SparseNormalizer ExtremeRandomTrees            0:01:00       0.9714    0.9714\n",
      "        28   StandardScalerWrapper ExtremeRandomTrees       0:01:03       0.9333    0.9714\n",
      "        29   StandardScalerWrapper LightGBM                 0:01:00       0.9238    0.9714\n",
      "        30   MaxAbsScaler LightGBM                          0:00:47       0.9238    0.9714\n",
      "        31   SparseNormalizer XGBoostClassifier             0:00:53       0.9333    0.9714\n",
      "        32   SparseNormalizer XGBoostClassifier             0:00:56       0.9429    0.9714\n",
      "        33   StandardScalerWrapper ExtremeRandomTrees       0:00:58       0.9619    0.9714\n",
      "        34   SparseNormalizer XGBoostClassifier             0:01:00       0.9524    0.9714\n",
      "        35   SparseNormalizer ExtremeRandomTrees            0:00:49       0.7429    0.9714\n",
      "        36   MaxAbsScaler RandomForest                      0:00:52       0.9238    0.9714\n",
      "        37   MaxAbsScaler ExtremeRandomTrees                0:00:54       0.9619    0.9714\n",
      "        38   MaxAbsScaler ExtremeRandomTrees                0:01:04       0.9238    0.9714\n",
      "        39   StandardScalerWrapper SGD                      0:00:55       0.8476    0.9714\n",
      "        40   RobustScaler ExtremeRandomTrees                0:00:56       0.9524    0.9714\n",
      "        41   StandardScalerWrapper SGD                      0:00:43       0.8667    0.9714\n",
      "        42                                                  0:00:14          nan    0.9714\n",
      "        43                                                  0:00:08          nan    0.9714\n",
      "        44    VotingEnsemble                                0:01:21       0.9905    0.9905\n"
     ]
    }
   ],
   "source": [
    "#Submit experiment for remote run\n",
    "automl_run = exp.submit(automl_config, show_output = True)"
   ]
  },
  {
   "cell_type": "code",
   "execution_count": 17,
   "metadata": {},
   "outputs": [
    {
     "data": {
      "application/vnd.jupyter.widget-view+json": {
       "model_id": "69381716d66b4db6ae6ec744be1dc3e9",
       "version_major": 2,
       "version_minor": 0
      },
      "text/plain": [
       "_AutoMLWidget(widget_settings={'childWidgetDisplay': 'popup', 'send_telemetry': False, 'log_level': 'INFO', 's…"
      ]
     },
     "metadata": {},
     "output_type": "display_data"
    },
    {
     "data": {
      "application/aml.mini.widget.v1": "{\"status\": \"Completed\", \"workbench_run_details_uri\": \"https://ml.azure.com/experiments/udacity-capstone-project/runs/AutoML_92c4ac84-b98b-4fc3-91f0-6090eded1910?wsid=/subscriptions/f5091c60-1c3c-430f-8d81-d802f6bf2414/resourcegroups/aml-quickstarts-132062/workspaces/quick-starts-ws-132062\", \"run_id\": \"AutoML_92c4ac84-b98b-4fc3-91f0-6090eded1910\", \"run_properties\": {\"run_id\": \"AutoML_92c4ac84-b98b-4fc3-91f0-6090eded1910\", \"created_utc\": \"2020-12-27T19:28:19.403639Z\", \"properties\": {\"num_iterations\": \"1000\", \"training_type\": \"TrainFull\", \"acquisition_function\": \"EI\", \"primary_metric\": \"accuracy\", \"train_split\": \"0\", \"acquisition_parameter\": \"0\", \"num_cross_validation\": \"3\", \"target\": \"cpu-cluster-mla\", \"AMLSettingsJsonString\": \"{\\\"path\\\":null,\\\"name\\\":\\\"udacity-capstone-project\\\",\\\"subscription_id\\\":\\\"f5091c60-1c3c-430f-8d81-d802f6bf2414\\\",\\\"resource_group\\\":\\\"aml-quickstarts-132062\\\",\\\"workspace_name\\\":\\\"quick-starts-ws-132062\\\",\\\"region\\\":\\\"southcentralus\\\",\\\"compute_target\\\":\\\"cpu-cluster-mla\\\",\\\"spark_service\\\":null,\\\"azure_service\\\":\\\"remote\\\",\\\"many_models\\\":false,\\\"pipeline_fetch_max_batch_size\\\":1,\\\"iterations\\\":1000,\\\"primary_metric\\\":\\\"accuracy\\\",\\\"task_type\\\":\\\"classification\\\",\\\"data_script\\\":null,\\\"validation_size\\\":0.0,\\\"n_cross_validations\\\":3,\\\"y_min\\\":null,\\\"y_max\\\":null,\\\"num_classes\\\":null,\\\"featurization\\\":\\\"auto\\\",\\\"_ignore_package_version_incompatibilities\\\":false,\\\"is_timeseries\\\":false,\\\"max_cores_per_iteration\\\":-1,\\\"max_concurrent_iterations\\\":4,\\\"iteration_timeout_minutes\\\":5,\\\"mem_in_mb\\\":null,\\\"enforce_time_on_windows\\\":false,\\\"experiment_timeout_minutes\\\":30,\\\"experiment_exit_score\\\":null,\\\"whitelist_models\\\":null,\\\"blacklist_algos\\\":[\\\"TensorFlowLinearClassifier\\\",\\\"TensorFlowDNN\\\"],\\\"supported_models\\\":[\\\"LogisticRegression\\\",\\\"TensorFlowDNN\\\",\\\"GradientBoosting\\\",\\\"KNN\\\",\\\"MultinomialNaiveBayes\\\",\\\"TensorFlowLinearClassifier\\\",\\\"LightGBM\\\",\\\"SVM\\\",\\\"RandomForest\\\",\\\"XGBoostClassifier\\\",\\\"BernoulliNaiveBayes\\\",\\\"ExtremeRandomTrees\\\",\\\"AveragedPerceptronClassifier\\\",\\\"SGD\\\",\\\"DecisionTree\\\",\\\"LinearSVM\\\"],\\\"auto_blacklist\\\":true,\\\"blacklist_samples_reached\\\":false,\\\"exclude_nan_labels\\\":true,\\\"verbosity\\\":20,\\\"_debug_log\\\":\\\"azureml_automl.log\\\",\\\"show_warnings\\\":false,\\\"model_explainability\\\":true,\\\"service_url\\\":null,\\\"sdk_url\\\":null,\\\"sdk_packages\\\":null,\\\"enable_onnx_compatible_models\\\":true,\\\"enable_split_onnx_featurizer_estimator_models\\\":false,\\\"vm_type\\\":\\\"STANDARD_D2_V2\\\",\\\"telemetry_verbosity\\\":20,\\\"send_telemetry\\\":true,\\\"enable_dnn\\\":false,\\\"scenario\\\":\\\"SDK-1.13.0\\\",\\\"environment_label\\\":null,\\\"force_text_dnn\\\":false,\\\"enable_feature_sweeping\\\":false,\\\"enable_early_stopping\\\":true,\\\"early_stopping_n_iters\\\":10,\\\"metrics\\\":null,\\\"enable_ensembling\\\":true,\\\"enable_stack_ensembling\\\":false,\\\"ensemble_iterations\\\":15,\\\"enable_tf\\\":false,\\\"enable_subsampling\\\":null,\\\"subsample_seed\\\":null,\\\"enable_nimbusml\\\":false,\\\"enable_streaming\\\":false,\\\"force_streaming\\\":false,\\\"track_child_runs\\\":true,\\\"allowed_private_models\\\":[],\\\"label_column_name\\\":\\\"species\\\",\\\"weight_column_name\\\":null,\\\"cv_split_column_names\\\":null,\\\"enable_local_managed\\\":false,\\\"_local_managed_run_id\\\":null,\\\"cost_mode\\\":1,\\\"lag_length\\\":0,\\\"metric_operation\\\":\\\"maximize\\\",\\\"preprocess\\\":true}\", \"DataPrepJsonString\": \"{\\\\\\\"training_data\\\\\\\": \\\\\\\"{\\\\\\\\\\\\\\\"blocks\\\\\\\\\\\\\\\": [{\\\\\\\\\\\\\\\"id\\\\\\\\\\\\\\\": \\\\\\\\\\\\\\\"43299663-2e97-4c5f-804d-4912016e6ac9\\\\\\\\\\\\\\\", \\\\\\\\\\\\\\\"type\\\\\\\\\\\\\\\": \\\\\\\\\\\\\\\"Microsoft.DPrep.GetDatastoreFilesBlock\\\\\\\\\\\\\\\", \\\\\\\\\\\\\\\"arguments\\\\\\\\\\\\\\\": {\\\\\\\\\\\\\\\"datastores\\\\\\\\\\\\\\\": [{\\\\\\\\\\\\\\\"datastoreName\\\\\\\\\\\\\\\": \\\\\\\\\\\\\\\"workspaceblobstore\\\\\\\\\\\\\\\", \\\\\\\\\\\\\\\"path\\\\\\\\\\\\\\\": \\\\\\\\\\\\\\\"automlclassifier/train_data.csv\\\\\\\\\\\\\\\", \\\\\\\\\\\\\\\"resourceGroup\\\\\\\\\\\\\\\": \\\\\\\\\\\\\\\"aml-quickstarts-132062\\\\\\\\\\\\\\\", \\\\\\\\\\\\\\\"subscription\\\\\\\\\\\\\\\": \\\\\\\\\\\\\\\"f5091c60-1c3c-430f-8d81-d802f6bf2414\\\\\\\\\\\\\\\", \\\\\\\\\\\\\\\"workspaceName\\\\\\\\\\\\\\\": \\\\\\\\\\\\\\\"quick-starts-ws-132062\\\\\\\\\\\\\\\"}]}, \\\\\\\\\\\\\\\"localData\\\\\\\\\\\\\\\": {}, \\\\\\\\\\\\\\\"isEnabled\\\\\\\\\\\\\\\": true, \\\\\\\\\\\\\\\"name\\\\\\\\\\\\\\\": null, \\\\\\\\\\\\\\\"annotation\\\\\\\\\\\\\\\": null}, {\\\\\\\\\\\\\\\"id\\\\\\\\\\\\\\\": \\\\\\\\\\\\\\\"9ea65240-5809-47c2-a62f-5f2d63585b80\\\\\\\\\\\\\\\", \\\\\\\\\\\\\\\"type\\\\\\\\\\\\\\\": \\\\\\\\\\\\\\\"Microsoft.DPrep.ParseDelimitedBlock\\\\\\\\\\\\\\\", \\\\\\\\\\\\\\\"arguments\\\\\\\\\\\\\\\": {\\\\\\\\\\\\\\\"columnHeadersMode\\\\\\\\\\\\\\\": 3, \\\\\\\\\\\\\\\"fileEncoding\\\\\\\\\\\\\\\": 0, \\\\\\\\\\\\\\\"handleQuotedLineBreaks\\\\\\\\\\\\\\\": false, \\\\\\\\\\\\\\\"preview\\\\\\\\\\\\\\\": false, \\\\\\\\\\\\\\\"separator\\\\\\\\\\\\\\\": \\\\\\\\\\\\\\\",\\\\\\\\\\\\\\\", \\\\\\\\\\\\\\\"skipRows\\\\\\\\\\\\\\\": 0, \\\\\\\\\\\\\\\"skipRowsMode\\\\\\\\\\\\\\\": 0}, \\\\\\\\\\\\\\\"localData\\\\\\\\\\\\\\\": {}, \\\\\\\\\\\\\\\"isEnabled\\\\\\\\\\\\\\\": true, \\\\\\\\\\\\\\\"name\\\\\\\\\\\\\\\": null, \\\\\\\\\\\\\\\"annotation\\\\\\\\\\\\\\\": null}, {\\\\\\\\\\\\\\\"id\\\\\\\\\\\\\\\": \\\\\\\\\\\\\\\"182e0c32-8f4b-4d3a-a7c6-86ba74ba4c69\\\\\\\\\\\\\\\", \\\\\\\\\\\\\\\"type\\\\\\\\\\\\\\\": \\\\\\\\\\\\\\\"Microsoft.DPrep.DropColumnsBlock\\\\\\\\\\\\\\\", \\\\\\\\\\\\\\\"arguments\\\\\\\\\\\\\\\": {\\\\\\\\\\\\\\\"columns\\\\\\\\\\\\\\\": {\\\\\\\\\\\\\\\"type\\\\\\\\\\\\\\\": 0, \\\\\\\\\\\\\\\"details\\\\\\\\\\\\\\\": {\\\\\\\\\\\\\\\"selectedColumns\\\\\\\\\\\\\\\": [\\\\\\\\\\\\\\\"Path\\\\\\\\\\\\\\\"]}}}, \\\\\\\\\\\\\\\"localData\\\\\\\\\\\\\\\": {}, \\\\\\\\\\\\\\\"isEnabled\\\\\\\\\\\\\\\": true, \\\\\\\\\\\\\\\"name\\\\\\\\\\\\\\\": null, \\\\\\\\\\\\\\\"annotation\\\\\\\\\\\\\\\": null}, {\\\\\\\\\\\\\\\"id\\\\\\\\\\\\\\\": \\\\\\\\\\\\\\\"8447c28f-b943-4b1f-871b-3bd30bf52d54\\\\\\\\\\\\\\\", \\\\\\\\\\\\\\\"type\\\\\\\\\\\\\\\": \\\\\\\\\\\\\\\"Microsoft.DPrep.SetColumnTypesBlock\\\\\\\\\\\\\\\", \\\\\\\\\\\\\\\"arguments\\\\\\\\\\\\\\\": {\\\\\\\\\\\\\\\"columnConversion\\\\\\\\\\\\\\\": [{\\\\\\\\\\\\\\\"column\\\\\\\\\\\\\\\": {\\\\\\\\\\\\\\\"type\\\\\\\\\\\\\\\": 2, \\\\\\\\\\\\\\\"details\\\\\\\\\\\\\\\": {\\\\\\\\\\\\\\\"selectedColumn\\\\\\\\\\\\\\\": \\\\\\\\\\\\\\\"sepal_length\\\\\\\\\\\\\\\"}}, \\\\\\\\\\\\\\\"typeProperty\\\\\\\\\\\\\\\": 3}, {\\\\\\\\\\\\\\\"column\\\\\\\\\\\\\\\": {\\\\\\\\\\\\\\\"type\\\\\\\\\\\\\\\": 2, \\\\\\\\\\\\\\\"details\\\\\\\\\\\\\\\": {\\\\\\\\\\\\\\\"selectedColumn\\\\\\\\\\\\\\\": \\\\\\\\\\\\\\\"sepal_width\\\\\\\\\\\\\\\"}}, \\\\\\\\\\\\\\\"typeProperty\\\\\\\\\\\\\\\": 3}, {\\\\\\\\\\\\\\\"column\\\\\\\\\\\\\\\": {\\\\\\\\\\\\\\\"type\\\\\\\\\\\\\\\": 2, \\\\\\\\\\\\\\\"details\\\\\\\\\\\\\\\": {\\\\\\\\\\\\\\\"selectedColumn\\\\\\\\\\\\\\\": \\\\\\\\\\\\\\\"petal_length\\\\\\\\\\\\\\\"}}, \\\\\\\\\\\\\\\"typeProperty\\\\\\\\\\\\\\\": 3}, {\\\\\\\\\\\\\\\"column\\\\\\\\\\\\\\\": {\\\\\\\\\\\\\\\"type\\\\\\\\\\\\\\\": 2, \\\\\\\\\\\\\\\"details\\\\\\\\\\\\\\\": {\\\\\\\\\\\\\\\"selectedColumn\\\\\\\\\\\\\\\": \\\\\\\\\\\\\\\"petal_width\\\\\\\\\\\\\\\"}}, \\\\\\\\\\\\\\\"typeProperty\\\\\\\\\\\\\\\": 3}, {\\\\\\\\\\\\\\\"column\\\\\\\\\\\\\\\": {\\\\\\\\\\\\\\\"type\\\\\\\\\\\\\\\": 2, \\\\\\\\\\\\\\\"details\\\\\\\\\\\\\\\": {\\\\\\\\\\\\\\\"selectedColumn\\\\\\\\\\\\\\\": \\\\\\\\\\\\\\\"species\\\\\\\\\\\\\\\"}}, \\\\\\\\\\\\\\\"typeProperty\\\\\\\\\\\\\\\": 0}]}, \\\\\\\\\\\\\\\"localData\\\\\\\\\\\\\\\": {}, \\\\\\\\\\\\\\\"isEnabled\\\\\\\\\\\\\\\": true, \\\\\\\\\\\\\\\"name\\\\\\\\\\\\\\\": null, \\\\\\\\\\\\\\\"annotation\\\\\\\\\\\\\\\": null}], \\\\\\\\\\\\\\\"inspectors\\\\\\\\\\\\\\\": [], \\\\\\\\\\\\\\\"meta\\\\\\\\\\\\\\\": {\\\\\\\\\\\\\\\"savedDatasetId\\\\\\\\\\\\\\\": \\\\\\\\\\\\\\\"38f3c4b2-5656-4f2b-92c7-684fc3d9986e\\\\\\\\\\\\\\\", \\\\\\\\\\\\\\\"datasetType\\\\\\\\\\\\\\\": \\\\\\\\\\\\\\\"tabular\\\\\\\\\\\\\\\", \\\\\\\\\\\\\\\"subscriptionId\\\\\\\\\\\\\\\": \\\\\\\\\\\\\\\"f5091c60-1c3c-430f-8d81-d802f6bf2414\\\\\\\\\\\\\\\", \\\\\\\\\\\\\\\"workspaceId\\\\\\\\\\\\\\\": \\\\\\\\\\\\\\\"af480740-7f25-4f6a-a2f7-e3c36ae8d041\\\\\\\\\\\\\\\", \\\\\\\\\\\\\\\"workspaceLocation\\\\\\\\\\\\\\\": \\\\\\\\\\\\\\\"southcentralus\\\\\\\\\\\\\\\"}}\\\\\\\", \\\\\\\"activities\\\\\\\": 0}\", \"EnableSubsampling\": null, \"runTemplate\": \"AutoML\", \"azureml.runsource\": \"automl\", \"display_task_type\": \"classification\", \"dependencies_versions\": \"{\\\"azureml-widgets\\\": \\\"1.19.0\\\", \\\"azureml-train\\\": \\\"1.19.0\\\", \\\"azureml-train-restclients-hyperdrive\\\": \\\"1.19.0\\\", \\\"azureml-train-core\\\": \\\"1.19.0\\\", \\\"azureml-train-automl\\\": \\\"1.19.0\\\", \\\"azureml-train-automl-runtime\\\": \\\"1.19.0\\\", \\\"azureml-train-automl-client\\\": \\\"1.19.0\\\", \\\"azureml-tensorboard\\\": \\\"1.19.0\\\", \\\"azureml-telemetry\\\": \\\"1.19.0\\\", \\\"azureml-sdk\\\": \\\"1.19.0\\\", \\\"azureml-samples\\\": \\\"0+unknown\\\", \\\"azureml-pipeline\\\": \\\"1.19.0\\\", \\\"azureml-pipeline-steps\\\": \\\"1.19.0\\\", \\\"azureml-pipeline-core\\\": \\\"1.19.0\\\", \\\"azureml-opendatasets\\\": \\\"1.19.0\\\", \\\"azureml-model-management-sdk\\\": \\\"1.0.1b6.post1\\\", \\\"azureml-mlflow\\\": \\\"1.19.0\\\", \\\"azureml-interpret\\\": \\\"1.19.0\\\", \\\"azureml-explain-model\\\": \\\"1.19.0\\\", \\\"azureml-defaults\\\": \\\"1.19.0\\\", \\\"azureml-dataset-runtime\\\": \\\"1.19.0\\\", \\\"azureml-dataprep\\\": \\\"2.6.1\\\", \\\"azureml-dataprep-rslex\\\": \\\"1.4.0\\\", \\\"azureml-dataprep-native\\\": \\\"26.0.0\\\", \\\"azureml-datadrift\\\": \\\"1.19.0\\\", \\\"azureml-core\\\": \\\"1.19.0\\\", \\\"azureml-contrib-services\\\": \\\"1.19.0\\\", \\\"azureml-contrib-server\\\": \\\"1.19.0\\\", \\\"azureml-contrib-reinforcementlearning\\\": \\\"1.19.0\\\", \\\"azureml-contrib-pipeline-steps\\\": \\\"1.19.0\\\", \\\"azureml-contrib-notebook\\\": \\\"1.19.0\\\", \\\"azureml-contrib-interpret\\\": \\\"1.19.0\\\", \\\"azureml-contrib-gbdt\\\": \\\"1.19.0\\\", \\\"azureml-contrib-fairness\\\": \\\"1.19.0\\\", \\\"azureml-contrib-dataset\\\": \\\"1.19.0\\\", \\\"azureml-cli-common\\\": \\\"1.19.0\\\", \\\"azureml-automl-runtime\\\": \\\"1.19.0\\\", \\\"azureml-automl-core\\\": \\\"1.19.0\\\", \\\"azureml-accel-models\\\": \\\"1.19.0\\\"}\", \"_aml_system_scenario_identification\": \"Remote.Parent\", \"ClientType\": \"SDK\", \"environment_cpu_name\": \"AzureML-AutoML\", \"environment_cpu_label\": \"prod\", \"environment_gpu_name\": \"AzureML-AutoML-GPU\", \"environment_gpu_label\": \"prod\", \"root_attribution\": \"automl\", \"attribution\": \"AutoML\", \"Orchestrator\": \"AutoML\", \"CancelUri\": \"https://southcentralus.experiments.azureml.net/jasmine/v1.0/subscriptions/f5091c60-1c3c-430f-8d81-d802f6bf2414/resourceGroups/aml-quickstarts-132062/providers/Microsoft.MachineLearningServices/workspaces/quick-starts-ws-132062/experimentids/773d74b8-24c5-40a0-8770-bc235cb11a1e/cancel/AutoML_92c4ac84-b98b-4fc3-91f0-6090eded1910\", \"ClientSdkVersion\": \"1.19.0\", \"snapshotId\": \"00000000-0000-0000-0000-000000000000\", \"SetupRunId\": \"AutoML_92c4ac84-b98b-4fc3-91f0-6090eded1910_setup\", \"SetupRunContainerId\": \"dcid.AutoML_92c4ac84-b98b-4fc3-91f0-6090eded1910_setup\", \"FeaturizationRunJsonPath\": \"featurizer_container.json\", \"FeaturizationRunId\": \"AutoML_92c4ac84-b98b-4fc3-91f0-6090eded1910_featurize\", \"ProblemInfoJsonString\": \"{\\\"dataset_num_categorical\\\": 0, \\\"is_sparse\\\": false, \\\"subsampling\\\": false, \\\"dataset_classes\\\": 3, \\\"dataset_features\\\": 4, \\\"dataset_samples\\\": 105, \\\"single_frequency_class_detected\\\": false}\", \"ModelExplainRunId\": \"AutoML_92c4ac84-b98b-4fc3-91f0-6090eded1910_ModelExplain\"}, \"tags\": {\"model_explain_run\": \"best_run\", \"_aml_system_azureml.automlComponent\": \"AutoML\", \"pipeline_id\": \"\", \"score\": \"\", \"predicted_cost\": \"\", \"fit_time\": \"\", \"training_percent\": \"\", \"iteration\": \"\", \"run_preprocessor\": \"\", \"run_algorithm\": \"\", \"dynamic_whitelisting_iterations\": \"<25>;<30>;<35>;<40>;\", \"automl_best_child_run_id\": \"AutoML_92c4ac84-b98b-4fc3-91f0-6090eded1910_44\", \"model_explain_best_run_child_id\": \"AutoML_92c4ac84-b98b-4fc3-91f0-6090eded1910_44\"}, \"end_time_utc\": \"2020-12-27T20:04:26.549752Z\", \"status\": \"Completed\", \"log_files\": {}, \"log_groups\": [], \"run_duration\": \"0:36:07\"}, \"child_runs\": [{\"run_id\": \"AutoML_92c4ac84-b98b-4fc3-91f0-6090eded1910_0\", \"run_number\": 6, \"metric\": null, \"status\": \"Completed\", \"run_type\": \"azureml.scriptrun\", \"training_percent\": \"100\", \"start_time\": \"2020-12-27T19:40:59.370612Z\", \"end_time\": \"2020-12-27T19:41:56.754623Z\", \"created_time\": \"2020-12-27T19:39:45.786048Z\", \"created_time_dt\": \"2020-12-27T19:39:45.786048Z\", \"duration\": \"0:02:10\", \"iteration\": \"0\", \"goal\": \"accuracy_max\", \"run_name\": \"MaxAbsScaler, LightGBM\", \"run_properties\": \"copy=True\", \"primary_metric\": 0.94285714, \"best_metric\": 0.94285714}, {\"run_id\": \"AutoML_92c4ac84-b98b-4fc3-91f0-6090eded1910_2\", \"run_number\": 7, \"metric\": null, \"status\": \"Completed\", \"run_type\": \"azureml.scriptrun\", \"training_percent\": \"100\", \"start_time\": \"2020-12-27T19:42:23.920724Z\", \"end_time\": \"2020-12-27T19:47:53.94682Z\", \"created_time\": \"2020-12-27T19:39:45.960165Z\", \"created_time_dt\": \"2020-12-27T19:39:45.960165Z\", \"duration\": \"0:08:07\", \"iteration\": \"2\", \"goal\": \"accuracy_max\", \"run_name\": \"MinMaxScaler, RandomForest\", \"run_properties\": \"copy=True, feature_range=(0, 1\", \"primary_metric\": 0.92380952, \"best_metric\": 0.94285714}, {\"run_id\": \"AutoML_92c4ac84-b98b-4fc3-91f0-6090eded1910_1\", \"run_number\": 8, \"metric\": null, \"status\": \"Completed\", \"run_type\": \"azureml.scriptrun\", \"training_percent\": \"100\", \"start_time\": \"2020-12-27T19:41:58.346338Z\", \"end_time\": \"2020-12-27T19:42:56.040883Z\", \"created_time\": \"2020-12-27T19:39:45.982571Z\", \"created_time_dt\": \"2020-12-27T19:39:45.982571Z\", \"duration\": \"0:03:10\", \"iteration\": \"1\", \"goal\": \"accuracy_max\", \"run_name\": \"MaxAbsScaler, XGBoostClassifier\", \"run_properties\": \"copy=True\", \"primary_metric\": 0.93333333, \"best_metric\": 0.94285714}, {\"run_id\": \"AutoML_92c4ac84-b98b-4fc3-91f0-6090eded1910_3\", \"run_number\": 9, \"metric\": null, \"status\": \"Completed\", \"run_type\": \"azureml.scriptrun\", \"training_percent\": \"100\", \"start_time\": \"2020-12-27T19:39:57.675964Z\", \"end_time\": \"2020-12-27T19:40:56.403671Z\", \"created_time\": \"2020-12-27T19:39:45.989683Z\", \"created_time_dt\": \"2020-12-27T19:39:45.989683Z\", \"duration\": \"0:01:10\", \"iteration\": \"3\", \"goal\": \"accuracy_max\", \"run_name\": \"MinMaxScaler, RandomForest\", \"run_properties\": \"copy=True, feature_range=(0, 1\", \"primary_metric\": 0.92380952, \"best_metric\": 0.94285714}, {\"run_id\": \"AutoML_92c4ac84-b98b-4fc3-91f0-6090eded1910_4\", \"run_number\": 10, \"metric\": null, \"status\": \"Completed\", \"run_type\": \"azureml.scriptrun\", \"training_percent\": \"100\", \"start_time\": \"2020-12-27T19:42:25.981885Z\", \"end_time\": \"2020-12-27T19:51:00.31154Z\", \"created_time\": \"2020-12-27T19:41:00.410866Z\", \"created_time_dt\": \"2020-12-27T19:41:00.410866Z\", \"duration\": \"0:09:59\", \"iteration\": \"4\", \"goal\": \"accuracy_max\", \"run_name\": \"MinMaxScaler, RandomForest\", \"run_properties\": \"copy=True, feature_range=(0, 1\", \"primary_metric\": 0.93333333, \"best_metric\": 0.94285714}, {\"run_id\": \"AutoML_92c4ac84-b98b-4fc3-91f0-6090eded1910_5\", \"run_number\": 11, \"metric\": null, \"status\": \"Completed\", \"run_type\": \"azureml.scriptrun\", \"training_percent\": \"100\", \"start_time\": \"2020-12-27T19:42:25.034269Z\", \"end_time\": \"2020-12-27T19:47:57.439312Z\", \"created_time\": \"2020-12-27T19:42:01.799119Z\", \"created_time_dt\": \"2020-12-27T19:42:01.799119Z\", \"duration\": \"0:05:55\", \"iteration\": \"5\", \"goal\": \"accuracy_max\", \"run_name\": \"MaxAbsScaler, LightGBM\", \"run_properties\": \"copy=True\", \"primary_metric\": 0.92380952, \"best_metric\": 0.94285714}, {\"run_id\": \"AutoML_92c4ac84-b98b-4fc3-91f0-6090eded1910_6\", \"run_number\": 12, \"metric\": null, \"status\": \"Completed\", \"run_type\": \"azureml.scriptrun\", \"training_percent\": \"100\", \"start_time\": \"2020-12-27T19:43:16.73104Z\", \"end_time\": \"2020-12-27T19:44:12.345529Z\", \"created_time\": \"2020-12-27T19:42:59.83637Z\", \"created_time_dt\": \"2020-12-27T19:42:59.83637Z\", \"duration\": \"0:01:12\", \"iteration\": \"6\", \"goal\": \"accuracy_max\", \"run_name\": \"StandardScalerWrapper, LogisticRegression\", \"run_properties\": \"<azureml.automl.runtime.shared.model_wrappers.StandardScalerWrapper object at 0x7fa768a4da20\", \"primary_metric\": 0.93333333, \"best_metric\": 0.94285714}, {\"run_id\": \"AutoML_92c4ac84-b98b-4fc3-91f0-6090eded1910_7\", \"run_number\": 13, \"metric\": null, \"status\": \"Completed\", \"run_type\": \"azureml.scriptrun\", \"training_percent\": \"100\", \"start_time\": \"2020-12-27T19:44:28.861779Z\", \"end_time\": \"2020-12-27T19:45:25.958189Z\", \"created_time\": \"2020-12-27T19:44:16.691198Z\", \"created_time_dt\": \"2020-12-27T19:44:16.691198Z\", \"duration\": \"0:01:09\", \"iteration\": \"7\", \"goal\": \"accuracy_max\", \"run_name\": \"MaxAbsScaler, LightGBM\", \"run_properties\": \"copy=True\", \"primary_metric\": 0.9047619, \"best_metric\": 0.94285714}, {\"run_id\": \"AutoML_92c4ac84-b98b-4fc3-91f0-6090eded1910_8\", \"run_number\": 14, \"metric\": null, \"status\": \"Completed\", \"run_type\": \"azureml.scriptrun\", \"training_percent\": \"100\", \"start_time\": \"2020-12-27T19:45:41.461012Z\", \"end_time\": \"2020-12-27T19:46:35.455651Z\", \"created_time\": \"2020-12-27T19:45:28.794772Z\", \"created_time_dt\": \"2020-12-27T19:45:28.794772Z\", \"duration\": \"0:01:06\", \"iteration\": \"8\", \"goal\": \"accuracy_max\", \"run_name\": \"SparseNormalizer, XGBoostClassifier\", \"run_properties\": \"<azureml.automl.runtime.shared.model_wrappers.SparseNormalizer object at 0x7f13cc14ca90\", \"primary_metric\": 0.95238095, \"best_metric\": 0.95238095}, {\"run_id\": \"AutoML_92c4ac84-b98b-4fc3-91f0-6090eded1910_9\", \"run_number\": 15, \"metric\": null, \"status\": \"Completed\", \"run_type\": \"azureml.scriptrun\", \"training_percent\": \"100\", \"start_time\": \"2020-12-27T19:47:55.083532Z\", \"end_time\": \"2020-12-27T19:48:55.620011Z\", \"created_time\": \"2020-12-27T19:46:40.912493Z\", \"created_time_dt\": \"2020-12-27T19:46:40.912493Z\", \"duration\": \"0:02:14\", \"iteration\": \"9\", \"goal\": \"accuracy_max\", \"run_name\": \"MaxAbsScaler, LogisticRegression\", \"run_properties\": \"copy=True\", \"primary_metric\": 0.92380952, \"best_metric\": 0.95238095}, {\"run_id\": \"AutoML_92c4ac84-b98b-4fc3-91f0-6090eded1910_10\", \"run_number\": 16, \"metric\": null, \"status\": \"Completed\", \"run_type\": \"azureml.scriptrun\", \"training_percent\": \"100\", \"start_time\": \"2020-12-27T19:48:08.313865Z\", \"end_time\": \"2020-12-27T19:49:01.893805Z\", \"created_time\": \"2020-12-27T19:47:57.072568Z\", \"created_time_dt\": \"2020-12-27T19:47:57.072568Z\", \"duration\": \"0:01:04\", \"iteration\": \"10\", \"goal\": \"accuracy_max\", \"run_name\": \"StandardScalerWrapper, LightGBM\", \"run_properties\": \"<azureml.automl.runtime.shared.model_wrappers.StandardScalerWrapper object at 0x7ffae95b1e80\", \"primary_metric\": 0.92380952, \"best_metric\": 0.95238095}, {\"run_id\": \"AutoML_92c4ac84-b98b-4fc3-91f0-6090eded1910_11\", \"run_number\": 17, \"metric\": null, \"status\": \"Completed\", \"run_type\": \"azureml.scriptrun\", \"training_percent\": \"100\", \"start_time\": \"2020-12-27T19:48:57.639547Z\", \"end_time\": \"2020-12-27T19:49:56.757346Z\", \"created_time\": \"2020-12-27T19:48:02.147821Z\", \"created_time_dt\": \"2020-12-27T19:48:02.147821Z\", \"duration\": \"0:01:54\", \"iteration\": \"11\", \"goal\": \"accuracy_max\", \"run_name\": \"SparseNormalizer, LightGBM\", \"run_properties\": \"<azureml.automl.runtime.shared.model_wrappers.SparseNormalizer object at 0x7f4bdb349e48\", \"primary_metric\": 0.97142857, \"best_metric\": 0.97142857}, {\"run_id\": \"AutoML_92c4ac84-b98b-4fc3-91f0-6090eded1910_12\", \"run_number\": 18, \"metric\": null, \"status\": \"Completed\", \"run_type\": \"azureml.scriptrun\", \"training_percent\": \"100\", \"start_time\": \"2020-12-27T19:49:09.377866Z\", \"end_time\": \"2020-12-27T19:49:57.659151Z\", \"created_time\": \"2020-12-27T19:48:57.986164Z\", \"created_time_dt\": \"2020-12-27T19:48:57.986164Z\", \"duration\": \"0:00:59\", \"iteration\": \"12\", \"goal\": \"accuracy_max\", \"run_name\": \"SparseNormalizer, LightGBM\", \"run_properties\": \"<azureml.automl.runtime.shared.model_wrappers.SparseNormalizer object at 0x7fb4cd2fd780\", \"primary_metric\": 0.97142857, \"best_metric\": 0.97142857}, {\"run_id\": \"AutoML_92c4ac84-b98b-4fc3-91f0-6090eded1910_13\", \"run_number\": 19, \"metric\": null, \"status\": \"Completed\", \"run_type\": \"azureml.scriptrun\", \"training_percent\": \"100\", \"start_time\": \"2020-12-27T19:49:59.373291Z\", \"end_time\": \"2020-12-27T19:50:59.043402Z\", \"created_time\": \"2020-12-27T19:49:04.321269Z\", \"created_time_dt\": \"2020-12-27T19:49:04.321269Z\", \"duration\": \"0:01:54\", \"iteration\": \"13\", \"goal\": \"accuracy_max\", \"run_name\": \"SparseNormalizer, XGBoostClassifier\", \"run_properties\": \"<azureml.automl.runtime.shared.model_wrappers.SparseNormalizer object at 0x7f0fbf507ef0\", \"primary_metric\": 0.95238095, \"best_metric\": 0.97142857}, {\"run_id\": \"AutoML_92c4ac84-b98b-4fc3-91f0-6090eded1910_14\", \"run_number\": 20, \"metric\": null, \"status\": \"Completed\", \"run_type\": \"azureml.scriptrun\", \"training_percent\": \"100\", \"start_time\": \"2020-12-27T19:50:13.291459Z\", \"end_time\": \"2020-12-27T19:51:01.909109Z\", \"created_time\": \"2020-12-27T19:49:59.938453Z\", \"created_time_dt\": \"2020-12-27T19:49:59.938453Z\", \"duration\": \"0:01:01\", \"iteration\": \"14\", \"goal\": \"accuracy_max\", \"run_name\": \"MaxAbsScaler, RandomForest\", \"run_properties\": \"copy=True\", \"primary_metric\": 0.92380952, \"best_metric\": 0.97142857}, {\"run_id\": \"AutoML_92c4ac84-b98b-4fc3-91f0-6090eded1910_15\", \"run_number\": 21, \"metric\": null, \"status\": \"Completed\", \"run_type\": \"azureml.scriptrun\", \"training_percent\": \"100\", \"start_time\": \"2020-12-27T19:50:18.081801Z\", \"end_time\": \"2020-12-27T19:51:11.328455Z\", \"created_time\": \"2020-12-27T19:50:00.079881Z\", \"created_time_dt\": \"2020-12-27T19:50:00.079881Z\", \"duration\": \"0:01:11\", \"iteration\": \"15\", \"goal\": \"accuracy_max\", \"run_name\": \"SparseNormalizer, LightGBM\", \"run_properties\": \"<azureml.automl.runtime.shared.model_wrappers.SparseNormalizer object at 0x7f5523bb6b38\", \"primary_metric\": 0.94285714, \"best_metric\": 0.97142857}, {\"run_id\": \"AutoML_92c4ac84-b98b-4fc3-91f0-6090eded1910_16\", \"run_number\": 22, \"metric\": null, \"status\": \"Completed\", \"run_type\": \"azureml.scriptrun\", \"training_percent\": \"100\", \"start_time\": \"2020-12-27T19:51:14.841338Z\", \"end_time\": \"2020-12-27T19:52:06.900578Z\", \"created_time\": \"2020-12-27T19:51:01.624369Z\", \"created_time_dt\": \"2020-12-27T19:51:01.624369Z\", \"duration\": \"0:01:05\", \"iteration\": \"16\", \"goal\": \"accuracy_max\", \"run_name\": \"MaxAbsScaler, LightGBM\", \"run_properties\": \"copy=True\", \"primary_metric\": 0.86666667, \"best_metric\": 0.97142857}, {\"run_id\": \"AutoML_92c4ac84-b98b-4fc3-91f0-6090eded1910_18\", \"run_number\": 23, \"metric\": null, \"status\": \"Completed\", \"run_type\": \"azureml.scriptrun\", \"training_percent\": \"100\", \"start_time\": \"2020-12-27T19:51:16.671037Z\", \"end_time\": \"2020-12-27T19:52:07.269616Z\", \"created_time\": \"2020-12-27T19:51:05.609205Z\", \"created_time_dt\": \"2020-12-27T19:51:05.609205Z\", \"duration\": \"0:01:01\", \"iteration\": \"18\", \"goal\": \"accuracy_max\", \"run_name\": \"StandardScalerWrapper, LightGBM\", \"run_properties\": \"<azureml.automl.runtime.shared.model_wrappers.StandardScalerWrapper object at 0x7f531812b128\", \"primary_metric\": 0.92380952, \"best_metric\": 0.97142857}, {\"run_id\": \"AutoML_92c4ac84-b98b-4fc3-91f0-6090eded1910_17\", \"run_number\": 24, \"metric\": null, \"status\": \"Completed\", \"run_type\": \"azureml.scriptrun\", \"training_percent\": \"100\", \"start_time\": \"2020-12-27T19:51:19.769965Z\", \"end_time\": \"2020-12-27T19:52:18.143828Z\", \"created_time\": \"2020-12-27T19:51:05.636726Z\", \"created_time_dt\": \"2020-12-27T19:51:05.636726Z\", \"duration\": \"0:01:12\", \"iteration\": \"17\", \"goal\": \"accuracy_max\", \"run_name\": \"StandardScalerWrapper, LightGBM\", \"run_properties\": \"<azureml.automl.runtime.shared.model_wrappers.StandardScalerWrapper object at 0x7f51048a8b38\", \"primary_metric\": 0.91428571, \"best_metric\": 0.97142857}, {\"run_id\": \"AutoML_92c4ac84-b98b-4fc3-91f0-6090eded1910_19\", \"run_number\": 25, \"metric\": null, \"status\": \"Completed\", \"run_type\": \"azureml.scriptrun\", \"training_percent\": \"100\", \"start_time\": \"2020-12-27T19:51:25.264591Z\", \"end_time\": \"2020-12-27T19:52:21.624666Z\", \"created_time\": \"2020-12-27T19:51:13.72786Z\", \"created_time_dt\": \"2020-12-27T19:51:13.72786Z\", \"duration\": \"0:01:07\", \"iteration\": \"19\", \"goal\": \"accuracy_max\", \"run_name\": \"RobustScaler, ExtremeRandomTrees\", \"run_properties\": \"copy=True, quantile_range=[10, 90], with_centering=True,\\n             with_scaling=False\", \"primary_metric\": 0.91428571, \"best_metric\": 0.97142857}, {\"run_id\": \"AutoML_92c4ac84-b98b-4fc3-91f0-6090eded1910_20\", \"run_number\": 26, \"metric\": null, \"status\": \"Completed\", \"run_type\": \"azureml.scriptrun\", \"training_percent\": \"100\", \"start_time\": \"2020-12-27T19:54:14.062321Z\", \"end_time\": \"2020-12-27T19:55:16.453788Z\", \"created_time\": \"2020-12-27T19:52:09.895427Z\", \"created_time_dt\": \"2020-12-27T19:52:09.895427Z\", \"duration\": \"0:03:06\", \"iteration\": \"20\", \"goal\": \"accuracy_max\", \"run_name\": \"SparseNormalizer, XGBoostClassifier\", \"run_properties\": \"<azureml.automl.runtime.shared.model_wrappers.SparseNormalizer object at 0x7ff56a9e6c50\", \"primary_metric\": 0.96190476, \"best_metric\": 0.97142857}, {\"run_id\": \"AutoML_92c4ac84-b98b-4fc3-91f0-6090eded1910_21\", \"run_number\": 27, \"metric\": null, \"status\": \"Completed\", \"run_type\": \"azureml.scriptrun\", \"training_percent\": \"100\", \"start_time\": \"2020-12-27T19:53:13.41308Z\", \"end_time\": \"2020-12-27T19:54:13.335612Z\", \"created_time\": \"2020-12-27T19:52:09.940439Z\", \"created_time_dt\": \"2020-12-27T19:52:09.940439Z\", \"duration\": \"0:02:03\", \"iteration\": \"21\", \"goal\": \"accuracy_max\", \"run_name\": \"SparseNormalizer, XGBoostClassifier\", \"run_properties\": \"<azureml.automl.runtime.shared.model_wrappers.SparseNormalizer object at 0x7f6b33519fd0\", \"primary_metric\": 0.95238095, \"best_metric\": 0.97142857}, {\"run_id\": \"AutoML_92c4ac84-b98b-4fc3-91f0-6090eded1910_22\", \"run_number\": 28, \"metric\": null, \"status\": \"Completed\", \"run_type\": \"azureml.scriptrun\", \"training_percent\": \"100\", \"start_time\": \"2020-12-27T19:55:23.631809Z\", \"end_time\": \"2020-12-27T19:56:27.31476Z\", \"created_time\": \"2020-12-27T19:52:21.032241Z\", \"created_time_dt\": \"2020-12-27T19:52:21.032241Z\", \"duration\": \"0:04:06\", \"iteration\": \"22\", \"goal\": \"accuracy_max\", \"run_name\": \"MaxAbsScaler, ExtremeRandomTrees\", \"run_properties\": \"copy=True\", \"primary_metric\": 0.92380952, \"best_metric\": 0.97142857}, {\"run_id\": \"AutoML_92c4ac84-b98b-4fc3-91f0-6090eded1910_23\", \"run_number\": 29, \"metric\": null, \"status\": \"Completed\", \"run_type\": \"azureml.scriptrun\", \"training_percent\": \"100\", \"start_time\": \"2020-12-27T19:55:44.900206Z\", \"end_time\": \"2020-12-27T19:56:46.144586Z\", \"created_time\": \"2020-12-27T19:52:26.137631Z\", \"created_time_dt\": \"2020-12-27T19:52:26.137631Z\", \"duration\": \"0:04:20\", \"iteration\": \"23\", \"goal\": \"accuracy_max\", \"run_name\": \"MaxAbsScaler, LightGBM\", \"run_properties\": \"copy=True\", \"primary_metric\": 0.93333333, \"best_metric\": 0.97142857}, {\"run_id\": \"AutoML_92c4ac84-b98b-4fc3-91f0-6090eded1910_24\", \"run_number\": 30, \"metric\": null, \"status\": \"Completed\", \"run_type\": \"azureml.scriptrun\", \"training_percent\": \"100\", \"start_time\": \"2020-12-27T19:55:56.67954Z\", \"end_time\": \"2020-12-27T19:57:00.436144Z\", \"created_time\": \"2020-12-27T19:54:15.865601Z\", \"created_time_dt\": \"2020-12-27T19:54:15.865601Z\", \"duration\": \"0:02:44\", \"iteration\": \"24\", \"goal\": \"accuracy_max\", \"run_name\": \"MaxAbsScaler, ExtremeRandomTrees\", \"run_properties\": \"copy=True\", \"primary_metric\": 0.97142857, \"best_metric\": 0.97142857}, {\"run_id\": \"AutoML_92c4ac84-b98b-4fc3-91f0-6090eded1910_25\", \"run_number\": 31, \"metric\": null, \"status\": \"Completed\", \"run_type\": \"azureml.scriptrun\", \"training_percent\": \"100\", \"start_time\": \"2020-12-27T19:56:26.184324Z\", \"end_time\": \"2020-12-27T19:57:29.089186Z\", \"created_time\": \"2020-12-27T19:55:19.915359Z\", \"created_time_dt\": \"2020-12-27T19:55:19.915359Z\", \"duration\": \"0:02:09\", \"iteration\": \"25\", \"goal\": \"accuracy_max\", \"run_name\": \"StandardScalerWrapper, LightGBM\", \"run_properties\": \"<azureml.automl.runtime.shared.model_wrappers.StandardScalerWrapper object at 0x7fe2f8e8ff60\", \"primary_metric\": 0.92380952, \"best_metric\": 0.97142857}, {\"run_id\": \"AutoML_92c4ac84-b98b-4fc3-91f0-6090eded1910_26\", \"run_number\": 32, \"metric\": null, \"status\": \"Completed\", \"run_type\": \"azureml.scriptrun\", \"training_percent\": \"100\", \"start_time\": \"2020-12-27T19:57:30.759732Z\", \"end_time\": \"2020-12-27T19:58:32.883707Z\", \"created_time\": \"2020-12-27T19:56:30.124227Z\", \"created_time_dt\": \"2020-12-27T19:56:30.124227Z\", \"duration\": \"0:02:02\", \"iteration\": \"26\", \"goal\": \"accuracy_max\", \"run_name\": \"MaxAbsScaler, ExtremeRandomTrees\", \"run_properties\": \"copy=True\", \"primary_metric\": 0.93333333, \"best_metric\": 0.97142857}, {\"run_id\": \"AutoML_92c4ac84-b98b-4fc3-91f0-6090eded1910_27\", \"run_number\": 33, \"metric\": null, \"status\": \"Completed\", \"run_type\": \"azureml.scriptrun\", \"training_percent\": \"100\", \"start_time\": \"2020-12-27T19:57:42.982722Z\", \"end_time\": \"2020-12-27T19:58:43.133631Z\", \"created_time\": \"2020-12-27T19:56:48.646008Z\", \"created_time_dt\": \"2020-12-27T19:56:48.646008Z\", \"duration\": \"0:01:54\", \"iteration\": \"27\", \"goal\": \"accuracy_max\", \"run_name\": \"SparseNormalizer, ExtremeRandomTrees\", \"run_properties\": \"<azureml.automl.runtime.shared.model_wrappers.SparseNormalizer object at 0x7f92dc855780\", \"primary_metric\": 0.97142857, \"best_metric\": 0.97142857}, {\"run_id\": \"AutoML_92c4ac84-b98b-4fc3-91f0-6090eded1910_28\", \"run_number\": 34, \"metric\": null, \"status\": \"Completed\", \"run_type\": \"azureml.scriptrun\", \"training_percent\": \"100\", \"start_time\": \"2020-12-27T19:57:55.273063Z\", \"end_time\": \"2020-12-27T19:58:58.10045Z\", \"created_time\": \"2020-12-27T19:57:02.552591Z\", \"created_time_dt\": \"2020-12-27T19:57:02.552591Z\", \"duration\": \"0:01:55\", \"iteration\": \"28\", \"goal\": \"accuracy_max\", \"run_name\": \"StandardScalerWrapper, ExtremeRandomTrees\", \"run_properties\": \"<azureml.automl.runtime.shared.model_wrappers.StandardScalerWrapper object at 0x7fdac5f6d7b8\", \"primary_metric\": 0.93333333, \"best_metric\": 0.97142857}, {\"run_id\": \"AutoML_92c4ac84-b98b-4fc3-91f0-6090eded1910_29\", \"run_number\": 35, \"metric\": null, \"status\": \"Completed\", \"run_type\": \"azureml.scriptrun\", \"training_percent\": \"100\", \"start_time\": \"2020-12-27T19:58:19.959292Z\", \"end_time\": \"2020-12-27T19:59:19.516172Z\", \"created_time\": \"2020-12-27T19:57:31.829335Z\", \"created_time_dt\": \"2020-12-27T19:57:31.829335Z\", \"duration\": \"0:01:47\", \"iteration\": \"29\", \"goal\": \"accuracy_max\", \"run_name\": \"StandardScalerWrapper, LightGBM\", \"run_properties\": \"<azureml.automl.runtime.shared.model_wrappers.StandardScalerWrapper object at 0x7f219ba7cc88\", \"primary_metric\": 0.92380952, \"best_metric\": 0.97142857}, {\"run_id\": \"AutoML_92c4ac84-b98b-4fc3-91f0-6090eded1910_30\", \"run_number\": 36, \"metric\": null, \"status\": \"Completed\", \"run_type\": \"azureml.scriptrun\", \"training_percent\": \"100\", \"start_time\": \"2020-12-27T19:58:49.336331Z\", \"end_time\": \"2020-12-27T19:59:36.427669Z\", \"created_time\": \"2020-12-27T19:58:36.28743Z\", \"created_time_dt\": \"2020-12-27T19:58:36.28743Z\", \"duration\": \"0:01:00\", \"iteration\": \"30\", \"goal\": \"accuracy_max\", \"run_name\": \"MaxAbsScaler, LightGBM\", \"run_properties\": \"copy=True\", \"primary_metric\": 0.92380952, \"best_metric\": 0.97142857}, {\"run_id\": \"AutoML_92c4ac84-b98b-4fc3-91f0-6090eded1910_31\", \"run_number\": 37, \"metric\": null, \"status\": \"Completed\", \"run_type\": \"azureml.scriptrun\", \"training_percent\": \"100\", \"start_time\": \"2020-12-27T19:58:56.907508Z\", \"end_time\": \"2020-12-27T19:59:50.389218Z\", \"created_time\": \"2020-12-27T19:58:45.169493Z\", \"created_time_dt\": \"2020-12-27T19:58:45.169493Z\", \"duration\": \"0:01:05\", \"iteration\": \"31\", \"goal\": \"accuracy_max\", \"run_name\": \"SparseNormalizer, XGBoostClassifier\", \"run_properties\": \"<azureml.automl.runtime.shared.model_wrappers.SparseNormalizer object at 0x7f3ea67cae80\", \"primary_metric\": 0.93333333, \"best_metric\": 0.97142857}, {\"run_id\": \"AutoML_92c4ac84-b98b-4fc3-91f0-6090eded1910_32\", \"run_number\": 38, \"metric\": null, \"status\": \"Completed\", \"run_type\": \"azureml.scriptrun\", \"training_percent\": \"100\", \"start_time\": \"2020-12-27T19:59:12.976883Z\", \"end_time\": \"2020-12-27T20:00:09.416557Z\", \"created_time\": \"2020-12-27T19:59:00.705596Z\", \"created_time_dt\": \"2020-12-27T19:59:00.705596Z\", \"duration\": \"0:01:08\", \"iteration\": \"32\", \"goal\": \"accuracy_max\", \"run_name\": \"SparseNormalizer, XGBoostClassifier\", \"run_properties\": \"<azureml.automl.runtime.shared.model_wrappers.SparseNormalizer object at 0x7f1562ae42e8\", \"primary_metric\": 0.94285714, \"best_metric\": 0.97142857}, {\"run_id\": \"AutoML_92c4ac84-b98b-4fc3-91f0-6090eded1910_33\", \"run_number\": 39, \"metric\": null, \"status\": \"Completed\", \"run_type\": \"azureml.scriptrun\", \"training_percent\": \"100\", \"start_time\": \"2020-12-27T19:59:33.827814Z\", \"end_time\": \"2020-12-27T20:00:31.890757Z\", \"created_time\": \"2020-12-27T19:59:21.644508Z\", \"created_time_dt\": \"2020-12-27T19:59:21.644508Z\", \"duration\": \"0:01:10\", \"iteration\": \"33\", \"goal\": \"accuracy_max\", \"run_name\": \"StandardScalerWrapper, ExtremeRandomTrees\", \"run_properties\": \"<azureml.automl.runtime.shared.model_wrappers.StandardScalerWrapper object at 0x7f397fb32b38\", \"primary_metric\": 0.96190476, \"best_metric\": 0.97142857}, {\"run_id\": \"AutoML_92c4ac84-b98b-4fc3-91f0-6090eded1910_34\", \"run_number\": 40, \"metric\": null, \"status\": \"Completed\", \"run_type\": \"azureml.scriptrun\", \"training_percent\": \"100\", \"start_time\": \"2020-12-27T19:59:49.214788Z\", \"end_time\": \"2020-12-27T20:00:49.020645Z\", \"created_time\": \"2020-12-27T19:59:38.506984Z\", \"created_time_dt\": \"2020-12-27T19:59:38.506984Z\", \"duration\": \"0:01:10\", \"iteration\": \"34\", \"goal\": \"accuracy_max\", \"run_name\": \"SparseNormalizer, XGBoostClassifier\", \"run_properties\": \"<azureml.automl.runtime.shared.model_wrappers.SparseNormalizer object at 0x7fcd7ffe60b8\", \"primary_metric\": 0.95238095, \"best_metric\": 0.97142857}, {\"run_id\": \"AutoML_92c4ac84-b98b-4fc3-91f0-6090eded1910_35\", \"run_number\": 41, \"metric\": null, \"status\": \"Completed\", \"run_type\": \"azureml.scriptrun\", \"training_percent\": \"100\", \"start_time\": \"2020-12-27T20:00:06.389779Z\", \"end_time\": \"2020-12-27T20:00:54.986536Z\", \"created_time\": \"2020-12-27T19:59:54.03534Z\", \"created_time_dt\": \"2020-12-27T19:59:54.03534Z\", \"duration\": \"0:01:00\", \"iteration\": \"35\", \"goal\": \"accuracy_max\", \"run_name\": \"SparseNormalizer, ExtremeRandomTrees\", \"run_properties\": \"<azureml.automl.runtime.shared.model_wrappers.SparseNormalizer object at 0x7f9b2bf0b748\", \"primary_metric\": 0.74285714, \"best_metric\": 0.97142857}, {\"run_id\": \"AutoML_92c4ac84-b98b-4fc3-91f0-6090eded1910_36\", \"run_number\": 42, \"metric\": null, \"status\": \"Completed\", \"run_type\": \"azureml.scriptrun\", \"training_percent\": \"100\", \"start_time\": \"2020-12-27T20:00:24.699725Z\", \"end_time\": \"2020-12-27T20:01:16.455035Z\", \"created_time\": \"2020-12-27T20:00:11.901215Z\", \"created_time_dt\": \"2020-12-27T20:00:11.901215Z\", \"duration\": \"0:01:04\", \"iteration\": \"36\", \"goal\": \"accuracy_max\", \"run_name\": \"MaxAbsScaler, RandomForest\", \"run_properties\": \"copy=True\", \"primary_metric\": 0.92380952, \"best_metric\": 0.97142857}, {\"run_id\": \"AutoML_92c4ac84-b98b-4fc3-91f0-6090eded1910_37\", \"run_number\": 43, \"metric\": null, \"status\": \"Completed\", \"run_type\": \"azureml.scriptrun\", \"training_percent\": \"100\", \"start_time\": \"2020-12-27T20:00:46.551853Z\", \"end_time\": \"2020-12-27T20:01:40.085867Z\", \"created_time\": \"2020-12-27T20:00:34.567753Z\", \"created_time_dt\": \"2020-12-27T20:00:34.567753Z\", \"duration\": \"0:01:05\", \"iteration\": \"37\", \"goal\": \"accuracy_max\", \"run_name\": \"MaxAbsScaler, ExtremeRandomTrees\", \"run_properties\": \"copy=True\", \"primary_metric\": 0.96190476, \"best_metric\": 0.97142857}, {\"run_id\": \"AutoML_92c4ac84-b98b-4fc3-91f0-6090eded1910_38\", \"run_number\": 44, \"metric\": null, \"status\": \"Completed\", \"run_type\": \"azureml.scriptrun\", \"training_percent\": \"100\", \"start_time\": \"2020-12-27T20:01:05.00648Z\", \"end_time\": \"2020-12-27T20:02:08.890934Z\", \"created_time\": \"2020-12-27T20:00:52.281945Z\", \"created_time_dt\": \"2020-12-27T20:00:52.281945Z\", \"duration\": \"0:01:16\", \"iteration\": \"38\", \"goal\": \"accuracy_max\", \"run_name\": \"MaxAbsScaler, ExtremeRandomTrees\", \"run_properties\": \"copy=True\", \"primary_metric\": 0.92380952, \"best_metric\": 0.97142857}, {\"run_id\": \"AutoML_92c4ac84-b98b-4fc3-91f0-6090eded1910_39\", \"run_number\": 45, \"metric\": null, \"status\": \"Completed\", \"run_type\": \"azureml.scriptrun\", \"training_percent\": \"100\", \"start_time\": \"2020-12-27T20:01:14.890004Z\", \"end_time\": \"2020-12-27T20:02:10.191885Z\", \"created_time\": \"2020-12-27T20:00:58.1344Z\", \"created_time_dt\": \"2020-12-27T20:00:58.1344Z\", \"duration\": \"0:01:12\", \"iteration\": \"39\", \"goal\": \"accuracy_max\", \"run_name\": \"StandardScalerWrapper, SGD\", \"run_properties\": \"<azureml.automl.runtime.shared.model_wrappers.StandardScalerWrapper object at 0x7f5881b984a8\", \"primary_metric\": 0.84761905, \"best_metric\": 0.97142857}, {\"run_id\": \"AutoML_92c4ac84-b98b-4fc3-91f0-6090eded1910_40\", \"run_number\": 46, \"metric\": null, \"status\": \"Completed\", \"run_type\": \"azureml.scriptrun\", \"training_percent\": \"100\", \"start_time\": \"2020-12-27T20:01:33.516777Z\", \"end_time\": \"2020-12-27T20:02:29.199419Z\", \"created_time\": \"2020-12-27T20:01:20.301279Z\", \"created_time_dt\": \"2020-12-27T20:01:20.301279Z\", \"duration\": \"0:01:08\", \"iteration\": \"40\", \"goal\": \"accuracy_max\", \"run_name\": \"RobustScaler, ExtremeRandomTrees\", \"run_properties\": \"copy=True, quantile_range=[10, 90], with_centering=True,\\n             with_scaling=False\", \"primary_metric\": 0.95238095, \"best_metric\": 0.97142857}, {\"run_id\": \"AutoML_92c4ac84-b98b-4fc3-91f0-6090eded1910_41\", \"run_number\": 47, \"metric\": null, \"status\": \"Canceled\", \"run_type\": \"azureml.scriptrun\", \"training_percent\": \"100\", \"start_time\": \"2020-12-27T20:01:54.050727Z\", \"end_time\": \"2020-12-27T20:02:36.931935Z\", \"created_time\": \"2020-12-27T20:01:43.071378Z\", \"created_time_dt\": \"2020-12-27T20:01:43.071378Z\", \"duration\": \"0:00:53\", \"iteration\": \"41\", \"goal\": \"accuracy_max\", \"run_name\": \"StandardScalerWrapper, SGD\", \"run_properties\": \"<azureml.automl.runtime.shared.model_wrappers.StandardScalerWrapper object at 0x7fd3e122deb8\", \"primary_metric\": 0.86666667, \"best_metric\": 0.97142857}, {\"run_id\": \"AutoML_92c4ac84-b98b-4fc3-91f0-6090eded1910_42\", \"run_number\": 48, \"metric\": null, \"status\": \"Canceled\", \"run_type\": \"azureml.scriptrun\", \"training_percent\": \"100\", \"start_time\": \"2020-12-27T20:02:23.443203Z\", \"end_time\": \"2020-12-27T20:02:37.823057Z\", \"created_time\": \"2020-12-27T20:02:11.039533Z\", \"created_time_dt\": \"2020-12-27T20:02:11.039533Z\", \"duration\": \"0:00:26\", \"iteration\": \"42\", \"goal\": null, \"run_name\": \"Canceled\", \"run_properties\": null}, {\"run_id\": \"AutoML_92c4ac84-b98b-4fc3-91f0-6090eded1910_43\", \"run_number\": 49, \"metric\": null, \"status\": \"Canceled\", \"run_type\": \"azureml.scriptrun\", \"training_percent\": \"100\", \"start_time\": \"2020-12-27T20:02:29.952826Z\", \"end_time\": \"2020-12-27T20:02:37.648147Z\", \"created_time\": \"2020-12-27T20:02:15.971389Z\", \"created_time_dt\": \"2020-12-27T20:02:15.971389Z\", \"duration\": \"0:00:21\", \"iteration\": \"43\", \"goal\": null, \"run_name\": \"Canceled\", \"run_properties\": null}, {\"run_id\": \"AutoML_92c4ac84-b98b-4fc3-91f0-6090eded1910_44\", \"run_number\": 50, \"metric\": null, \"status\": \"Completed\", \"run_type\": \"azureml.scriptrun\", \"training_percent\": \"100\", \"start_time\": \"2020-12-27T20:02:51.089095Z\", \"end_time\": \"2020-12-27T20:04:12.065939Z\", \"created_time\": \"2020-12-27T20:02:39.733435Z\", \"created_time_dt\": \"2020-12-27T20:02:39.733435Z\", \"duration\": \"0:01:32\", \"iteration\": \"44\", \"goal\": \"accuracy_max\", \"run_name\": \"VotingEnsemble\", \"run_properties\": \"classification_labels=None,\\n                              estimators=[('27',\\n                                           Pipeline(memory=None,\\n                                                    steps=[('sparsenormalizer',\\n                                                            <azureml.automl.runtime.shared.model_wrappers.SparseNormalizer object at 0x7fecdd73b4a8>\", \"primary_metric\": 0.99047619, \"best_metric\": 0.99047619}], \"children_metrics\": {\"categories\": [0], \"series\": {\"f1_score_micro\": [{\"categories\": [\"0\", \"1\", \"2\", \"3\", \"4\", \"5\", \"6\", \"7\", \"8\", \"9\", \"10\", \"11\", \"12\", \"13\", \"14\", \"15\", \"16\", \"17\", \"18\", \"19\", \"20\", \"21\", \"22\", \"23\", \"24\", \"25\", \"26\", \"27\", \"28\", \"29\", \"30\", \"31\", \"32\", \"33\", \"34\", \"35\", \"36\", \"37\", \"38\", \"39\", \"40\", \"41\", \"44\"], \"mode\": \"markers\", \"name\": \"f1_score_micro\", \"stepped\": false, \"type\": \"scatter\", \"data\": [0.942857142857143, 0.9333333333333332, 0.9238095238095237, 0.9238095238095237, 0.9333333333333332, 0.9238095238095237, 0.9333333333333332, 0.9047619047619047, 0.9523809523809522, 0.9238095238095237, 0.9238095238095237, 0.9714285714285714, 0.9714285714285714, 0.9523809523809522, 0.9238095238095237, 0.9428571428571427, 0.8666666666666667, 0.9142857142857143, 0.9238095238095237, 0.9142857142857143, 0.9619047619047619, 0.9523809523809522, 0.9238095238095237, 0.9333333333333332, 0.9714285714285714, 0.9238095238095237, 0.9333333333333332, 0.9714285714285715, 0.9333333333333332, 0.9238095238095237, 0.9238095238095237, 0.9333333333333332, 0.942857142857143, 0.9619047619047619, 0.9523809523809522, 0.742857142857143, 0.9238095238095237, 0.9619047619047619, 0.9238095238095237, 0.8476190476190477, 0.9523809523809522, 0.8666666666666667, 0.9904761904761905]}, {\"categories\": [\"0\", \"1\", \"2\", \"3\", \"4\", \"5\", \"6\", \"7\", \"8\", \"9\", \"10\", \"11\", \"12\", \"13\", \"14\", \"15\", \"16\", \"17\", \"18\", \"19\", \"20\", \"21\", \"22\", \"23\", \"24\", \"25\", \"26\", \"27\", \"28\", \"29\", \"30\", \"31\", \"32\", \"33\", \"34\", \"35\", \"36\", \"37\", \"38\", \"39\", \"40\", \"41\", \"44\"], \"mode\": \"lines\", \"name\": \"f1_score_micro_max\", \"stepped\": true, \"type\": \"scatter\", \"data\": [0.942857142857143, 0.942857142857143, 0.942857142857143, 0.942857142857143, 0.942857142857143, 0.942857142857143, 0.942857142857143, 0.942857142857143, 0.9523809523809522, 0.9523809523809522, 0.9523809523809522, 0.9714285714285714, 0.9714285714285714, 0.9714285714285714, 0.9714285714285714, 0.9714285714285714, 0.9714285714285714, 0.9714285714285714, 0.9714285714285714, 0.9714285714285714, 0.9714285714285714, 0.9714285714285714, 0.9714285714285714, 0.9714285714285714, 0.9714285714285714, 0.9714285714285714, 0.9714285714285714, 0.9714285714285715, 0.9714285714285715, 0.9714285714285715, 0.9714285714285715, 0.9714285714285715, 0.9714285714285715, 0.9714285714285715, 0.9714285714285715, 0.9714285714285715, 0.9714285714285715, 0.9714285714285715, 0.9714285714285715, 0.9714285714285715, 0.9714285714285715, 0.9714285714285715, 0.9904761904761905]}], \"recall_score_micro\": [{\"categories\": [\"0\", \"1\", \"2\", \"3\", \"4\", \"5\", \"6\", \"7\", \"8\", \"9\", \"10\", \"11\", \"12\", \"13\", \"14\", \"15\", \"16\", \"17\", \"18\", \"19\", \"20\", \"21\", \"22\", \"23\", \"24\", \"25\", \"26\", \"27\", \"28\", \"29\", \"30\", \"31\", \"32\", \"33\", \"34\", \"35\", \"36\", \"37\", \"38\", \"39\", \"40\", \"41\", \"44\"], \"mode\": \"markers\", \"name\": \"recall_score_micro\", \"stepped\": false, \"type\": \"scatter\", \"data\": [0.942857142857143, 0.9333333333333332, 0.9238095238095237, 0.9238095238095237, 0.9333333333333332, 0.9238095238095237, 0.9333333333333332, 0.9047619047619047, 0.9523809523809522, 0.9238095238095237, 0.9238095238095237, 0.9714285714285714, 0.9714285714285714, 0.9523809523809522, 0.9238095238095237, 0.9428571428571427, 0.8666666666666667, 0.9142857142857143, 0.9238095238095237, 0.9142857142857143, 0.9619047619047619, 0.9523809523809522, 0.9238095238095237, 0.9333333333333332, 0.9714285714285714, 0.9238095238095237, 0.9333333333333332, 0.9714285714285715, 0.9333333333333332, 0.9238095238095237, 0.9238095238095237, 0.9333333333333332, 0.942857142857143, 0.9619047619047619, 0.9523809523809522, 0.7428571428571429, 0.9238095238095237, 0.9619047619047619, 0.9238095238095237, 0.8476190476190477, 0.9523809523809522, 0.8666666666666667, 0.9904761904761905]}, {\"categories\": [\"0\", \"1\", \"2\", \"3\", \"4\", \"5\", \"6\", \"7\", \"8\", \"9\", \"10\", \"11\", \"12\", \"13\", \"14\", \"15\", \"16\", \"17\", \"18\", \"19\", \"20\", \"21\", \"22\", \"23\", \"24\", \"25\", \"26\", \"27\", \"28\", \"29\", \"30\", \"31\", \"32\", \"33\", \"34\", \"35\", \"36\", \"37\", \"38\", \"39\", \"40\", \"41\", \"44\"], \"mode\": \"lines\", \"name\": \"recall_score_micro_max\", \"stepped\": true, \"type\": \"scatter\", \"data\": [0.942857142857143, 0.942857142857143, 0.942857142857143, 0.942857142857143, 0.942857142857143, 0.942857142857143, 0.942857142857143, 0.942857142857143, 0.9523809523809522, 0.9523809523809522, 0.9523809523809522, 0.9714285714285714, 0.9714285714285714, 0.9714285714285714, 0.9714285714285714, 0.9714285714285714, 0.9714285714285714, 0.9714285714285714, 0.9714285714285714, 0.9714285714285714, 0.9714285714285714, 0.9714285714285714, 0.9714285714285714, 0.9714285714285714, 0.9714285714285714, 0.9714285714285714, 0.9714285714285714, 0.9714285714285715, 0.9714285714285715, 0.9714285714285715, 0.9714285714285715, 0.9714285714285715, 0.9714285714285715, 0.9714285714285715, 0.9714285714285715, 0.9714285714285715, 0.9714285714285715, 0.9714285714285715, 0.9714285714285715, 0.9714285714285715, 0.9714285714285715, 0.9714285714285715, 0.9904761904761905]}], \"log_loss\": [{\"categories\": [\"0\", \"1\", \"2\", \"3\", \"4\", \"5\", \"6\", \"7\", \"8\", \"9\", \"10\", \"11\", \"12\", \"13\", \"14\", \"15\", \"16\", \"17\", \"18\", \"19\", \"20\", \"21\", \"22\", \"23\", \"24\", \"25\", \"26\", \"27\", \"28\", \"29\", \"30\", \"31\", \"32\", \"33\", \"34\", \"35\", \"36\", \"37\", \"38\", \"39\", \"40\", \"41\", \"44\"], \"mode\": \"markers\", \"name\": \"log_loss\", \"stepped\": false, \"type\": \"scatter\", \"data\": [0.12860986256552234, 0.2600259634963905, 0.16918437312534296, 0.1576200465054288, 0.18410141949139705, 0.24434780714150986, 0.22865693889642516, 0.48862055106640745, 0.11804304025948222, 0.31025386897795476, 0.24737454032762765, 0.26544403759236784, 0.12483985707813457, 0.18814558900360598, 0.25224427447958103, 0.23023212341250823, 0.6253797206284152, 0.3643146852614239, 0.2846705242536362, 0.4480986611376925, 0.5594863542256449, 0.4919889351051549, 0.4571648764116874, 0.4933274638006934, 0.17266078050104772, 0.3009435958204847, 0.5296666408362823, 0.33433061792677715, 0.515595629656489, 0.3200278512755685, 0.43489733053929247, 0.341922519210702, 0.12182015111219069, 0.21975074154843766, 0.12381280990078097, 0.958876404237604, 0.1434822654715816, 0.28867907710333923, 0.5396448165567587, 0.5668559988492471, 0.13547569383215458, 0.4032380009904432, 0.2134504271189105]}, {\"categories\": [\"0\", \"1\", \"2\", \"3\", \"4\", \"5\", \"6\", \"7\", \"8\", \"9\", \"10\", \"11\", \"12\", \"13\", \"14\", \"15\", \"16\", \"17\", \"18\", \"19\", \"20\", \"21\", \"22\", \"23\", \"24\", \"25\", \"26\", \"27\", \"28\", \"29\", \"30\", \"31\", \"32\", \"33\", \"34\", \"35\", \"36\", \"37\", \"38\", \"39\", \"40\", \"41\", \"44\"], \"mode\": \"lines\", \"name\": \"log_loss_min\", \"stepped\": true, \"type\": \"scatter\", \"data\": [0.12860986256552234, 0.12860986256552234, 0.12860986256552234, 0.12860986256552234, 0.12860986256552234, 0.12860986256552234, 0.12860986256552234, 0.12860986256552234, 0.11804304025948222, 0.11804304025948222, 0.11804304025948222, 0.11804304025948222, 0.11804304025948222, 0.11804304025948222, 0.11804304025948222, 0.11804304025948222, 0.11804304025948222, 0.11804304025948222, 0.11804304025948222, 0.11804304025948222, 0.11804304025948222, 0.11804304025948222, 0.11804304025948222, 0.11804304025948222, 0.11804304025948222, 0.11804304025948222, 0.11804304025948222, 0.11804304025948222, 0.11804304025948222, 0.11804304025948222, 0.11804304025948222, 0.11804304025948222, 0.11804304025948222, 0.11804304025948222, 0.11804304025948222, 0.11804304025948222, 0.11804304025948222, 0.11804304025948222, 0.11804304025948222, 0.11804304025948222, 0.11804304025948222, 0.11804304025948222, 0.11804304025948222]}], \"average_precision_score_weighted\": [{\"categories\": [\"0\", \"1\", \"2\", \"3\", \"4\", \"5\", \"6\", \"7\", \"8\", \"9\", \"10\", \"11\", \"12\", \"13\", \"14\", \"15\", \"16\", \"17\", \"18\", \"19\", \"20\", \"21\", \"22\", \"23\", \"24\", \"25\", \"26\", \"27\", \"28\", \"29\", \"30\", \"31\", \"32\", \"33\", \"34\", \"35\", \"36\", \"37\", \"38\", \"39\", \"40\", \"41\", \"44\"], \"mode\": \"markers\", \"name\": \"average_precision_score_weighted\", \"stepped\": false, \"type\": \"scatter\", \"data\": [0.9831260781415581, 0.9654837347931977, 0.983669902508912, 0.9885795083583672, 0.9817874050204879, 0.98717720208764, 0.9834485801027153, 0.9549310420789702, 0.9977934763649049, 0.9683380601657912, 0.9789917022872333, 0.9992673992673993, 0.9968410954125239, 0.9924981684981685, 0.982400180167761, 0.987423581709296, 0.9545663315831384, 0.9709365802755895, 0.9800143649248029, 0.9907813360489167, 0.9946107331821618, 0.9776207919065062, 0.9907813360489167, 0.9862622220605415, 0.9923542076217884, 0.9662162129236433, 0.9881212976745927, 1.0, 0.9888959105500459, 0.9873540177531774, 0.961923735044257, 0.984045029045029, 0.9932065817780104, 0.9899155351831159, 0.9883537758537759, 0.8358847297170278, 0.9923542076217884, 0.9918569177967674, 0.9838706277096368, 0.9028599569976509, 0.9927850466240559, 0.9429587915063751, 0.9992673992673992]}, {\"categories\": [\"0\", \"1\", \"2\", \"3\", \"4\", \"5\", \"6\", \"7\", \"8\", \"9\", \"10\", \"11\", \"12\", \"13\", \"14\", \"15\", \"16\", \"17\", \"18\", \"19\", \"20\", \"21\", \"22\", \"23\", \"24\", \"25\", \"26\", \"27\", \"28\", \"29\", \"30\", \"31\", \"32\", \"33\", \"34\", \"35\", \"36\", \"37\", \"38\", \"39\", \"40\", \"41\", \"44\"], \"mode\": \"lines\", \"name\": \"average_precision_score_weighted_max\", \"stepped\": true, \"type\": \"scatter\", \"data\": [0.9831260781415581, 0.9831260781415581, 0.983669902508912, 0.9885795083583672, 0.9885795083583672, 0.9885795083583672, 0.9885795083583672, 0.9885795083583672, 0.9977934763649049, 0.9977934763649049, 0.9977934763649049, 0.9992673992673993, 0.9992673992673993, 0.9992673992673993, 0.9992673992673993, 0.9992673992673993, 0.9992673992673993, 0.9992673992673993, 0.9992673992673993, 0.9992673992673993, 0.9992673992673993, 0.9992673992673993, 0.9992673992673993, 0.9992673992673993, 0.9992673992673993, 0.9992673992673993, 0.9992673992673993, 1.0, 1.0, 1.0, 1.0, 1.0, 1.0, 1.0, 1.0, 1.0, 1.0, 1.0, 1.0, 1.0, 1.0, 1.0, 1.0]}], \"f1_score_macro\": [{\"categories\": [\"0\", \"1\", \"2\", \"3\", \"4\", \"5\", \"6\", \"7\", \"8\", \"9\", \"10\", \"11\", \"12\", \"13\", \"14\", \"15\", \"16\", \"17\", \"18\", \"19\", \"20\", \"21\", \"22\", \"23\", \"24\", \"25\", \"26\", \"27\", \"28\", \"29\", \"30\", \"31\", \"32\", \"33\", \"34\", \"35\", \"36\", \"37\", \"38\", \"39\", \"40\", \"41\", \"44\"], \"mode\": \"markers\", \"name\": \"f1_score_macro\", \"stepped\": false, \"type\": \"scatter\", \"data\": [0.9399223098002656, 0.9289962426194309, 0.9197530864197531, 0.9197530864197531, 0.9289962426194309, 0.918213636977939, 0.9285911642636789, 0.9008921137740629, 0.951848632257989, 0.9152460862300679, 0.918213636977939, 0.9708026103907109, 0.9708026103907109, 0.951848632257989, 0.9197530864197531, 0.9402076318742986, 0.8599847949720073, 0.9081492247396138, 0.918213636977939, 0.9089060685399358, 0.9622590426683993, 0.951848632257989, 0.9197305606001258, 0.9286453119786452, 0.9672986387537472, 0.9197530864197531, 0.9274567931776169, 0.9683774683774685, 0.9274567931776169, 0.918213636977939, 0.918213636977939, 0.929038129038129, 0.941433313557646, 0.9566740926390049, 0.9497812297786873, 0.6346184951100886, 0.9197530864197531, 0.9566740926390049, 0.918213636977939, 0.8310726310726312, 0.9473987303201644, 0.858388741429677, 0.9893211289092295]}, {\"categories\": [\"0\", \"1\", \"2\", \"3\", \"4\", \"5\", \"6\", \"7\", \"8\", \"9\", \"10\", \"11\", \"12\", \"13\", \"14\", \"15\", \"16\", \"17\", \"18\", \"19\", \"20\", \"21\", \"22\", \"23\", \"24\", \"25\", \"26\", \"27\", \"28\", \"29\", \"30\", \"31\", \"32\", \"33\", \"34\", \"35\", \"36\", \"37\", \"38\", \"39\", \"40\", \"41\", \"44\"], \"mode\": \"lines\", \"name\": \"f1_score_macro_max\", \"stepped\": true, \"type\": \"scatter\", \"data\": [0.9399223098002656, 0.9399223098002656, 0.9399223098002656, 0.9399223098002656, 0.9399223098002656, 0.9399223098002656, 0.9399223098002656, 0.9399223098002656, 0.951848632257989, 0.951848632257989, 0.951848632257989, 0.9708026103907109, 0.9708026103907109, 0.9708026103907109, 0.9708026103907109, 0.9708026103907109, 0.9708026103907109, 0.9708026103907109, 0.9708026103907109, 0.9708026103907109, 0.9708026103907109, 0.9708026103907109, 0.9708026103907109, 0.9708026103907109, 0.9708026103907109, 0.9708026103907109, 0.9708026103907109, 0.9708026103907109, 0.9708026103907109, 0.9708026103907109, 0.9708026103907109, 0.9708026103907109, 0.9708026103907109, 0.9708026103907109, 0.9708026103907109, 0.9708026103907109, 0.9708026103907109, 0.9708026103907109, 0.9708026103907109, 0.9708026103907109, 0.9708026103907109, 0.9708026103907109, 0.9893211289092295]}], \"average_precision_score_macro\": [{\"categories\": [\"0\", \"1\", \"2\", \"3\", \"4\", \"5\", \"6\", \"7\", \"8\", \"9\", \"10\", \"11\", \"12\", \"13\", \"14\", \"15\", \"16\", \"17\", \"18\", \"19\", \"20\", \"21\", \"22\", \"23\", \"24\", \"25\", \"26\", \"27\", \"28\", \"29\", \"30\", \"31\", \"32\", \"33\", \"34\", \"35\", \"36\", \"37\", \"38\", \"39\", \"40\", \"41\", \"44\"], \"mode\": \"markers\", \"name\": \"average_precision_score_macro\", \"stepped\": false, \"type\": \"scatter\", \"data\": [0.9814006318487336, 0.9605425513466076, 0.980949584013498, 0.9861229136813608, 0.9772423617167055, 0.9840215995367808, 0.980616986359779, 0.9460999198725268, 0.9978354978354979, 0.9624353277876382, 0.9730488766075359, 0.9992877492877493, 0.9966009299342633, 0.99297372143526, 0.9791654519662082, 0.9858847678648247, 0.9451435909882885, 0.9618927091737633, 0.9743336266909131, 0.9889658511915588, 0.9940895866821792, 0.9737432913714965, 0.9889658511915588, 0.9832648379217006, 0.9907475571399313, 0.9518952185138162, 0.9854348803986831, 1.0, 0.986548478416306, 0.9843550918370321, 0.95059067965667, 0.9819847420172533, 0.9927198737740047, 0.9881241003498079, 0.9868864510500165, 0.8209321937923167, 0.9907475571399313, 0.9896118299445696, 0.9807339596263337, 0.8817110765118806, 0.9910121074044816, 0.93162294635945, 0.9992877492877493]}, {\"categories\": [\"0\", \"1\", \"2\", \"3\", \"4\", \"5\", \"6\", \"7\", \"8\", \"9\", \"10\", \"11\", \"12\", \"13\", \"14\", \"15\", \"16\", \"17\", \"18\", \"19\", \"20\", \"21\", \"22\", \"23\", \"24\", \"25\", \"26\", \"27\", \"28\", \"29\", \"30\", \"31\", \"32\", \"33\", \"34\", \"35\", \"36\", \"37\", \"38\", \"39\", \"40\", \"41\", \"44\"], \"mode\": \"lines\", \"name\": \"average_precision_score_macro_max\", \"stepped\": true, \"type\": \"scatter\", \"data\": [0.9814006318487336, 0.9814006318487336, 0.9814006318487336, 0.9861229136813608, 0.9861229136813608, 0.9861229136813608, 0.9861229136813608, 0.9861229136813608, 0.9978354978354979, 0.9978354978354979, 0.9978354978354979, 0.9992877492877493, 0.9992877492877493, 0.9992877492877493, 0.9992877492877493, 0.9992877492877493, 0.9992877492877493, 0.9992877492877493, 0.9992877492877493, 0.9992877492877493, 0.9992877492877493, 0.9992877492877493, 0.9992877492877493, 0.9992877492877493, 0.9992877492877493, 0.9992877492877493, 0.9992877492877493, 1.0, 1.0, 1.0, 1.0, 1.0, 1.0, 1.0, 1.0, 1.0, 1.0, 1.0, 1.0, 1.0, 1.0, 1.0, 1.0]}], \"weighted_accuracy\": [{\"categories\": [\"0\", \"1\", \"2\", \"3\", \"4\", \"5\", \"6\", \"7\", \"8\", \"9\", \"10\", \"11\", \"12\", \"13\", \"14\", \"15\", \"16\", \"17\", \"18\", \"19\", \"20\", \"21\", \"22\", \"23\", \"24\", \"25\", \"26\", \"27\", \"28\", \"29\", \"30\", \"31\", \"32\", \"33\", \"34\", \"35\", \"36\", \"37\", \"38\", \"39\", \"40\", \"41\", \"44\"], \"mode\": \"markers\", \"name\": \"weighted_accuracy\", \"stepped\": false, \"type\": \"scatter\", \"data\": [0.936506678186368, 0.9293807874500258, 0.9188373973445921, 0.9188373973445921, 0.9293807874500258, 0.9222350555888719, 0.932237116876541, 0.8964373638034001, 0.9454284673247414, 0.9280262393127715, 0.9222350555888719, 0.9694120321406761, 0.9694120321406761, 0.9454284673247414, 0.9188373973445921, 0.9341131527067482, 0.8573904107525981, 0.911691665483438, 0.9222350555888719, 0.911691665483438, 0.9583273132174773, 0.9454284673247414, 0.9188175562197801, 0.931736243237328, 0.9752230569893877, 0.9188373973445921, 0.9327784456943058, 0.968098778810352, 0.9327784456943058, 0.9222350555888719, 0.9222350555888719, 0.929360946325214, 0.9346930102659909, 0.9657218693409316, 0.9512196510486411, 0.767912764243655, 0.9188373973445921, 0.9657218693409316, 0.9222350555888719, 0.8549523653514356, 0.9551784792354977, 0.8663089747763589, 0.9904988123515439]}, {\"categories\": [\"0\", \"1\", \"2\", \"3\", \"4\", \"5\", \"6\", \"7\", \"8\", \"9\", \"10\", \"11\", \"12\", \"13\", \"14\", \"15\", \"16\", \"17\", \"18\", \"19\", \"20\", \"21\", \"22\", \"23\", \"24\", \"25\", \"26\", \"27\", \"28\", \"29\", \"30\", \"31\", \"32\", \"33\", \"34\", \"35\", \"36\", \"37\", \"38\", \"39\", \"40\", \"41\", \"44\"], \"mode\": \"lines\", \"name\": \"weighted_accuracy_max\", \"stepped\": true, \"type\": \"scatter\", \"data\": [0.936506678186368, 0.936506678186368, 0.936506678186368, 0.936506678186368, 0.936506678186368, 0.936506678186368, 0.936506678186368, 0.936506678186368, 0.9454284673247414, 0.9454284673247414, 0.9454284673247414, 0.9694120321406761, 0.9694120321406761, 0.9694120321406761, 0.9694120321406761, 0.9694120321406761, 0.9694120321406761, 0.9694120321406761, 0.9694120321406761, 0.9694120321406761, 0.9694120321406761, 0.9694120321406761, 0.9694120321406761, 0.9694120321406761, 0.9752230569893877, 0.9752230569893877, 0.9752230569893877, 0.9752230569893877, 0.9752230569893877, 0.9752230569893877, 0.9752230569893877, 0.9752230569893877, 0.9752230569893877, 0.9752230569893877, 0.9752230569893877, 0.9752230569893877, 0.9752230569893877, 0.9752230569893877, 0.9752230569893877, 0.9752230569893877, 0.9752230569893877, 0.9752230569893877, 0.9904988123515439]}], \"average_precision_score_micro\": [{\"categories\": [\"0\", \"1\", \"2\", \"3\", \"4\", \"5\", \"6\", \"7\", \"8\", \"9\", \"10\", \"11\", \"12\", \"13\", \"14\", \"15\", \"16\", \"17\", \"18\", \"19\", \"20\", \"21\", \"22\", \"23\", \"24\", \"25\", \"26\", \"27\", \"28\", \"29\", \"30\", \"31\", \"32\", \"33\", \"34\", \"35\", \"36\", \"37\", \"38\", \"39\", \"40\", \"41\", \"44\"], \"mode\": \"markers\", \"name\": \"average_precision_score_micro\", \"stepped\": false, \"type\": \"scatter\", \"data\": [0.9867605414031845, 0.9541279276626389, 0.9867286574701186, 0.989326148877336, 0.9763045111957771, 0.9856962650145084, 0.9834598187064962, 0.9560485120834947, 0.9966132651891165, 0.9701245614879467, 0.9800015191121768, 0.9963411735282589, 0.9955964697456294, 0.9839208782671515, 0.9849549305434708, 0.9863813289647695, 0.9440410000662633, 0.9708504499226672, 0.9815720292906577, 0.9863402331712635, 0.9946966603892217, 0.970558424423705, 0.9879490389174084, 0.9777305198955317, 0.994916718843753, 0.9678772808737897, 0.9910738829264746, 0.9978857571736829, 0.990090847450765, 0.9882430747715777, 0.9570412170200844, 0.9894051438304451, 0.9932850541613257, 0.9921058153395723, 0.9929061227663368, 0.854998927714699, 0.991739532617252, 0.9951685369549255, 0.9876360836437709, 0.9226144114315483, 0.9925312156792625, 0.9525279853157359, 0.9994851994851995]}, {\"categories\": [\"0\", \"1\", \"2\", \"3\", \"4\", \"5\", \"6\", \"7\", \"8\", \"9\", \"10\", \"11\", \"12\", \"13\", \"14\", \"15\", \"16\", \"17\", \"18\", \"19\", \"20\", \"21\", \"22\", \"23\", \"24\", \"25\", \"26\", \"27\", \"28\", \"29\", \"30\", \"31\", \"32\", \"33\", \"34\", \"35\", \"36\", \"37\", \"38\", \"39\", \"40\", \"41\", \"44\"], \"mode\": \"lines\", \"name\": \"average_precision_score_micro_max\", \"stepped\": true, \"type\": \"scatter\", \"data\": [0.9867605414031845, 0.9867605414031845, 0.9867605414031845, 0.989326148877336, 0.989326148877336, 0.989326148877336, 0.989326148877336, 0.989326148877336, 0.9966132651891165, 0.9966132651891165, 0.9966132651891165, 0.9966132651891165, 0.9966132651891165, 0.9966132651891165, 0.9966132651891165, 0.9966132651891165, 0.9966132651891165, 0.9966132651891165, 0.9966132651891165, 0.9966132651891165, 0.9966132651891165, 0.9966132651891165, 0.9966132651891165, 0.9966132651891165, 0.9966132651891165, 0.9966132651891165, 0.9966132651891165, 0.9978857571736829, 0.9978857571736829, 0.9978857571736829, 0.9978857571736829, 0.9978857571736829, 0.9978857571736829, 0.9978857571736829, 0.9978857571736829, 0.9978857571736829, 0.9978857571736829, 0.9978857571736829, 0.9978857571736829, 0.9978857571736829, 0.9978857571736829, 0.9978857571736829, 0.9994851994851995]}], \"precision_score_macro\": [{\"categories\": [\"0\", \"1\", \"2\", \"3\", \"4\", \"5\", \"6\", \"7\", \"8\", \"9\", \"10\", \"11\", \"12\", \"13\", \"14\", \"15\", \"16\", \"17\", \"18\", \"19\", \"20\", \"21\", \"22\", \"23\", \"24\", \"25\", \"26\", \"27\", \"28\", \"29\", \"30\", \"31\", \"32\", \"33\", \"34\", \"35\", \"36\", \"37\", \"38\", \"39\", \"40\", \"41\", \"44\"], \"mode\": \"markers\", \"name\": \"precision_score_macro\", \"stepped\": false, \"type\": \"scatter\", \"data\": [0.9360566448801743, 0.9255628177196803, 0.9177280598849226, 0.9177280598849226, 0.9255628177196803, 0.9166321332988, 0.9253086419753087, 0.8991938616938616, 0.9486467236467236, 0.9149755702387282, 0.9166321332988, 0.9717948717948719, 0.9717948717948719, 0.9486467236467236, 0.9177280598849226, 0.9380126046792713, 0.8681776556776556, 0.9073728740395407, 0.9166321332988, 0.9099166265832932, 0.9625356125356125, 0.9486467236467236, 0.9220378387045054, 0.9273504273504273, 0.9697320223636013, 0.9177280598849226, 0.9244668911335578, 0.9659090909090909, 0.9244668911335578, 0.9166321332988, 0.9166321332988, 0.9287533454200121, 0.9364197530864198, 0.9566740926390049, 0.9486494012809802, 0.5977804359383306, 0.9177280598849226, 0.9566740926390049, 0.9166321332988, 0.8660651440063205, 0.9474148333797455, 0.8676691729323309, 0.9888888888888889]}, {\"categories\": [\"0\", \"1\", \"2\", \"3\", \"4\", \"5\", \"6\", \"7\", \"8\", \"9\", \"10\", \"11\", \"12\", \"13\", \"14\", \"15\", \"16\", \"17\", \"18\", \"19\", \"20\", \"21\", \"22\", \"23\", \"24\", \"25\", \"26\", \"27\", \"28\", \"29\", \"30\", \"31\", \"32\", \"33\", \"34\", \"35\", \"36\", \"37\", \"38\", \"39\", \"40\", \"41\", \"44\"], \"mode\": \"lines\", \"name\": \"precision_score_macro_max\", \"stepped\": true, \"type\": \"scatter\", \"data\": [0.9360566448801743, 0.9360566448801743, 0.9360566448801743, 0.9360566448801743, 0.9360566448801743, 0.9360566448801743, 0.9360566448801743, 0.9360566448801743, 0.9486467236467236, 0.9486467236467236, 0.9486467236467236, 0.9717948717948719, 0.9717948717948719, 0.9717948717948719, 0.9717948717948719, 0.9717948717948719, 0.9717948717948719, 0.9717948717948719, 0.9717948717948719, 0.9717948717948719, 0.9717948717948719, 0.9717948717948719, 0.9717948717948719, 0.9717948717948719, 0.9717948717948719, 0.9717948717948719, 0.9717948717948719, 0.9717948717948719, 0.9717948717948719, 0.9717948717948719, 0.9717948717948719, 0.9717948717948719, 0.9717948717948719, 0.9717948717948719, 0.9717948717948719, 0.9717948717948719, 0.9717948717948719, 0.9717948717948719, 0.9717948717948719, 0.9717948717948719, 0.9717948717948719, 0.9717948717948719, 0.9888888888888889]}], \"AUC_macro\": [{\"categories\": [\"0\", \"1\", \"2\", \"3\", \"4\", \"5\", \"6\", \"7\", \"8\", \"9\", \"10\", \"11\", \"12\", \"13\", \"14\", \"15\", \"16\", \"17\", \"18\", \"19\", \"20\", \"21\", \"22\", \"23\", \"24\", \"25\", \"26\", \"27\", \"28\", \"29\", \"30\", \"31\", \"32\", \"33\", \"34\", \"35\", \"36\", \"37\", \"38\", \"39\", \"40\", \"41\", \"44\"], \"mode\": \"markers\", \"name\": \"AUC_macro\", \"stepped\": false, \"type\": \"scatter\", \"data\": [0.9884635015056177, 0.9800085844510766, 0.9908362819615135, 0.9933165264938992, 0.9910915996544469, 0.9922482599147086, 0.9884424158288168, 0.9766921029724779, 0.9987880477010913, 0.9781856823714183, 0.9875671287897506, 0.9995974235104671, 0.9983132138929242, 0.993705167618211, 0.989304888475369, 0.9935214744997354, 0.9739698591175108, 0.9848986981764578, 0.988440316257141, 0.9941501203283377, 0.997471932254541, 0.9869159337327039, 0.9941501203283377, 0.9933449673492717, 0.9950275306260378, 0.9778220978912926, 0.9927780739252353, 1.0, 0.9933449673492717, 0.9922853393282183, 0.9809325221088324, 0.9909545430072292, 0.996223851296315, 0.9937475438388046, 0.9944480677427174, 0.8883362630774639, 0.9950275306260378, 0.9954480079044208, 0.9902353774670436, 0.9356617360458485, 0.9953930277020612, 0.9598697846150718, 0.9995974235104671]}, {\"categories\": [\"0\", \"1\", \"2\", \"3\", \"4\", \"5\", \"6\", \"7\", \"8\", \"9\", \"10\", \"11\", \"12\", \"13\", \"14\", \"15\", \"16\", \"17\", \"18\", \"19\", \"20\", \"21\", \"22\", \"23\", \"24\", \"25\", \"26\", \"27\", \"28\", \"29\", \"30\", \"31\", \"32\", \"33\", \"34\", \"35\", \"36\", \"37\", \"38\", \"39\", \"40\", \"41\", \"44\"], \"mode\": \"lines\", \"name\": \"AUC_macro_max\", \"stepped\": true, \"type\": \"scatter\", \"data\": [0.9884635015056177, 0.9884635015056177, 0.9908362819615135, 0.9933165264938992, 0.9933165264938992, 0.9933165264938992, 0.9933165264938992, 0.9933165264938992, 0.9987880477010913, 0.9987880477010913, 0.9987880477010913, 0.9995974235104671, 0.9995974235104671, 0.9995974235104671, 0.9995974235104671, 0.9995974235104671, 0.9995974235104671, 0.9995974235104671, 0.9995974235104671, 0.9995974235104671, 0.9995974235104671, 0.9995974235104671, 0.9995974235104671, 0.9995974235104671, 0.9995974235104671, 0.9995974235104671, 0.9995974235104671, 1.0, 1.0, 1.0, 1.0, 1.0, 1.0, 1.0, 1.0, 1.0, 1.0, 1.0, 1.0, 1.0, 1.0, 1.0, 1.0]}], \"f1_score_weighted\": [{\"categories\": [\"0\", \"1\", \"2\", \"3\", \"4\", \"5\", \"6\", \"7\", \"8\", \"9\", \"10\", \"11\", \"12\", \"13\", \"14\", \"15\", \"16\", \"17\", \"18\", \"19\", \"20\", \"21\", \"22\", \"23\", \"24\", \"25\", \"26\", \"27\", \"28\", \"29\", \"30\", \"31\", \"32\", \"33\", \"34\", \"35\", \"36\", \"37\", \"38\", \"39\", \"40\", \"41\", \"44\"], \"mode\": \"markers\", \"name\": \"f1_score_weighted\", \"stepped\": false, \"type\": \"scatter\", \"data\": [0.944240044555834, 0.9346726478030826, 0.9251322751322751, 0.9251322751322751, 0.9346726478030826, 0.9245065660626302, 0.9344751267558286, 0.9070535307944688, 0.952643972293095, 0.9239568486433475, 0.9245065660626302, 0.9714721586575134, 0.9714721586575134, 0.952643972293095, 0.9251322751322751, 0.9436050986050986, 0.8681589821699432, 0.9141200926326786, 0.9245065660626302, 0.9148336882158393, 0.9619790216281444, 0.952643972293095, 0.9243133161394032, 0.933899613899614, 0.9713389355742298, 0.9251322751322751, 0.9340469387334377, 0.9717039117039117, 0.9340469387334377, 0.9245065660626302, 0.9245065660626302, 0.9339861939861941, 0.9436117951884541, 0.9619047619047619, 0.9524717752513329, 0.6637656588541367, 0.9251322751322751, 0.9619047619047619, 0.9245065660626302, 0.8424283652855081, 0.9523975155279504, 0.8667614572376476, 0.9905197777051323]}, {\"categories\": [\"0\", \"1\", \"2\", \"3\", \"4\", \"5\", \"6\", \"7\", \"8\", \"9\", \"10\", \"11\", \"12\", \"13\", \"14\", \"15\", \"16\", \"17\", \"18\", \"19\", \"20\", \"21\", \"22\", \"23\", \"24\", \"25\", \"26\", \"27\", \"28\", \"29\", \"30\", \"31\", \"32\", \"33\", \"34\", \"35\", \"36\", \"37\", \"38\", \"39\", \"40\", \"41\", \"44\"], \"mode\": \"lines\", \"name\": \"f1_score_weighted_max\", \"stepped\": true, \"type\": \"scatter\", \"data\": [0.944240044555834, 0.944240044555834, 0.944240044555834, 0.944240044555834, 0.944240044555834, 0.944240044555834, 0.944240044555834, 0.944240044555834, 0.952643972293095, 0.952643972293095, 0.952643972293095, 0.9714721586575134, 0.9714721586575134, 0.9714721586575134, 0.9714721586575134, 0.9714721586575134, 0.9714721586575134, 0.9714721586575134, 0.9714721586575134, 0.9714721586575134, 0.9714721586575134, 0.9714721586575134, 0.9714721586575134, 0.9714721586575134, 0.9714721586575134, 0.9714721586575134, 0.9714721586575134, 0.9717039117039117, 0.9717039117039117, 0.9717039117039117, 0.9717039117039117, 0.9717039117039117, 0.9717039117039117, 0.9717039117039117, 0.9717039117039117, 0.9717039117039117, 0.9717039117039117, 0.9717039117039117, 0.9717039117039117, 0.9717039117039117, 0.9717039117039117, 0.9717039117039117, 0.9905197777051323]}], \"recall_score_weighted\": [{\"categories\": [\"0\", \"1\", \"2\", \"3\", \"4\", \"5\", \"6\", \"7\", \"8\", \"9\", \"10\", \"11\", \"12\", \"13\", \"14\", \"15\", \"16\", \"17\", \"18\", \"19\", \"20\", \"21\", \"22\", \"23\", \"24\", \"25\", \"26\", \"27\", \"28\", \"29\", \"30\", \"31\", \"32\", \"33\", \"34\", \"35\", \"36\", \"37\", \"38\", \"39\", \"40\", \"41\", \"44\"], \"mode\": \"markers\", \"name\": \"recall_score_weighted\", \"stepped\": false, \"type\": \"scatter\", \"data\": [0.942857142857143, 0.9333333333333332, 0.9238095238095237, 0.9238095238095237, 0.9333333333333332, 0.9238095238095237, 0.9333333333333332, 0.9047619047619047, 0.9523809523809522, 0.9238095238095237, 0.9238095238095237, 0.9714285714285714, 0.9714285714285714, 0.9523809523809522, 0.9238095238095237, 0.9428571428571427, 0.8666666666666667, 0.9142857142857143, 0.9238095238095237, 0.9142857142857143, 0.9619047619047619, 0.9523809523809522, 0.9238095238095237, 0.9333333333333332, 0.9714285714285714, 0.9238095238095237, 0.9333333333333332, 0.9714285714285715, 0.9333333333333332, 0.9238095238095237, 0.9238095238095237, 0.9333333333333332, 0.942857142857143, 0.9619047619047619, 0.9523809523809522, 0.7428571428571429, 0.9238095238095237, 0.9619047619047619, 0.9238095238095237, 0.8476190476190477, 0.9523809523809522, 0.8666666666666667, 0.9904761904761905]}, {\"categories\": [\"0\", \"1\", \"2\", \"3\", \"4\", \"5\", \"6\", \"7\", \"8\", \"9\", \"10\", \"11\", \"12\", \"13\", \"14\", \"15\", \"16\", \"17\", \"18\", \"19\", \"20\", \"21\", \"22\", \"23\", \"24\", \"25\", \"26\", \"27\", \"28\", \"29\", \"30\", \"31\", \"32\", \"33\", \"34\", \"35\", \"36\", \"37\", \"38\", \"39\", \"40\", \"41\", \"44\"], \"mode\": \"lines\", \"name\": \"recall_score_weighted_max\", \"stepped\": true, \"type\": \"scatter\", \"data\": [0.942857142857143, 0.942857142857143, 0.942857142857143, 0.942857142857143, 0.942857142857143, 0.942857142857143, 0.942857142857143, 0.942857142857143, 0.9523809523809522, 0.9523809523809522, 0.9523809523809522, 0.9714285714285714, 0.9714285714285714, 0.9714285714285714, 0.9714285714285714, 0.9714285714285714, 0.9714285714285714, 0.9714285714285714, 0.9714285714285714, 0.9714285714285714, 0.9714285714285714, 0.9714285714285714, 0.9714285714285714, 0.9714285714285714, 0.9714285714285714, 0.9714285714285714, 0.9714285714285714, 0.9714285714285715, 0.9714285714285715, 0.9714285714285715, 0.9714285714285715, 0.9714285714285715, 0.9714285714285715, 0.9714285714285715, 0.9714285714285715, 0.9714285714285715, 0.9714285714285715, 0.9714285714285715, 0.9714285714285715, 0.9714285714285715, 0.9714285714285715, 0.9714285714285715, 0.9904761904761905]}], \"accuracy\": [{\"categories\": [\"0\", \"1\", \"2\", \"3\", \"4\", \"5\", \"6\", \"7\", \"8\", \"9\", \"10\", \"11\", \"12\", \"13\", \"14\", \"15\", \"16\", \"17\", \"18\", \"19\", \"20\", \"21\", \"22\", \"23\", \"24\", \"25\", \"26\", \"27\", \"28\", \"29\", \"30\", \"31\", \"32\", \"33\", \"34\", \"35\", \"36\", \"37\", \"38\", \"39\", \"40\", \"41\", \"44\"], \"mode\": \"markers\", \"name\": \"accuracy\", \"stepped\": false, \"type\": \"scatter\", \"data\": [0.942857142857143, 0.9333333333333332, 0.9238095238095237, 0.9238095238095237, 0.9333333333333332, 0.9238095238095237, 0.9333333333333332, 0.9047619047619047, 0.9523809523809522, 0.9238095238095237, 0.9238095238095237, 0.9714285714285714, 0.9714285714285714, 0.9523809523809522, 0.9238095238095237, 0.9428571428571427, 0.8666666666666667, 0.9142857142857143, 0.9238095238095237, 0.9142857142857143, 0.9619047619047619, 0.9523809523809522, 0.9238095238095237, 0.9333333333333332, 0.9714285714285714, 0.9238095238095237, 0.9333333333333332, 0.9714285714285715, 0.9333333333333332, 0.9238095238095237, 0.9238095238095237, 0.9333333333333332, 0.942857142857143, 0.9619047619047619, 0.9523809523809522, 0.7428571428571429, 0.9238095238095237, 0.9619047619047619, 0.9238095238095237, 0.8476190476190477, 0.9523809523809522, 0.8666666666666667, 0.9904761904761905]}, {\"categories\": [\"0\", \"1\", \"2\", \"3\", \"4\", \"5\", \"6\", \"7\", \"8\", \"9\", \"10\", \"11\", \"12\", \"13\", \"14\", \"15\", \"16\", \"17\", \"18\", \"19\", \"20\", \"21\", \"22\", \"23\", \"24\", \"25\", \"26\", \"27\", \"28\", \"29\", \"30\", \"31\", \"32\", \"33\", \"34\", \"35\", \"36\", \"37\", \"38\", \"39\", \"40\", \"41\", \"44\"], \"mode\": \"lines\", \"name\": \"accuracy_max\", \"stepped\": true, \"type\": \"scatter\", \"data\": [0.942857142857143, 0.942857142857143, 0.942857142857143, 0.942857142857143, 0.942857142857143, 0.942857142857143, 0.942857142857143, 0.942857142857143, 0.9523809523809522, 0.9523809523809522, 0.9523809523809522, 0.9714285714285714, 0.9714285714285714, 0.9714285714285714, 0.9714285714285714, 0.9714285714285714, 0.9714285714285714, 0.9714285714285714, 0.9714285714285714, 0.9714285714285714, 0.9714285714285714, 0.9714285714285714, 0.9714285714285714, 0.9714285714285714, 0.9714285714285714, 0.9714285714285714, 0.9714285714285714, 0.9714285714285715, 0.9714285714285715, 0.9714285714285715, 0.9714285714285715, 0.9714285714285715, 0.9714285714285715, 0.9714285714285715, 0.9714285714285715, 0.9714285714285715, 0.9714285714285715, 0.9714285714285715, 0.9714285714285715, 0.9714285714285715, 0.9714285714285715, 0.9714285714285715, 0.9904761904761905]}], \"precision_score_micro\": [{\"categories\": [\"0\", \"1\", \"2\", \"3\", \"4\", \"5\", \"6\", \"7\", \"8\", \"9\", \"10\", \"11\", \"12\", \"13\", \"14\", \"15\", \"16\", \"17\", \"18\", \"19\", \"20\", \"21\", \"22\", \"23\", \"24\", \"25\", \"26\", \"27\", \"28\", \"29\", \"30\", \"31\", \"32\", \"33\", \"34\", \"35\", \"36\", \"37\", \"38\", \"39\", \"40\", \"41\", \"44\"], \"mode\": \"markers\", \"name\": \"precision_score_micro\", \"stepped\": false, \"type\": \"scatter\", \"data\": [0.942857142857143, 0.9333333333333332, 0.9238095238095237, 0.9238095238095237, 0.9333333333333332, 0.9238095238095237, 0.9333333333333332, 0.9047619047619047, 0.9523809523809522, 0.9238095238095237, 0.9238095238095237, 0.9714285714285714, 0.9714285714285714, 0.9523809523809522, 0.9238095238095237, 0.9428571428571427, 0.8666666666666667, 0.9142857142857143, 0.9238095238095237, 0.9142857142857143, 0.9619047619047619, 0.9523809523809522, 0.9238095238095237, 0.9333333333333332, 0.9714285714285714, 0.9238095238095237, 0.9333333333333332, 0.9714285714285715, 0.9333333333333332, 0.9238095238095237, 0.9238095238095237, 0.9333333333333332, 0.942857142857143, 0.9619047619047619, 0.9523809523809522, 0.7428571428571429, 0.9238095238095237, 0.9619047619047619, 0.9238095238095237, 0.8476190476190477, 0.9523809523809522, 0.8666666666666667, 0.9904761904761905]}, {\"categories\": [\"0\", \"1\", \"2\", \"3\", \"4\", \"5\", \"6\", \"7\", \"8\", \"9\", \"10\", \"11\", \"12\", \"13\", \"14\", \"15\", \"16\", \"17\", \"18\", \"19\", \"20\", \"21\", \"22\", \"23\", \"24\", \"25\", \"26\", \"27\", \"28\", \"29\", \"30\", \"31\", \"32\", \"33\", \"34\", \"35\", \"36\", \"37\", \"38\", \"39\", \"40\", \"41\", \"44\"], \"mode\": \"lines\", \"name\": \"precision_score_micro_max\", \"stepped\": true, \"type\": \"scatter\", \"data\": [0.942857142857143, 0.942857142857143, 0.942857142857143, 0.942857142857143, 0.942857142857143, 0.942857142857143, 0.942857142857143, 0.942857142857143, 0.9523809523809522, 0.9523809523809522, 0.9523809523809522, 0.9714285714285714, 0.9714285714285714, 0.9714285714285714, 0.9714285714285714, 0.9714285714285714, 0.9714285714285714, 0.9714285714285714, 0.9714285714285714, 0.9714285714285714, 0.9714285714285714, 0.9714285714285714, 0.9714285714285714, 0.9714285714285714, 0.9714285714285714, 0.9714285714285714, 0.9714285714285714, 0.9714285714285715, 0.9714285714285715, 0.9714285714285715, 0.9714285714285715, 0.9714285714285715, 0.9714285714285715, 0.9714285714285715, 0.9714285714285715, 0.9714285714285715, 0.9714285714285715, 0.9714285714285715, 0.9714285714285715, 0.9714285714285715, 0.9714285714285715, 0.9714285714285715, 0.9904761904761905]}], \"precision_score_weighted\": [{\"categories\": [\"0\", \"1\", \"2\", \"3\", \"4\", \"5\", \"6\", \"7\", \"8\", \"9\", \"10\", \"11\", \"12\", \"13\", \"14\", \"15\", \"16\", \"17\", \"18\", \"19\", \"20\", \"21\", \"22\", \"23\", \"24\", \"25\", \"26\", \"27\", \"28\", \"29\", \"30\", \"31\", \"32\", \"33\", \"34\", \"35\", \"36\", \"37\", \"38\", \"39\", \"40\", \"41\", \"44\"], \"mode\": \"markers\", \"name\": \"precision_score_weighted\", \"stepped\": false, \"type\": \"scatter\", \"data\": [0.9498319327731092, 0.9393557422969186, 0.9319686849098613, 0.9319686849098613, 0.9393557422969186, 0.9296307396307396, 0.9370899470899471, 0.9183741258741259, 0.9574542124542124, 0.9256421356421356, 0.9296307396307396, 0.9753113553113554, 0.9753113553113554, 0.9574542124542124, 0.9319686849098613, 0.9534835534835535, 0.8923220826792254, 0.9209005809005809, 0.9296307396307396, 0.9232989761561189, 0.9657875457875459, 0.9574542124542124, 0.9352470281041709, 0.938115588115588, 0.9721611721611723, 0.9319686849098613, 0.937017797017797, 0.9760822510822512, 0.937017797017797, 0.9296307396307396, 0.9296307396307396, 0.9415787915787917, 0.9488359788359788, 0.9619047619047619, 0.954126984126984, 0.6210738968633706, 0.9319686849098613, 0.9619047619047619, 0.9296307396307396, 0.8765887893618985, 0.953174603174603, 0.8825396825396825, 0.9914285714285714]}, {\"categories\": [\"0\", \"1\", \"2\", \"3\", \"4\", \"5\", \"6\", \"7\", \"8\", \"9\", \"10\", \"11\", \"12\", \"13\", \"14\", \"15\", \"16\", \"17\", \"18\", \"19\", \"20\", \"21\", \"22\", \"23\", \"24\", \"25\", \"26\", \"27\", \"28\", \"29\", \"30\", \"31\", \"32\", \"33\", \"34\", \"35\", \"36\", \"37\", \"38\", \"39\", \"40\", \"41\", \"44\"], \"mode\": \"lines\", \"name\": \"precision_score_weighted_max\", \"stepped\": true, \"type\": \"scatter\", \"data\": [0.9498319327731092, 0.9498319327731092, 0.9498319327731092, 0.9498319327731092, 0.9498319327731092, 0.9498319327731092, 0.9498319327731092, 0.9498319327731092, 0.9574542124542124, 0.9574542124542124, 0.9574542124542124, 0.9753113553113554, 0.9753113553113554, 0.9753113553113554, 0.9753113553113554, 0.9753113553113554, 0.9753113553113554, 0.9753113553113554, 0.9753113553113554, 0.9753113553113554, 0.9753113553113554, 0.9753113553113554, 0.9753113553113554, 0.9753113553113554, 0.9753113553113554, 0.9753113553113554, 0.9753113553113554, 0.9760822510822512, 0.9760822510822512, 0.9760822510822512, 0.9760822510822512, 0.9760822510822512, 0.9760822510822512, 0.9760822510822512, 0.9760822510822512, 0.9760822510822512, 0.9760822510822512, 0.9760822510822512, 0.9760822510822512, 0.9760822510822512, 0.9760822510822512, 0.9760822510822512, 0.9914285714285714]}], \"AUC_weighted\": [{\"categories\": [\"0\", \"1\", \"2\", \"3\", \"4\", \"5\", \"6\", \"7\", \"8\", \"9\", \"10\", \"11\", \"12\", \"13\", \"14\", \"15\", \"16\", \"17\", \"18\", \"19\", \"20\", \"21\", \"22\", \"23\", \"24\", \"25\", \"26\", \"27\", \"28\", \"29\", \"30\", \"31\", \"32\", \"33\", \"34\", \"35\", \"36\", \"37\", \"38\", \"39\", \"40\", \"41\", \"44\"], \"mode\": \"markers\", \"name\": \"AUC_weighted\", \"stepped\": false, \"type\": \"scatter\", \"data\": [0.9894407093941254, 0.9800444508907242, 0.9910742682093613, 0.993354122585489, 0.9915935729212126, 0.9924129183445954, 0.9888921120287582, 0.9768519782494938, 0.9987561954953259, 0.9790711100493709, 0.988253361545287, 0.9995859213250519, 0.9983898951290255, 0.9931645649036952, 0.9890926102882625, 0.9940731370079195, 0.9729553917442116, 0.985593323170963, 0.9890321721067062, 0.9941025072236253, 0.9975856269334531, 0.9875218208292743, 0.9941025072236253, 0.993274349873729, 0.9948828862648739, 0.9809222351147816, 0.9929342138193071, 1.0, 0.9932743498737288, 0.9922317589243055, 0.9820882533615453, 0.9911429409100215, 0.9963657115831029, 0.9936884285486771, 0.9946252849979557, 0.8946986760651358, 0.9948828862648739, 0.9956331194685232, 0.9903425249698542, 0.9418326497519044, 0.9954781243601118, 0.9634556523531678, 0.9995859213250519]}, {\"categories\": [\"0\", \"1\", \"2\", \"3\", \"4\", \"5\", \"6\", \"7\", \"8\", \"9\", \"10\", \"11\", \"12\", \"13\", \"14\", \"15\", \"16\", \"17\", \"18\", \"19\", \"20\", \"21\", \"22\", \"23\", \"24\", \"25\", \"26\", \"27\", \"28\", \"29\", \"30\", \"31\", \"32\", \"33\", \"34\", \"35\", \"36\", \"37\", \"38\", \"39\", \"40\", \"41\", \"44\"], \"mode\": \"lines\", \"name\": \"AUC_weighted_max\", \"stepped\": true, \"type\": \"scatter\", \"data\": [0.9894407093941254, 0.9894407093941254, 0.9910742682093613, 0.993354122585489, 0.993354122585489, 0.993354122585489, 0.993354122585489, 0.993354122585489, 0.9987561954953259, 0.9987561954953259, 0.9987561954953259, 0.9995859213250519, 0.9995859213250519, 0.9995859213250519, 0.9995859213250519, 0.9995859213250519, 0.9995859213250519, 0.9995859213250519, 0.9995859213250519, 0.9995859213250519, 0.9995859213250519, 0.9995859213250519, 0.9995859213250519, 0.9995859213250519, 0.9995859213250519, 0.9995859213250519, 0.9995859213250519, 1.0, 1.0, 1.0, 1.0, 1.0, 1.0, 1.0, 1.0, 1.0, 1.0, 1.0, 1.0, 1.0, 1.0, 1.0, 1.0]}], \"AUC_micro\": [{\"categories\": [\"0\", \"1\", \"2\", \"3\", \"4\", \"5\", \"6\", \"7\", \"8\", \"9\", \"10\", \"11\", \"12\", \"13\", \"14\", \"15\", \"16\", \"17\", \"18\", \"19\", \"20\", \"21\", \"22\", \"23\", \"24\", \"25\", \"26\", \"27\", \"28\", \"29\", \"30\", \"31\", \"32\", \"33\", \"34\", \"35\", \"36\", \"37\", \"38\", \"39\", \"40\", \"41\", \"44\"], \"mode\": \"markers\", \"name\": \"AUC_micro\", \"stepped\": false, \"type\": \"scatter\", \"data\": [0.9940136054421768, 0.974013605442177, 0.9932653061224489, 0.994421768707483, 0.990204081632653, 0.9923809523809525, 0.9914285714285714, 0.9738775510204082, 0.9982312925170067, 0.9848979591836735, 0.9889795918367347, 0.998095238095238, 0.997687074829932, 0.9904761904761905, 0.9917006802721088, 0.9927891156462585, 0.9662585034013605, 0.9828571428571428, 0.9900680272108843, 0.992517006802721, 0.9974149659863946, 0.9887074829931972, 0.9934693877551021, 0.9896598639455783, 0.9972789115646258, 0.9760544217687075, 0.9952380952380953, 0.9989115646258503, 0.9946938775510205, 0.9937414965986395, 0.9757823129251699, 0.994421768707483, 0.9964625850340135, 0.99578231292517, 0.9965986394557823, 0.9195918367346939, 0.9955102040816327, 0.9974149659863946, 0.9933333333333333, 0.9530612244897959, 0.9960544217687074, 0.9729251700680273, 0.9997278911564625]}, {\"categories\": [\"0\", \"1\", \"2\", \"3\", \"4\", \"5\", \"6\", \"7\", \"8\", \"9\", \"10\", \"11\", \"12\", \"13\", \"14\", \"15\", \"16\", \"17\", \"18\", \"19\", \"20\", \"21\", \"22\", \"23\", \"24\", \"25\", \"26\", \"27\", \"28\", \"29\", \"30\", \"31\", \"32\", \"33\", \"34\", \"35\", \"36\", \"37\", \"38\", \"39\", \"40\", \"41\", \"44\"], \"mode\": \"lines\", \"name\": \"AUC_micro_max\", \"stepped\": true, \"type\": \"scatter\", \"data\": [0.9940136054421768, 0.9940136054421768, 0.9940136054421768, 0.994421768707483, 0.994421768707483, 0.994421768707483, 0.994421768707483, 0.994421768707483, 0.9982312925170067, 0.9982312925170067, 0.9982312925170067, 0.9982312925170067, 0.9982312925170067, 0.9982312925170067, 0.9982312925170067, 0.9982312925170067, 0.9982312925170067, 0.9982312925170067, 0.9982312925170067, 0.9982312925170067, 0.9982312925170067, 0.9982312925170067, 0.9982312925170067, 0.9982312925170067, 0.9982312925170067, 0.9982312925170067, 0.9982312925170067, 0.9989115646258503, 0.9989115646258503, 0.9989115646258503, 0.9989115646258503, 0.9989115646258503, 0.9989115646258503, 0.9989115646258503, 0.9989115646258503, 0.9989115646258503, 0.9989115646258503, 0.9989115646258503, 0.9989115646258503, 0.9989115646258503, 0.9989115646258503, 0.9989115646258503, 0.9997278911564625]}], \"matthews_correlation\": [{\"categories\": [\"0\", \"1\", \"2\", \"3\", \"4\", \"5\", \"6\", \"7\", \"8\", \"9\", \"10\", \"11\", \"12\", \"13\", \"14\", \"15\", \"16\", \"17\", \"18\", \"19\", \"20\", \"21\", \"22\", \"23\", \"24\", \"25\", \"26\", \"27\", \"28\", \"29\", \"30\", \"31\", \"32\", \"33\", \"34\", \"35\", \"36\", \"37\", \"38\", \"39\", \"40\", \"41\", \"44\"], \"mode\": \"markers\", \"name\": \"matthews_correlation\", \"stepped\": false, \"type\": \"scatter\", \"data\": [0.9120064650195943, 0.8970451308261346, 0.883923793817979, 0.883923793817979, 0.8970451308261346, 0.8834619431966049, 0.8961589767456765, 0.857415960436275, 0.9293335164464004, 0.8795058861568977, 0.8834619431966049, 0.9589127482941274, 0.9589127482941274, 0.9293335164464004, 0.883923793817979, 0.9166079673068962, 0.8071672200589796, 0.8703087901798355, 0.8834619431966049, 0.8710335209601938, 0.9445113622680243, 0.9293335164464004, 0.886749036671166, 0.8974502432075676, 0.9540480405209916, 0.883923793817979, 0.8965832802047604, 0.9575278110060803, 0.8965832802047604, 0.8834619431966049, 0.8834619431966049, 0.899177458907577, 0.9143335444064377, 0.9391891586572134, 0.9258434168056985, 0.6477913271888306, 0.883923793817979, 0.9391891586572134, 0.8834619431966049, 0.7818725096391589, 0.9252834686383421, 0.8014104620242439, 0.9859397753211546]}, {\"categories\": [\"0\", \"1\", \"2\", \"3\", \"4\", \"5\", \"6\", \"7\", \"8\", \"9\", \"10\", \"11\", \"12\", \"13\", \"14\", \"15\", \"16\", \"17\", \"18\", \"19\", \"20\", \"21\", \"22\", \"23\", \"24\", \"25\", \"26\", \"27\", \"28\", \"29\", \"30\", \"31\", \"32\", \"33\", \"34\", \"35\", \"36\", \"37\", \"38\", \"39\", \"40\", \"41\", \"44\"], \"mode\": \"lines\", \"name\": \"matthews_correlation_max\", \"stepped\": true, \"type\": \"scatter\", \"data\": [0.9120064650195943, 0.9120064650195943, 0.9120064650195943, 0.9120064650195943, 0.9120064650195943, 0.9120064650195943, 0.9120064650195943, 0.9120064650195943, 0.9293335164464004, 0.9293335164464004, 0.9293335164464004, 0.9589127482941274, 0.9589127482941274, 0.9589127482941274, 0.9589127482941274, 0.9589127482941274, 0.9589127482941274, 0.9589127482941274, 0.9589127482941274, 0.9589127482941274, 0.9589127482941274, 0.9589127482941274, 0.9589127482941274, 0.9589127482941274, 0.9589127482941274, 0.9589127482941274, 0.9589127482941274, 0.9589127482941274, 0.9589127482941274, 0.9589127482941274, 0.9589127482941274, 0.9589127482941274, 0.9589127482941274, 0.9589127482941274, 0.9589127482941274, 0.9589127482941274, 0.9589127482941274, 0.9589127482941274, 0.9589127482941274, 0.9589127482941274, 0.9589127482941274, 0.9589127482941274, 0.9859397753211546]}], \"norm_macro_recall\": [{\"categories\": [\"0\", \"1\", \"2\", \"3\", \"4\", \"5\", \"6\", \"7\", \"8\", \"9\", \"10\", \"11\", \"12\", \"13\", \"14\", \"15\", \"16\", \"17\", \"18\", \"19\", \"20\", \"21\", \"22\", \"23\", \"24\", \"25\", \"26\", \"27\", \"28\", \"29\", \"30\", \"31\", \"32\", \"33\", \"34\", \"35\", \"36\", \"37\", \"38\", \"39\", \"40\", \"41\", \"44\"], \"mode\": \"markers\", \"name\": \"norm_macro_recall\", \"stepped\": false, \"type\": \"scatter\", \"data\": [0.9231652850073903, 0.9046467664888717, 0.8918262536683589, 0.8918262536683589, 0.9046467664888717, 0.8867092946040315, 0.9004455583402952, 0.8691654349549086, 0.9397933937407621, 0.8757202836150205, 0.8867092946040315, 0.9604700854700853, 0.9604700854700853, 0.9397933937407621, 0.8918262536683589, 0.9290373369320736, 0.814678255467729, 0.8738887817835185, 0.8867092946040315, 0.8738887817835185, 0.9485653235653234, 0.9397933937407621, 0.8924073003020371, 0.9005981834929203, 0.9489000278473961, 0.8918262536683589, 0.8995298074245444, 0.9634502923976608, 0.8995298074245444, 0.8867092946040315, 0.8867092946040315, 0.9052278131225499, 0.9277747106694473, 0.9350111389585073, 0.9288043827517511, 0.5601851851851851, 0.8918262536683589, 0.9350111389585073, 0.8867092946040315, 0.7549134588608273, 0.9221906261379945, 0.7975762054709423, 0.986111111111111]}, {\"categories\": [\"0\", \"1\", \"2\", \"3\", \"4\", \"5\", \"6\", \"7\", \"8\", \"9\", \"10\", \"11\", \"12\", \"13\", \"14\", \"15\", \"16\", \"17\", \"18\", \"19\", \"20\", \"21\", \"22\", \"23\", \"24\", \"25\", \"26\", \"27\", \"28\", \"29\", \"30\", \"31\", \"32\", \"33\", \"34\", \"35\", \"36\", \"37\", \"38\", \"39\", \"40\", \"41\", \"44\"], \"mode\": \"lines\", \"name\": \"norm_macro_recall_max\", \"stepped\": true, \"type\": \"scatter\", \"data\": [0.9231652850073903, 0.9231652850073903, 0.9231652850073903, 0.9231652850073903, 0.9231652850073903, 0.9231652850073903, 0.9231652850073903, 0.9231652850073903, 0.9397933937407621, 0.9397933937407621, 0.9397933937407621, 0.9604700854700853, 0.9604700854700853, 0.9604700854700853, 0.9604700854700853, 0.9604700854700853, 0.9604700854700853, 0.9604700854700853, 0.9604700854700853, 0.9604700854700853, 0.9604700854700853, 0.9604700854700853, 0.9604700854700853, 0.9604700854700853, 0.9604700854700853, 0.9604700854700853, 0.9604700854700853, 0.9634502923976608, 0.9634502923976608, 0.9634502923976608, 0.9634502923976608, 0.9634502923976608, 0.9634502923976608, 0.9634502923976608, 0.9634502923976608, 0.9634502923976608, 0.9634502923976608, 0.9634502923976608, 0.9634502923976608, 0.9634502923976608, 0.9634502923976608, 0.9634502923976608, 0.986111111111111]}], \"recall_score_macro\": [{\"categories\": [\"0\", \"1\", \"2\", \"3\", \"4\", \"5\", \"6\", \"7\", \"8\", \"9\", \"10\", \"11\", \"12\", \"13\", \"14\", \"15\", \"16\", \"17\", \"18\", \"19\", \"20\", \"21\", \"22\", \"23\", \"24\", \"25\", \"26\", \"27\", \"28\", \"29\", \"30\", \"31\", \"32\", \"33\", \"34\", \"35\", \"36\", \"37\", \"38\", \"39\", \"40\", \"41\", \"44\"], \"mode\": \"markers\", \"name\": \"recall_score_macro\", \"stepped\": false, \"type\": \"scatter\", \"data\": [0.9487768566715936, 0.9364311776592479, 0.9278841691122394, 0.9278841691122394, 0.9364311776592479, 0.9244728630693544, 0.9336303722268635, 0.9127769566366059, 0.9598622624938415, 0.9171468557433471, 0.9244728630693544, 0.9736467236467238, 0.9736467236467238, 0.9598622624938415, 0.9278841691122394, 0.9526915579547159, 0.8764521703118193, 0.9159258545223458, 0.9244728630693544, 0.9159258545223458, 0.9657102157102159, 0.9598622624938415, 0.9282715335346915, 0.9337321223286136, 0.9659333518982641, 0.9278841691122394, 0.9330198716163629, 0.9756335282651073, 0.9330198716163629, 0.9244728630693544, 0.9244728630693544, 0.9368185420817001, 0.9518498071129651, 0.9566740926390049, 0.9525362551678342, 0.70679012345679, 0.9278841691122394, 0.9566740926390049, 0.9244728630693544, 0.8366089725738849, 0.9481270840919964, 0.8650508036472949, 0.9907407407407408]}, {\"categories\": [\"0\", \"1\", \"2\", \"3\", \"4\", \"5\", \"6\", \"7\", \"8\", \"9\", \"10\", \"11\", \"12\", \"13\", \"14\", \"15\", \"16\", \"17\", \"18\", \"19\", \"20\", \"21\", \"22\", \"23\", \"24\", \"25\", \"26\", \"27\", \"28\", \"29\", \"30\", \"31\", \"32\", \"33\", \"34\", \"35\", \"36\", \"37\", \"38\", \"39\", \"40\", \"41\", \"44\"], \"mode\": \"lines\", \"name\": \"recall_score_macro_max\", \"stepped\": true, \"type\": \"scatter\", \"data\": [0.9487768566715936, 0.9487768566715936, 0.9487768566715936, 0.9487768566715936, 0.9487768566715936, 0.9487768566715936, 0.9487768566715936, 0.9487768566715936, 0.9598622624938415, 0.9598622624938415, 0.9598622624938415, 0.9736467236467238, 0.9736467236467238, 0.9736467236467238, 0.9736467236467238, 0.9736467236467238, 0.9736467236467238, 0.9736467236467238, 0.9736467236467238, 0.9736467236467238, 0.9736467236467238, 0.9736467236467238, 0.9736467236467238, 0.9736467236467238, 0.9736467236467238, 0.9736467236467238, 0.9736467236467238, 0.9756335282651073, 0.9756335282651073, 0.9756335282651073, 0.9756335282651073, 0.9756335282651073, 0.9756335282651073, 0.9756335282651073, 0.9756335282651073, 0.9756335282651073, 0.9756335282651073, 0.9756335282651073, 0.9756335282651073, 0.9756335282651073, 0.9756335282651073, 0.9756335282651073, 0.9907407407407408]}], \"balanced_accuracy\": [{\"categories\": [\"0\", \"1\", \"2\", \"3\", \"4\", \"5\", \"6\", \"7\", \"8\", \"9\", \"10\", \"11\", \"12\", \"13\", \"14\", \"15\", \"16\", \"17\", \"18\", \"19\", \"20\", \"21\", \"22\", \"23\", \"24\", \"25\", \"26\", \"27\", \"28\", \"29\", \"30\", \"31\", \"32\", \"33\", \"34\", \"35\", \"36\", \"37\", \"38\", \"39\", \"40\", \"41\", \"44\"], \"mode\": \"markers\", \"name\": \"balanced_accuracy\", \"stepped\": false, \"type\": \"scatter\", \"data\": [0.9487768566715936, 0.9364311776592479, 0.9278841691122394, 0.9278841691122394, 0.9364311776592479, 0.9244728630693544, 0.9336303722268635, 0.9127769566366059, 0.9598622624938415, 0.9171468557433471, 0.9244728630693544, 0.9736467236467238, 0.9736467236467238, 0.9598622624938415, 0.9278841691122394, 0.9526915579547159, 0.8764521703118193, 0.9159258545223458, 0.9244728630693544, 0.9159258545223458, 0.9657102157102159, 0.9598622624938415, 0.9282715335346915, 0.9337321223286136, 0.9659333518982641, 0.9278841691122394, 0.9330198716163629, 0.9756335282651073, 0.9330198716163629, 0.9244728630693544, 0.9244728630693544, 0.9368185420817001, 0.9518498071129651, 0.9566740926390049, 0.9525362551678342, 0.70679012345679, 0.9278841691122394, 0.9566740926390049, 0.9244728630693544, 0.8366089725738849, 0.9481270840919964, 0.8650508036472949, 0.9907407407407408]}, {\"categories\": [\"0\", \"1\", \"2\", \"3\", \"4\", \"5\", \"6\", \"7\", \"8\", \"9\", \"10\", \"11\", \"12\", \"13\", \"14\", \"15\", \"16\", \"17\", \"18\", \"19\", \"20\", \"21\", \"22\", \"23\", \"24\", \"25\", \"26\", \"27\", \"28\", \"29\", \"30\", \"31\", \"32\", \"33\", \"34\", \"35\", \"36\", \"37\", \"38\", \"39\", \"40\", \"41\", \"44\"], \"mode\": \"lines\", \"name\": \"balanced_accuracy_max\", \"stepped\": true, \"type\": \"scatter\", \"data\": [0.9487768566715936, 0.9487768566715936, 0.9487768566715936, 0.9487768566715936, 0.9487768566715936, 0.9487768566715936, 0.9487768566715936, 0.9487768566715936, 0.9598622624938415, 0.9598622624938415, 0.9598622624938415, 0.9736467236467238, 0.9736467236467238, 0.9736467236467238, 0.9736467236467238, 0.9736467236467238, 0.9736467236467238, 0.9736467236467238, 0.9736467236467238, 0.9736467236467238, 0.9736467236467238, 0.9736467236467238, 0.9736467236467238, 0.9736467236467238, 0.9736467236467238, 0.9736467236467238, 0.9736467236467238, 0.9756335282651073, 0.9756335282651073, 0.9756335282651073, 0.9756335282651073, 0.9756335282651073, 0.9756335282651073, 0.9756335282651073, 0.9756335282651073, 0.9756335282651073, 0.9756335282651073, 0.9756335282651073, 0.9756335282651073, 0.9756335282651073, 0.9756335282651073, 0.9756335282651073, 0.9907407407407408]}]}, \"metricName\": null, \"primaryMetricName\": \"accuracy\", \"showLegend\": false}, \"run_metrics\": [{\"name\": \"experiment_status\", \"run_id\": \"AutoML_92c4ac84-b98b-4fc3-91f0-6090eded1910\", \"categories\": [0, 1, 2, 3, 4, 5, 6, 7, 8, 9, 10, 11, 12, 13], \"series\": [{\"data\": [\"DatasetEvaluation\", \"FeaturesGeneration\", \"DatasetFeaturization\", \"DatasetFeaturizationCompleted\", \"DatasetCrossValidationSplit\", \"ModelSelection\", \"BestRunExplainModel\", \"ModelExplanationDataSetSetup\", \"PickSurrogateModel\", \"EngineeredFeatureExplanations\", \"EngineeredFeatureExplanations\", \"RawFeaturesExplanations\", \"RawFeaturesExplanations\", \"BestRunExplainModel\"]}]}, {\"name\": \"experiment_status_description\", \"run_id\": \"AutoML_92c4ac84-b98b-4fc3-91f0-6090eded1910\", \"categories\": [0, 1, 2, 3, 4, 5, 6, 7, 8, 9, 10, 11, 12, 13], \"series\": [{\"data\": [\"Gathering dataset statistics.\", \"Generating features for the dataset.\", \"Beginning to fit featurizers and featurize the dataset.\", \"Completed fit featurizers and featurizing the dataset.\", \"Generating individually featurized CV splits.\", \"Beginning model selection.\", \"Best run model explanations started\", \"Model explanations data setup completed\", \"Choosing LightGBM as the surrogate model for explanations\", \"Computation of engineered features started\", \"Computation of engineered features completed\", \"Computation of raw features started\", \"Computation of raw features completed\", \"Best run model explanations completed\"]}]}, {\"name\": \"AUC_weighted\", \"run_id\": \"AutoML_92c4ac84-b98b-4fc3-91f0-6090eded1910\", \"categories\": [0], \"series\": [{\"data\": [0.9995859213250519]}]}, {\"name\": \"average_precision_score_macro\", \"run_id\": \"AutoML_92c4ac84-b98b-4fc3-91f0-6090eded1910\", \"categories\": [0], \"series\": [{\"data\": [0.9992877492877493]}]}, {\"name\": \"recall_score_weighted\", \"run_id\": \"AutoML_92c4ac84-b98b-4fc3-91f0-6090eded1910\", \"categories\": [0], \"series\": [{\"data\": [0.9904761904761905]}]}, {\"name\": \"average_precision_score_weighted\", \"run_id\": \"AutoML_92c4ac84-b98b-4fc3-91f0-6090eded1910\", \"categories\": [0], \"series\": [{\"data\": [0.9992673992673992]}]}, {\"name\": \"log_loss\", \"run_id\": \"AutoML_92c4ac84-b98b-4fc3-91f0-6090eded1910\", \"categories\": [0], \"series\": [{\"data\": [0.2134504271189105]}]}, {\"name\": \"recall_score_micro\", \"run_id\": \"AutoML_92c4ac84-b98b-4fc3-91f0-6090eded1910\", \"categories\": [0], \"series\": [{\"data\": [0.9904761904761905]}]}, {\"name\": \"f1_score_macro\", \"run_id\": \"AutoML_92c4ac84-b98b-4fc3-91f0-6090eded1910\", \"categories\": [0], \"series\": [{\"data\": [0.9893211289092295]}]}, {\"name\": \"AUC_micro\", \"run_id\": \"AutoML_92c4ac84-b98b-4fc3-91f0-6090eded1910\", \"categories\": [0], \"series\": [{\"data\": [0.9997278911564625]}]}, {\"name\": \"precision_score_micro\", \"run_id\": \"AutoML_92c4ac84-b98b-4fc3-91f0-6090eded1910\", \"categories\": [0], \"series\": [{\"data\": [0.9904761904761905]}]}, {\"name\": \"AUC_macro\", \"run_id\": \"AutoML_92c4ac84-b98b-4fc3-91f0-6090eded1910\", \"categories\": [0], \"series\": [{\"data\": [0.9995974235104671]}]}, {\"name\": \"matthews_correlation\", \"run_id\": \"AutoML_92c4ac84-b98b-4fc3-91f0-6090eded1910\", \"categories\": [0], \"series\": [{\"data\": [0.9859397753211546]}]}, {\"name\": \"recall_score_macro\", \"run_id\": \"AutoML_92c4ac84-b98b-4fc3-91f0-6090eded1910\", \"categories\": [0], \"series\": [{\"data\": [0.9907407407407408]}]}, {\"name\": \"f1_score_weighted\", \"run_id\": \"AutoML_92c4ac84-b98b-4fc3-91f0-6090eded1910\", \"categories\": [0], \"series\": [{\"data\": [0.9905197777051323]}]}, {\"name\": \"accuracy\", \"run_id\": \"AutoML_92c4ac84-b98b-4fc3-91f0-6090eded1910\", \"categories\": [0], \"series\": [{\"data\": [0.9904761904761905]}]}, {\"name\": \"precision_score_weighted\", \"run_id\": \"AutoML_92c4ac84-b98b-4fc3-91f0-6090eded1910\", \"categories\": [0], \"series\": [{\"data\": [0.9914285714285714]}]}, {\"name\": \"weighted_accuracy\", \"run_id\": \"AutoML_92c4ac84-b98b-4fc3-91f0-6090eded1910\", \"categories\": [0], \"series\": [{\"data\": [0.9904988123515439]}]}, {\"name\": \"balanced_accuracy\", \"run_id\": \"AutoML_92c4ac84-b98b-4fc3-91f0-6090eded1910\", \"categories\": [0], \"series\": [{\"data\": [0.9907407407407408]}]}, {\"name\": \"precision_score_macro\", \"run_id\": \"AutoML_92c4ac84-b98b-4fc3-91f0-6090eded1910\", \"categories\": [0], \"series\": [{\"data\": [0.9888888888888889]}]}, {\"name\": \"norm_macro_recall\", \"run_id\": \"AutoML_92c4ac84-b98b-4fc3-91f0-6090eded1910\", \"categories\": [0], \"series\": [{\"data\": [0.986111111111111]}]}, {\"name\": \"f1_score_micro\", \"run_id\": \"AutoML_92c4ac84-b98b-4fc3-91f0-6090eded1910\", \"categories\": [0], \"series\": [{\"data\": [0.9904761904761905]}]}, {\"name\": \"average_precision_score_micro\", \"run_id\": \"AutoML_92c4ac84-b98b-4fc3-91f0-6090eded1910\", \"categories\": [0], \"series\": [{\"data\": [0.9994851994851995]}]}], \"run_logs\": \"\\nRun is completed.\", \"graph\": {}, \"widget_settings\": {\"childWidgetDisplay\": \"popup\", \"send_telemetry\": false, \"log_level\": \"INFO\", \"sdk_version\": \"1.19.0\"}, \"loading\": false}"
     },
     "metadata": {},
     "output_type": "display_data"
    },
    {
     "name": "stdout",
     "output_type": "stream",
     "text": [
      "\n",
      "\n",
      "****************************************************************************************************\n",
      "DATA GUARDRAILS: \n",
      "\n",
      "TYPE:         Class balancing detection\n",
      "STATUS:       PASSED\n",
      "DESCRIPTION:  Your inputs were analyzed, and all classes are balanced in your training data.\n",
      "              Learn more about imbalanced data: https://aka.ms/AutomatedMLImbalancedData\n",
      "\n",
      "****************************************************************************************************\n",
      "\n",
      "TYPE:         High cardinality feature detection\n",
      "STATUS:       PASSED\n",
      "DESCRIPTION:  Your inputs were analyzed, and no high cardinality features were detected.\n",
      "              Learn more about high cardinality feature handling: https://aka.ms/AutomatedMLFeaturization\n",
      "\n",
      "****************************************************************************************************\n",
      "\n",
      "****************************************************************************************************\n",
      "ITERATION: The iteration being evaluated.\n",
      "PIPELINE: A summary description of the pipeline being evaluated.\n",
      "DURATION: Time taken for the current iteration.\n",
      "METRIC: The result of computing score on the fitted pipeline.\n",
      "BEST: The best observed score thus far.\n",
      "****************************************************************************************************\n",
      "\n",
      " ITERATION   PIPELINE                                       DURATION      METRIC      BEST\n",
      "         0   MaxAbsScaler LightGBM                          0:00:57       0.9429    0.9429\n",
      "         1   MaxAbsScaler XGBoostClassifier                 0:00:58       0.9333    0.9429\n",
      "         2   MinMaxScaler RandomForest                      0:05:30       0.9238    0.9429\n",
      "         3   MinMaxScaler RandomForest                      0:00:59       0.9238    0.9429\n",
      "         4   MinMaxScaler RandomForest                      0:08:34       0.9333    0.9429\n",
      "         5   MaxAbsScaler LightGBM                          0:05:32       0.9238    0.9429\n",
      "         6   StandardScalerWrapper LogisticRegression       0:00:56       0.9333    0.9429\n",
      "         7   MaxAbsScaler LightGBM                          0:00:57       0.9048    0.9429\n",
      "        10   StandardScalerWrapper LightGBM                 0:00:54       0.9238    0.9429\n",
      "        11   SparseNormalizer LightGBM                      0:00:59       0.9714    0.9714\n",
      "         8   SparseNormalizer XGBoostClassifier             0:00:54       0.9524    0.9714\n",
      "         9   MaxAbsScaler LogisticRegression                0:01:01       0.9238    0.9714\n",
      "        12   SparseNormalizer LightGBM                      0:00:48       0.9714    0.9714\n",
      "        13   SparseNormalizer XGBoostClassifier             0:01:00       0.9524    0.9714\n",
      "        14   MaxAbsScaler RandomForest                      0:00:49       0.9238    0.9714\n",
      "        15   SparseNormalizer LightGBM                      0:00:53       0.9429    0.9714\n",
      "        16   MaxAbsScaler LightGBM                          0:00:52       0.8667    0.9714\n",
      "        17   StandardScalerWrapper LightGBM                 0:00:58       0.9143    0.9714\n",
      "        18   StandardScalerWrapper LightGBM                 0:00:51       0.9238    0.9714\n",
      "        19   RobustScaler ExtremeRandomTrees                0:00:56       0.9143    0.9714\n",
      "        20   SparseNormalizer XGBoostClassifier             0:01:02       0.9619    0.9714\n",
      "        21   SparseNormalizer XGBoostClassifier             0:01:00       0.9524    0.9714\n",
      "        22   MaxAbsScaler ExtremeRandomTrees                0:01:04       0.9238    0.9714\n",
      "        23   MaxAbsScaler LightGBM                          0:01:01       0.9333    0.9714\n",
      "        24   MaxAbsScaler ExtremeRandomTrees                0:01:04       0.9714    0.9714\n",
      "        25   StandardScalerWrapper LightGBM                 0:01:03       0.9238    0.9714\n",
      "        26   MaxAbsScaler ExtremeRandomTrees                0:01:02       0.9333    0.9714\n",
      "        27   SparseNormalizer ExtremeRandomTrees            0:01:00       0.9714    0.9714\n",
      "        28   StandardScalerWrapper ExtremeRandomTrees       0:01:03       0.9333    0.9714\n",
      "        29   StandardScalerWrapper LightGBM                 0:01:00       0.9238    0.9714\n",
      "        30   MaxAbsScaler LightGBM                          0:00:47       0.9238    0.9714\n",
      "        31   SparseNormalizer XGBoostClassifier             0:00:53       0.9333    0.9714\n",
      "        32   SparseNormalizer XGBoostClassifier             0:00:56       0.9429    0.9714\n",
      "        33   StandardScalerWrapper ExtremeRandomTrees       0:00:58       0.9619    0.9714\n",
      "        34   SparseNormalizer XGBoostClassifier             0:01:00       0.9524    0.9714\n",
      "        35   SparseNormalizer ExtremeRandomTrees            0:00:49       0.7429    0.9714\n",
      "        36   MaxAbsScaler RandomForest                      0:00:52       0.9238    0.9714\n",
      "        37   MaxAbsScaler ExtremeRandomTrees                0:00:54       0.9619    0.9714\n",
      "        38   MaxAbsScaler ExtremeRandomTrees                0:01:04       0.9238    0.9714\n",
      "        39   StandardScalerWrapper SGD                      0:00:55       0.8476    0.9714\n",
      "        40   RobustScaler ExtremeRandomTrees                0:00:56       0.9524    0.9714\n",
      "        41   StandardScalerWrapper SGD                      0:00:43       0.8667    0.9714\n",
      "        42                                                  0:00:14          nan    0.9714\n",
      "        43                                                  0:00:08          nan    0.9714\n",
      "        44    VotingEnsemble                                0:01:21       0.9905    0.9905\n"
     ]
    },
    {
     "data": {
      "text/plain": [
       "{'runId': 'AutoML_92c4ac84-b98b-4fc3-91f0-6090eded1910',\n",
       " 'target': 'cpu-cluster-mla',\n",
       " 'status': 'Completed',\n",
       " 'startTimeUtc': '2020-12-27T19:28:36.064236Z',\n",
       " 'endTimeUtc': '2020-12-27T20:04:26.549752Z',\n",
       " 'properties': {'num_iterations': '1000',\n",
       "  'training_type': 'TrainFull',\n",
       "  'acquisition_function': 'EI',\n",
       "  'primary_metric': 'accuracy',\n",
       "  'train_split': '0',\n",
       "  'acquisition_parameter': '0',\n",
       "  'num_cross_validation': '3',\n",
       "  'target': 'cpu-cluster-mla',\n",
       "  'AMLSettingsJsonString': '{\"path\":null,\"name\":\"udacity-capstone-project\",\"subscription_id\":\"f5091c60-1c3c-430f-8d81-d802f6bf2414\",\"resource_group\":\"aml-quickstarts-132062\",\"workspace_name\":\"quick-starts-ws-132062\",\"region\":\"southcentralus\",\"compute_target\":\"cpu-cluster-mla\",\"spark_service\":null,\"azure_service\":\"remote\",\"many_models\":false,\"pipeline_fetch_max_batch_size\":1,\"iterations\":1000,\"primary_metric\":\"accuracy\",\"task_type\":\"classification\",\"data_script\":null,\"validation_size\":0.0,\"n_cross_validations\":3,\"y_min\":null,\"y_max\":null,\"num_classes\":null,\"featurization\":\"auto\",\"_ignore_package_version_incompatibilities\":false,\"is_timeseries\":false,\"max_cores_per_iteration\":-1,\"max_concurrent_iterations\":4,\"iteration_timeout_minutes\":5,\"mem_in_mb\":null,\"enforce_time_on_windows\":false,\"experiment_timeout_minutes\":30,\"experiment_exit_score\":null,\"whitelist_models\":null,\"blacklist_algos\":[\"TensorFlowLinearClassifier\",\"TensorFlowDNN\"],\"supported_models\":[\"LogisticRegression\",\"TensorFlowDNN\",\"GradientBoosting\",\"KNN\",\"MultinomialNaiveBayes\",\"TensorFlowLinearClassifier\",\"LightGBM\",\"SVM\",\"RandomForest\",\"XGBoostClassifier\",\"BernoulliNaiveBayes\",\"ExtremeRandomTrees\",\"AveragedPerceptronClassifier\",\"SGD\",\"DecisionTree\",\"LinearSVM\"],\"auto_blacklist\":true,\"blacklist_samples_reached\":false,\"exclude_nan_labels\":true,\"verbosity\":20,\"_debug_log\":\"azureml_automl.log\",\"show_warnings\":false,\"model_explainability\":true,\"service_url\":null,\"sdk_url\":null,\"sdk_packages\":null,\"enable_onnx_compatible_models\":true,\"enable_split_onnx_featurizer_estimator_models\":false,\"vm_type\":\"STANDARD_D2_V2\",\"telemetry_verbosity\":20,\"send_telemetry\":true,\"enable_dnn\":false,\"scenario\":\"SDK-1.13.0\",\"environment_label\":null,\"force_text_dnn\":false,\"enable_feature_sweeping\":false,\"enable_early_stopping\":true,\"early_stopping_n_iters\":10,\"metrics\":null,\"enable_ensembling\":true,\"enable_stack_ensembling\":false,\"ensemble_iterations\":15,\"enable_tf\":false,\"enable_subsampling\":null,\"subsample_seed\":null,\"enable_nimbusml\":false,\"enable_streaming\":false,\"force_streaming\":false,\"track_child_runs\":true,\"allowed_private_models\":[],\"label_column_name\":\"species\",\"weight_column_name\":null,\"cv_split_column_names\":null,\"enable_local_managed\":false,\"_local_managed_run_id\":null,\"cost_mode\":1,\"lag_length\":0,\"metric_operation\":\"maximize\",\"preprocess\":true}',\n",
       "  'DataPrepJsonString': '{\\\\\"training_data\\\\\": \\\\\"{\\\\\\\\\\\\\"blocks\\\\\\\\\\\\\": [{\\\\\\\\\\\\\"id\\\\\\\\\\\\\": \\\\\\\\\\\\\"43299663-2e97-4c5f-804d-4912016e6ac9\\\\\\\\\\\\\", \\\\\\\\\\\\\"type\\\\\\\\\\\\\": \\\\\\\\\\\\\"Microsoft.DPrep.GetDatastoreFilesBlock\\\\\\\\\\\\\", \\\\\\\\\\\\\"arguments\\\\\\\\\\\\\": {\\\\\\\\\\\\\"datastores\\\\\\\\\\\\\": [{\\\\\\\\\\\\\"datastoreName\\\\\\\\\\\\\": \\\\\\\\\\\\\"workspaceblobstore\\\\\\\\\\\\\", \\\\\\\\\\\\\"path\\\\\\\\\\\\\": \\\\\\\\\\\\\"automlclassifier/train_data.csv\\\\\\\\\\\\\", \\\\\\\\\\\\\"resourceGroup\\\\\\\\\\\\\": \\\\\\\\\\\\\"aml-quickstarts-132062\\\\\\\\\\\\\", \\\\\\\\\\\\\"subscription\\\\\\\\\\\\\": \\\\\\\\\\\\\"f5091c60-1c3c-430f-8d81-d802f6bf2414\\\\\\\\\\\\\", \\\\\\\\\\\\\"workspaceName\\\\\\\\\\\\\": \\\\\\\\\\\\\"quick-starts-ws-132062\\\\\\\\\\\\\"}]}, \\\\\\\\\\\\\"localData\\\\\\\\\\\\\": {}, \\\\\\\\\\\\\"isEnabled\\\\\\\\\\\\\": true, \\\\\\\\\\\\\"name\\\\\\\\\\\\\": null, \\\\\\\\\\\\\"annotation\\\\\\\\\\\\\": null}, {\\\\\\\\\\\\\"id\\\\\\\\\\\\\": \\\\\\\\\\\\\"9ea65240-5809-47c2-a62f-5f2d63585b80\\\\\\\\\\\\\", \\\\\\\\\\\\\"type\\\\\\\\\\\\\": \\\\\\\\\\\\\"Microsoft.DPrep.ParseDelimitedBlock\\\\\\\\\\\\\", \\\\\\\\\\\\\"arguments\\\\\\\\\\\\\": {\\\\\\\\\\\\\"columnHeadersMode\\\\\\\\\\\\\": 3, \\\\\\\\\\\\\"fileEncoding\\\\\\\\\\\\\": 0, \\\\\\\\\\\\\"handleQuotedLineBreaks\\\\\\\\\\\\\": false, \\\\\\\\\\\\\"preview\\\\\\\\\\\\\": false, \\\\\\\\\\\\\"separator\\\\\\\\\\\\\": \\\\\\\\\\\\\",\\\\\\\\\\\\\", \\\\\\\\\\\\\"skipRows\\\\\\\\\\\\\": 0, \\\\\\\\\\\\\"skipRowsMode\\\\\\\\\\\\\": 0}, \\\\\\\\\\\\\"localData\\\\\\\\\\\\\": {}, \\\\\\\\\\\\\"isEnabled\\\\\\\\\\\\\": true, \\\\\\\\\\\\\"name\\\\\\\\\\\\\": null, \\\\\\\\\\\\\"annotation\\\\\\\\\\\\\": null}, {\\\\\\\\\\\\\"id\\\\\\\\\\\\\": \\\\\\\\\\\\\"182e0c32-8f4b-4d3a-a7c6-86ba74ba4c69\\\\\\\\\\\\\", \\\\\\\\\\\\\"type\\\\\\\\\\\\\": \\\\\\\\\\\\\"Microsoft.DPrep.DropColumnsBlock\\\\\\\\\\\\\", \\\\\\\\\\\\\"arguments\\\\\\\\\\\\\": {\\\\\\\\\\\\\"columns\\\\\\\\\\\\\": {\\\\\\\\\\\\\"type\\\\\\\\\\\\\": 0, \\\\\\\\\\\\\"details\\\\\\\\\\\\\": {\\\\\\\\\\\\\"selectedColumns\\\\\\\\\\\\\": [\\\\\\\\\\\\\"Path\\\\\\\\\\\\\"]}}}, \\\\\\\\\\\\\"localData\\\\\\\\\\\\\": {}, \\\\\\\\\\\\\"isEnabled\\\\\\\\\\\\\": true, \\\\\\\\\\\\\"name\\\\\\\\\\\\\": null, \\\\\\\\\\\\\"annotation\\\\\\\\\\\\\": null}, {\\\\\\\\\\\\\"id\\\\\\\\\\\\\": \\\\\\\\\\\\\"8447c28f-b943-4b1f-871b-3bd30bf52d54\\\\\\\\\\\\\", \\\\\\\\\\\\\"type\\\\\\\\\\\\\": \\\\\\\\\\\\\"Microsoft.DPrep.SetColumnTypesBlock\\\\\\\\\\\\\", \\\\\\\\\\\\\"arguments\\\\\\\\\\\\\": {\\\\\\\\\\\\\"columnConversion\\\\\\\\\\\\\": [{\\\\\\\\\\\\\"column\\\\\\\\\\\\\": {\\\\\\\\\\\\\"type\\\\\\\\\\\\\": 2, \\\\\\\\\\\\\"details\\\\\\\\\\\\\": {\\\\\\\\\\\\\"selectedColumn\\\\\\\\\\\\\": \\\\\\\\\\\\\"sepal_length\\\\\\\\\\\\\"}}, \\\\\\\\\\\\\"typeProperty\\\\\\\\\\\\\": 3}, {\\\\\\\\\\\\\"column\\\\\\\\\\\\\": {\\\\\\\\\\\\\"type\\\\\\\\\\\\\": 2, \\\\\\\\\\\\\"details\\\\\\\\\\\\\": {\\\\\\\\\\\\\"selectedColumn\\\\\\\\\\\\\": \\\\\\\\\\\\\"sepal_width\\\\\\\\\\\\\"}}, \\\\\\\\\\\\\"typeProperty\\\\\\\\\\\\\": 3}, {\\\\\\\\\\\\\"column\\\\\\\\\\\\\": {\\\\\\\\\\\\\"type\\\\\\\\\\\\\": 2, \\\\\\\\\\\\\"details\\\\\\\\\\\\\": {\\\\\\\\\\\\\"selectedColumn\\\\\\\\\\\\\": \\\\\\\\\\\\\"petal_length\\\\\\\\\\\\\"}}, \\\\\\\\\\\\\"typeProperty\\\\\\\\\\\\\": 3}, {\\\\\\\\\\\\\"column\\\\\\\\\\\\\": {\\\\\\\\\\\\\"type\\\\\\\\\\\\\": 2, \\\\\\\\\\\\\"details\\\\\\\\\\\\\": {\\\\\\\\\\\\\"selectedColumn\\\\\\\\\\\\\": \\\\\\\\\\\\\"petal_width\\\\\\\\\\\\\"}}, \\\\\\\\\\\\\"typeProperty\\\\\\\\\\\\\": 3}, {\\\\\\\\\\\\\"column\\\\\\\\\\\\\": {\\\\\\\\\\\\\"type\\\\\\\\\\\\\": 2, \\\\\\\\\\\\\"details\\\\\\\\\\\\\": {\\\\\\\\\\\\\"selectedColumn\\\\\\\\\\\\\": \\\\\\\\\\\\\"species\\\\\\\\\\\\\"}}, \\\\\\\\\\\\\"typeProperty\\\\\\\\\\\\\": 0}]}, \\\\\\\\\\\\\"localData\\\\\\\\\\\\\": {}, \\\\\\\\\\\\\"isEnabled\\\\\\\\\\\\\": true, \\\\\\\\\\\\\"name\\\\\\\\\\\\\": null, \\\\\\\\\\\\\"annotation\\\\\\\\\\\\\": null}], \\\\\\\\\\\\\"inspectors\\\\\\\\\\\\\": [], \\\\\\\\\\\\\"meta\\\\\\\\\\\\\": {\\\\\\\\\\\\\"savedDatasetId\\\\\\\\\\\\\": \\\\\\\\\\\\\"38f3c4b2-5656-4f2b-92c7-684fc3d9986e\\\\\\\\\\\\\", \\\\\\\\\\\\\"datasetType\\\\\\\\\\\\\": \\\\\\\\\\\\\"tabular\\\\\\\\\\\\\", \\\\\\\\\\\\\"subscriptionId\\\\\\\\\\\\\": \\\\\\\\\\\\\"f5091c60-1c3c-430f-8d81-d802f6bf2414\\\\\\\\\\\\\", \\\\\\\\\\\\\"workspaceId\\\\\\\\\\\\\": \\\\\\\\\\\\\"af480740-7f25-4f6a-a2f7-e3c36ae8d041\\\\\\\\\\\\\", \\\\\\\\\\\\\"workspaceLocation\\\\\\\\\\\\\": \\\\\\\\\\\\\"southcentralus\\\\\\\\\\\\\"}}\\\\\", \\\\\"activities\\\\\": 0}',\n",
       "  'EnableSubsampling': None,\n",
       "  'runTemplate': 'AutoML',\n",
       "  'azureml.runsource': 'automl',\n",
       "  'display_task_type': 'classification',\n",
       "  'dependencies_versions': '{\"azureml-widgets\": \"1.19.0\", \"azureml-train\": \"1.19.0\", \"azureml-train-restclients-hyperdrive\": \"1.19.0\", \"azureml-train-core\": \"1.19.0\", \"azureml-train-automl\": \"1.19.0\", \"azureml-train-automl-runtime\": \"1.19.0\", \"azureml-train-automl-client\": \"1.19.0\", \"azureml-tensorboard\": \"1.19.0\", \"azureml-telemetry\": \"1.19.0\", \"azureml-sdk\": \"1.19.0\", \"azureml-samples\": \"0+unknown\", \"azureml-pipeline\": \"1.19.0\", \"azureml-pipeline-steps\": \"1.19.0\", \"azureml-pipeline-core\": \"1.19.0\", \"azureml-opendatasets\": \"1.19.0\", \"azureml-model-management-sdk\": \"1.0.1b6.post1\", \"azureml-mlflow\": \"1.19.0\", \"azureml-interpret\": \"1.19.0\", \"azureml-explain-model\": \"1.19.0\", \"azureml-defaults\": \"1.19.0\", \"azureml-dataset-runtime\": \"1.19.0\", \"azureml-dataprep\": \"2.6.1\", \"azureml-dataprep-rslex\": \"1.4.0\", \"azureml-dataprep-native\": \"26.0.0\", \"azureml-datadrift\": \"1.19.0\", \"azureml-core\": \"1.19.0\", \"azureml-contrib-services\": \"1.19.0\", \"azureml-contrib-server\": \"1.19.0\", \"azureml-contrib-reinforcementlearning\": \"1.19.0\", \"azureml-contrib-pipeline-steps\": \"1.19.0\", \"azureml-contrib-notebook\": \"1.19.0\", \"azureml-contrib-interpret\": \"1.19.0\", \"azureml-contrib-gbdt\": \"1.19.0\", \"azureml-contrib-fairness\": \"1.19.0\", \"azureml-contrib-dataset\": \"1.19.0\", \"azureml-cli-common\": \"1.19.0\", \"azureml-automl-runtime\": \"1.19.0\", \"azureml-automl-core\": \"1.19.0\", \"azureml-accel-models\": \"1.19.0\"}',\n",
       "  '_aml_system_scenario_identification': 'Remote.Parent',\n",
       "  'ClientType': 'SDK',\n",
       "  'environment_cpu_name': 'AzureML-AutoML',\n",
       "  'environment_cpu_label': 'prod',\n",
       "  'environment_gpu_name': 'AzureML-AutoML-GPU',\n",
       "  'environment_gpu_label': 'prod',\n",
       "  'root_attribution': 'automl',\n",
       "  'attribution': 'AutoML',\n",
       "  'Orchestrator': 'AutoML',\n",
       "  'CancelUri': 'https://southcentralus.experiments.azureml.net/jasmine/v1.0/subscriptions/f5091c60-1c3c-430f-8d81-d802f6bf2414/resourceGroups/aml-quickstarts-132062/providers/Microsoft.MachineLearningServices/workspaces/quick-starts-ws-132062/experimentids/773d74b8-24c5-40a0-8770-bc235cb11a1e/cancel/AutoML_92c4ac84-b98b-4fc3-91f0-6090eded1910',\n",
       "  'ClientSdkVersion': '1.19.0',\n",
       "  'snapshotId': '00000000-0000-0000-0000-000000000000',\n",
       "  'SetupRunId': 'AutoML_92c4ac84-b98b-4fc3-91f0-6090eded1910_setup',\n",
       "  'SetupRunContainerId': 'dcid.AutoML_92c4ac84-b98b-4fc3-91f0-6090eded1910_setup',\n",
       "  'FeaturizationRunJsonPath': 'featurizer_container.json',\n",
       "  'FeaturizationRunId': 'AutoML_92c4ac84-b98b-4fc3-91f0-6090eded1910_featurize',\n",
       "  'ProblemInfoJsonString': '{\"dataset_num_categorical\": 0, \"is_sparse\": false, \"subsampling\": false, \"dataset_classes\": 3, \"dataset_features\": 4, \"dataset_samples\": 105, \"single_frequency_class_detected\": false}',\n",
       "  'ModelExplainRunId': 'AutoML_92c4ac84-b98b-4fc3-91f0-6090eded1910_ModelExplain'},\n",
       " 'inputDatasets': [{'dataset': {'id': '38f3c4b2-5656-4f2b-92c7-684fc3d9986e'}, 'consumptionDetails': {'type': 'RunInput', 'inputName': 'training_data', 'mechanism': 'Direct'}}],\n",
       " 'outputDatasets': [],\n",
       " 'logFiles': {}}"
      ]
     },
     "execution_count": 17,
     "metadata": {},
     "output_type": "execute_result"
    },
    {
     "data": {
      "application/vnd.jupyter.widget-view+json": {
       "model_id": "a01d997e1413410e8e3a3dd648991eb5",
       "version_major": 2,
       "version_minor": 0
      },
      "text/plain": [
       "_UserRunWidget(widget_settings={'childWidgetDisplay': 'popup', 'send_telemetry': False, 'log_level': 'INFO', '…"
      ]
     },
     "metadata": {},
     "output_type": "display_data"
    },
    {
     "data": {
      "application/aml.mini.widget.v1": "{\"loading\": true}"
     },
     "metadata": {},
     "output_type": "display_data"
    }
   ],
   "source": [
    "# show run details\n",
    "from azureml.widgets import RunDetails\n",
    "RunDetails(automl_run).show()\n",
    "\n",
    "# wait for completion\n",
    "automl_run.wait_for_completion(show_output=True)"
   ]
  },
  {
   "cell_type": "code",
   "execution_count": 18,
   "metadata": {
    "scrolled": true
   },
   "outputs": [
    {
     "name": "stdout",
     "output_type": "stream",
     "text": [
      "Pipeline(memory=None,\n",
      "         steps=[('datatransformer',\n",
      "                 DataTransformer(enable_dnn=None, enable_feature_sweeping=None,\n",
      "                                 feature_sweeping_config=None,\n",
      "                                 feature_sweeping_timeout=None,\n",
      "                                 featurization_config=None, force_text_dnn=None,\n",
      "                                 is_cross_validation=None,\n",
      "                                 is_onnx_compatible=None, logger=None,\n",
      "                                 observer=None, task=None, working_dir=None)),\n",
      "                ('prefittedsoftvotingclassifier',...\n",
      "                                                                                                  min_samples_leaf=0.06157894736842105,\n",
      "                                                                                                  min_samples_split=0.2442105263157895,\n",
      "                                                                                                  min_weight_fraction_leaf=0.0,\n",
      "                                                                                                  n_estimators=100,\n",
      "                                                                                                  n_jobs=-1,\n",
      "                                                                                                  oob_score=False,\n",
      "                                                                                                  random_state=None,\n",
      "                                                                                                  verbose=0,\n",
      "                                                                                                  warm_start=False))],\n",
      "                                                                     verbose=False))],\n",
      "                                               flatten_transform=None,\n",
      "                                               weights=[0.16666666666666666,\n",
      "                                                        0.3333333333333333,\n",
      "                                                        0.16666666666666666,\n",
      "                                                        0.16666666666666666,\n",
      "                                                        0.16666666666666666]))],\n",
      "         verbose=False)\n",
      "Y_transformer(['LabelEncoder', LabelEncoder()])\n"
     ]
    }
   ],
   "source": [
    "best_automl, best_fit_model = automl_run.get_output()\n",
    "print(best_fit_model)"
   ]
  },
  {
   "cell_type": "code",
   "execution_count": 19,
   "metadata": {},
   "outputs": [
    {
     "name": "stdout",
     "output_type": "stream",
     "text": [
      "Run(Experiment: udacity-capstone-project,\n",
      "Id: AutoML_92c4ac84-b98b-4fc3-91f0-6090eded1910_44,\n",
      "Type: azureml.scriptrun,\n",
      "Status: Completed)\n"
     ]
    }
   ],
   "source": [
    "print(best_automl)"
   ]
  },
  {
   "cell_type": "code",
   "execution_count": 23,
   "metadata": {},
   "outputs": [
    {
     "data": {
      "text/plain": [
       "['best_fit_automl_model.pkl']"
      ]
     },
     "execution_count": 23,
     "metadata": {},
     "output_type": "execute_result"
    }
   ],
   "source": [
    "#TODO: Save the best model\n",
    "\n",
    "import joblib\n",
    "joblib.dump(best_fit_model, 'best_fit_automl_model.pkl')"
   ]
  },
  {
   "cell_type": "code",
   "execution_count": 24,
   "metadata": {},
   "outputs": [
    {
     "name": "stdout",
     "output_type": "stream",
     "text": [
      "Registering model best_fit_automl_model\n",
      "best_fit_automl_model\tbest_fit_automl_model:1\t1\n"
     ]
    }
   ],
   "source": [
    "# Register the Model\n",
    "from azureml.core.model import Model\n",
    "model = Model.register(workspace = ws, model_name = 'best_fit_automl_model', model_path = 'best_fit_automl_model.pkl')\n",
    "print(model.name, model.id, model.version, sep='\\t')"
   ]
  },
  {
   "cell_type": "code",
   "execution_count": 25,
   "metadata": {},
   "outputs": [
    {
     "name": "stdout",
     "output_type": "stream",
     "text": [
      "Tips: You can try get_logs(): https://aka.ms/debugimage#dockerlog or local deployment: https://aka.ms/debugimage#debug-locally to debug if deployment takes longer than 10 minutes.\n",
      "Running.........................................\n",
      "Succeeded\n",
      "ACI service creation operation finished, operation \"Succeeded\"\n"
     ]
    }
   ],
   "source": [
    "from azureml.core.model import InferenceConfig\n",
    "from azureml.core.webservice import AciWebservice\n",
    "from azureml.core import Environment\n",
    "from azureml.core.model import Model\n",
    "\n",
    "service_name = 'my-automl-service'\n",
    "env = Environment.get(workspace=ws, name=\"AzureML-Tutorial\")  \n",
    "env.python.conda_dependencies.add_pip_package(\"scikit-learn\")\n",
    "\n",
    "inference_config = InferenceConfig(entry_script='score3.py', environment=env)\n",
    "aci_config = AciWebservice.deploy_configuration(cpu_cores=1, memory_gb=4, enable_app_insights=True)\n",
    "\n",
    "model = Model(ws,name='best_fit_automl_model')\n",
    "service = Model.deploy(workspace=ws,\n",
    "                       name=service_name,\n",
    "                       models=[model],\n",
    "                       inference_config=inference_config,\n",
    "                       deployment_config=aci_config,\n",
    "                       overwrite=True)\n",
    "\n",
    "service.wait_for_deployment(show_output=True)"
   ]
  },
  {
   "cell_type": "code",
   "execution_count": 26,
   "metadata": {},
   "outputs": [
    {
     "name": "stdout",
     "output_type": "stream",
     "text": [
      "Healthy\n",
      "http://66faec51-cade-4ca4-b7c6-2a0cbf4d8453.southcentralus.azurecontainer.io/score\n",
      "http://66faec51-cade-4ca4-b7c6-2a0cbf4d8453.southcentralus.azurecontainer.io/swagger.json\n"
     ]
    }
   ],
   "source": [
    "print(service.state)\n",
    "print(service.scoring_uri)\n",
    "print(service.swagger_uri)"
   ]
  },
  {
   "cell_type": "code",
   "execution_count": 27,
   "metadata": {},
   "outputs": [
    {
     "name": "stdout",
     "output_type": "stream",
     "text": [
      "Response Code :  200\n",
      "Predicted Value :  [\"Iris-virginica\", \"Iris-setosa\"]\n"
     ]
    }
   ],
   "source": [
    "import requests\n",
    "import json\n",
    "\n",
    "# URL for the web service\n",
    "scoring_uri = 'http://66faec51-cade-4ca4-b7c6-2a0cbf4d8453.southcentralus.azurecontainer.io/score'\n",
    "\n",
    "# Set the content type\n",
    "headers = {'Content-Type': 'application/json'}\n",
    "\n",
    "data = {\"data\":\n",
    "        [\n",
    "          {\n",
    "            \"sepal_length\": 6.0,\n",
    "            \"sepal_width\": 2.0,\n",
    "            \"petal_length\": 5.6,\n",
    "            \"petal_width\": 3.2,\n",
    "           \n",
    "          },\n",
    "          {\n",
    "            \"sepal_length\": 3.0,\n",
    "            \"sepal_width\": 3.0,\n",
    "            \"petal_length\": 1.6,\n",
    "            \"petal_width\": 4.2,\n",
    "          }\n",
    "      ]\n",
    "    }\n",
    "# Convert to JSON string\n",
    "input_data = json.dumps(data)\n",
    "\n",
    "# Make the request and display the response\n",
    "resp = requests.post(scoring_uri, input_data, headers=headers)\n",
    "\n",
    "print(\"Response Code : \", resp.status_code)\n",
    "print(\"Predicted Value : \",resp.text)"
   ]
  },
  {
   "cell_type": "code",
   "execution_count": 28,
   "metadata": {},
   "outputs": [
    {
     "name": "stdout",
     "output_type": "stream",
     "text": [
      "2020-12-27T20:16:16,747322000+00:00 - iot-server/run \n",
      "2020-12-27T20:16:16,745760300+00:00 - gunicorn/run \n",
      "2020-12-27T20:16:16,786281700+00:00 - nginx/run \n",
      "/usr/sbin/nginx: /azureml-envs/azureml_a1736710baabf05d37337a101fa8d6d1/lib/libcrypto.so.1.0.0: no version information available (required by /usr/sbin/nginx)\n",
      "/usr/sbin/nginx: /azureml-envs/azureml_a1736710baabf05d37337a101fa8d6d1/lib/libcrypto.so.1.0.0: no version information available (required by /usr/sbin/nginx)\n",
      "/usr/sbin/nginx: /azureml-envs/azureml_a1736710baabf05d37337a101fa8d6d1/lib/libssl.so.1.0.0: no version information available (required by /usr/sbin/nginx)\n",
      "/usr/sbin/nginx: /azureml-envs/azureml_a1736710baabf05d37337a101fa8d6d1/lib/libssl.so.1.0.0: no version information available (required by /usr/sbin/nginx)\n",
      "/usr/sbin/nginx: /azureml-envs/azureml_a1736710baabf05d37337a101fa8d6d1/lib/libssl.so.1.0.0: no version information available (required by /usr/sbin/nginx)\n",
      "2020-12-27T20:16:16,799475700+00:00 - rsyslog/run \n",
      "rsyslogd: /azureml-envs/azureml_a1736710baabf05d37337a101fa8d6d1/lib/libuuid.so.1: no version information available (required by rsyslogd)\n",
      "EdgeHubConnectionString and IOTEDGE_IOTHUBHOSTNAME are not set. Exiting...\n",
      "2020-12-27T20:16:18,793902300+00:00 - iot-server/finish 1 0\n",
      "2020-12-27T20:16:18,805163700+00:00 - Exit code 1 is normal. Not restarting iot-server.\n",
      "Starting gunicorn 19.9.0\n",
      "Listening at: http://127.0.0.1:31311 (69)\n",
      "Using worker: sync\n",
      "worker timeout is set to 300\n",
      "Booting worker with pid: 104\n",
      "SPARK_HOME not set. Skipping PySpark Initialization.\n",
      "Failure while loading azureml_run_type_providers. Failed to load entrypoint automl = azureml.train.automl.run:AutoMLRun._from_run_dto with exception (pyarrow 2.0.0 (/azureml-envs/azureml_a1736710baabf05d37337a101fa8d6d1/lib/python3.6/site-packages), Requirement.parse('pyarrow<2.0.0,>=0.17.0'), {'azureml-dataset-runtime'}).\n",
      "Initializing logger\n",
      "2020-12-27 20:16:27,763 | root | INFO | Starting up app insights client\n",
      "Starting up app insights client\n",
      "2020-12-27 20:16:27,764 | root | INFO | Starting up request id generator\n",
      "Starting up request id generator\n",
      "2020-12-27 20:16:27,768 | root | INFO | Starting up app insight hooks\n",
      "Starting up app insight hooks\n",
      "2020-12-27 20:16:27,768 | root | INFO | Invoking user's init function\n",
      "Invoking user's init function\n",
      "2020-12-27 20:16:32,190 | root | INFO | Users's init has completed successfully\n",
      "Users's init has completed successfully\n",
      "/azureml-envs/azureml_a1736710baabf05d37337a101fa8d6d1/lib/python3.6/site-packages/sklearn/externals/joblib/__init__.py:15: FutureWarning: sklearn.externals.joblib is deprecated in 0.21 and will be removed in 0.23. Please import this functionality directly from joblib, which can be installed with: pip install joblib. If this warning is raised when loading pickled models, you may need to re-serialize those models with scikit-learn 0.21+.\n",
      "  warnings.warn(msg, category=FutureWarning)\n",
      "2020-12-27 20:16:32,197 | root | INFO | Skipping middleware: dbg_model_info as it's not enabled.\n",
      "Skipping middleware: dbg_model_info as it's not enabled.\n",
      "2020-12-27 20:16:32,198 | root | INFO | Skipping middleware: dbg_resource_usage as it's not enabled.\n",
      "Skipping middleware: dbg_resource_usage as it's not enabled.\n",
      "2020-12-27 20:16:32,199 | root | INFO | Scoring timeout is found from os.environ: 60000 ms\n",
      "Scoring timeout is found from os.environ: 60000 ms\n",
      "2020-12-27 20:16:32,213 | root | INFO | Swagger file not present\n",
      "Swagger file not present\n",
      "2020-12-27 20:16:32,215 | root | INFO | 404\n",
      "404\n",
      "127.0.0.1 - - [27/Dec/2020:20:16:32 +0000] \"GET /swagger.json HTTP/1.0\" 404 19 \"-\" \"Go-http-client/1.1\"\n",
      "2020-12-27 20:16:33,658 | root | INFO | Swagger file not present\n",
      "Swagger file not present\n",
      "2020-12-27 20:16:33,658 | root | INFO | 404\n",
      "404\n",
      "127.0.0.1 - - [27/Dec/2020:20:16:33 +0000] \"GET /swagger.json HTTP/1.0\" 404 19 \"-\" \"Go-http-client/1.1\"\n",
      "2020-12-27 20:21:05,656 | root | INFO | Validation Request Content-Type\n",
      "Validation Request Content-Type\n",
      "2020-12-27 20:21:05,657 | root | INFO | \tHost: localhost:5001\n",
      "\tHost: localhost:5001\n",
      "2020-12-27 20:21:05,657 | root | INFO | \tX-Real-Ip: 127.0.0.1\n",
      "\tX-Real-Ip: 127.0.0.1\n",
      "2020-12-27 20:21:05,657 | root | INFO | \tX-Forwarded-For: 127.0.0.1\n",
      "\tX-Forwarded-For: 127.0.0.1\n",
      "2020-12-27 20:21:05,657 | root | INFO | \tX-Forwarded-Proto: http\n",
      "\tX-Forwarded-Proto: http\n",
      "2020-12-27 20:21:05,658 | root | INFO | \tConnection: close\n",
      "\tConnection: close\n",
      "2020-12-27 20:21:05,658 | root | INFO | \tContent-Length: 178\n",
      "\tContent-Length: 178\n",
      "2020-12-27 20:21:05,658 | root | INFO | \tUser-Agent: python-requests/2.25.0\n",
      "\tUser-Agent: python-requests/2.25.0\n",
      "2020-12-27 20:21:05,659 | root | INFO | \tAccept: */*\n",
      "\tAccept: */*\n",
      "2020-12-27 20:21:05,659 | root | INFO | \tAccept-Encoding: gzip, deflate\n",
      "\tAccept-Encoding: gzip, deflate\n",
      "2020-12-27 20:21:05,659 | root | INFO | \tContent-Type: application/json\n",
      "\tContent-Type: application/json\n",
      "2020-12-27 20:21:05,660 | root | INFO | \tX-Ms-Request-Id: d5b24a22-df9d-4490-838e-b4afe24f11f9\n",
      "\tX-Ms-Request-Id: d5b24a22-df9d-4490-838e-b4afe24f11f9\n",
      "2020-12-27 20:21:05,660 | root | INFO | Scoring Timer is set to 60.0 seconds\n",
      "Scoring Timer is set to 60.0 seconds\n",
      "[TRANSFORM] ['sepal_length']: 0.003347 secs\n",
      "[TRANSFORM] ['sepal_width']: 0.000897 secs\n",
      "[TRANSFORM] ['petal_length']: 0.004104 secs\n",
      "[TRANSFORM] ['petal_width']: 0.000813 secs\n",
      "2020-12-27 20:21:06,100 | root | INFO | 200\n",
      "200\n",
      "127.0.0.1 - - [27/Dec/2020:20:21:06 +0000] \"POST /score HTTP/1.0\" 200 33 \"-\" \"python-requests/2.25.0\"\n",
      "\n"
     ]
    }
   ],
   "source": [
    "# Web Service Logs\n",
    "print(service.get_logs())"
   ]
  },
  {
   "cell_type": "code",
   "execution_count": null,
   "metadata": {},
   "outputs": [],
   "source": []
  }
 ],
 "metadata": {
  "kernelspec": {
   "display_name": "Python 3.6 - AzureML",
   "language": "python",
   "name": "python3-azureml"
  },
  "language_info": {
   "codemirror_mode": {
    "name": "ipython",
    "version": 3
   },
   "file_extension": ".py",
   "mimetype": "text/x-python",
   "name": "python",
   "nbconvert_exporter": "python",
   "pygments_lexer": "ipython3",
   "version": "3.6.9"
  }
 },
 "nbformat": 4,
 "nbformat_minor": 4
}
