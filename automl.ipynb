{
 "cells": [
  {
   "cell_type": "code",
   "execution_count": 1,
   "metadata": {},
   "outputs": [
    {
     "name": "stdout",
     "output_type": "stream",
     "text": [
      "SDK version: 1.19.0\n"
     ]
    }
   ],
   "source": [
    "import logging\n",
    "import os\n",
    "import csv\n",
    "\n",
    "from matplotlib import pyplot as plt\n",
    "import numpy as np\n",
    "import pandas as pd\n",
    "#from sklearn import datasets\n",
    "import pkg_resources\n",
    "\n",
    "import azureml.core\n",
    "from azureml.core.experiment import Experiment\n",
    "from azureml.core.workspace import Workspace\n",
    "from azureml.train.automl import AutoMLConfig\n",
    "#from azureml.core.dataset import Dataset\n",
    "\n",
    "from azureml.pipeline.steps import AutoMLStep\n",
    "\n",
    "# Check core SDK version number\n",
    "print(\"SDK version:\", azureml.core.VERSION)"
   ]
  },
  {
   "cell_type": "code",
   "execution_count": 2,
   "metadata": {},
   "outputs": [
    {
     "name": "stdout",
     "output_type": "stream",
     "text": [
      "Workspace name: quick-starts-ws-132084\n",
      "Azure region: southcentralus\n",
      "Subscription id: 9a7511b8-150f-4a58-8528-3e7d50216c31\n",
      "Resource group: aml-quickstarts-132084\n"
     ]
    }
   ],
   "source": [
    "from azureml.core import Workspace, Experiment\n",
    "ws = Workspace.from_config()\n",
    "print('Workspace name: ' + ws.name, \n",
    "      'Azure region: ' + ws.location, \n",
    "      'Subscription id: ' + ws.subscription_id, \n",
    "      'Resource group: ' + ws.resource_group, sep = '\\n')\n",
    "experiment_name = 'udacity-project'\n",
    "exp=Experiment(ws, experiment_name)\n",
    "project_folder = './automlproject'\n",
    "run = exp.start_logging()"
   ]
  },
  {
   "cell_type": "code",
   "execution_count": 3,
   "metadata": {},
   "outputs": [
    {
     "name": "stdout",
     "output_type": "stream",
     "text": [
      "Creating\n",
      "Succeeded\n",
      "AmlCompute wait for completion finished\n",
      "\n",
      "Minimum number of nodes requested have been provisioned\n"
     ]
    }
   ],
   "source": [
    "from azureml.core.compute import ComputeTarget, AmlCompute\n",
    "\n",
    "# TODO: Create compute cluster\n",
    "# Use vm_size = \"Standard_D2_V2\" in your provisioning configuration.\n",
    "# max_nodes should be no greater than 4.\n",
    "\n",
    "# Choose a name for your CPU cluster\n",
    "from azureml.core.compute_target import ComputeTargetException\n",
    "cpu_cluster_name = \"cpu-cluster-mla\"\n",
    "\n",
    "   # Verify that cluster does not exist already\n",
    "try:\n",
    "    cpu_cluster = ComputeTarget(workspace=ws, name=cpu_cluster_name)\n",
    "    print('Found existing cluster, use it.')\n",
    "except ComputeTargetException:\n",
    "    compute_config = AmlCompute.provisioning_configuration(vm_size='STANDARD_D2_V2',\n",
    "                                                              max_nodes=4)\n",
    "    cpu_cluster = ComputeTarget.create(ws, cpu_cluster_name, compute_config)\n",
    "\n",
    "    cpu_cluster.wait_for_completion(show_output=True)"
   ]
  },
  {
   "cell_type": "code",
   "execution_count": 4,
   "metadata": {},
   "outputs": [
    {
     "data": {
      "text/html": [
       "<div>\n",
       "<style scoped>\n",
       "    .dataframe tbody tr th:only-of-type {\n",
       "        vertical-align: middle;\n",
       "    }\n",
       "\n",
       "    .dataframe tbody tr th {\n",
       "        vertical-align: top;\n",
       "    }\n",
       "\n",
       "    .dataframe thead th {\n",
       "        text-align: right;\n",
       "    }\n",
       "</style>\n",
       "<table border=\"1\" class=\"dataframe\">\n",
       "  <thead>\n",
       "    <tr style=\"text-align: right;\">\n",
       "      <th></th>\n",
       "      <th>sepal_length</th>\n",
       "      <th>sepal_width</th>\n",
       "      <th>petal_length</th>\n",
       "      <th>petal_width</th>\n",
       "      <th>species</th>\n",
       "    </tr>\n",
       "  </thead>\n",
       "  <tbody>\n",
       "    <tr>\n",
       "      <th>0</th>\n",
       "      <td>5.1</td>\n",
       "      <td>3.5</td>\n",
       "      <td>1.4</td>\n",
       "      <td>0.2</td>\n",
       "      <td>Iris-setosa</td>\n",
       "    </tr>\n",
       "    <tr>\n",
       "      <th>1</th>\n",
       "      <td>4.9</td>\n",
       "      <td>3.0</td>\n",
       "      <td>1.4</td>\n",
       "      <td>0.2</td>\n",
       "      <td>Iris-setosa</td>\n",
       "    </tr>\n",
       "    <tr>\n",
       "      <th>2</th>\n",
       "      <td>4.7</td>\n",
       "      <td>3.2</td>\n",
       "      <td>1.3</td>\n",
       "      <td>0.2</td>\n",
       "      <td>Iris-setosa</td>\n",
       "    </tr>\n",
       "    <tr>\n",
       "      <th>3</th>\n",
       "      <td>4.6</td>\n",
       "      <td>3.1</td>\n",
       "      <td>1.5</td>\n",
       "      <td>0.2</td>\n",
       "      <td>Iris-setosa</td>\n",
       "    </tr>\n",
       "    <tr>\n",
       "      <th>4</th>\n",
       "      <td>5.0</td>\n",
       "      <td>3.6</td>\n",
       "      <td>1.4</td>\n",
       "      <td>0.2</td>\n",
       "      <td>Iris-setosa</td>\n",
       "    </tr>\n",
       "  </tbody>\n",
       "</table>\n",
       "</div>"
      ],
      "text/plain": [
       "   sepal_length  sepal_width  petal_length  petal_width      species\n",
       "0           5.1          3.5           1.4          0.2  Iris-setosa\n",
       "1           4.9          3.0           1.4          0.2  Iris-setosa\n",
       "2           4.7          3.2           1.3          0.2  Iris-setosa\n",
       "3           4.6          3.1           1.5          0.2  Iris-setosa\n",
       "4           5.0          3.6           1.4          0.2  Iris-setosa"
      ]
     },
     "execution_count": 4,
     "metadata": {},
     "output_type": "execute_result"
    }
   ],
   "source": [
    "from azureml.data.dataset_factory import TabularDatasetFactory\n",
    "from azureml.core.dataset import Dataset\n",
    "from azureml.data.datapath import DataPath\n",
    "\n",
    "url_path = 'https://raw.githubusercontent.com/dib1979/Temporary/main/IRIS.csv'\n",
    "dataset = TabularDatasetFactory.from_delimited_files(path=url_path)\n",
    "dataset = dataset.register(workspace=ws,\n",
    "                    name='iris_data',\n",
    "                    description='Udacity Project')\n",
    "dataset.to_pandas_dataframe().head()"
   ]
  },
  {
   "cell_type": "code",
   "execution_count": 5,
   "metadata": {},
   "outputs": [
    {
     "data": {
      "text/html": [
       "<div>\n",
       "<style scoped>\n",
       "    .dataframe tbody tr th:only-of-type {\n",
       "        vertical-align: middle;\n",
       "    }\n",
       "\n",
       "    .dataframe tbody tr th {\n",
       "        vertical-align: top;\n",
       "    }\n",
       "\n",
       "    .dataframe thead th {\n",
       "        text-align: right;\n",
       "    }\n",
       "</style>\n",
       "<table border=\"1\" class=\"dataframe\">\n",
       "  <thead>\n",
       "    <tr style=\"text-align: right;\">\n",
       "      <th></th>\n",
       "      <th>sepal_length</th>\n",
       "      <th>sepal_width</th>\n",
       "      <th>petal_length</th>\n",
       "      <th>petal_width</th>\n",
       "    </tr>\n",
       "  </thead>\n",
       "  <tbody>\n",
       "    <tr>\n",
       "      <th>count</th>\n",
       "      <td>150.000000</td>\n",
       "      <td>150.000000</td>\n",
       "      <td>150.000000</td>\n",
       "      <td>150.000000</td>\n",
       "    </tr>\n",
       "    <tr>\n",
       "      <th>mean</th>\n",
       "      <td>5.843333</td>\n",
       "      <td>3.054000</td>\n",
       "      <td>3.758667</td>\n",
       "      <td>1.198667</td>\n",
       "    </tr>\n",
       "    <tr>\n",
       "      <th>std</th>\n",
       "      <td>0.828066</td>\n",
       "      <td>0.433594</td>\n",
       "      <td>1.764420</td>\n",
       "      <td>0.763161</td>\n",
       "    </tr>\n",
       "    <tr>\n",
       "      <th>min</th>\n",
       "      <td>4.300000</td>\n",
       "      <td>2.000000</td>\n",
       "      <td>1.000000</td>\n",
       "      <td>0.100000</td>\n",
       "    </tr>\n",
       "    <tr>\n",
       "      <th>25%</th>\n",
       "      <td>5.100000</td>\n",
       "      <td>2.800000</td>\n",
       "      <td>1.600000</td>\n",
       "      <td>0.300000</td>\n",
       "    </tr>\n",
       "    <tr>\n",
       "      <th>50%</th>\n",
       "      <td>5.800000</td>\n",
       "      <td>3.000000</td>\n",
       "      <td>4.350000</td>\n",
       "      <td>1.300000</td>\n",
       "    </tr>\n",
       "    <tr>\n",
       "      <th>75%</th>\n",
       "      <td>6.400000</td>\n",
       "      <td>3.300000</td>\n",
       "      <td>5.100000</td>\n",
       "      <td>1.800000</td>\n",
       "    </tr>\n",
       "    <tr>\n",
       "      <th>max</th>\n",
       "      <td>7.900000</td>\n",
       "      <td>4.400000</td>\n",
       "      <td>6.900000</td>\n",
       "      <td>2.500000</td>\n",
       "    </tr>\n",
       "  </tbody>\n",
       "</table>\n",
       "</div>"
      ],
      "text/plain": [
       "       sepal_length  sepal_width  petal_length  petal_width\n",
       "count    150.000000   150.000000    150.000000   150.000000\n",
       "mean       5.843333     3.054000      3.758667     1.198667\n",
       "std        0.828066     0.433594      1.764420     0.763161\n",
       "min        4.300000     2.000000      1.000000     0.100000\n",
       "25%        5.100000     2.800000      1.600000     0.300000\n",
       "50%        5.800000     3.000000      4.350000     1.300000\n",
       "75%        6.400000     3.300000      5.100000     1.800000\n",
       "max        7.900000     4.400000      6.900000     2.500000"
      ]
     },
     "execution_count": 5,
     "metadata": {},
     "output_type": "execute_result"
    }
   ],
   "source": [
    "df = dataset.to_pandas_dataframe()\n",
    "df.describe()"
   ]
  },
  {
   "cell_type": "code",
   "execution_count": 6,
   "metadata": {},
   "outputs": [
    {
     "data": {
      "text/plain": [
       "Iris-versicolor    50\n",
       "Iris-virginica     50\n",
       "Iris-setosa        50\n",
       "Name: species, dtype: int64"
      ]
     },
     "execution_count": 6,
     "metadata": {},
     "output_type": "execute_result"
    }
   ],
   "source": [
    "df['species'].value_counts()"
   ]
  },
  {
   "cell_type": "code",
   "execution_count": 7,
   "metadata": {},
   "outputs": [],
   "source": [
    "X= df.drop(['species'], axis=1)"
   ]
  },
  {
   "cell_type": "code",
   "execution_count": 8,
   "metadata": {},
   "outputs": [],
   "source": [
    "y = df['species']\n"
   ]
  },
  {
   "cell_type": "code",
   "execution_count": 9,
   "metadata": {},
   "outputs": [],
   "source": [
    "from sklearn.model_selection import train_test_split\n",
    "import pandas as pd\n",
    "\n",
    "(X_train, X_test, y_train, y_test) = train_test_split(X, y, test_size= 0.3, random_state = 0)\n",
    "label = 'species'"
   ]
  },
  {
   "cell_type": "code",
   "execution_count": 10,
   "metadata": {},
   "outputs": [
    {
     "data": {
      "text/html": [
       "<div>\n",
       "<style scoped>\n",
       "    .dataframe tbody tr th:only-of-type {\n",
       "        vertical-align: middle;\n",
       "    }\n",
       "\n",
       "    .dataframe tbody tr th {\n",
       "        vertical-align: top;\n",
       "    }\n",
       "\n",
       "    .dataframe thead th {\n",
       "        text-align: right;\n",
       "    }\n",
       "</style>\n",
       "<table border=\"1\" class=\"dataframe\">\n",
       "  <thead>\n",
       "    <tr style=\"text-align: right;\">\n",
       "      <th></th>\n",
       "      <th>sepal_length</th>\n",
       "      <th>sepal_width</th>\n",
       "      <th>petal_length</th>\n",
       "      <th>petal_width</th>\n",
       "      <th>species</th>\n",
       "    </tr>\n",
       "  </thead>\n",
       "  <tbody>\n",
       "    <tr>\n",
       "      <th>60</th>\n",
       "      <td>5.0</td>\n",
       "      <td>2.0</td>\n",
       "      <td>3.5</td>\n",
       "      <td>1.0</td>\n",
       "      <td>Iris-versicolor</td>\n",
       "    </tr>\n",
       "    <tr>\n",
       "      <th>116</th>\n",
       "      <td>6.5</td>\n",
       "      <td>3.0</td>\n",
       "      <td>5.5</td>\n",
       "      <td>1.8</td>\n",
       "      <td>Iris-virginica</td>\n",
       "    </tr>\n",
       "    <tr>\n",
       "      <th>144</th>\n",
       "      <td>6.7</td>\n",
       "      <td>3.3</td>\n",
       "      <td>5.7</td>\n",
       "      <td>2.5</td>\n",
       "      <td>Iris-virginica</td>\n",
       "    </tr>\n",
       "    <tr>\n",
       "      <th>119</th>\n",
       "      <td>6.0</td>\n",
       "      <td>2.2</td>\n",
       "      <td>5.0</td>\n",
       "      <td>1.5</td>\n",
       "      <td>Iris-virginica</td>\n",
       "    </tr>\n",
       "    <tr>\n",
       "      <th>108</th>\n",
       "      <td>6.7</td>\n",
       "      <td>2.5</td>\n",
       "      <td>5.8</td>\n",
       "      <td>1.8</td>\n",
       "      <td>Iris-virginica</td>\n",
       "    </tr>\n",
       "  </tbody>\n",
       "</table>\n",
       "</div>"
      ],
      "text/plain": [
       "     sepal_length  sepal_width  petal_length  petal_width          species\n",
       "60            5.0          2.0           3.5          1.0  Iris-versicolor\n",
       "116           6.5          3.0           5.5          1.8   Iris-virginica\n",
       "144           6.7          3.3           5.7          2.5   Iris-virginica\n",
       "119           6.0          2.2           5.0          1.5   Iris-virginica\n",
       "108           6.7          2.5           5.8          1.8   Iris-virginica"
      ]
     },
     "execution_count": 10,
     "metadata": {},
     "output_type": "execute_result"
    }
   ],
   "source": [
    "train_data_df = pd.concat([X_train, y_train], axis=1)\n",
    "\n",
    "train_data_df.head()"
   ]
  },
  {
   "cell_type": "code",
   "execution_count": 11,
   "metadata": {},
   "outputs": [
    {
     "name": "stdout",
     "output_type": "stream",
     "text": [
      "Uploading an estimated of 1 files\n",
      "Uploading ./data/train_data.csv\n",
      "Uploaded ./data/train_data.csv, 1 files out of an estimated total of 1\n",
      "Uploaded 1 files\n"
     ]
    }
   ],
   "source": [
    "# save training data in tabular format to allow for remote run\n",
    "if not os.path.isdir('data'):  # create data folder if it does not exist\n",
    "    os.mkdir('data')\n",
    "    \n",
    "if not os.path.exists('project_folder'):  # create project folder if it does not exist\n",
    "    os.makedirs('project_folder')\n",
    "\n",
    "# Save the train data to a csv file to be uploaded to the datastore\n",
    "pd.DataFrame(train_data_df).to_csv(\"data/train_data.csv\", index=False)\n",
    "\n",
    "# Upload the training data as a tabular dataset for access during training on remote compute\n",
    "# upload to data store\n",
    "ds = ws.get_default_datastore()\n",
    "ds.upload(src_dir='./data', target_path='automlclassifier', overwrite=True, show_progress=True)\n",
    "\n",
    " # access datastore during training on remote compute\n",
    "train_data = TabularDatasetFactory.from_delimited_files(path=ds.path('automlclassifier/train_data.csv'))"
   ]
  },
  {
   "cell_type": "code",
   "execution_count": 12,
   "metadata": {},
   "outputs": [],
   "source": [
    "# Set parameters for AutoMLConfig\n",
    "\n",
    "# define autoconfig settings\n",
    "automl_settings = {\n",
    "    \"enable_early_stopping\" : True,\n",
    "    \"iteration_timeout_minutes\": 5,\n",
    "    \"max_concurrent_iterations\": 4,\n",
    "    \"max_cores_per_iteration\": -1,    \n",
    "    \"featurization\": 'auto',\n",
    "    \"verbosity\": logging.INFO,\n",
    "}\n",
    "\n",
    "# define automl autconfig parameters\n",
    "automl_config = AutoMLConfig(\n",
    "    experiment_timeout_minutes=30,\n",
    "    task= 'classification',\n",
    "    primary_metric='accuracy',\n",
    "    enable_onnx_compatible_models=True,\n",
    "    compute_target=cpu_cluster, # included to allow for remote compute\n",
    "    training_data= train_data,\n",
    "    label_column_name= label,\n",
    "    path = project_folder,\n",
    "    n_cross_validations=3,\n",
    "    debug_log = \"automl_errors.log\",    \n",
    "    **automl_settings)"
   ]
  },
  {
   "cell_type": "code",
   "execution_count": 14,
   "metadata": {
    "scrolled": true
   },
   "outputs": [
    {
     "name": "stdout",
     "output_type": "stream",
     "text": [
      "Running on remote.\n",
      "Running on remote compute: cpu-cluster-mla\n",
      "Parent Run ID: AutoML_a89b9f55-34c4-458c-af5e-bb73a4ba2a64\n",
      "\n",
      "Current status: FeaturesGeneration. Generating features for the dataset.\n",
      "Current status: ModelSelection. Beginning model selection.\n",
      "\n",
      "****************************************************************************************************\n",
      "DATA GUARDRAILS: \n",
      "\n",
      "TYPE:         Class balancing detection\n",
      "STATUS:       PASSED\n",
      "DESCRIPTION:  Your inputs were analyzed, and all classes are balanced in your training data.\n",
      "              Learn more about imbalanced data: https://aka.ms/AutomatedMLImbalancedData\n",
      "\n",
      "****************************************************************************************************\n",
      "\n",
      "TYPE:         High cardinality feature detection\n",
      "STATUS:       PASSED\n",
      "DESCRIPTION:  Your inputs were analyzed, and no high cardinality features were detected.\n",
      "              Learn more about high cardinality feature handling: https://aka.ms/AutomatedMLFeaturization\n",
      "\n",
      "****************************************************************************************************\n",
      "\n",
      "****************************************************************************************************\n",
      "ITERATION: The iteration being evaluated.\n",
      "PIPELINE: A summary description of the pipeline being evaluated.\n",
      "DURATION: Time taken for the current iteration.\n",
      "METRIC: The result of computing score on the fitted pipeline.\n",
      "BEST: The best observed score thus far.\n",
      "****************************************************************************************************\n",
      "\n",
      " ITERATION   PIPELINE                                       DURATION      METRIC      BEST\n",
      "         0   MaxAbsScaler LightGBM                          0:00:55       0.9429    0.9429\n",
      "         2   MinMaxScaler RandomForest                      0:00:55       0.9238    0.9429\n",
      "         3   MinMaxScaler RandomForest                      0:00:56       0.9238    0.9429\n",
      "         1   MaxAbsScaler XGBoostClassifier                 0:00:59       0.9333    0.9429\n",
      "         4   MinMaxScaler RandomForest                      0:00:49       0.9238    0.9429\n",
      "         5   RobustScaler LightGBM                          0:00:50       0.9238    0.9429\n",
      "         6   MinMaxScaler SVM                               0:01:00       0.9429    0.9429\n",
      "         7   MinMaxScaler SVM                               0:00:49       0.9429    0.9429\n",
      "         8   SparseNormalizer XGBoostClassifier             0:00:47       0.9524    0.9524\n",
      "         9   SparseNormalizer XGBoostClassifier             0:00:54       0.9524    0.9524\n",
      "        10   SparseNormalizer XGBoostClassifier             0:00:48       0.9524    0.9524\n",
      "        11   StandardScalerWrapper RandomForest             0:00:58       0.9238    0.9524\n",
      "        13   MaxAbsScaler ExtremeRandomTrees                0:01:01       0.9333    0.9524\n",
      "        14   MinMaxScaler LightGBM                          0:00:48       0.9238    0.9524\n",
      "        15   StandardScalerWrapper LightGBM                 0:00:50       0.9524    0.9524\n",
      "        16   MaxAbsScaler LightGBM                          0:00:49       0.9143    0.9524\n",
      "        17   MaxAbsScaler LightGBM                          0:00:50       0.9429    0.9524\n",
      "        18   SparseNormalizer XGBoostClassifier             0:01:08       0.9524    0.9524\n",
      "        12   SparseNormalizer XGBoostClassifier             0:03:27       0.9524    0.9524\n",
      "        19   SparseNormalizer XGBoostClassifier             0:00:53       0.9619    0.9619\n",
      "        20   SparseNormalizer LightGBM                      0:00:52       0.9429    0.9619\n",
      "        21   StandardScalerWrapper LogisticRegression       0:00:56       0.9429    0.9619\n",
      "        22   MaxAbsScaler LogisticRegression                0:00:55       0.9524    0.9619\n",
      "        23   SparseNormalizer XGBoostClassifier             0:00:59       0.9333    0.9619\n",
      "        24   StandardScalerWrapper LightGBM                 0:00:57       0.9333    0.9619\n",
      "        25   StandardScalerWrapper XGBoostClassifier        0:00:53       0.2762    0.9619\n",
      "        26   MaxAbsScaler ExtremeRandomTrees                0:00:57       0.9143    0.9619\n",
      "        27   StandardScalerWrapper XGBoostClassifier        0:00:58       0.9238    0.9619\n",
      "        28   SparseNormalizer XGBoostClassifier             0:00:54       0.9619    0.9619\n",
      "        29   MaxAbsScaler RandomForest                      0:01:10       0.9238    0.9619\n",
      "        30   StandardScalerWrapper XGBoostClassifier        0:00:51       0.9238    0.9619\n",
      "        31   MaxAbsScaler ExtremeRandomTrees                0:00:59       0.9619    0.9619\n",
      "        32   SparseNormalizer ExtremeRandomTrees            0:01:02       0.9524    0.9619\n",
      "        33   SparseNormalizer ExtremeRandomTrees            0:00:54       0.9810    0.9810\n",
      "        34   StandardScalerWrapper ExtremeRandomTrees       0:00:43       0.9619    0.9810\n",
      "        35                                                  0:00:17          nan    0.9810\n",
      "        36   StandardScalerWrapper XGBoostClassifier        0:00:47       0.9238    0.9810\n",
      "        37   StandardScalerWrapper LogisticRegression       0:00:52       0.9810    0.9810\n",
      "        38   StandardScalerWrapper LightGBM                 0:00:53       0.8667    0.9810\n",
      "        39   SparseNormalizer XGBoostClassifier             0:00:56       0.9429    0.9810\n",
      "        40   MinMaxScaler ExtremeRandomTrees                0:00:52       0.5619    0.9810\n",
      "        41   StandardScalerWrapper KNN                      0:00:51       0.9333    0.9810\n",
      "        42   MaxAbsScaler LightGBM                          0:00:52       0.9238    0.9810\n",
      "        43   StandardScalerWrapper LightGBM                 0:00:50       0.9238    0.9810\n",
      "        44   SparseNormalizer ExtremeRandomTrees            0:00:55       0.9714    0.9810\n",
      "        45   MaxAbsScaler ExtremeRandomTrees                0:00:52       0.9429    0.9810\n",
      "        46   MaxAbsScaler LogisticRegression                0:00:53       0.9333    0.9810\n",
      "        47   RobustScaler LogisticRegression                0:00:55       0.9524    0.9810\n",
      "        48                                                  0:00:17          nan    0.9810\n",
      "        49                                                  0:00:16          nan    0.9810\n",
      "        50    VotingEnsemble                                0:01:25       0.9905    0.9905\n"
     ]
    }
   ],
   "source": [
    "#Submit experiment for remote run\n",
    "automl_run = exp.submit(automl_config, show_output = True)"
   ]
  },
  {
   "cell_type": "code",
   "execution_count": 15,
   "metadata": {},
   "outputs": [
    {
     "data": {
      "application/vnd.jupyter.widget-view+json": {
       "model_id": "29504d332e8d46219c2707731801c451",
       "version_major": 2,
       "version_minor": 0
      },
      "text/plain": [
       "_AutoMLWidget(widget_settings={'childWidgetDisplay': 'popup', 'send_telemetry': False, 'log_level': 'INFO', 's…"
      ]
     },
     "metadata": {},
     "output_type": "display_data"
    },
    {
     "data": {
      "application/aml.mini.widget.v1": "{\"status\": \"Completed\", \"workbench_run_details_uri\": \"https://ml.azure.com/experiments/udacity-project/runs/AutoML_a89b9f55-34c4-458c-af5e-bb73a4ba2a64?wsid=/subscriptions/9a7511b8-150f-4a58-8528-3e7d50216c31/resourcegroups/aml-quickstarts-132084/workspaces/quick-starts-ws-132084\", \"run_id\": \"AutoML_a89b9f55-34c4-458c-af5e-bb73a4ba2a64\", \"run_properties\": {\"run_id\": \"AutoML_a89b9f55-34c4-458c-af5e-bb73a4ba2a64\", \"created_utc\": \"2020-12-27T22:46:30.871849Z\", \"properties\": {\"num_iterations\": \"1000\", \"training_type\": \"TrainFull\", \"acquisition_function\": \"EI\", \"primary_metric\": \"accuracy\", \"train_split\": \"0\", \"acquisition_parameter\": \"0\", \"num_cross_validation\": \"3\", \"target\": \"cpu-cluster-mla\", \"AMLSettingsJsonString\": \"{\\\"path\\\":null,\\\"name\\\":\\\"udacity-project\\\",\\\"subscription_id\\\":\\\"9a7511b8-150f-4a58-8528-3e7d50216c31\\\",\\\"resource_group\\\":\\\"aml-quickstarts-132084\\\",\\\"workspace_name\\\":\\\"quick-starts-ws-132084\\\",\\\"region\\\":\\\"southcentralus\\\",\\\"compute_target\\\":\\\"cpu-cluster-mla\\\",\\\"spark_service\\\":null,\\\"azure_service\\\":\\\"remote\\\",\\\"many_models\\\":false,\\\"pipeline_fetch_max_batch_size\\\":1,\\\"iterations\\\":1000,\\\"primary_metric\\\":\\\"accuracy\\\",\\\"task_type\\\":\\\"classification\\\",\\\"data_script\\\":null,\\\"validation_size\\\":0.0,\\\"n_cross_validations\\\":3,\\\"y_min\\\":null,\\\"y_max\\\":null,\\\"num_classes\\\":null,\\\"featurization\\\":\\\"auto\\\",\\\"_ignore_package_version_incompatibilities\\\":false,\\\"is_timeseries\\\":false,\\\"max_cores_per_iteration\\\":-1,\\\"max_concurrent_iterations\\\":4,\\\"iteration_timeout_minutes\\\":5,\\\"mem_in_mb\\\":null,\\\"enforce_time_on_windows\\\":false,\\\"experiment_timeout_minutes\\\":30,\\\"experiment_exit_score\\\":null,\\\"whitelist_models\\\":null,\\\"blacklist_algos\\\":[\\\"TensorFlowLinearClassifier\\\",\\\"TensorFlowDNN\\\"],\\\"supported_models\\\":[\\\"SGD\\\",\\\"DecisionTree\\\",\\\"TensorFlowDNN\\\",\\\"AveragedPerceptronClassifier\\\",\\\"TensorFlowLinearClassifier\\\",\\\"MultinomialNaiveBayes\\\",\\\"KNN\\\",\\\"LinearSVM\\\",\\\"BernoulliNaiveBayes\\\",\\\"LightGBM\\\",\\\"GradientBoosting\\\",\\\"LogisticRegression\\\",\\\"RandomForest\\\",\\\"SVM\\\",\\\"ExtremeRandomTrees\\\",\\\"XGBoostClassifier\\\"],\\\"auto_blacklist\\\":true,\\\"blacklist_samples_reached\\\":false,\\\"exclude_nan_labels\\\":true,\\\"verbosity\\\":20,\\\"_debug_log\\\":\\\"azureml_automl.log\\\",\\\"show_warnings\\\":false,\\\"model_explainability\\\":true,\\\"service_url\\\":null,\\\"sdk_url\\\":null,\\\"sdk_packages\\\":null,\\\"enable_onnx_compatible_models\\\":true,\\\"enable_split_onnx_featurizer_estimator_models\\\":false,\\\"vm_type\\\":\\\"STANDARD_D2_V2\\\",\\\"telemetry_verbosity\\\":20,\\\"send_telemetry\\\":true,\\\"enable_dnn\\\":false,\\\"scenario\\\":\\\"SDK-1.13.0\\\",\\\"environment_label\\\":null,\\\"force_text_dnn\\\":false,\\\"enable_feature_sweeping\\\":false,\\\"enable_early_stopping\\\":true,\\\"early_stopping_n_iters\\\":10,\\\"metrics\\\":null,\\\"enable_ensembling\\\":true,\\\"enable_stack_ensembling\\\":false,\\\"ensemble_iterations\\\":15,\\\"enable_tf\\\":false,\\\"enable_subsampling\\\":null,\\\"subsample_seed\\\":null,\\\"enable_nimbusml\\\":false,\\\"enable_streaming\\\":false,\\\"force_streaming\\\":false,\\\"track_child_runs\\\":true,\\\"allowed_private_models\\\":[],\\\"label_column_name\\\":\\\"species\\\",\\\"weight_column_name\\\":null,\\\"cv_split_column_names\\\":null,\\\"enable_local_managed\\\":false,\\\"_local_managed_run_id\\\":null,\\\"cost_mode\\\":1,\\\"lag_length\\\":0,\\\"metric_operation\\\":\\\"maximize\\\",\\\"preprocess\\\":true}\", \"DataPrepJsonString\": \"{\\\\\\\"training_data\\\\\\\": \\\\\\\"{\\\\\\\\\\\\\\\"blocks\\\\\\\\\\\\\\\": [{\\\\\\\\\\\\\\\"id\\\\\\\\\\\\\\\": \\\\\\\\\\\\\\\"567cd688-4fa2-4419-bf47-16a0875f4a47\\\\\\\\\\\\\\\", \\\\\\\\\\\\\\\"type\\\\\\\\\\\\\\\": \\\\\\\\\\\\\\\"Microsoft.DPrep.GetDatastoreFilesBlock\\\\\\\\\\\\\\\", \\\\\\\\\\\\\\\"arguments\\\\\\\\\\\\\\\": {\\\\\\\\\\\\\\\"datastores\\\\\\\\\\\\\\\": [{\\\\\\\\\\\\\\\"datastoreName\\\\\\\\\\\\\\\": \\\\\\\\\\\\\\\"workspaceblobstore\\\\\\\\\\\\\\\", \\\\\\\\\\\\\\\"path\\\\\\\\\\\\\\\": \\\\\\\\\\\\\\\"automlclassifier/train_data.csv\\\\\\\\\\\\\\\", \\\\\\\\\\\\\\\"resourceGroup\\\\\\\\\\\\\\\": \\\\\\\\\\\\\\\"aml-quickstarts-132084\\\\\\\\\\\\\\\", \\\\\\\\\\\\\\\"subscription\\\\\\\\\\\\\\\": \\\\\\\\\\\\\\\"9a7511b8-150f-4a58-8528-3e7d50216c31\\\\\\\\\\\\\\\", \\\\\\\\\\\\\\\"workspaceName\\\\\\\\\\\\\\\": \\\\\\\\\\\\\\\"quick-starts-ws-132084\\\\\\\\\\\\\\\"}]}, \\\\\\\\\\\\\\\"localData\\\\\\\\\\\\\\\": {}, \\\\\\\\\\\\\\\"isEnabled\\\\\\\\\\\\\\\": true, \\\\\\\\\\\\\\\"name\\\\\\\\\\\\\\\": null, \\\\\\\\\\\\\\\"annotation\\\\\\\\\\\\\\\": null}, {\\\\\\\\\\\\\\\"id\\\\\\\\\\\\\\\": \\\\\\\\\\\\\\\"95c2a760-ceb4-4595-b1e0-57bd648c0d29\\\\\\\\\\\\\\\", \\\\\\\\\\\\\\\"type\\\\\\\\\\\\\\\": \\\\\\\\\\\\\\\"Microsoft.DPrep.ParseDelimitedBlock\\\\\\\\\\\\\\\", \\\\\\\\\\\\\\\"arguments\\\\\\\\\\\\\\\": {\\\\\\\\\\\\\\\"columnHeadersMode\\\\\\\\\\\\\\\": 3, \\\\\\\\\\\\\\\"fileEncoding\\\\\\\\\\\\\\\": 0, \\\\\\\\\\\\\\\"handleQuotedLineBreaks\\\\\\\\\\\\\\\": false, \\\\\\\\\\\\\\\"preview\\\\\\\\\\\\\\\": false, \\\\\\\\\\\\\\\"separator\\\\\\\\\\\\\\\": \\\\\\\\\\\\\\\",\\\\\\\\\\\\\\\", \\\\\\\\\\\\\\\"skipRows\\\\\\\\\\\\\\\": 0, \\\\\\\\\\\\\\\"skipRowsMode\\\\\\\\\\\\\\\": 0}, \\\\\\\\\\\\\\\"localData\\\\\\\\\\\\\\\": {}, \\\\\\\\\\\\\\\"isEnabled\\\\\\\\\\\\\\\": true, \\\\\\\\\\\\\\\"name\\\\\\\\\\\\\\\": null, \\\\\\\\\\\\\\\"annotation\\\\\\\\\\\\\\\": null}, {\\\\\\\\\\\\\\\"id\\\\\\\\\\\\\\\": \\\\\\\\\\\\\\\"3551e2f3-25ef-43d1-a127-c1e2ed829227\\\\\\\\\\\\\\\", \\\\\\\\\\\\\\\"type\\\\\\\\\\\\\\\": \\\\\\\\\\\\\\\"Microsoft.DPrep.DropColumnsBlock\\\\\\\\\\\\\\\", \\\\\\\\\\\\\\\"arguments\\\\\\\\\\\\\\\": {\\\\\\\\\\\\\\\"columns\\\\\\\\\\\\\\\": {\\\\\\\\\\\\\\\"type\\\\\\\\\\\\\\\": 0, \\\\\\\\\\\\\\\"details\\\\\\\\\\\\\\\": {\\\\\\\\\\\\\\\"selectedColumns\\\\\\\\\\\\\\\": [\\\\\\\\\\\\\\\"Path\\\\\\\\\\\\\\\"]}}}, \\\\\\\\\\\\\\\"localData\\\\\\\\\\\\\\\": {}, \\\\\\\\\\\\\\\"isEnabled\\\\\\\\\\\\\\\": true, \\\\\\\\\\\\\\\"name\\\\\\\\\\\\\\\": null, \\\\\\\\\\\\\\\"annotation\\\\\\\\\\\\\\\": null}, {\\\\\\\\\\\\\\\"id\\\\\\\\\\\\\\\": \\\\\\\\\\\\\\\"6665d710-4ede-44bc-9a41-0e092ec87e70\\\\\\\\\\\\\\\", \\\\\\\\\\\\\\\"type\\\\\\\\\\\\\\\": \\\\\\\\\\\\\\\"Microsoft.DPrep.SetColumnTypesBlock\\\\\\\\\\\\\\\", \\\\\\\\\\\\\\\"arguments\\\\\\\\\\\\\\\": {\\\\\\\\\\\\\\\"columnConversion\\\\\\\\\\\\\\\": [{\\\\\\\\\\\\\\\"column\\\\\\\\\\\\\\\": {\\\\\\\\\\\\\\\"type\\\\\\\\\\\\\\\": 2, \\\\\\\\\\\\\\\"details\\\\\\\\\\\\\\\": {\\\\\\\\\\\\\\\"selectedColumn\\\\\\\\\\\\\\\": \\\\\\\\\\\\\\\"sepal_length\\\\\\\\\\\\\\\"}}, \\\\\\\\\\\\\\\"typeProperty\\\\\\\\\\\\\\\": 3}, {\\\\\\\\\\\\\\\"column\\\\\\\\\\\\\\\": {\\\\\\\\\\\\\\\"type\\\\\\\\\\\\\\\": 2, \\\\\\\\\\\\\\\"details\\\\\\\\\\\\\\\": {\\\\\\\\\\\\\\\"selectedColumn\\\\\\\\\\\\\\\": \\\\\\\\\\\\\\\"sepal_width\\\\\\\\\\\\\\\"}}, \\\\\\\\\\\\\\\"typeProperty\\\\\\\\\\\\\\\": 3}, {\\\\\\\\\\\\\\\"column\\\\\\\\\\\\\\\": {\\\\\\\\\\\\\\\"type\\\\\\\\\\\\\\\": 2, \\\\\\\\\\\\\\\"details\\\\\\\\\\\\\\\": {\\\\\\\\\\\\\\\"selectedColumn\\\\\\\\\\\\\\\": \\\\\\\\\\\\\\\"petal_length\\\\\\\\\\\\\\\"}}, \\\\\\\\\\\\\\\"typeProperty\\\\\\\\\\\\\\\": 3}, {\\\\\\\\\\\\\\\"column\\\\\\\\\\\\\\\": {\\\\\\\\\\\\\\\"type\\\\\\\\\\\\\\\": 2, \\\\\\\\\\\\\\\"details\\\\\\\\\\\\\\\": {\\\\\\\\\\\\\\\"selectedColumn\\\\\\\\\\\\\\\": \\\\\\\\\\\\\\\"petal_width\\\\\\\\\\\\\\\"}}, \\\\\\\\\\\\\\\"typeProperty\\\\\\\\\\\\\\\": 3}, {\\\\\\\\\\\\\\\"column\\\\\\\\\\\\\\\": {\\\\\\\\\\\\\\\"type\\\\\\\\\\\\\\\": 2, \\\\\\\\\\\\\\\"details\\\\\\\\\\\\\\\": {\\\\\\\\\\\\\\\"selectedColumn\\\\\\\\\\\\\\\": \\\\\\\\\\\\\\\"species\\\\\\\\\\\\\\\"}}, \\\\\\\\\\\\\\\"typeProperty\\\\\\\\\\\\\\\": 0}]}, \\\\\\\\\\\\\\\"localData\\\\\\\\\\\\\\\": {}, \\\\\\\\\\\\\\\"isEnabled\\\\\\\\\\\\\\\": true, \\\\\\\\\\\\\\\"name\\\\\\\\\\\\\\\": null, \\\\\\\\\\\\\\\"annotation\\\\\\\\\\\\\\\": null}], \\\\\\\\\\\\\\\"inspectors\\\\\\\\\\\\\\\": [], \\\\\\\\\\\\\\\"meta\\\\\\\\\\\\\\\": {\\\\\\\\\\\\\\\"savedDatasetId\\\\\\\\\\\\\\\": \\\\\\\\\\\\\\\"45ae87ca-b9df-4f38-b217-0b8fdc764b16\\\\\\\\\\\\\\\", \\\\\\\\\\\\\\\"datasetType\\\\\\\\\\\\\\\": \\\\\\\\\\\\\\\"tabular\\\\\\\\\\\\\\\", \\\\\\\\\\\\\\\"subscriptionId\\\\\\\\\\\\\\\": \\\\\\\\\\\\\\\"9a7511b8-150f-4a58-8528-3e7d50216c31\\\\\\\\\\\\\\\", \\\\\\\\\\\\\\\"workspaceId\\\\\\\\\\\\\\\": \\\\\\\\\\\\\\\"21312b6f-597a-415d-8b7b-b0cd210a47b8\\\\\\\\\\\\\\\", \\\\\\\\\\\\\\\"workspaceLocation\\\\\\\\\\\\\\\": \\\\\\\\\\\\\\\"southcentralus\\\\\\\\\\\\\\\"}}\\\\\\\", \\\\\\\"activities\\\\\\\": 0}\", \"EnableSubsampling\": null, \"runTemplate\": \"AutoML\", \"azureml.runsource\": \"automl\", \"display_task_type\": \"classification\", \"dependencies_versions\": \"{\\\"azureml-widgets\\\": \\\"1.19.0\\\", \\\"azureml-train\\\": \\\"1.19.0\\\", \\\"azureml-train-restclients-hyperdrive\\\": \\\"1.19.0\\\", \\\"azureml-train-core\\\": \\\"1.19.0\\\", \\\"azureml-train-automl\\\": \\\"1.19.0\\\", \\\"azureml-train-automl-runtime\\\": \\\"1.19.0\\\", \\\"azureml-train-automl-client\\\": \\\"1.19.0\\\", \\\"azureml-tensorboard\\\": \\\"1.19.0\\\", \\\"azureml-telemetry\\\": \\\"1.19.0\\\", \\\"azureml-sdk\\\": \\\"1.19.0\\\", \\\"azureml-samples\\\": \\\"0+unknown\\\", \\\"azureml-pipeline\\\": \\\"1.19.0\\\", \\\"azureml-pipeline-steps\\\": \\\"1.19.0\\\", \\\"azureml-pipeline-core\\\": \\\"1.19.0\\\", \\\"azureml-opendatasets\\\": \\\"1.19.0\\\", \\\"azureml-model-management-sdk\\\": \\\"1.0.1b6.post1\\\", \\\"azureml-mlflow\\\": \\\"1.19.0\\\", \\\"azureml-interpret\\\": \\\"1.19.0\\\", \\\"azureml-explain-model\\\": \\\"1.19.0\\\", \\\"azureml-defaults\\\": \\\"1.19.0\\\", \\\"azureml-dataset-runtime\\\": \\\"1.19.0\\\", \\\"azureml-dataprep\\\": \\\"2.6.1\\\", \\\"azureml-dataprep-rslex\\\": \\\"1.4.0\\\", \\\"azureml-dataprep-native\\\": \\\"26.0.0\\\", \\\"azureml-datadrift\\\": \\\"1.19.0\\\", \\\"azureml-core\\\": \\\"1.19.0\\\", \\\"azureml-contrib-services\\\": \\\"1.19.0\\\", \\\"azureml-contrib-server\\\": \\\"1.19.0\\\", \\\"azureml-contrib-reinforcementlearning\\\": \\\"1.19.0\\\", \\\"azureml-contrib-pipeline-steps\\\": \\\"1.19.0\\\", \\\"azureml-contrib-notebook\\\": \\\"1.19.0\\\", \\\"azureml-contrib-interpret\\\": \\\"1.19.0\\\", \\\"azureml-contrib-gbdt\\\": \\\"1.19.0\\\", \\\"azureml-contrib-fairness\\\": \\\"1.19.0\\\", \\\"azureml-contrib-dataset\\\": \\\"1.19.0\\\", \\\"azureml-cli-common\\\": \\\"1.19.0\\\", \\\"azureml-automl-runtime\\\": \\\"1.19.0\\\", \\\"azureml-automl-core\\\": \\\"1.19.0\\\", \\\"azureml-accel-models\\\": \\\"1.19.0\\\"}\", \"_aml_system_scenario_identification\": \"Remote.Parent\", \"ClientType\": \"SDK\", \"environment_cpu_name\": \"AzureML-AutoML\", \"environment_cpu_label\": \"prod\", \"environment_gpu_name\": \"AzureML-AutoML-GPU\", \"environment_gpu_label\": \"prod\", \"root_attribution\": \"automl\", \"attribution\": \"AutoML\", \"Orchestrator\": \"AutoML\", \"CancelUri\": \"https://southcentralus.experiments.azureml.net/jasmine/v1.0/subscriptions/9a7511b8-150f-4a58-8528-3e7d50216c31/resourceGroups/aml-quickstarts-132084/providers/Microsoft.MachineLearningServices/workspaces/quick-starts-ws-132084/experimentids/ca25076f-b2e2-4a7d-895f-52da85badef7/cancel/AutoML_a89b9f55-34c4-458c-af5e-bb73a4ba2a64\", \"ClientSdkVersion\": \"1.19.0\", \"snapshotId\": \"00000000-0000-0000-0000-000000000000\", \"SetupRunId\": \"AutoML_a89b9f55-34c4-458c-af5e-bb73a4ba2a64_setup\", \"SetupRunContainerId\": \"dcid.AutoML_a89b9f55-34c4-458c-af5e-bb73a4ba2a64_setup\", \"FeaturizationRunJsonPath\": \"featurizer_container.json\", \"FeaturizationRunId\": \"AutoML_a89b9f55-34c4-458c-af5e-bb73a4ba2a64_featurize\", \"ProblemInfoJsonString\": \"{\\\"dataset_num_categorical\\\": 0, \\\"is_sparse\\\": false, \\\"subsampling\\\": false, \\\"dataset_classes\\\": 3, \\\"dataset_features\\\": 4, \\\"dataset_samples\\\": 105, \\\"single_frequency_class_detected\\\": false}\", \"ModelExplainRunId\": \"AutoML_a89b9f55-34c4-458c-af5e-bb73a4ba2a64_ModelExplain\"}, \"tags\": {\"model_explain_run\": \"best_run\", \"_aml_system_azureml.automlComponent\": \"AutoML\", \"pipeline_id\": \"\", \"score\": \"\", \"predicted_cost\": \"\", \"fit_time\": \"\", \"training_percent\": \"\", \"iteration\": \"\", \"run_preprocessor\": \"\", \"run_algorithm\": \"\", \"dynamic_whitelisting_iterations\": \"<25>;<30>;<35>;<40>;<45>;\", \"automl_best_child_run_id\": \"AutoML_a89b9f55-34c4-458c-af5e-bb73a4ba2a64_50\", \"model_explain_best_run_child_id\": \"AutoML_a89b9f55-34c4-458c-af5e-bb73a4ba2a64_50\"}, \"end_time_utc\": \"2020-12-27T23:06:28.556924Z\", \"status\": \"Completed\", \"log_files\": {}, \"log_groups\": [], \"run_duration\": \"0:19:57\"}, \"child_runs\": [{\"run_id\": \"AutoML_a89b9f55-34c4-458c-af5e-bb73a4ba2a64_0\", \"run_number\": 64, \"metric\": null, \"status\": \"Completed\", \"run_type\": \"azureml.scriptrun\", \"training_percent\": \"100\", \"start_time\": \"2020-12-27T22:49:13.817307Z\", \"end_time\": \"2020-12-27T22:50:08.322205Z\", \"created_time\": \"2020-12-27T22:49:01.571181Z\", \"created_time_dt\": \"2020-12-27T22:49:01.571181Z\", \"duration\": \"0:01:06\", \"iteration\": \"0\", \"goal\": \"accuracy_max\", \"run_name\": \"MaxAbsScaler, LightGBM\", \"run_properties\": \"copy=True\", \"primary_metric\": 0.94285714, \"best_metric\": 0.94285714}, {\"run_id\": \"AutoML_a89b9f55-34c4-458c-af5e-bb73a4ba2a64_1\", \"run_number\": 65, \"metric\": null, \"status\": \"Completed\", \"run_type\": \"azureml.scriptrun\", \"training_percent\": \"100\", \"start_time\": \"2020-12-27T22:50:09.485785Z\", \"end_time\": \"2020-12-27T22:51:08.701931Z\", \"created_time\": \"2020-12-27T22:49:01.699851Z\", \"created_time_dt\": \"2020-12-27T22:49:01.699851Z\", \"duration\": \"0:02:07\", \"iteration\": \"1\", \"goal\": \"accuracy_max\", \"run_name\": \"MaxAbsScaler, XGBoostClassifier\", \"run_properties\": \"copy=True\", \"primary_metric\": 0.93333333, \"best_metric\": 0.94285714}, {\"run_id\": \"AutoML_a89b9f55-34c4-458c-af5e-bb73a4ba2a64_2\", \"run_number\": 66, \"metric\": null, \"status\": \"Completed\", \"run_type\": \"azureml.scriptrun\", \"training_percent\": \"100\", \"start_time\": \"2020-12-27T22:49:13.997676Z\", \"end_time\": \"2020-12-27T22:50:08.59417Z\", \"created_time\": \"2020-12-27T22:49:01.724759Z\", \"created_time_dt\": \"2020-12-27T22:49:01.724759Z\", \"duration\": \"0:01:06\", \"iteration\": \"2\", \"goal\": \"accuracy_max\", \"run_name\": \"MinMaxScaler, RandomForest\", \"run_properties\": \"copy=True, feature_range=(0, 1\", \"primary_metric\": 0.92380952, \"best_metric\": 0.94285714}, {\"run_id\": \"AutoML_a89b9f55-34c4-458c-af5e-bb73a4ba2a64_3\", \"run_number\": 67, \"metric\": null, \"status\": \"Completed\", \"run_type\": \"azureml.scriptrun\", \"training_percent\": \"100\", \"start_time\": \"2020-12-27T22:49:13.090059Z\", \"end_time\": \"2020-12-27T22:50:09.372349Z\", \"created_time\": \"2020-12-27T22:49:01.740824Z\", \"created_time_dt\": \"2020-12-27T22:49:01.740824Z\", \"duration\": \"0:01:07\", \"iteration\": \"3\", \"goal\": \"accuracy_max\", \"run_name\": \"MinMaxScaler, RandomForest\", \"run_properties\": \"copy=True, feature_range=(0, 1\", \"primary_metric\": 0.92380952, \"best_metric\": 0.94285714}, {\"run_id\": \"AutoML_a89b9f55-34c4-458c-af5e-bb73a4ba2a64_5\", \"run_number\": 68, \"metric\": null, \"status\": \"Completed\", \"run_type\": \"azureml.scriptrun\", \"training_percent\": \"100\", \"start_time\": \"2020-12-27T22:50:22.105876Z\", \"end_time\": \"2020-12-27T22:51:12.533692Z\", \"created_time\": \"2020-12-27T22:50:11.554491Z\", \"created_time_dt\": \"2020-12-27T22:50:11.554491Z\", \"duration\": \"0:01:00\", \"iteration\": \"5\", \"goal\": \"accuracy_max\", \"run_name\": \"RobustScaler, LightGBM\", \"run_properties\": \"copy=True, quantile_range=[10, 90], with_centering=False,\\n             with_scaling=False\", \"primary_metric\": 0.92380952, \"best_metric\": 0.94285714}, {\"run_id\": \"AutoML_a89b9f55-34c4-458c-af5e-bb73a4ba2a64_4\", \"run_number\": 69, \"metric\": null, \"status\": \"Completed\", \"run_type\": \"azureml.scriptrun\", \"training_percent\": \"100\", \"start_time\": \"2020-12-27T22:50:23.465631Z\", \"end_time\": \"2020-12-27T22:51:11.988177Z\", \"created_time\": \"2020-12-27T22:50:11.55668Z\", \"created_time_dt\": \"2020-12-27T22:50:11.55668Z\", \"duration\": \"0:01:00\", \"iteration\": \"4\", \"goal\": \"accuracy_max\", \"run_name\": \"MinMaxScaler, RandomForest\", \"run_properties\": \"copy=True, feature_range=(0, 1\", \"primary_metric\": 0.92380952, \"best_metric\": 0.94285714}, {\"run_id\": \"AutoML_a89b9f55-34c4-458c-af5e-bb73a4ba2a64_6\", \"run_number\": 70, \"metric\": null, \"status\": \"Completed\", \"run_type\": \"azureml.scriptrun\", \"training_percent\": \"100\", \"start_time\": \"2020-12-27T22:51:14.280142Z\", \"end_time\": \"2020-12-27T22:52:14.715814Z\", \"created_time\": \"2020-12-27T22:50:16.136468Z\", \"created_time_dt\": \"2020-12-27T22:50:16.136468Z\", \"duration\": \"0:01:58\", \"iteration\": \"6\", \"goal\": \"accuracy_max\", \"run_name\": \"MinMaxScaler, SVM\", \"run_properties\": \"copy=True, feature_range=(0, 1\", \"primary_metric\": 0.94285714, \"best_metric\": 0.94285714}, {\"run_id\": \"AutoML_a89b9f55-34c4-458c-af5e-bb73a4ba2a64_7\", \"run_number\": 71, \"metric\": null, \"status\": \"Completed\", \"run_type\": \"azureml.scriptrun\", \"training_percent\": \"100\", \"start_time\": \"2020-12-27T22:51:23.509924Z\", \"end_time\": \"2020-12-27T22:52:12.096721Z\", \"created_time\": \"2020-12-27T22:51:11.071376Z\", \"created_time_dt\": \"2020-12-27T22:51:11.071376Z\", \"duration\": \"0:01:01\", \"iteration\": \"7\", \"goal\": \"accuracy_max\", \"run_name\": \"MinMaxScaler, SVM\", \"run_properties\": \"copy=True, feature_range=(0, 1\", \"primary_metric\": 0.94285714, \"best_metric\": 0.94285714}, {\"run_id\": \"AutoML_a89b9f55-34c4-458c-af5e-bb73a4ba2a64_9\", \"run_number\": 72, \"metric\": null, \"status\": \"Completed\", \"run_type\": \"azureml.scriptrun\", \"training_percent\": \"100\", \"start_time\": \"2020-12-27T22:52:15.580991Z\", \"end_time\": \"2020-12-27T22:53:09.21676Z\", \"created_time\": \"2020-12-27T22:51:15.099508Z\", \"created_time_dt\": \"2020-12-27T22:51:15.099508Z\", \"duration\": \"0:01:54\", \"iteration\": \"9\", \"goal\": \"accuracy_max\", \"run_name\": \"SparseNormalizer, XGBoostClassifier\", \"run_properties\": \"<azureml.automl.runtime.shared.model_wrappers.SparseNormalizer object at 0x7f3bf5281fd0\", \"primary_metric\": 0.95238095, \"best_metric\": 0.95238095}, {\"run_id\": \"AutoML_a89b9f55-34c4-458c-af5e-bb73a4ba2a64_8\", \"run_number\": 73, \"metric\": null, \"status\": \"Completed\", \"run_type\": \"azureml.scriptrun\", \"training_percent\": \"100\", \"start_time\": \"2020-12-27T22:51:26.693497Z\", \"end_time\": \"2020-12-27T22:52:13.817387Z\", \"created_time\": \"2020-12-27T22:51:15.204663Z\", \"created_time_dt\": \"2020-12-27T22:51:15.204663Z\", \"duration\": \"0:00:58\", \"iteration\": \"8\", \"goal\": \"accuracy_max\", \"run_name\": \"SparseNormalizer, XGBoostClassifier\", \"run_properties\": \"<azureml.automl.runtime.shared.model_wrappers.SparseNormalizer object at 0x7f2245256b38\", \"primary_metric\": 0.95238095, \"best_metric\": 0.95238095}, {\"run_id\": \"AutoML_a89b9f55-34c4-458c-af5e-bb73a4ba2a64_10\", \"run_number\": 74, \"metric\": null, \"status\": \"Completed\", \"run_type\": \"azureml.scriptrun\", \"training_percent\": \"100\", \"start_time\": \"2020-12-27T22:52:26.713228Z\", \"end_time\": \"2020-12-27T22:53:14.459702Z\", \"created_time\": \"2020-12-27T22:52:14.144646Z\", \"created_time_dt\": \"2020-12-27T22:52:14.144646Z\", \"duration\": \"0:01:00\", \"iteration\": \"10\", \"goal\": \"accuracy_max\", \"run_name\": \"SparseNormalizer, XGBoostClassifier\", \"run_properties\": \"<azureml.automl.runtime.shared.model_wrappers.SparseNormalizer object at 0x7f492d488320\", \"primary_metric\": 0.95238095, \"best_metric\": 0.95238095}, {\"run_id\": \"AutoML_a89b9f55-34c4-458c-af5e-bb73a4ba2a64_11\", \"run_number\": 75, \"metric\": null, \"status\": \"Completed\", \"run_type\": \"azureml.scriptrun\", \"training_percent\": \"100\", \"start_time\": \"2020-12-27T22:52:31.919033Z\", \"end_time\": \"2020-12-27T22:53:29.533272Z\", \"created_time\": \"2020-12-27T22:52:19.210834Z\", \"created_time_dt\": \"2020-12-27T22:52:19.210834Z\", \"duration\": \"0:01:10\", \"iteration\": \"11\", \"goal\": \"accuracy_max\", \"run_name\": \"StandardScalerWrapper, RandomForest\", \"run_properties\": \"<azureml.automl.runtime.shared.model_wrappers.StandardScalerWrapper object at 0x7f1998438a20\", \"primary_metric\": 0.92380952, \"best_metric\": 0.95238095}, {\"run_id\": \"AutoML_a89b9f55-34c4-458c-af5e-bb73a4ba2a64_12\", \"run_number\": 76, \"metric\": null, \"status\": \"Completed\", \"run_type\": \"azureml.scriptrun\", \"training_percent\": \"100\", \"start_time\": \"2020-12-27T22:52:54.305317Z\", \"end_time\": \"2020-12-27T22:56:21.691662Z\", \"created_time\": \"2020-12-27T22:52:19.388746Z\", \"created_time_dt\": \"2020-12-27T22:52:19.388746Z\", \"duration\": \"0:04:02\", \"iteration\": \"12\", \"goal\": \"accuracy_max\", \"run_name\": \"SparseNormalizer, XGBoostClassifier\", \"run_properties\": \"<azureml.automl.runtime.shared.model_wrappers.SparseNormalizer object at 0x7f649039cd68\", \"primary_metric\": 0.95238095, \"best_metric\": 0.95238095}, {\"run_id\": \"AutoML_a89b9f55-34c4-458c-af5e-bb73a4ba2a64_13\", \"run_number\": 77, \"metric\": null, \"status\": \"Completed\", \"run_type\": \"azureml.scriptrun\", \"training_percent\": \"100\", \"start_time\": \"2020-12-27T22:53:22.243593Z\", \"end_time\": \"2020-12-27T22:54:23.105588Z\", \"created_time\": \"2020-12-27T22:53:11.398868Z\", \"created_time_dt\": \"2020-12-27T22:53:11.398868Z\", \"duration\": \"0:01:11\", \"iteration\": \"13\", \"goal\": \"accuracy_max\", \"run_name\": \"MaxAbsScaler, ExtremeRandomTrees\", \"run_properties\": \"copy=True\", \"primary_metric\": 0.93333333, \"best_metric\": 0.95238095}, {\"run_id\": \"AutoML_a89b9f55-34c4-458c-af5e-bb73a4ba2a64_14\", \"run_number\": 78, \"metric\": null, \"status\": \"Completed\", \"run_type\": \"azureml.scriptrun\", \"training_percent\": \"100\", \"start_time\": \"2020-12-27T22:53:26.898106Z\", \"end_time\": \"2020-12-27T22:54:14.414322Z\", \"created_time\": \"2020-12-27T22:53:16.439522Z\", \"created_time_dt\": \"2020-12-27T22:53:16.439522Z\", \"duration\": \"0:00:57\", \"iteration\": \"14\", \"goal\": \"accuracy_max\", \"run_name\": \"MinMaxScaler, LightGBM\", \"run_properties\": \"copy=True, feature_range=(0, 1\", \"primary_metric\": 0.92380952, \"best_metric\": 0.95238095}, {\"run_id\": \"AutoML_a89b9f55-34c4-458c-af5e-bb73a4ba2a64_15\", \"run_number\": 79, \"metric\": null, \"status\": \"Completed\", \"run_type\": \"azureml.scriptrun\", \"training_percent\": \"100\", \"start_time\": \"2020-12-27T22:53:43.687267Z\", \"end_time\": \"2020-12-27T22:54:34.159461Z\", \"created_time\": \"2020-12-27T22:53:31.607156Z\", \"created_time_dt\": \"2020-12-27T22:53:31.607156Z\", \"duration\": \"0:01:02\", \"iteration\": \"15\", \"goal\": \"accuracy_max\", \"run_name\": \"StandardScalerWrapper, LightGBM\", \"run_properties\": \"<azureml.automl.runtime.shared.model_wrappers.StandardScalerWrapper object at 0x7fee799717b8\", \"primary_metric\": 0.95238095, \"best_metric\": 0.95238095}, {\"run_id\": \"AutoML_a89b9f55-34c4-458c-af5e-bb73a4ba2a64_16\", \"run_number\": 80, \"metric\": null, \"status\": \"Completed\", \"run_type\": \"azureml.scriptrun\", \"training_percent\": \"100\", \"start_time\": \"2020-12-27T22:54:29.10247Z\", \"end_time\": \"2020-12-27T22:55:17.973785Z\", \"created_time\": \"2020-12-27T22:54:16.509416Z\", \"created_time_dt\": \"2020-12-27T22:54:16.509416Z\", \"duration\": \"0:01:01\", \"iteration\": \"16\", \"goal\": \"accuracy_max\", \"run_name\": \"MaxAbsScaler, LightGBM\", \"run_properties\": \"copy=True\", \"primary_metric\": 0.91428571, \"best_metric\": 0.95238095}, {\"run_id\": \"AutoML_a89b9f55-34c4-458c-af5e-bb73a4ba2a64_17\", \"run_number\": 81, \"metric\": null, \"status\": \"Completed\", \"run_type\": \"azureml.scriptrun\", \"training_percent\": \"100\", \"start_time\": \"2020-12-27T22:54:37.224189Z\", \"end_time\": \"2020-12-27T22:55:27.613741Z\", \"created_time\": \"2020-12-27T22:54:25.064693Z\", \"created_time_dt\": \"2020-12-27T22:54:25.064693Z\", \"duration\": \"0:01:02\", \"iteration\": \"17\", \"goal\": \"accuracy_max\", \"run_name\": \"MaxAbsScaler, LightGBM\", \"run_properties\": \"copy=True\", \"primary_metric\": 0.94285714, \"best_metric\": 0.95238095}, {\"run_id\": \"AutoML_a89b9f55-34c4-458c-af5e-bb73a4ba2a64_18\", \"run_number\": 82, \"metric\": null, \"status\": \"Completed\", \"run_type\": \"azureml.scriptrun\", \"training_percent\": \"100\", \"start_time\": \"2020-12-27T22:54:49.012561Z\", \"end_time\": \"2020-12-27T22:55:57.239732Z\", \"created_time\": \"2020-12-27T22:54:36.144683Z\", \"created_time_dt\": \"2020-12-27T22:54:36.144683Z\", \"duration\": \"0:01:21\", \"iteration\": \"18\", \"goal\": \"accuracy_max\", \"run_name\": \"SparseNormalizer, XGBoostClassifier\", \"run_properties\": \"<azureml.automl.runtime.shared.model_wrappers.SparseNormalizer object at 0x7f27272d3e48\", \"primary_metric\": 0.95238095, \"best_metric\": 0.95238095}, {\"run_id\": \"AutoML_a89b9f55-34c4-458c-af5e-bb73a4ba2a64_19\", \"run_number\": 83, \"metric\": null, \"status\": \"Completed\", \"run_type\": \"azureml.scriptrun\", \"training_percent\": \"100\", \"start_time\": \"2020-12-27T22:55:30.556007Z\", \"end_time\": \"2020-12-27T22:56:23.911462Z\", \"created_time\": \"2020-12-27T22:55:20.081899Z\", \"created_time_dt\": \"2020-12-27T22:55:20.081899Z\", \"duration\": \"0:01:03\", \"iteration\": \"19\", \"goal\": \"accuracy_max\", \"run_name\": \"SparseNormalizer, XGBoostClassifier\", \"run_properties\": \"<azureml.automl.runtime.shared.model_wrappers.SparseNormalizer object at 0x7f1a6a38c668\", \"primary_metric\": 0.96190476, \"best_metric\": 0.96190476}, {\"run_id\": \"AutoML_a89b9f55-34c4-458c-af5e-bb73a4ba2a64_20\", \"run_number\": 84, \"metric\": null, \"status\": \"Completed\", \"run_type\": \"azureml.scriptrun\", \"training_percent\": \"100\", \"start_time\": \"2020-12-27T22:55:43.866595Z\", \"end_time\": \"2020-12-27T22:56:35.582567Z\", \"created_time\": \"2020-12-27T22:55:30.589237Z\", \"created_time_dt\": \"2020-12-27T22:55:30.589237Z\", \"duration\": \"0:01:04\", \"iteration\": \"20\", \"goal\": \"accuracy_max\", \"run_name\": \"SparseNormalizer, LightGBM\", \"run_properties\": \"<azureml.automl.runtime.shared.model_wrappers.SparseNormalizer object at 0x7f865bb1ce80\", \"primary_metric\": 0.94285714, \"best_metric\": 0.96190476}, {\"run_id\": \"AutoML_a89b9f55-34c4-458c-af5e-bb73a4ba2a64_21\", \"run_number\": 85, \"metric\": null, \"status\": \"Completed\", \"run_type\": \"azureml.scriptrun\", \"training_percent\": \"100\", \"start_time\": \"2020-12-27T22:56:11.031056Z\", \"end_time\": \"2020-12-27T22:57:07.509772Z\", \"created_time\": \"2020-12-27T22:55:59.369101Z\", \"created_time_dt\": \"2020-12-27T22:55:59.369101Z\", \"duration\": \"0:01:08\", \"iteration\": \"21\", \"goal\": \"accuracy_max\", \"run_name\": \"StandardScalerWrapper, LogisticRegression\", \"run_properties\": \"<azureml.automl.runtime.shared.model_wrappers.StandardScalerWrapper object at 0x7f1217522eb8\", \"primary_metric\": 0.94285714, \"best_metric\": 0.96190476}, {\"run_id\": \"AutoML_a89b9f55-34c4-458c-af5e-bb73a4ba2a64_22\", \"run_number\": 86, \"metric\": null, \"status\": \"Completed\", \"run_type\": \"azureml.scriptrun\", \"training_percent\": \"100\", \"start_time\": \"2020-12-27T22:56:35.640363Z\", \"end_time\": \"2020-12-27T22:57:30.295401Z\", \"created_time\": \"2020-12-27T22:56:23.866601Z\", \"created_time_dt\": \"2020-12-27T22:56:23.866601Z\", \"duration\": \"0:01:06\", \"iteration\": \"22\", \"goal\": \"accuracy_max\", \"run_name\": \"MaxAbsScaler, LogisticRegression\", \"run_properties\": \"copy=True\", \"primary_metric\": 0.95238095, \"best_metric\": 0.96190476}, {\"run_id\": \"AutoML_a89b9f55-34c4-458c-af5e-bb73a4ba2a64_23\", \"run_number\": 87, \"metric\": null, \"status\": \"Completed\", \"run_type\": \"azureml.scriptrun\", \"training_percent\": \"100\", \"start_time\": \"2020-12-27T22:56:38.261671Z\", \"end_time\": \"2020-12-27T22:57:37.585722Z\", \"created_time\": \"2020-12-27T22:56:27.996918Z\", \"created_time_dt\": \"2020-12-27T22:56:27.996918Z\", \"duration\": \"0:01:09\", \"iteration\": \"23\", \"goal\": \"accuracy_max\", \"run_name\": \"SparseNormalizer, XGBoostClassifier\", \"run_properties\": \"<azureml.automl.runtime.shared.model_wrappers.SparseNormalizer object at 0x7f1a747780f0\", \"primary_metric\": 0.93333333, \"best_metric\": 0.96190476}, {\"run_id\": \"AutoML_a89b9f55-34c4-458c-af5e-bb73a4ba2a64_24\", \"run_number\": 88, \"metric\": null, \"status\": \"Completed\", \"run_type\": \"azureml.scriptrun\", \"training_percent\": \"100\", \"start_time\": \"2020-12-27T22:57:09.243313Z\", \"end_time\": \"2020-12-27T22:58:06.658115Z\", \"created_time\": \"2020-12-27T22:56:37.855212Z\", \"created_time_dt\": \"2020-12-27T22:56:37.855212Z\", \"duration\": \"0:01:28\", \"iteration\": \"24\", \"goal\": \"accuracy_max\", \"run_name\": \"StandardScalerWrapper, LightGBM\", \"run_properties\": \"<azureml.automl.runtime.shared.model_wrappers.StandardScalerWrapper object at 0x7ffaf545fbe0\", \"primary_metric\": 0.93333333, \"best_metric\": 0.96190476}, {\"run_id\": \"AutoML_a89b9f55-34c4-458c-af5e-bb73a4ba2a64_25\", \"run_number\": 89, \"metric\": null, \"status\": \"Completed\", \"run_type\": \"azureml.scriptrun\", \"training_percent\": \"100\", \"start_time\": \"2020-12-27T22:57:34.177814Z\", \"end_time\": \"2020-12-27T22:58:26.874509Z\", \"created_time\": \"2020-12-27T22:57:10.57206Z\", \"created_time_dt\": \"2020-12-27T22:57:10.57206Z\", \"duration\": \"0:01:16\", \"iteration\": \"25\", \"goal\": \"accuracy_max\", \"run_name\": \"StandardScalerWrapper, XGBoostClassifier\", \"run_properties\": \"<azureml.automl.runtime.shared.model_wrappers.StandardScalerWrapper object at 0x7f5108673fd0\", \"primary_metric\": 0.27619048, \"best_metric\": 0.96190476}, {\"run_id\": \"AutoML_a89b9f55-34c4-458c-af5e-bb73a4ba2a64_26\", \"run_number\": 90, \"metric\": null, \"status\": \"Completed\", \"run_type\": \"azureml.scriptrun\", \"training_percent\": \"100\", \"start_time\": \"2020-12-27T22:57:43.099124Z\", \"end_time\": \"2020-12-27T22:58:40.017271Z\", \"created_time\": \"2020-12-27T22:57:32.520534Z\", \"created_time_dt\": \"2020-12-27T22:57:32.520534Z\", \"duration\": \"0:01:07\", \"iteration\": \"26\", \"goal\": \"accuracy_max\", \"run_name\": \"MaxAbsScaler, ExtremeRandomTrees\", \"run_properties\": \"copy=True\", \"primary_metric\": 0.91428571, \"best_metric\": 0.96190476}, {\"run_id\": \"AutoML_a89b9f55-34c4-458c-af5e-bb73a4ba2a64_27\", \"run_number\": 91, \"metric\": null, \"status\": \"Completed\", \"run_type\": \"azureml.scriptrun\", \"training_percent\": \"100\", \"start_time\": \"2020-12-27T22:58:11.273462Z\", \"end_time\": \"2020-12-27T22:59:09.270519Z\", \"created_time\": \"2020-12-27T22:57:39.784711Z\", \"created_time_dt\": \"2020-12-27T22:57:39.784711Z\", \"duration\": \"0:01:29\", \"iteration\": \"27\", \"goal\": \"accuracy_max\", \"run_name\": \"StandardScalerWrapper, XGBoostClassifier\", \"run_properties\": \"<azureml.automl.runtime.shared.model_wrappers.StandardScalerWrapper object at 0x7fb097f7bd68\", \"primary_metric\": 0.92380952, \"best_metric\": 0.96190476}, {\"run_id\": \"AutoML_a89b9f55-34c4-458c-af5e-bb73a4ba2a64_28\", \"run_number\": 92, \"metric\": null, \"status\": \"Completed\", \"run_type\": \"azureml.scriptrun\", \"training_percent\": \"100\", \"start_time\": \"2020-12-27T22:58:30.701851Z\", \"end_time\": \"2020-12-27T22:59:25.023377Z\", \"created_time\": \"2020-12-27T22:58:08.818711Z\", \"created_time_dt\": \"2020-12-27T22:58:08.818711Z\", \"duration\": \"0:01:16\", \"iteration\": \"28\", \"goal\": \"accuracy_max\", \"run_name\": \"SparseNormalizer, XGBoostClassifier\", \"run_properties\": \"<azureml.automl.runtime.shared.model_wrappers.SparseNormalizer object at 0x7ff83d3280f0\", \"primary_metric\": 0.96190476, \"best_metric\": 0.96190476}, {\"run_id\": \"AutoML_a89b9f55-34c4-458c-af5e-bb73a4ba2a64_29\", \"run_number\": 93, \"metric\": null, \"status\": \"Completed\", \"run_type\": \"azureml.scriptrun\", \"training_percent\": \"100\", \"start_time\": \"2020-12-27T22:58:43.039227Z\", \"end_time\": \"2020-12-27T22:59:53.268934Z\", \"created_time\": \"2020-12-27T22:58:29.088851Z\", \"created_time_dt\": \"2020-12-27T22:58:29.088851Z\", \"duration\": \"0:01:24\", \"iteration\": \"29\", \"goal\": \"accuracy_max\", \"run_name\": \"MaxAbsScaler, RandomForest\", \"run_properties\": \"copy=True\", \"primary_metric\": 0.92380952, \"best_metric\": 0.96190476}, {\"run_id\": \"AutoML_a89b9f55-34c4-458c-af5e-bb73a4ba2a64_30\", \"run_number\": 94, \"metric\": null, \"status\": \"Completed\", \"run_type\": \"azureml.scriptrun\", \"training_percent\": \"100\", \"start_time\": \"2020-12-27T22:59:14.14699Z\", \"end_time\": \"2020-12-27T23:00:05.524112Z\", \"created_time\": \"2020-12-27T22:58:42.954771Z\", \"created_time_dt\": \"2020-12-27T22:58:42.954771Z\", \"duration\": \"0:01:22\", \"iteration\": \"30\", \"goal\": \"accuracy_max\", \"run_name\": \"StandardScalerWrapper, XGBoostClassifier\", \"run_properties\": \"<azureml.automl.runtime.shared.model_wrappers.StandardScalerWrapper object at 0x7f7c04dc3fd0\", \"primary_metric\": 0.92380952, \"best_metric\": 0.96190476}, {\"run_id\": \"AutoML_a89b9f55-34c4-458c-af5e-bb73a4ba2a64_31\", \"run_number\": 95, \"metric\": null, \"status\": \"Completed\", \"run_type\": \"azureml.scriptrun\", \"training_percent\": \"100\", \"start_time\": \"2020-12-27T22:59:29.661131Z\", \"end_time\": \"2020-12-27T23:00:28.536047Z\", \"created_time\": \"2020-12-27T22:59:13.417306Z\", \"created_time_dt\": \"2020-12-27T22:59:13.417306Z\", \"duration\": \"0:01:15\", \"iteration\": \"31\", \"goal\": \"accuracy_max\", \"run_name\": \"MaxAbsScaler, ExtremeRandomTrees\", \"run_properties\": \"copy=True\", \"primary_metric\": 0.96190476, \"best_metric\": 0.96190476}, {\"run_id\": \"AutoML_a89b9f55-34c4-458c-af5e-bb73a4ba2a64_32\", \"run_number\": 96, \"metric\": null, \"status\": \"Completed\", \"run_type\": \"azureml.scriptrun\", \"training_percent\": \"100\", \"start_time\": \"2020-12-27T22:59:52.293542Z\", \"end_time\": \"2020-12-27T23:00:53.967512Z\", \"created_time\": \"2020-12-27T22:59:27.115195Z\", \"created_time_dt\": \"2020-12-27T22:59:27.115195Z\", \"duration\": \"0:01:26\", \"iteration\": \"32\", \"goal\": \"accuracy_max\", \"run_name\": \"SparseNormalizer, ExtremeRandomTrees\", \"run_properties\": \"<azureml.automl.runtime.shared.model_wrappers.SparseNormalizer object at 0x7f46b5f2aef0\", \"primary_metric\": 0.95238095, \"best_metric\": 0.96190476}, {\"run_id\": \"AutoML_a89b9f55-34c4-458c-af5e-bb73a4ba2a64_33\", \"run_number\": 97, \"metric\": null, \"status\": \"Canceled\", \"run_type\": \"azureml.scriptrun\", \"training_percent\": \"100\", \"start_time\": \"2020-12-27T23:00:07.899177Z\", \"end_time\": \"2020-12-27T23:01:01.949677Z\", \"created_time\": \"2020-12-27T22:59:55.656963Z\", \"created_time_dt\": \"2020-12-27T22:59:55.656963Z\", \"duration\": \"0:01:06\", \"iteration\": \"33\", \"goal\": \"accuracy_max\", \"run_name\": \"SparseNormalizer, ExtremeRandomTrees\", \"run_properties\": \"<azureml.automl.runtime.shared.model_wrappers.SparseNormalizer object at 0x7fd94280a588\", \"primary_metric\": 0.98095238, \"best_metric\": 0.98095238}, {\"run_id\": \"AutoML_a89b9f55-34c4-458c-af5e-bb73a4ba2a64_34\", \"run_number\": 98, \"metric\": null, \"status\": \"Canceled\", \"run_type\": \"azureml.scriptrun\", \"training_percent\": \"100\", \"start_time\": \"2020-12-27T23:00:19.924741Z\", \"end_time\": \"2020-12-27T23:01:02.633029Z\", \"created_time\": \"2020-12-27T23:00:07.779369Z\", \"created_time_dt\": \"2020-12-27T23:00:07.779369Z\", \"duration\": \"0:00:54\", \"iteration\": \"34\", \"goal\": \"accuracy_max\", \"run_name\": \"StandardScalerWrapper, ExtremeRandomTrees\", \"run_properties\": \"<azureml.automl.runtime.shared.model_wrappers.StandardScalerWrapper object at 0x7f8415fcb358\", \"primary_metric\": 0.96190476, \"best_metric\": 0.98095238}, {\"run_id\": \"AutoML_a89b9f55-34c4-458c-af5e-bb73a4ba2a64_35\", \"run_number\": 99, \"metric\": null, \"status\": \"Canceled\", \"run_type\": \"azureml.scriptrun\", \"training_percent\": \"100\", \"start_time\": \"2020-12-27T23:00:45.806994Z\", \"end_time\": \"2020-12-27T23:01:02.945368Z\", \"created_time\": \"2020-12-27T23:00:31.865158Z\", \"created_time_dt\": \"2020-12-27T23:00:31.865158Z\", \"duration\": \"0:00:31\", \"iteration\": \"35\", \"goal\": null, \"run_name\": \"Canceled\", \"run_properties\": null}, {\"run_id\": \"AutoML_a89b9f55-34c4-458c-af5e-bb73a4ba2a64_36\", \"run_number\": 100, \"metric\": null, \"status\": \"Completed\", \"run_type\": \"azureml.scriptrun\", \"training_percent\": \"100\", \"start_time\": \"2020-12-27T23:01:14.325551Z\", \"end_time\": \"2020-12-27T23:02:01.825161Z\", \"created_time\": \"2020-12-27T23:01:04.296003Z\", \"created_time_dt\": \"2020-12-27T23:01:04.296003Z\", \"duration\": \"0:00:57\", \"iteration\": \"36\", \"goal\": \"accuracy_max\", \"run_name\": \"StandardScalerWrapper, XGBoostClassifier\", \"run_properties\": \"<azureml.automl.runtime.shared.model_wrappers.StandardScalerWrapper object at 0x7fcbb31e6f98\", \"primary_metric\": 0.92380952, \"best_metric\": 0.98095238}, {\"run_id\": \"AutoML_a89b9f55-34c4-458c-af5e-bb73a4ba2a64_37\", \"run_number\": 101, \"metric\": null, \"status\": \"Completed\", \"run_type\": \"azureml.scriptrun\", \"training_percent\": \"100\", \"start_time\": \"2020-12-27T23:01:16.878115Z\", \"end_time\": \"2020-12-27T23:02:08.522772Z\", \"created_time\": \"2020-12-27T23:01:04.415889Z\", \"created_time_dt\": \"2020-12-27T23:01:04.415889Z\", \"duration\": \"0:01:04\", \"iteration\": \"37\", \"goal\": \"accuracy_max\", \"run_name\": \"StandardScalerWrapper, LogisticRegression\", \"run_properties\": \"<azureml.automl.runtime.shared.model_wrappers.StandardScalerWrapper object at 0x7f17509399b0\", \"primary_metric\": 0.98095238, \"best_metric\": 0.98095238}, {\"run_id\": \"AutoML_a89b9f55-34c4-458c-af5e-bb73a4ba2a64_38\", \"run_number\": 102, \"metric\": null, \"status\": \"Completed\", \"run_type\": \"azureml.scriptrun\", \"training_percent\": \"100\", \"start_time\": \"2020-12-27T23:01:20.235985Z\", \"end_time\": \"2020-12-27T23:02:13.62152Z\", \"created_time\": \"2020-12-27T23:01:08.997083Z\", \"created_time_dt\": \"2020-12-27T23:01:08.997083Z\", \"duration\": \"0:01:04\", \"iteration\": \"38\", \"goal\": \"accuracy_max\", \"run_name\": \"StandardScalerWrapper, LightGBM\", \"run_properties\": \"<azureml.automl.runtime.shared.model_wrappers.StandardScalerWrapper object at 0x7f17f4640358\", \"primary_metric\": 0.86666667, \"best_metric\": 0.98095238}, {\"run_id\": \"AutoML_a89b9f55-34c4-458c-af5e-bb73a4ba2a64_39\", \"run_number\": 103, \"metric\": null, \"status\": \"Completed\", \"run_type\": \"azureml.scriptrun\", \"training_percent\": \"100\", \"start_time\": \"2020-12-27T23:01:19.372076Z\", \"end_time\": \"2020-12-27T23:02:15.724298Z\", \"created_time\": \"2020-12-27T23:01:09.038582Z\", \"created_time_dt\": \"2020-12-27T23:01:09.038582Z\", \"duration\": \"0:01:06\", \"iteration\": \"39\", \"goal\": \"accuracy_max\", \"run_name\": \"SparseNormalizer, XGBoostClassifier\", \"run_properties\": \"<azureml.automl.runtime.shared.model_wrappers.SparseNormalizer object at 0x7efd78b9ff28\", \"primary_metric\": 0.94285714, \"best_metric\": 0.98095238}, {\"run_id\": \"AutoML_a89b9f55-34c4-458c-af5e-bb73a4ba2a64_40\", \"run_number\": 104, \"metric\": null, \"status\": \"Completed\", \"run_type\": \"azureml.scriptrun\", \"training_percent\": \"100\", \"start_time\": \"2020-12-27T23:02:16.936168Z\", \"end_time\": \"2020-12-27T23:03:08.739Z\", \"created_time\": \"2020-12-27T23:02:04.950568Z\", \"created_time_dt\": \"2020-12-27T23:02:04.950568Z\", \"duration\": \"0:01:03\", \"iteration\": \"40\", \"goal\": \"accuracy_max\", \"run_name\": \"MinMaxScaler, ExtremeRandomTrees\", \"run_properties\": \"copy=True, feature_range=(0, 1\", \"primary_metric\": 0.56190476, \"best_metric\": 0.98095238}, {\"run_id\": \"AutoML_a89b9f55-34c4-458c-af5e-bb73a4ba2a64_41\", \"run_number\": 105, \"metric\": null, \"status\": \"Completed\", \"run_type\": \"azureml.scriptrun\", \"training_percent\": \"100\", \"start_time\": \"2020-12-27T23:02:23.077835Z\", \"end_time\": \"2020-12-27T23:03:13.629247Z\", \"created_time\": \"2020-12-27T23:02:11.58651Z\", \"created_time_dt\": \"2020-12-27T23:02:11.58651Z\", \"duration\": \"0:01:02\", \"iteration\": \"41\", \"goal\": \"accuracy_max\", \"run_name\": \"StandardScalerWrapper, KNN\", \"run_properties\": \"<azureml.automl.runtime.shared.model_wrappers.StandardScalerWrapper object at 0x7fb30a5401d0\", \"primary_metric\": 0.93333333, \"best_metric\": 0.98095238}, {\"run_id\": \"AutoML_a89b9f55-34c4-458c-af5e-bb73a4ba2a64_42\", \"run_number\": 106, \"metric\": null, \"status\": \"Completed\", \"run_type\": \"azureml.scriptrun\", \"training_percent\": \"100\", \"start_time\": \"2020-12-27T23:02:27.741542Z\", \"end_time\": \"2020-12-27T23:03:19.671705Z\", \"created_time\": \"2020-12-27T23:02:15.714758Z\", \"created_time_dt\": \"2020-12-27T23:02:15.714758Z\", \"duration\": \"0:01:03\", \"iteration\": \"42\", \"goal\": \"accuracy_max\", \"run_name\": \"MaxAbsScaler, LightGBM\", \"run_properties\": \"copy=True\", \"primary_metric\": 0.92380952, \"best_metric\": 0.98095238}, {\"run_id\": \"AutoML_a89b9f55-34c4-458c-af5e-bb73a4ba2a64_43\", \"run_number\": 107, \"metric\": null, \"status\": \"Completed\", \"run_type\": \"azureml.scriptrun\", \"training_percent\": \"100\", \"start_time\": \"2020-12-27T23:02:31.446792Z\", \"end_time\": \"2020-12-27T23:03:21.829233Z\", \"created_time\": \"2020-12-27T23:02:19.99609Z\", \"created_time_dt\": \"2020-12-27T23:02:19.99609Z\", \"duration\": \"0:01:01\", \"iteration\": \"43\", \"goal\": \"accuracy_max\", \"run_name\": \"StandardScalerWrapper, LightGBM\", \"run_properties\": \"<azureml.automl.runtime.shared.model_wrappers.StandardScalerWrapper object at 0x7f99b998e4a8\", \"primary_metric\": 0.92380952, \"best_metric\": 0.98095238}, {\"run_id\": \"AutoML_a89b9f55-34c4-458c-af5e-bb73a4ba2a64_44\", \"run_number\": 108, \"metric\": null, \"status\": \"Completed\", \"run_type\": \"azureml.scriptrun\", \"training_percent\": \"100\", \"start_time\": \"2020-12-27T23:03:23.42829Z\", \"end_time\": \"2020-12-27T23:04:18.326188Z\", \"created_time\": \"2020-12-27T23:03:10.806678Z\", \"created_time_dt\": \"2020-12-27T23:03:10.806678Z\", \"duration\": \"0:01:07\", \"iteration\": \"44\", \"goal\": \"accuracy_max\", \"run_name\": \"SparseNormalizer, ExtremeRandomTrees\", \"run_properties\": \"<azureml.automl.runtime.shared.model_wrappers.SparseNormalizer object at 0x7fcc085c2e10\", \"primary_metric\": 0.97142857, \"best_metric\": 0.98095238}, {\"run_id\": \"AutoML_a89b9f55-34c4-458c-af5e-bb73a4ba2a64_45\", \"run_number\": 109, \"metric\": null, \"status\": \"Completed\", \"run_type\": \"azureml.scriptrun\", \"training_percent\": \"100\", \"start_time\": \"2020-12-27T23:03:29.868795Z\", \"end_time\": \"2020-12-27T23:04:21.563842Z\", \"created_time\": \"2020-12-27T23:03:16.443414Z\", \"created_time_dt\": \"2020-12-27T23:03:16.443414Z\", \"duration\": \"0:01:05\", \"iteration\": \"45\", \"goal\": \"accuracy_max\", \"run_name\": \"MaxAbsScaler, ExtremeRandomTrees\", \"run_properties\": \"copy=True\", \"primary_metric\": 0.94285714, \"best_metric\": 0.98095238}, {\"run_id\": \"AutoML_a89b9f55-34c4-458c-af5e-bb73a4ba2a64_46\", \"run_number\": 110, \"metric\": null, \"status\": \"Completed\", \"run_type\": \"azureml.scriptrun\", \"training_percent\": \"100\", \"start_time\": \"2020-12-27T23:03:32.722831Z\", \"end_time\": \"2020-12-27T23:04:26.063621Z\", \"created_time\": \"2020-12-27T23:03:22.141374Z\", \"created_time_dt\": \"2020-12-27T23:03:22.141374Z\", \"duration\": \"0:01:03\", \"iteration\": \"46\", \"goal\": \"accuracy_max\", \"run_name\": \"MaxAbsScaler, LogisticRegression\", \"run_properties\": \"copy=True\", \"primary_metric\": 0.93333333, \"best_metric\": 0.98095238}, {\"run_id\": \"AutoML_a89b9f55-34c4-458c-af5e-bb73a4ba2a64_47\", \"run_number\": 111, \"metric\": null, \"status\": \"Canceled\", \"run_type\": \"azureml.scriptrun\", \"training_percent\": \"100\", \"start_time\": \"2020-12-27T23:03:37.673962Z\", \"end_time\": \"2020-12-27T23:04:32.477674Z\", \"created_time\": \"2020-12-27T23:03:25.974913Z\", \"created_time_dt\": \"2020-12-27T23:03:25.974913Z\", \"duration\": \"0:01:06\", \"iteration\": \"47\", \"goal\": \"accuracy_max\", \"run_name\": \"RobustScaler, LogisticRegression\", \"run_properties\": \"copy=True, quantile_range=[10, 90], with_centering=False,\\n             with_scaling=True\", \"primary_metric\": 0.95238095, \"best_metric\": 0.98095238}, {\"run_id\": \"AutoML_a89b9f55-34c4-458c-af5e-bb73a4ba2a64_48\", \"run_number\": 112, \"metric\": null, \"status\": \"Canceled\", \"run_type\": \"azureml.scriptrun\", \"training_percent\": \"100\", \"start_time\": \"2020-12-27T23:04:20.460383Z\", \"end_time\": \"2020-12-27T23:04:37.556845Z\", \"created_time\": \"2020-12-27T23:04:20.460383Z\", \"created_time_dt\": \"2020-12-27T23:04:20.460383Z\", \"duration\": \"0:00:17\", \"iteration\": \"48\", \"goal\": null, \"run_name\": \"Canceled\", \"run_properties\": null}, {\"run_id\": \"AutoML_a89b9f55-34c4-458c-af5e-bb73a4ba2a64_49\", \"run_number\": 113, \"metric\": null, \"status\": \"Canceled\", \"run_type\": \"azureml.scriptrun\", \"training_percent\": \"100\", \"start_time\": \"2020-12-27T23:04:25.129854Z\", \"end_time\": \"2020-12-27T23:04:40.936825Z\", \"created_time\": \"2020-12-27T23:04:25.129854Z\", \"created_time_dt\": \"2020-12-27T23:04:25.129854Z\", \"duration\": \"0:00:15\", \"iteration\": \"49\", \"goal\": null, \"run_name\": \"Canceled\", \"run_properties\": null}, {\"run_id\": \"AutoML_a89b9f55-34c4-458c-af5e-bb73a4ba2a64_50\", \"run_number\": 114, \"metric\": null, \"status\": \"Completed\", \"run_type\": \"azureml.scriptrun\", \"training_percent\": \"100\", \"start_time\": \"2020-12-27T23:04:52.381638Z\", \"end_time\": \"2020-12-27T23:06:17.860922Z\", \"created_time\": \"2020-12-27T23:04:42.089336Z\", \"created_time_dt\": \"2020-12-27T23:04:42.089336Z\", \"duration\": \"0:01:35\", \"iteration\": \"50\", \"goal\": \"accuracy_max\", \"run_name\": \"VotingEnsemble\", \"run_properties\": \"classification_labels=None,\\n                              estimators=[('37',\\n                                           Pipeline(memory=None,\\n                                                    steps=[('standardscalerwrapper',\\n                                                            <azureml.automl.runtime.shared.model_wrappers.StandardScalerWrapper object at 0x7f2b205016d8>\", \"primary_metric\": 0.99047619, \"best_metric\": 0.99047619}], \"children_metrics\": {\"categories\": [0], \"series\": {\"AUC_macro\": [{\"categories\": [\"0\", \"1\", \"2\", \"3\", \"4\", \"5\", \"6\", \"7\", \"8\", \"9\", \"10\", \"11\", \"12\", \"13\", \"14\", \"15\", \"16\", \"17\", \"18\", \"19\", \"20\", \"21\", \"22\", \"23\", \"24\", \"25\", \"26\", \"27\", \"28\", \"29\", \"30\", \"31\", \"32\", \"33\", \"34\", \"36\", \"37\", \"38\", \"39\", \"40\", \"41\", \"42\", \"43\", \"44\", \"45\", \"46\", \"47\", \"50\"], \"mode\": \"markers\", \"name\": \"AUC_macro\", \"stepped\": false, \"type\": \"scatter\", \"data\": [0.9884635015056177, 0.9800085844510766, 0.9926508364042417, 0.9902023172767969, 0.9949268324520313, 0.9865485703007497, 0.995223426307931, 0.995223426307931, 0.9979969708230577, 0.9987880477010913, 0.994062231381072, 0.9912745671708296, 0.9904836172952116, 0.9950825108283974, 0.9784574619964727, 0.9953930277020612, 0.9804926842697901, 0.9806529726574403, 0.9904836172952116, 0.9979786718917154, 0.9935214744997354, 0.9861750583391643, 0.9981901992022402, 0.9896058980590962, 0.9913794881751459, 0.5, 0.9943144372628409, 0.9870839835050634, 0.9987880477010913, 0.9944033266061161, 0.984373914242744, 0.9889202127746858, 1.0, 0.9996114996114996, 0.9945156174043611, 0.9953930277020612, 0.997787622712707, 0.9804575063646657, 0.9899434540997688, 0.8484580775600444, 0.9953930277020612, 0.9774409979133746, 0.9909130767186233, 1.0, 0.9899971179120138, 0.978278587410112, 0.997787622712707, 0.9991225897022998]}, {\"categories\": [\"0\", \"1\", \"2\", \"3\", \"4\", \"5\", \"6\", \"7\", \"8\", \"9\", \"10\", \"11\", \"12\", \"13\", \"14\", \"15\", \"16\", \"17\", \"18\", \"19\", \"20\", \"21\", \"22\", \"23\", \"24\", \"25\", \"26\", \"27\", \"28\", \"29\", \"30\", \"31\", \"32\", \"33\", \"34\", \"36\", \"37\", \"38\", \"39\", \"40\", \"41\", \"42\", \"43\", \"44\", \"45\", \"46\", \"47\", \"50\"], \"mode\": \"lines\", \"name\": \"AUC_macro_max\", \"stepped\": true, \"type\": \"scatter\", \"data\": [0.9884635015056177, 0.9884635015056177, 0.9926508364042417, 0.9926508364042417, 0.9949268324520313, 0.9949268324520313, 0.995223426307931, 0.995223426307931, 0.9979969708230577, 0.9987880477010913, 0.9987880477010913, 0.9987880477010913, 0.9987880477010913, 0.9987880477010913, 0.9987880477010913, 0.9987880477010913, 0.9987880477010913, 0.9987880477010913, 0.9987880477010913, 0.9987880477010913, 0.9987880477010913, 0.9987880477010913, 0.9987880477010913, 0.9987880477010913, 0.9987880477010913, 0.9987880477010913, 0.9987880477010913, 0.9987880477010913, 0.9987880477010913, 0.9987880477010913, 0.9987880477010913, 0.9987880477010913, 1.0, 1.0, 1.0, 1.0, 1.0, 1.0, 1.0, 1.0, 1.0, 1.0, 1.0, 1.0, 1.0, 1.0, 1.0, 1.0]}], \"accuracy\": [{\"categories\": [\"0\", \"1\", \"2\", \"3\", \"4\", \"5\", \"6\", \"7\", \"8\", \"9\", \"10\", \"11\", \"12\", \"13\", \"14\", \"15\", \"16\", \"17\", \"18\", \"19\", \"20\", \"21\", \"22\", \"23\", \"24\", \"25\", \"26\", \"27\", \"28\", \"29\", \"30\", \"31\", \"32\", \"33\", \"34\", \"36\", \"37\", \"38\", \"39\", \"40\", \"41\", \"42\", \"43\", \"44\", \"45\", \"46\", \"47\", \"50\"], \"mode\": \"markers\", \"name\": \"accuracy\", \"stepped\": false, \"type\": \"scatter\", \"data\": [0.942857142857143, 0.9333333333333332, 0.9238095238095237, 0.9238095238095237, 0.9238095238095237, 0.9238095238095237, 0.9428571428571427, 0.9428571428571427, 0.9523809523809522, 0.9523809523809522, 0.9523809523809524, 0.9238095238095237, 0.9523809523809524, 0.9333333333333332, 0.9238095238095237, 0.9523809523809522, 0.9142857142857143, 0.942857142857143, 0.9523809523809522, 0.9619047619047619, 0.9428571428571427, 0.9428571428571427, 0.9523809523809524, 0.9333333333333332, 0.9333333333333332, 0.27619047619047615, 0.9142857142857143, 0.9238095238095237, 0.9619047619047619, 0.9238095238095237, 0.9238095238095237, 0.9619047619047619, 0.9523809523809522, 0.980952380952381, 0.9619047619047619, 0.9238095238095237, 0.980952380952381, 0.8666666666666667, 0.9428571428571427, 0.5619047619047619, 0.9333333333333332, 0.9238095238095237, 0.9238095238095237, 0.9714285714285714, 0.9428571428571427, 0.9333333333333332, 0.9523809523809524, 0.9904761904761905]}, {\"categories\": [\"0\", \"1\", \"2\", \"3\", \"4\", \"5\", \"6\", \"7\", \"8\", \"9\", \"10\", \"11\", \"12\", \"13\", \"14\", \"15\", \"16\", \"17\", \"18\", \"19\", \"20\", \"21\", \"22\", \"23\", \"24\", \"25\", \"26\", \"27\", \"28\", \"29\", \"30\", \"31\", \"32\", \"33\", \"34\", \"36\", \"37\", \"38\", \"39\", \"40\", \"41\", \"42\", \"43\", \"44\", \"45\", \"46\", \"47\", \"50\"], \"mode\": \"lines\", \"name\": \"accuracy_max\", \"stepped\": true, \"type\": \"scatter\", \"data\": [0.942857142857143, 0.942857142857143, 0.942857142857143, 0.942857142857143, 0.942857142857143, 0.942857142857143, 0.942857142857143, 0.942857142857143, 0.9523809523809522, 0.9523809523809522, 0.9523809523809524, 0.9523809523809524, 0.9523809523809524, 0.9523809523809524, 0.9523809523809524, 0.9523809523809524, 0.9523809523809524, 0.9523809523809524, 0.9523809523809524, 0.9619047619047619, 0.9619047619047619, 0.9619047619047619, 0.9619047619047619, 0.9619047619047619, 0.9619047619047619, 0.9619047619047619, 0.9619047619047619, 0.9619047619047619, 0.9619047619047619, 0.9619047619047619, 0.9619047619047619, 0.9619047619047619, 0.9619047619047619, 0.980952380952381, 0.980952380952381, 0.980952380952381, 0.980952380952381, 0.980952380952381, 0.980952380952381, 0.980952380952381, 0.980952380952381, 0.980952380952381, 0.980952380952381, 0.980952380952381, 0.980952380952381, 0.980952380952381, 0.980952380952381, 0.9904761904761905]}], \"f1_score_micro\": [{\"categories\": [\"0\", \"1\", \"2\", \"3\", \"4\", \"5\", \"6\", \"7\", \"8\", \"9\", \"10\", \"11\", \"12\", \"13\", \"14\", \"15\", \"16\", \"17\", \"18\", \"19\", \"20\", \"21\", \"22\", \"23\", \"24\", \"25\", \"26\", \"27\", \"28\", \"29\", \"30\", \"31\", \"32\", \"33\", \"34\", \"36\", \"37\", \"38\", \"39\", \"40\", \"41\", \"42\", \"43\", \"44\", \"45\", \"46\", \"47\", \"50\"], \"mode\": \"markers\", \"name\": \"f1_score_micro\", \"stepped\": false, \"type\": \"scatter\", \"data\": [0.942857142857143, 0.9333333333333332, 0.9238095238095237, 0.9238095238095237, 0.9238095238095237, 0.9238095238095237, 0.9428571428571427, 0.9428571428571427, 0.9523809523809522, 0.9523809523809522, 0.9523809523809524, 0.9238095238095237, 0.9523809523809524, 0.9333333333333332, 0.9238095238095237, 0.9523809523809522, 0.9142857142857143, 0.942857142857143, 0.9523809523809522, 0.9619047619047619, 0.9428571428571427, 0.9428571428571427, 0.9523809523809524, 0.9333333333333332, 0.9333333333333332, 0.27619047619047615, 0.9142857142857143, 0.9238095238095237, 0.9619047619047619, 0.9238095238095237, 0.9238095238095237, 0.9619047619047619, 0.9523809523809522, 0.980952380952381, 0.9619047619047619, 0.9238095238095237, 0.980952380952381, 0.8666666666666667, 0.9428571428571427, 0.5619047619047619, 0.9333333333333332, 0.9238095238095237, 0.9238095238095237, 0.9714285714285714, 0.9428571428571427, 0.9333333333333332, 0.9523809523809524, 0.9904761904761905]}, {\"categories\": [\"0\", \"1\", \"2\", \"3\", \"4\", \"5\", \"6\", \"7\", \"8\", \"9\", \"10\", \"11\", \"12\", \"13\", \"14\", \"15\", \"16\", \"17\", \"18\", \"19\", \"20\", \"21\", \"22\", \"23\", \"24\", \"25\", \"26\", \"27\", \"28\", \"29\", \"30\", \"31\", \"32\", \"33\", \"34\", \"36\", \"37\", \"38\", \"39\", \"40\", \"41\", \"42\", \"43\", \"44\", \"45\", \"46\", \"47\", \"50\"], \"mode\": \"lines\", \"name\": \"f1_score_micro_max\", \"stepped\": true, \"type\": \"scatter\", \"data\": [0.942857142857143, 0.942857142857143, 0.942857142857143, 0.942857142857143, 0.942857142857143, 0.942857142857143, 0.942857142857143, 0.942857142857143, 0.9523809523809522, 0.9523809523809522, 0.9523809523809524, 0.9523809523809524, 0.9523809523809524, 0.9523809523809524, 0.9523809523809524, 0.9523809523809524, 0.9523809523809524, 0.9523809523809524, 0.9523809523809524, 0.9619047619047619, 0.9619047619047619, 0.9619047619047619, 0.9619047619047619, 0.9619047619047619, 0.9619047619047619, 0.9619047619047619, 0.9619047619047619, 0.9619047619047619, 0.9619047619047619, 0.9619047619047619, 0.9619047619047619, 0.9619047619047619, 0.9619047619047619, 0.980952380952381, 0.980952380952381, 0.980952380952381, 0.980952380952381, 0.980952380952381, 0.980952380952381, 0.980952380952381, 0.980952380952381, 0.980952380952381, 0.980952380952381, 0.980952380952381, 0.980952380952381, 0.980952380952381, 0.980952380952381, 0.9904761904761905]}], \"matthews_correlation\": [{\"categories\": [\"0\", \"1\", \"2\", \"3\", \"4\", \"5\", \"6\", \"7\", \"8\", \"9\", \"10\", \"11\", \"12\", \"13\", \"14\", \"15\", \"16\", \"17\", \"18\", \"19\", \"20\", \"21\", \"22\", \"23\", \"24\", \"25\", \"26\", \"27\", \"28\", \"29\", \"30\", \"31\", \"32\", \"33\", \"34\", \"36\", \"37\", \"38\", \"39\", \"40\", \"41\", \"42\", \"43\", \"44\", \"45\", \"46\", \"47\", \"50\"], \"mode\": \"markers\", \"name\": \"matthews_correlation\", \"stepped\": false, \"type\": \"scatter\", \"data\": [0.9120064650195943, 0.8970451308261346, 0.883923793817979, 0.883923793817979, 0.883923793817979, 0.8834619431966049, 0.9132427499688852, 0.9132427499688852, 0.9293335164464004, 0.9293335164464004, 0.9282263610785947, 0.883923793817979, 0.929909014743085, 0.8974502432075676, 0.8834619431966049, 0.9244772702345946, 0.8702278247031545, 0.9124115774010274, 0.9293335164464004, 0.9445113622680243, 0.9166079673068962, 0.9108708651682954, 0.930167658670018, 0.9038122031684122, 0.8974502432075676, 0.0, 0.8710335209601938, 0.883923793817979, 0.9437349024725036, 0.883923793817979, 0.883923793817979, 0.9391891586572134, 0.9297293043150517, 0.972034085302283, 0.9391891586572134, 0.883923793817979, 0.9707619294995306, 0.8071672200589796, 0.914731168921461, 0.4839736574899294, 0.8988851280114387, 0.8834619431966049, 0.8834619431966049, 0.9568562394806591, 0.9112951686273792, 0.8934115761757694, 0.930167658670018, 0.9859397753211546]}, {\"categories\": [\"0\", \"1\", \"2\", \"3\", \"4\", \"5\", \"6\", \"7\", \"8\", \"9\", \"10\", \"11\", \"12\", \"13\", \"14\", \"15\", \"16\", \"17\", \"18\", \"19\", \"20\", \"21\", \"22\", \"23\", \"24\", \"25\", \"26\", \"27\", \"28\", \"29\", \"30\", \"31\", \"32\", \"33\", \"34\", \"36\", \"37\", \"38\", \"39\", \"40\", \"41\", \"42\", \"43\", \"44\", \"45\", \"46\", \"47\", \"50\"], \"mode\": \"lines\", \"name\": \"matthews_correlation_max\", \"stepped\": true, \"type\": \"scatter\", \"data\": [0.9120064650195943, 0.9120064650195943, 0.9120064650195943, 0.9120064650195943, 0.9120064650195943, 0.9120064650195943, 0.9132427499688852, 0.9132427499688852, 0.9293335164464004, 0.9293335164464004, 0.9293335164464004, 0.9293335164464004, 0.929909014743085, 0.929909014743085, 0.929909014743085, 0.929909014743085, 0.929909014743085, 0.929909014743085, 0.929909014743085, 0.9445113622680243, 0.9445113622680243, 0.9445113622680243, 0.9445113622680243, 0.9445113622680243, 0.9445113622680243, 0.9445113622680243, 0.9445113622680243, 0.9445113622680243, 0.9445113622680243, 0.9445113622680243, 0.9445113622680243, 0.9445113622680243, 0.9445113622680243, 0.972034085302283, 0.972034085302283, 0.972034085302283, 0.972034085302283, 0.972034085302283, 0.972034085302283, 0.972034085302283, 0.972034085302283, 0.972034085302283, 0.972034085302283, 0.972034085302283, 0.972034085302283, 0.972034085302283, 0.972034085302283, 0.9859397753211546]}], \"average_precision_score_micro\": [{\"categories\": [\"0\", \"1\", \"2\", \"3\", \"4\", \"5\", \"6\", \"7\", \"8\", \"9\", \"10\", \"11\", \"12\", \"13\", \"14\", \"15\", \"16\", \"17\", \"18\", \"19\", \"20\", \"21\", \"22\", \"23\", \"24\", \"25\", \"26\", \"27\", \"28\", \"29\", \"30\", \"31\", \"32\", \"33\", \"34\", \"36\", \"37\", \"38\", \"39\", \"40\", \"41\", \"42\", \"43\", \"44\", \"45\", \"46\", \"47\", \"50\"], \"mode\": \"markers\", \"name\": \"average_precision_score_micro\", \"stepped\": false, \"type\": \"scatter\", \"data\": [0.9867605414031845, 0.9541279276626389, 0.9893956921904841, 0.9848450962658744, 0.9900112631459024, 0.9819433096467209, 0.9927610944628505, 0.9913748530843577, 0.9956380377831063, 0.9966132651891165, 0.9920216754551591, 0.9818614402595083, 0.9757166621020744, 0.9926880156203465, 0.9609316218432361, 0.9878999433293316, 0.966135843847627, 0.9158189966628957, 0.9791529327700003, 0.9961506186738385, 0.9863813289647695, 0.9824907510783176, 0.9961172875458589, 0.9855824105090685, 0.9863973098406661, 0.3068480725623583, 0.9863823532237492, 0.9841402249674621, 0.9968702568746798, 0.987264086952688, 0.9796357058131662, 0.9886324615360774, 0.9973675356028298, 0.9986982901268616, 0.9930793296452336, 0.9914703148244546, 0.9968782772586399, 0.9501624778995997, 0.9808467480115172, 0.6988981989715247, 0.9915478553681711, 0.9633780119328076, 0.9851214849516922, 0.9986839901125615, 0.9848439126224058, 0.9769840483525143, 0.9956000963165934, 0.999213090641662]}, {\"categories\": [\"0\", \"1\", \"2\", \"3\", \"4\", \"5\", \"6\", \"7\", \"8\", \"9\", \"10\", \"11\", \"12\", \"13\", \"14\", \"15\", \"16\", \"17\", \"18\", \"19\", \"20\", \"21\", \"22\", \"23\", \"24\", \"25\", \"26\", \"27\", \"28\", \"29\", \"30\", \"31\", \"32\", \"33\", \"34\", \"36\", \"37\", \"38\", \"39\", \"40\", \"41\", \"42\", \"43\", \"44\", \"45\", \"46\", \"47\", \"50\"], \"mode\": \"lines\", \"name\": \"average_precision_score_micro_max\", \"stepped\": true, \"type\": \"scatter\", \"data\": [0.9867605414031845, 0.9867605414031845, 0.9893956921904841, 0.9893956921904841, 0.9900112631459024, 0.9900112631459024, 0.9927610944628505, 0.9927610944628505, 0.9956380377831063, 0.9966132651891165, 0.9966132651891165, 0.9966132651891165, 0.9966132651891165, 0.9966132651891165, 0.9966132651891165, 0.9966132651891165, 0.9966132651891165, 0.9966132651891165, 0.9966132651891165, 0.9966132651891165, 0.9966132651891165, 0.9966132651891165, 0.9966132651891165, 0.9966132651891165, 0.9966132651891165, 0.9966132651891165, 0.9966132651891165, 0.9966132651891165, 0.9968702568746798, 0.9968702568746798, 0.9968702568746798, 0.9968702568746798, 0.9973675356028298, 0.9986982901268616, 0.9986982901268616, 0.9986982901268616, 0.9986982901268616, 0.9986982901268616, 0.9986982901268616, 0.9986982901268616, 0.9986982901268616, 0.9986982901268616, 0.9986982901268616, 0.9986982901268616, 0.9986982901268616, 0.9986982901268616, 0.9986982901268616, 0.999213090641662]}], \"precision_score_weighted\": [{\"categories\": [\"0\", \"1\", \"2\", \"3\", \"4\", \"5\", \"6\", \"7\", \"8\", \"9\", \"10\", \"11\", \"12\", \"13\", \"14\", \"15\", \"16\", \"17\", \"18\", \"19\", \"20\", \"21\", \"22\", \"23\", \"24\", \"25\", \"26\", \"27\", \"28\", \"29\", \"30\", \"31\", \"32\", \"33\", \"34\", \"36\", \"37\", \"38\", \"39\", \"40\", \"41\", \"42\", \"43\", \"44\", \"45\", \"46\", \"47\", \"50\"], \"mode\": \"markers\", \"name\": \"precision_score_weighted\", \"stepped\": false, \"type\": \"scatter\", \"data\": [0.9498319327731092, 0.9393557422969186, 0.9319686849098613, 0.9319686849098613, 0.9319686849098613, 0.9296307396307396, 0.947089947089947, 0.947089947089947, 0.9574542124542124, 0.9574542124542124, 0.9553174603174602, 0.9319686849098613, 0.9567765567765568, 0.938115588115588, 0.9296307396307396, 0.9542328042328041, 0.9223580123580124, 0.9485917785917786, 0.9574542124542124, 0.9657875457875459, 0.9534835534835535, 0.9447619047619048, 0.9626984126984127, 0.9482983682983682, 0.938115588115588, 0.07700680272108842, 0.9232989761561189, 0.9319686849098613, 0.9669780219780219, 0.9319686849098613, 0.9319686849098613, 0.9619047619047619, 0.9608706108706109, 0.9826984126984127, 0.9619047619047619, 0.9319686849098613, 0.9830952380952381, 0.8923220826792254, 0.9484432234432233, 0.47410647831700464, 0.9424448753860518, 0.9296307396307396, 0.9296307396307396, 0.9743650793650792, 0.9446897546897546, 0.9343722943722943, 0.9626984126984127, 0.9914285714285714]}, {\"categories\": [\"0\", \"1\", \"2\", \"3\", \"4\", \"5\", \"6\", \"7\", \"8\", \"9\", \"10\", \"11\", \"12\", \"13\", \"14\", \"15\", \"16\", \"17\", \"18\", \"19\", \"20\", \"21\", \"22\", \"23\", \"24\", \"25\", \"26\", \"27\", \"28\", \"29\", \"30\", \"31\", \"32\", \"33\", \"34\", \"36\", \"37\", \"38\", \"39\", \"40\", \"41\", \"42\", \"43\", \"44\", \"45\", \"46\", \"47\", \"50\"], \"mode\": \"lines\", \"name\": \"precision_score_weighted_max\", \"stepped\": true, \"type\": \"scatter\", \"data\": [0.9498319327731092, 0.9498319327731092, 0.9498319327731092, 0.9498319327731092, 0.9498319327731092, 0.9498319327731092, 0.9498319327731092, 0.9498319327731092, 0.9574542124542124, 0.9574542124542124, 0.9574542124542124, 0.9574542124542124, 0.9574542124542124, 0.9574542124542124, 0.9574542124542124, 0.9574542124542124, 0.9574542124542124, 0.9574542124542124, 0.9574542124542124, 0.9657875457875459, 0.9657875457875459, 0.9657875457875459, 0.9657875457875459, 0.9657875457875459, 0.9657875457875459, 0.9657875457875459, 0.9657875457875459, 0.9657875457875459, 0.9669780219780219, 0.9669780219780219, 0.9669780219780219, 0.9669780219780219, 0.9669780219780219, 0.9826984126984127, 0.9826984126984127, 0.9826984126984127, 0.9830952380952381, 0.9830952380952381, 0.9830952380952381, 0.9830952380952381, 0.9830952380952381, 0.9830952380952381, 0.9830952380952381, 0.9830952380952381, 0.9830952380952381, 0.9830952380952381, 0.9830952380952381, 0.9914285714285714]}], \"norm_macro_recall\": [{\"categories\": [\"0\", \"1\", \"2\", \"3\", \"4\", \"5\", \"6\", \"7\", \"8\", \"9\", \"10\", \"11\", \"12\", \"13\", \"14\", \"15\", \"16\", \"17\", \"18\", \"19\", \"20\", \"21\", \"22\", \"23\", \"24\", \"25\", \"26\", \"27\", \"28\", \"29\", \"30\", \"31\", \"32\", \"33\", \"34\", \"36\", \"37\", \"38\", \"39\", \"40\", \"41\", \"42\", \"43\", \"44\", \"45\", \"46\", \"47\", \"50\"], \"mode\": \"markers\", \"name\": \"norm_macro_recall\", \"stepped\": false, \"type\": \"scatter\", \"data\": [0.9231652850073903, 0.9046467664888717, 0.8918262536683589, 0.8918262536683589, 0.8918262536683589, 0.8867092946040315, 0.9220767049714417, 0.9220767049714417, 0.9397933937407621, 0.9397933937407621, 0.9365466404940088, 0.8918262536683589, 0.930046805046805, 0.9005981834929203, 0.8867092946040315, 0.926239209133946, 0.8728204057151424, 0.9191167020114387, 0.9397933937407621, 0.9485653235653234, 0.9290373369320736, 0.9092174881648565, 0.946974808816914, 0.9202654071075123, 0.9005981834929203, 0.0, 0.8738887817835185, 0.8918262536683589, 0.951698155645524, 0.8918262536683589, 0.8918262536683589, 0.9350111389585073, 0.9418578497525866, 0.9732905982905983, 0.9350111389585073, 0.8918262536683589, 0.9773391812865496, 0.814678255467729, 0.9212748752222436, 0.4511183261183261, 0.9103447721868774, 0.8867092946040315, 0.8867092946040315, 0.9645186684660368, 0.9083017372491057, 0.8885407964355333, 0.946974808816914, 0.986111111111111]}, {\"categories\": [\"0\", \"1\", \"2\", \"3\", \"4\", \"5\", \"6\", \"7\", \"8\", \"9\", \"10\", \"11\", \"12\", \"13\", \"14\", \"15\", \"16\", \"17\", \"18\", \"19\", \"20\", \"21\", \"22\", \"23\", \"24\", \"25\", \"26\", \"27\", \"28\", \"29\", \"30\", \"31\", \"32\", \"33\", \"34\", \"36\", \"37\", \"38\", \"39\", \"40\", \"41\", \"42\", \"43\", \"44\", \"45\", \"46\", \"47\", \"50\"], \"mode\": \"lines\", \"name\": \"norm_macro_recall_max\", \"stepped\": true, \"type\": \"scatter\", \"data\": [0.9231652850073903, 0.9231652850073903, 0.9231652850073903, 0.9231652850073903, 0.9231652850073903, 0.9231652850073903, 0.9231652850073903, 0.9231652850073903, 0.9397933937407621, 0.9397933937407621, 0.9397933937407621, 0.9397933937407621, 0.9397933937407621, 0.9397933937407621, 0.9397933937407621, 0.9397933937407621, 0.9397933937407621, 0.9397933937407621, 0.9397933937407621, 0.9485653235653234, 0.9485653235653234, 0.9485653235653234, 0.9485653235653234, 0.9485653235653234, 0.9485653235653234, 0.9485653235653234, 0.9485653235653234, 0.9485653235653234, 0.951698155645524, 0.951698155645524, 0.951698155645524, 0.951698155645524, 0.951698155645524, 0.9732905982905983, 0.9732905982905983, 0.9732905982905983, 0.9773391812865496, 0.9773391812865496, 0.9773391812865496, 0.9773391812865496, 0.9773391812865496, 0.9773391812865496, 0.9773391812865496, 0.9773391812865496, 0.9773391812865496, 0.9773391812865496, 0.9773391812865496, 0.986111111111111]}], \"f1_score_weighted\": [{\"categories\": [\"0\", \"1\", \"2\", \"3\", \"4\", \"5\", \"6\", \"7\", \"8\", \"9\", \"10\", \"11\", \"12\", \"13\", \"14\", \"15\", \"16\", \"17\", \"18\", \"19\", \"20\", \"21\", \"22\", \"23\", \"24\", \"25\", \"26\", \"27\", \"28\", \"29\", \"30\", \"31\", \"32\", \"33\", \"34\", \"36\", \"37\", \"38\", \"39\", \"40\", \"41\", \"42\", \"43\", \"44\", \"45\", \"46\", \"47\", \"50\"], \"mode\": \"markers\", \"name\": \"f1_score_weighted\", \"stepped\": false, \"type\": \"scatter\", \"data\": [0.944240044555834, 0.9346726478030826, 0.9251322751322751, 0.9251322751322751, 0.9251322751322751, 0.9245065660626302, 0.9435185185185185, 0.9435185185185185, 0.952643972293095, 0.952643972293095, 0.9526629892396482, 0.9251322751322751, 0.9527760141093475, 0.933899613899614, 0.9245065660626302, 0.952947232947233, 0.915025155025155, 0.9434670106523654, 0.952643972293095, 0.9619790216281444, 0.9436050986050986, 0.9434326557133574, 0.9537376213643353, 0.9347164320273563, 0.933899613899614, 0.12023338979860719, 0.9148336882158393, 0.9251322751322751, 0.9621371093224641, 0.9251322751322751, 0.9251322751322751, 0.9619047619047619, 0.9531454712759061, 0.9810125313283208, 0.9619047619047619, 0.9251322751322751, 0.9811847283700831, 0.8681589821699432, 0.9434409647742982, 0.4480744862465292, 0.9346996718850266, 0.9245065660626302, 0.9245065660626302, 0.9716774819932715, 0.9430044676909666, 0.933464095020159, 0.9537376213643353, 0.9905197777051323]}, {\"categories\": [\"0\", \"1\", \"2\", \"3\", \"4\", \"5\", \"6\", \"7\", \"8\", \"9\", \"10\", \"11\", \"12\", \"13\", \"14\", \"15\", \"16\", \"17\", \"18\", \"19\", \"20\", \"21\", \"22\", \"23\", \"24\", \"25\", \"26\", \"27\", \"28\", \"29\", \"30\", \"31\", \"32\", \"33\", \"34\", \"36\", \"37\", \"38\", \"39\", \"40\", \"41\", \"42\", \"43\", \"44\", \"45\", \"46\", \"47\", \"50\"], \"mode\": \"lines\", \"name\": \"f1_score_weighted_max\", \"stepped\": true, \"type\": \"scatter\", \"data\": [0.944240044555834, 0.944240044555834, 0.944240044555834, 0.944240044555834, 0.944240044555834, 0.944240044555834, 0.944240044555834, 0.944240044555834, 0.952643972293095, 0.952643972293095, 0.9526629892396482, 0.9526629892396482, 0.9527760141093475, 0.9527760141093475, 0.9527760141093475, 0.952947232947233, 0.952947232947233, 0.952947232947233, 0.952947232947233, 0.9619790216281444, 0.9619790216281444, 0.9619790216281444, 0.9619790216281444, 0.9619790216281444, 0.9619790216281444, 0.9619790216281444, 0.9619790216281444, 0.9619790216281444, 0.9621371093224641, 0.9621371093224641, 0.9621371093224641, 0.9621371093224641, 0.9621371093224641, 0.9810125313283208, 0.9810125313283208, 0.9810125313283208, 0.9811847283700831, 0.9811847283700831, 0.9811847283700831, 0.9811847283700831, 0.9811847283700831, 0.9811847283700831, 0.9811847283700831, 0.9811847283700831, 0.9811847283700831, 0.9811847283700831, 0.9811847283700831, 0.9905197777051323]}], \"recall_score_micro\": [{\"categories\": [\"0\", \"1\", \"2\", \"3\", \"4\", \"5\", \"6\", \"7\", \"8\", \"9\", \"10\", \"11\", \"12\", \"13\", \"14\", \"15\", \"16\", \"17\", \"18\", \"19\", \"20\", \"21\", \"22\", \"23\", \"24\", \"25\", \"26\", \"27\", \"28\", \"29\", \"30\", \"31\", \"32\", \"33\", \"34\", \"36\", \"37\", \"38\", \"39\", \"40\", \"41\", \"42\", \"43\", \"44\", \"45\", \"46\", \"47\", \"50\"], \"mode\": \"markers\", \"name\": \"recall_score_micro\", \"stepped\": false, \"type\": \"scatter\", \"data\": [0.942857142857143, 0.9333333333333332, 0.9238095238095237, 0.9238095238095237, 0.9238095238095237, 0.9238095238095237, 0.9428571428571427, 0.9428571428571427, 0.9523809523809522, 0.9523809523809522, 0.9523809523809524, 0.9238095238095237, 0.9523809523809524, 0.9333333333333332, 0.9238095238095237, 0.9523809523809522, 0.9142857142857143, 0.942857142857143, 0.9523809523809522, 0.9619047619047619, 0.9428571428571427, 0.9428571428571427, 0.9523809523809524, 0.9333333333333332, 0.9333333333333332, 0.27619047619047615, 0.9142857142857143, 0.9238095238095237, 0.9619047619047619, 0.9238095238095237, 0.9238095238095237, 0.9619047619047619, 0.9523809523809522, 0.980952380952381, 0.9619047619047619, 0.9238095238095237, 0.980952380952381, 0.8666666666666667, 0.9428571428571427, 0.5619047619047619, 0.9333333333333332, 0.9238095238095237, 0.9238095238095237, 0.9714285714285714, 0.9428571428571427, 0.9333333333333332, 0.9523809523809524, 0.9904761904761905]}, {\"categories\": [\"0\", \"1\", \"2\", \"3\", \"4\", \"5\", \"6\", \"7\", \"8\", \"9\", \"10\", \"11\", \"12\", \"13\", \"14\", \"15\", \"16\", \"17\", \"18\", \"19\", \"20\", \"21\", \"22\", \"23\", \"24\", \"25\", \"26\", \"27\", \"28\", \"29\", \"30\", \"31\", \"32\", \"33\", \"34\", \"36\", \"37\", \"38\", \"39\", \"40\", \"41\", \"42\", \"43\", \"44\", \"45\", \"46\", \"47\", \"50\"], \"mode\": \"lines\", \"name\": \"recall_score_micro_max\", \"stepped\": true, \"type\": \"scatter\", \"data\": [0.942857142857143, 0.942857142857143, 0.942857142857143, 0.942857142857143, 0.942857142857143, 0.942857142857143, 0.942857142857143, 0.942857142857143, 0.9523809523809522, 0.9523809523809522, 0.9523809523809524, 0.9523809523809524, 0.9523809523809524, 0.9523809523809524, 0.9523809523809524, 0.9523809523809524, 0.9523809523809524, 0.9523809523809524, 0.9523809523809524, 0.9619047619047619, 0.9619047619047619, 0.9619047619047619, 0.9619047619047619, 0.9619047619047619, 0.9619047619047619, 0.9619047619047619, 0.9619047619047619, 0.9619047619047619, 0.9619047619047619, 0.9619047619047619, 0.9619047619047619, 0.9619047619047619, 0.9619047619047619, 0.980952380952381, 0.980952380952381, 0.980952380952381, 0.980952380952381, 0.980952380952381, 0.980952380952381, 0.980952380952381, 0.980952380952381, 0.980952380952381, 0.980952380952381, 0.980952380952381, 0.980952380952381, 0.980952380952381, 0.980952380952381, 0.9904761904761905]}], \"f1_score_macro\": [{\"categories\": [\"0\", \"1\", \"2\", \"3\", \"4\", \"5\", \"6\", \"7\", \"8\", \"9\", \"10\", \"11\", \"12\", \"13\", \"14\", \"15\", \"16\", \"17\", \"18\", \"19\", \"20\", \"21\", \"22\", \"23\", \"24\", \"25\", \"26\", \"27\", \"28\", \"29\", \"30\", \"31\", \"32\", \"33\", \"34\", \"36\", \"37\", \"38\", \"39\", \"40\", \"41\", \"42\", \"43\", \"44\", \"45\", \"46\", \"47\", \"50\"], \"mode\": \"markers\", \"name\": \"f1_score_macro\", \"stepped\": false, \"type\": \"scatter\", \"data\": [0.9399223098002656, 0.9289962426194309, 0.9197530864197531, 0.9197530864197531, 0.9197530864197531, 0.918213636977939, 0.9396853146853147, 0.9396853146853147, 0.951848632257989, 0.951848632257989, 0.9510846315422974, 0.9197530864197531, 0.9516872427983539, 0.9286453119786452, 0.918213636977939, 0.9471638304971638, 0.9078260078260078, 0.9395713791594797, 0.951848632257989, 0.9622590426683993, 0.9402076318742986, 0.93810142640552, 0.9509141139293246, 0.9311377076082957, 0.9286453119786452, 0.1440491875274484, 0.9089060685399358, 0.9197530864197531, 0.9603921999803006, 0.9197530864197531, 0.9197530864197531, 0.9566740926390049, 0.9494507880739765, 0.980045766590389, 0.9566740926390049, 0.9197530864197531, 0.9789107184988192, 0.8599847949720073, 0.9412768323879436, 0.49433174684070735, 0.9306791536005875, 0.918213636977939, 0.918213636977939, 0.9696353561799786, 0.936967055319458, 0.9245214485489086, 0.9509141139293246, 0.9893211289092295]}, {\"categories\": [\"0\", \"1\", \"2\", \"3\", \"4\", \"5\", \"6\", \"7\", \"8\", \"9\", \"10\", \"11\", \"12\", \"13\", \"14\", \"15\", \"16\", \"17\", \"18\", \"19\", \"20\", \"21\", \"22\", \"23\", \"24\", \"25\", \"26\", \"27\", \"28\", \"29\", \"30\", \"31\", \"32\", \"33\", \"34\", \"36\", \"37\", \"38\", \"39\", \"40\", \"41\", \"42\", \"43\", \"44\", \"45\", \"46\", \"47\", \"50\"], \"mode\": \"lines\", \"name\": \"f1_score_macro_max\", \"stepped\": true, \"type\": \"scatter\", \"data\": [0.9399223098002656, 0.9399223098002656, 0.9399223098002656, 0.9399223098002656, 0.9399223098002656, 0.9399223098002656, 0.9399223098002656, 0.9399223098002656, 0.951848632257989, 0.951848632257989, 0.951848632257989, 0.951848632257989, 0.951848632257989, 0.951848632257989, 0.951848632257989, 0.951848632257989, 0.951848632257989, 0.951848632257989, 0.951848632257989, 0.9622590426683993, 0.9622590426683993, 0.9622590426683993, 0.9622590426683993, 0.9622590426683993, 0.9622590426683993, 0.9622590426683993, 0.9622590426683993, 0.9622590426683993, 0.9622590426683993, 0.9622590426683993, 0.9622590426683993, 0.9622590426683993, 0.9622590426683993, 0.980045766590389, 0.980045766590389, 0.980045766590389, 0.980045766590389, 0.980045766590389, 0.980045766590389, 0.980045766590389, 0.980045766590389, 0.980045766590389, 0.980045766590389, 0.980045766590389, 0.980045766590389, 0.980045766590389, 0.980045766590389, 0.9893211289092295]}], \"average_precision_score_weighted\": [{\"categories\": [\"0\", \"1\", \"2\", \"3\", \"4\", \"5\", \"6\", \"7\", \"8\", \"9\", \"10\", \"11\", \"12\", \"13\", \"14\", \"15\", \"16\", \"17\", \"18\", \"19\", \"20\", \"21\", \"22\", \"23\", \"24\", \"25\", \"26\", \"27\", \"28\", \"29\", \"30\", \"31\", \"32\", \"33\", \"34\", \"36\", \"37\", \"38\", \"39\", \"40\", \"41\", \"42\", \"43\", \"44\", \"45\", \"46\", \"47\", \"50\"], \"mode\": \"markers\", \"name\": \"average_precision_score_weighted\", \"stepped\": false, \"type\": \"scatter\", \"data\": [0.9831260781415581, 0.9654837347931977, 0.9866190516610686, 0.9824872936947241, 0.9918770045130062, 0.9823216862502576, 0.9912773998488283, 0.9912773998488283, 0.9962672248386534, 0.9977934763649049, 0.9888298209726781, 0.9846739865536858, 0.9882501889644746, 0.9919476207446132, 0.9569205345410564, 0.9895986024557454, 0.9625770165588831, 0.9592917850901044, 0.9882501889644747, 0.9963381063381064, 0.987423581709296, 0.9804368392758485, 0.9966483516483516, 0.9810169988741418, 0.9857118200815679, 0.36000000000000004, 0.9909280054392835, 0.9771789282923736, 0.9977934763649049, 0.9893893853292349, 0.9719195307274843, 0.9825919460738124, 1.0, 0.9993197278911564, 0.9912121750511842, 0.9927850466240559, 0.9960204081632652, 0.9666396778316283, 0.9838258038258038, 0.7772895117656214, 0.9927850466240559, 0.963503583456038, 0.983146589842742, 1.0, 0.9826423586242251, 0.9679500914584946, 0.9960204081632652, 0.9983150183150182]}, {\"categories\": [\"0\", \"1\", \"2\", \"3\", \"4\", \"5\", \"6\", \"7\", \"8\", \"9\", \"10\", \"11\", \"12\", \"13\", \"14\", \"15\", \"16\", \"17\", \"18\", \"19\", \"20\", \"21\", \"22\", \"23\", \"24\", \"25\", \"26\", \"27\", \"28\", \"29\", \"30\", \"31\", \"32\", \"33\", \"34\", \"36\", \"37\", \"38\", \"39\", \"40\", \"41\", \"42\", \"43\", \"44\", \"45\", \"46\", \"47\", \"50\"], \"mode\": \"lines\", \"name\": \"average_precision_score_weighted_max\", \"stepped\": true, \"type\": \"scatter\", \"data\": [0.9831260781415581, 0.9831260781415581, 0.9866190516610686, 0.9866190516610686, 0.9918770045130062, 0.9918770045130062, 0.9918770045130062, 0.9918770045130062, 0.9962672248386534, 0.9977934763649049, 0.9977934763649049, 0.9977934763649049, 0.9977934763649049, 0.9977934763649049, 0.9977934763649049, 0.9977934763649049, 0.9977934763649049, 0.9977934763649049, 0.9977934763649049, 0.9977934763649049, 0.9977934763649049, 0.9977934763649049, 0.9977934763649049, 0.9977934763649049, 0.9977934763649049, 0.9977934763649049, 0.9977934763649049, 0.9977934763649049, 0.9977934763649049, 0.9977934763649049, 0.9977934763649049, 0.9977934763649049, 1.0, 1.0, 1.0, 1.0, 1.0, 1.0, 1.0, 1.0, 1.0, 1.0, 1.0, 1.0, 1.0, 1.0, 1.0, 1.0]}], \"average_precision_score_macro\": [{\"categories\": [\"0\", \"1\", \"2\", \"3\", \"4\", \"5\", \"6\", \"7\", \"8\", \"9\", \"10\", \"11\", \"12\", \"13\", \"14\", \"15\", \"16\", \"17\", \"18\", \"19\", \"20\", \"21\", \"22\", \"23\", \"24\", \"25\", \"26\", \"27\", \"28\", \"29\", \"30\", \"31\", \"32\", \"33\", \"34\", \"36\", \"37\", \"38\", \"39\", \"40\", \"41\", \"42\", \"43\", \"44\", \"45\", \"46\", \"47\", \"50\"], \"mode\": \"markers\", \"name\": \"average_precision_score_macro\", \"stepped\": false, \"type\": \"scatter\", \"data\": [0.9814006318487336, 0.9605425513466076, 0.9829373917838543, 0.9803199546376611, 0.9899229055765909, 0.9791006697439446, 0.9898068891977273, 0.9898068891977273, 0.9964064307013025, 0.9978354978354979, 0.9876398325407649, 0.9801629572430843, 0.9870790046715973, 0.9903199494496816, 0.9463750921871141, 0.9865492532159199, 0.9553134901780864, 0.9471217800193835, 0.9870790046715973, 0.9963881236608509, 0.9858847678648247, 0.9771438083509972, 0.995776656741569, 0.9780905291147243, 0.9823952396836813, 0.3333333333333333, 0.9894689485986808, 0.975986074744818, 0.9978354978354979, 0.9874487465784788, 0.9725614597214837, 0.9796733904266667, 1.0, 0.9993894993894994, 0.989230401456109, 0.9910121074044816, 0.9951661561310684, 0.9592772809664961, 0.9839502871489403, 0.7544554562974829, 0.9910121074044816, 0.9581248675803221, 0.9766773460459107, 1.0, 0.980248425906673, 0.960545783818631, 0.9951661561310684, 0.9980531813865148]}, {\"categories\": [\"0\", \"1\", \"2\", \"3\", \"4\", \"5\", \"6\", \"7\", \"8\", \"9\", \"10\", \"11\", \"12\", \"13\", \"14\", \"15\", \"16\", \"17\", \"18\", \"19\", \"20\", \"21\", \"22\", \"23\", \"24\", \"25\", \"26\", \"27\", \"28\", \"29\", \"30\", \"31\", \"32\", \"33\", \"34\", \"36\", \"37\", \"38\", \"39\", \"40\", \"41\", \"42\", \"43\", \"44\", \"45\", \"46\", \"47\", \"50\"], \"mode\": \"lines\", \"name\": \"average_precision_score_macro_max\", \"stepped\": true, \"type\": \"scatter\", \"data\": [0.9814006318487336, 0.9814006318487336, 0.9829373917838543, 0.9829373917838543, 0.9899229055765909, 0.9899229055765909, 0.9899229055765909, 0.9899229055765909, 0.9964064307013025, 0.9978354978354979, 0.9978354978354979, 0.9978354978354979, 0.9978354978354979, 0.9978354978354979, 0.9978354978354979, 0.9978354978354979, 0.9978354978354979, 0.9978354978354979, 0.9978354978354979, 0.9978354978354979, 0.9978354978354979, 0.9978354978354979, 0.9978354978354979, 0.9978354978354979, 0.9978354978354979, 0.9978354978354979, 0.9978354978354979, 0.9978354978354979, 0.9978354978354979, 0.9978354978354979, 0.9978354978354979, 0.9978354978354979, 1.0, 1.0, 1.0, 1.0, 1.0, 1.0, 1.0, 1.0, 1.0, 1.0, 1.0, 1.0, 1.0, 1.0, 1.0, 1.0]}], \"log_loss\": [{\"categories\": [\"0\", \"1\", \"2\", \"3\", \"4\", \"5\", \"6\", \"7\", \"8\", \"9\", \"10\", \"11\", \"12\", \"13\", \"14\", \"15\", \"16\", \"17\", \"18\", \"19\", \"20\", \"21\", \"22\", \"23\", \"24\", \"25\", \"26\", \"27\", \"28\", \"29\", \"30\", \"31\", \"32\", \"33\", \"34\", \"36\", \"37\", \"38\", \"39\", \"40\", \"41\", \"42\", \"43\", \"44\", \"45\", \"46\", \"47\", \"50\"], \"mode\": \"markers\", \"name\": \"log_loss\", \"stepped\": false, \"type\": \"scatter\", \"data\": [0.12860986256552234, 0.2600259634963905, 0.14048738893324653, 0.45531621228282804, 0.1477758033700718, 0.30222098692166505, 0.16805048666634473, 0.16924658766651493, 0.20522944342894742, 0.11804304025948222, 0.47113700367268185, 0.18462719239281986, 0.17653570542823704, 0.24886937404555676, 0.4200243201146587, 0.2068768123236914, 0.46647204159128347, 0.6616511352800333, 0.20703470168434635, 0.26891835356546157, 0.23023212341250823, 0.22739945781430707, 0.07004737803159079, 0.6011422661378382, 0.29639668197724817, 1.1181955670424244, 0.45553327038382174, 0.23868030990882494, 0.12065071814124666, 0.168588910473787, 0.6066042046466723, 0.5312166003666013, 0.34584717612423993, 0.3194867351744764, 0.23794923076913135, 0.5831205455563969, 0.07099772612110916, 0.5791309699220912, 0.5984686976071457, 0.9354591968786427, 0.1665751888178692, 0.3578302772766844, 0.28281290836582357, 0.10549523497312041, 0.6675571969434334, 0.3739132523173712, 0.07201877826416152, 0.24710593727103156]}, {\"categories\": [\"0\", \"1\", \"2\", \"3\", \"4\", \"5\", \"6\", \"7\", \"8\", \"9\", \"10\", \"11\", \"12\", \"13\", \"14\", \"15\", \"16\", \"17\", \"18\", \"19\", \"20\", \"21\", \"22\", \"23\", \"24\", \"25\", \"26\", \"27\", \"28\", \"29\", \"30\", \"31\", \"32\", \"33\", \"34\", \"36\", \"37\", \"38\", \"39\", \"40\", \"41\", \"42\", \"43\", \"44\", \"45\", \"46\", \"47\", \"50\"], \"mode\": \"lines\", \"name\": \"log_loss_min\", \"stepped\": true, \"type\": \"scatter\", \"data\": [0.12860986256552234, 0.12860986256552234, 0.12860986256552234, 0.12860986256552234, 0.12860986256552234, 0.12860986256552234, 0.12860986256552234, 0.12860986256552234, 0.12860986256552234, 0.11804304025948222, 0.11804304025948222, 0.11804304025948222, 0.11804304025948222, 0.11804304025948222, 0.11804304025948222, 0.11804304025948222, 0.11804304025948222, 0.11804304025948222, 0.11804304025948222, 0.11804304025948222, 0.11804304025948222, 0.11804304025948222, 0.07004737803159079, 0.07004737803159079, 0.07004737803159079, 0.07004737803159079, 0.07004737803159079, 0.07004737803159079, 0.07004737803159079, 0.07004737803159079, 0.07004737803159079, 0.07004737803159079, 0.07004737803159079, 0.07004737803159079, 0.07004737803159079, 0.07004737803159079, 0.07004737803159079, 0.07004737803159079, 0.07004737803159079, 0.07004737803159079, 0.07004737803159079, 0.07004737803159079, 0.07004737803159079, 0.07004737803159079, 0.07004737803159079, 0.07004737803159079, 0.07004737803159079, 0.07004737803159079]}], \"precision_score_macro\": [{\"categories\": [\"0\", \"1\", \"2\", \"3\", \"4\", \"5\", \"6\", \"7\", \"8\", \"9\", \"10\", \"11\", \"12\", \"13\", \"14\", \"15\", \"16\", \"17\", \"18\", \"19\", \"20\", \"21\", \"22\", \"23\", \"24\", \"25\", \"26\", \"27\", \"28\", \"29\", \"30\", \"31\", \"32\", \"33\", \"34\", \"36\", \"37\", \"38\", \"39\", \"40\", \"41\", \"42\", \"43\", \"44\", \"45\", \"46\", \"47\", \"50\"], \"mode\": \"markers\", \"name\": \"precision_score_macro\", \"stepped\": false, \"type\": \"scatter\", \"data\": [0.9360566448801743, 0.9255628177196803, 0.9177280598849226, 0.9177280598849226, 0.9177280598849226, 0.9166321332988, 0.9350556850556849, 0.9350556850556849, 0.9486467236467236, 0.9486467236467236, 0.9472222222222223, 0.9177280598849226, 0.9534662867996202, 0.9273504273504273, 0.9166321332988, 0.9444444444444445, 0.907541224207891, 0.9378442545109212, 0.9486467236467236, 0.9625356125356125, 0.9380126046792713, 0.9375382901698691, 0.9462962962962963, 0.9293706293706294, 0.9273504273504273, 0.09206349206349206, 0.9099166265832932, 0.9177280598849226, 0.957905982905983, 0.9177280598849226, 0.9177280598849226, 0.9566740926390049, 0.9458473625140291, 0.9796296296296297, 0.9566740926390049, 0.9177280598849226, 0.9750000000000001, 0.8681776556776556, 0.9395773979107312, 0.507478291688818, 0.9282218870454164, 0.9166321332988, 0.9166321332988, 0.9657407407407407, 0.9366965393281182, 0.9242348294979874, 0.9462962962962963, 0.9888888888888889]}, {\"categories\": [\"0\", \"1\", \"2\", \"3\", \"4\", \"5\", \"6\", \"7\", \"8\", \"9\", \"10\", \"11\", \"12\", \"13\", \"14\", \"15\", \"16\", \"17\", \"18\", \"19\", \"20\", \"21\", \"22\", \"23\", \"24\", \"25\", \"26\", \"27\", \"28\", \"29\", \"30\", \"31\", \"32\", \"33\", \"34\", \"36\", \"37\", \"38\", \"39\", \"40\", \"41\", \"42\", \"43\", \"44\", \"45\", \"46\", \"47\", \"50\"], \"mode\": \"lines\", \"name\": \"precision_score_macro_max\", \"stepped\": true, \"type\": \"scatter\", \"data\": [0.9360566448801743, 0.9360566448801743, 0.9360566448801743, 0.9360566448801743, 0.9360566448801743, 0.9360566448801743, 0.9360566448801743, 0.9360566448801743, 0.9486467236467236, 0.9486467236467236, 0.9486467236467236, 0.9486467236467236, 0.9534662867996202, 0.9534662867996202, 0.9534662867996202, 0.9534662867996202, 0.9534662867996202, 0.9534662867996202, 0.9534662867996202, 0.9625356125356125, 0.9625356125356125, 0.9625356125356125, 0.9625356125356125, 0.9625356125356125, 0.9625356125356125, 0.9625356125356125, 0.9625356125356125, 0.9625356125356125, 0.9625356125356125, 0.9625356125356125, 0.9625356125356125, 0.9625356125356125, 0.9625356125356125, 0.9796296296296297, 0.9796296296296297, 0.9796296296296297, 0.9796296296296297, 0.9796296296296297, 0.9796296296296297, 0.9796296296296297, 0.9796296296296297, 0.9796296296296297, 0.9796296296296297, 0.9796296296296297, 0.9796296296296297, 0.9796296296296297, 0.9796296296296297, 0.9888888888888889]}], \"AUC_micro\": [{\"categories\": [\"0\", \"1\", \"2\", \"3\", \"4\", \"5\", \"6\", \"7\", \"8\", \"9\", \"10\", \"11\", \"12\", \"13\", \"14\", \"15\", \"16\", \"17\", \"18\", \"19\", \"20\", \"21\", \"22\", \"23\", \"24\", \"25\", \"26\", \"27\", \"28\", \"29\", \"30\", \"31\", \"32\", \"33\", \"34\", \"36\", \"37\", \"38\", \"39\", \"40\", \"41\", \"42\", \"43\", \"44\", \"45\", \"46\", \"47\", \"50\"], \"mode\": \"markers\", \"name\": \"AUC_micro\", \"stepped\": false, \"type\": \"scatter\", \"data\": [0.9940136054421768, 0.974013605442177, 0.9945578231292517, 0.9893877551020408, 0.9953061224489796, 0.9899319727891157, 0.9961904761904762, 0.9955102040816327, 0.997687074829932, 0.9982312925170067, 0.99578231292517, 0.9899319727891157, 0.986938775510204, 0.9960544217687075, 0.9774149659863945, 0.9942857142857143, 0.9798639455782313, 0.9570068027210884, 0.989251700680272, 0.9979591836734695, 0.9927891156462585, 0.9908843537414965, 0.9979591836734695, 0.9926530612244897, 0.9927891156462585, 0.41904761904761906, 0.9926530612244898, 0.993061224489796, 0.9983673469387755, 0.993673469387755, 0.990748299319728, 0.9938775510204082, 0.998639455782313, 0.9993197278911564, 0.996326530612245, 0.9955102040816327, 0.9983673469387755, 0.9708843537414965, 0.990748299319728, 0.7960544217687074, 0.9955102040816327, 0.9767346938775511, 0.992108843537415, 0.9993197278911564, 0.9919727891156462, 0.9876190476190475, 0.9976870748299319, 0.999591836734694]}, {\"categories\": [\"0\", \"1\", \"2\", \"3\", \"4\", \"5\", \"6\", \"7\", \"8\", \"9\", \"10\", \"11\", \"12\", \"13\", \"14\", \"15\", \"16\", \"17\", \"18\", \"19\", \"20\", \"21\", \"22\", \"23\", \"24\", \"25\", \"26\", \"27\", \"28\", \"29\", \"30\", \"31\", \"32\", \"33\", \"34\", \"36\", \"37\", \"38\", \"39\", \"40\", \"41\", \"42\", \"43\", \"44\", \"45\", \"46\", \"47\", \"50\"], \"mode\": \"lines\", \"name\": \"AUC_micro_max\", \"stepped\": true, \"type\": \"scatter\", \"data\": [0.9940136054421768, 0.9940136054421768, 0.9945578231292517, 0.9945578231292517, 0.9953061224489796, 0.9953061224489796, 0.9961904761904762, 0.9961904761904762, 0.997687074829932, 0.9982312925170067, 0.9982312925170067, 0.9982312925170067, 0.9982312925170067, 0.9982312925170067, 0.9982312925170067, 0.9982312925170067, 0.9982312925170067, 0.9982312925170067, 0.9982312925170067, 0.9982312925170067, 0.9982312925170067, 0.9982312925170067, 0.9982312925170067, 0.9982312925170067, 0.9982312925170067, 0.9982312925170067, 0.9982312925170067, 0.9982312925170067, 0.9983673469387755, 0.9983673469387755, 0.9983673469387755, 0.9983673469387755, 0.998639455782313, 0.9993197278911564, 0.9993197278911564, 0.9993197278911564, 0.9993197278911564, 0.9993197278911564, 0.9993197278911564, 0.9993197278911564, 0.9993197278911564, 0.9993197278911564, 0.9993197278911564, 0.9993197278911564, 0.9993197278911564, 0.9993197278911564, 0.9993197278911564, 0.999591836734694]}], \"balanced_accuracy\": [{\"categories\": [\"0\", \"1\", \"2\", \"3\", \"4\", \"5\", \"6\", \"7\", \"8\", \"9\", \"10\", \"11\", \"12\", \"13\", \"14\", \"15\", \"16\", \"17\", \"18\", \"19\", \"20\", \"21\", \"22\", \"23\", \"24\", \"25\", \"26\", \"27\", \"28\", \"29\", \"30\", \"31\", \"32\", \"33\", \"34\", \"36\", \"37\", \"38\", \"39\", \"40\", \"41\", \"42\", \"43\", \"44\", \"45\", \"46\", \"47\", \"50\"], \"mode\": \"markers\", \"name\": \"balanced_accuracy\", \"stepped\": false, \"type\": \"scatter\", \"data\": [0.9487768566715936, 0.9364311776592479, 0.9278841691122394, 0.9278841691122394, 0.9278841691122394, 0.9244728630693544, 0.9480511366476279, 0.9480511366476279, 0.9598622624938415, 0.9598622624938415, 0.9576977603293394, 0.9278841691122394, 0.9533645366978701, 0.9337321223286136, 0.9244728630693544, 0.9508261394226306, 0.9152136038100952, 0.9460778013409593, 0.9598622624938415, 0.9657102157102159, 0.9526915579547159, 0.9394783254432378, 0.9646498725446094, 0.9468436047383416, 0.9337321223286136, 0.3333333333333333, 0.9159258545223458, 0.9278841691122394, 0.9677987704303495, 0.9278841691122394, 0.9278841691122394, 0.9566740926390049, 0.9612385665017245, 0.9821937321937323, 0.9566740926390049, 0.9278841691122394, 0.9848927875243665, 0.8764521703118193, 0.9475165834814958, 0.634078884078884, 0.9402298481245851, 0.9244728630693544, 0.9244728630693544, 0.976345778977358, 0.9388678248327372, 0.9256938642903556, 0.9646498725446094, 0.9907407407407408]}, {\"categories\": [\"0\", \"1\", \"2\", \"3\", \"4\", \"5\", \"6\", \"7\", \"8\", \"9\", \"10\", \"11\", \"12\", \"13\", \"14\", \"15\", \"16\", \"17\", \"18\", \"19\", \"20\", \"21\", \"22\", \"23\", \"24\", \"25\", \"26\", \"27\", \"28\", \"29\", \"30\", \"31\", \"32\", \"33\", \"34\", \"36\", \"37\", \"38\", \"39\", \"40\", \"41\", \"42\", \"43\", \"44\", \"45\", \"46\", \"47\", \"50\"], \"mode\": \"lines\", \"name\": \"balanced_accuracy_max\", \"stepped\": true, \"type\": \"scatter\", \"data\": [0.9487768566715936, 0.9487768566715936, 0.9487768566715936, 0.9487768566715936, 0.9487768566715936, 0.9487768566715936, 0.9487768566715936, 0.9487768566715936, 0.9598622624938415, 0.9598622624938415, 0.9598622624938415, 0.9598622624938415, 0.9598622624938415, 0.9598622624938415, 0.9598622624938415, 0.9598622624938415, 0.9598622624938415, 0.9598622624938415, 0.9598622624938415, 0.9657102157102159, 0.9657102157102159, 0.9657102157102159, 0.9657102157102159, 0.9657102157102159, 0.9657102157102159, 0.9657102157102159, 0.9657102157102159, 0.9657102157102159, 0.9677987704303495, 0.9677987704303495, 0.9677987704303495, 0.9677987704303495, 0.9677987704303495, 0.9821937321937323, 0.9821937321937323, 0.9821937321937323, 0.9848927875243665, 0.9848927875243665, 0.9848927875243665, 0.9848927875243665, 0.9848927875243665, 0.9848927875243665, 0.9848927875243665, 0.9848927875243665, 0.9848927875243665, 0.9848927875243665, 0.9848927875243665, 0.9907407407407408]}], \"AUC_weighted\": [{\"categories\": [\"0\", \"1\", \"2\", \"3\", \"4\", \"5\", \"6\", \"7\", \"8\", \"9\", \"10\", \"11\", \"12\", \"13\", \"14\", \"15\", \"16\", \"17\", \"18\", \"19\", \"20\", \"21\", \"22\", \"23\", \"24\", \"25\", \"26\", \"27\", \"28\", \"29\", \"30\", \"31\", \"32\", \"33\", \"34\", \"36\", \"37\", \"38\", \"39\", \"40\", \"41\", \"42\", \"43\", \"44\", \"45\", \"46\", \"47\", \"50\"], \"mode\": \"markers\", \"name\": \"AUC_weighted\", \"stepped\": false, \"type\": \"scatter\", \"data\": [0.9894407093941254, 0.9800444508907242, 0.9928269970195437, 0.9889703205696995, 0.995010437285282, 0.9865622084954383, 0.9954796842219201, 0.9954796842219201, 0.9979092163874773, 0.9987561954953259, 0.9943893063458281, 0.9916571351353961, 0.9906418460766288, 0.9950378813732851, 0.9798006255304391, 0.9954781243601118, 0.98128445915713, 0.9809472618478828, 0.9906418460766288, 0.9979264696656002, 0.9940731370079195, 0.98660728505449, 0.9982842468090917, 0.9894589020365417, 0.9915311525948173, 0.5, 0.9940285646030986, 0.98729224967579, 0.9987561954953259, 0.9946210276955618, 0.9836913819444875, 0.9890146861420153, 1.0, 0.9995670995670997, 0.9946977453188633, 0.9954781243601118, 0.9978701681341433, 0.981151078045488, 0.9895113426945725, 0.8569799550001415, 0.9954781243601118, 0.9783786089686711, 0.9919877482765682, 1.0, 0.9898545036743794, 0.980040042772962, 0.9978701681341433, 0.9992196209587515]}, {\"categories\": [\"0\", \"1\", \"2\", \"3\", \"4\", \"5\", \"6\", \"7\", \"8\", \"9\", \"10\", \"11\", \"12\", \"13\", \"14\", \"15\", \"16\", \"17\", \"18\", \"19\", \"20\", \"21\", \"22\", \"23\", \"24\", \"25\", \"26\", \"27\", \"28\", \"29\", \"30\", \"31\", \"32\", \"33\", \"34\", \"36\", \"37\", \"38\", \"39\", \"40\", \"41\", \"42\", \"43\", \"44\", \"45\", \"46\", \"47\", \"50\"], \"mode\": \"lines\", \"name\": \"AUC_weighted_max\", \"stepped\": true, \"type\": \"scatter\", \"data\": [0.9894407093941254, 0.9894407093941254, 0.9928269970195437, 0.9928269970195437, 0.995010437285282, 0.995010437285282, 0.9954796842219201, 0.9954796842219201, 0.9979092163874773, 0.9987561954953259, 0.9987561954953259, 0.9987561954953259, 0.9987561954953259, 0.9987561954953259, 0.9987561954953259, 0.9987561954953259, 0.9987561954953259, 0.9987561954953259, 0.9987561954953259, 0.9987561954953259, 0.9987561954953259, 0.9987561954953259, 0.9987561954953259, 0.9987561954953259, 0.9987561954953259, 0.9987561954953259, 0.9987561954953259, 0.9987561954953259, 0.9987561954953259, 0.9987561954953259, 0.9987561954953259, 0.9987561954953259, 1.0, 1.0, 1.0, 1.0, 1.0, 1.0, 1.0, 1.0, 1.0, 1.0, 1.0, 1.0, 1.0, 1.0, 1.0, 1.0]}], \"recall_score_weighted\": [{\"categories\": [\"0\", \"1\", \"2\", \"3\", \"4\", \"5\", \"6\", \"7\", \"8\", \"9\", \"10\", \"11\", \"12\", \"13\", \"14\", \"15\", \"16\", \"17\", \"18\", \"19\", \"20\", \"21\", \"22\", \"23\", \"24\", \"25\", \"26\", \"27\", \"28\", \"29\", \"30\", \"31\", \"32\", \"33\", \"34\", \"36\", \"37\", \"38\", \"39\", \"40\", \"41\", \"42\", \"43\", \"44\", \"45\", \"46\", \"47\", \"50\"], \"mode\": \"markers\", \"name\": \"recall_score_weighted\", \"stepped\": false, \"type\": \"scatter\", \"data\": [0.942857142857143, 0.9333333333333332, 0.9238095238095237, 0.9238095238095237, 0.9238095238095237, 0.9238095238095237, 0.9428571428571427, 0.9428571428571427, 0.9523809523809522, 0.9523809523809522, 0.9523809523809524, 0.9238095238095237, 0.9523809523809524, 0.9333333333333332, 0.9238095238095237, 0.9523809523809522, 0.9142857142857143, 0.942857142857143, 0.9523809523809522, 0.9619047619047619, 0.9428571428571427, 0.9428571428571427, 0.9523809523809524, 0.9333333333333332, 0.9333333333333332, 0.27619047619047615, 0.9142857142857143, 0.9238095238095237, 0.9619047619047619, 0.9238095238095237, 0.9238095238095237, 0.9619047619047619, 0.9523809523809522, 0.980952380952381, 0.9619047619047619, 0.9238095238095237, 0.980952380952381, 0.8666666666666667, 0.9428571428571427, 0.5619047619047619, 0.9333333333333332, 0.9238095238095237, 0.9238095238095237, 0.9714285714285714, 0.9428571428571427, 0.9333333333333332, 0.9523809523809524, 0.9904761904761905]}, {\"categories\": [\"0\", \"1\", \"2\", \"3\", \"4\", \"5\", \"6\", \"7\", \"8\", \"9\", \"10\", \"11\", \"12\", \"13\", \"14\", \"15\", \"16\", \"17\", \"18\", \"19\", \"20\", \"21\", \"22\", \"23\", \"24\", \"25\", \"26\", \"27\", \"28\", \"29\", \"30\", \"31\", \"32\", \"33\", \"34\", \"36\", \"37\", \"38\", \"39\", \"40\", \"41\", \"42\", \"43\", \"44\", \"45\", \"46\", \"47\", \"50\"], \"mode\": \"lines\", \"name\": \"recall_score_weighted_max\", \"stepped\": true, \"type\": \"scatter\", \"data\": [0.942857142857143, 0.942857142857143, 0.942857142857143, 0.942857142857143, 0.942857142857143, 0.942857142857143, 0.942857142857143, 0.942857142857143, 0.9523809523809522, 0.9523809523809522, 0.9523809523809524, 0.9523809523809524, 0.9523809523809524, 0.9523809523809524, 0.9523809523809524, 0.9523809523809524, 0.9523809523809524, 0.9523809523809524, 0.9523809523809524, 0.9619047619047619, 0.9619047619047619, 0.9619047619047619, 0.9619047619047619, 0.9619047619047619, 0.9619047619047619, 0.9619047619047619, 0.9619047619047619, 0.9619047619047619, 0.9619047619047619, 0.9619047619047619, 0.9619047619047619, 0.9619047619047619, 0.9619047619047619, 0.980952380952381, 0.980952380952381, 0.980952380952381, 0.980952380952381, 0.980952380952381, 0.980952380952381, 0.980952380952381, 0.980952380952381, 0.980952380952381, 0.980952380952381, 0.980952380952381, 0.980952380952381, 0.980952380952381, 0.980952380952381, 0.9904761904761905]}], \"recall_score_macro\": [{\"categories\": [\"0\", \"1\", \"2\", \"3\", \"4\", \"5\", \"6\", \"7\", \"8\", \"9\", \"10\", \"11\", \"12\", \"13\", \"14\", \"15\", \"16\", \"17\", \"18\", \"19\", \"20\", \"21\", \"22\", \"23\", \"24\", \"25\", \"26\", \"27\", \"28\", \"29\", \"30\", \"31\", \"32\", \"33\", \"34\", \"36\", \"37\", \"38\", \"39\", \"40\", \"41\", \"42\", \"43\", \"44\", \"45\", \"46\", \"47\", \"50\"], \"mode\": \"markers\", \"name\": \"recall_score_macro\", \"stepped\": false, \"type\": \"scatter\", \"data\": [0.9487768566715936, 0.9364311776592479, 0.9278841691122394, 0.9278841691122394, 0.9278841691122394, 0.9244728630693544, 0.9480511366476279, 0.9480511366476279, 0.9598622624938415, 0.9598622624938415, 0.9576977603293394, 0.9278841691122394, 0.9533645366978701, 0.9337321223286136, 0.9244728630693544, 0.9508261394226306, 0.9152136038100952, 0.9460778013409593, 0.9598622624938415, 0.9657102157102159, 0.9526915579547159, 0.9394783254432378, 0.9646498725446094, 0.9468436047383416, 0.9337321223286136, 0.3333333333333333, 0.9159258545223458, 0.9278841691122394, 0.9677987704303495, 0.9278841691122394, 0.9278841691122394, 0.9566740926390049, 0.9612385665017245, 0.9821937321937323, 0.9566740926390049, 0.9278841691122394, 0.9848927875243665, 0.8764521703118193, 0.9475165834814958, 0.634078884078884, 0.9402298481245851, 0.9244728630693544, 0.9244728630693544, 0.976345778977358, 0.9388678248327372, 0.9256938642903556, 0.9646498725446094, 0.9907407407407408]}, {\"categories\": [\"0\", \"1\", \"2\", \"3\", \"4\", \"5\", \"6\", \"7\", \"8\", \"9\", \"10\", \"11\", \"12\", \"13\", \"14\", \"15\", \"16\", \"17\", \"18\", \"19\", \"20\", \"21\", \"22\", \"23\", \"24\", \"25\", \"26\", \"27\", \"28\", \"29\", \"30\", \"31\", \"32\", \"33\", \"34\", \"36\", \"37\", \"38\", \"39\", \"40\", \"41\", \"42\", \"43\", \"44\", \"45\", \"46\", \"47\", \"50\"], \"mode\": \"lines\", \"name\": \"recall_score_macro_max\", \"stepped\": true, \"type\": \"scatter\", \"data\": [0.9487768566715936, 0.9487768566715936, 0.9487768566715936, 0.9487768566715936, 0.9487768566715936, 0.9487768566715936, 0.9487768566715936, 0.9487768566715936, 0.9598622624938415, 0.9598622624938415, 0.9598622624938415, 0.9598622624938415, 0.9598622624938415, 0.9598622624938415, 0.9598622624938415, 0.9598622624938415, 0.9598622624938415, 0.9598622624938415, 0.9598622624938415, 0.9657102157102159, 0.9657102157102159, 0.9657102157102159, 0.9657102157102159, 0.9657102157102159, 0.9657102157102159, 0.9657102157102159, 0.9657102157102159, 0.9657102157102159, 0.9677987704303495, 0.9677987704303495, 0.9677987704303495, 0.9677987704303495, 0.9677987704303495, 0.9821937321937323, 0.9821937321937323, 0.9821937321937323, 0.9848927875243665, 0.9848927875243665, 0.9848927875243665, 0.9848927875243665, 0.9848927875243665, 0.9848927875243665, 0.9848927875243665, 0.9848927875243665, 0.9848927875243665, 0.9848927875243665, 0.9848927875243665, 0.9907407407407408]}], \"precision_score_micro\": [{\"categories\": [\"0\", \"1\", \"2\", \"3\", \"4\", \"5\", \"6\", \"7\", \"8\", \"9\", \"10\", \"11\", \"12\", \"13\", \"14\", \"15\", \"16\", \"17\", \"18\", \"19\", \"20\", \"21\", \"22\", \"23\", \"24\", \"25\", \"26\", \"27\", \"28\", \"29\", \"30\", \"31\", \"32\", \"33\", \"34\", \"36\", \"37\", \"38\", \"39\", \"40\", \"41\", \"42\", \"43\", \"44\", \"45\", \"46\", \"47\", \"50\"], \"mode\": \"markers\", \"name\": \"precision_score_micro\", \"stepped\": false, \"type\": \"scatter\", \"data\": [0.942857142857143, 0.9333333333333332, 0.9238095238095237, 0.9238095238095237, 0.9238095238095237, 0.9238095238095237, 0.9428571428571427, 0.9428571428571427, 0.9523809523809522, 0.9523809523809522, 0.9523809523809524, 0.9238095238095237, 0.9523809523809524, 0.9333333333333332, 0.9238095238095237, 0.9523809523809522, 0.9142857142857143, 0.942857142857143, 0.9523809523809522, 0.9619047619047619, 0.9428571428571427, 0.9428571428571427, 0.9523809523809524, 0.9333333333333332, 0.9333333333333332, 0.27619047619047615, 0.9142857142857143, 0.9238095238095237, 0.9619047619047619, 0.9238095238095237, 0.9238095238095237, 0.9619047619047619, 0.9523809523809522, 0.980952380952381, 0.9619047619047619, 0.9238095238095237, 0.980952380952381, 0.8666666666666667, 0.9428571428571427, 0.5619047619047619, 0.9333333333333332, 0.9238095238095237, 0.9238095238095237, 0.9714285714285714, 0.9428571428571427, 0.9333333333333332, 0.9523809523809524, 0.9904761904761905]}, {\"categories\": [\"0\", \"1\", \"2\", \"3\", \"4\", \"5\", \"6\", \"7\", \"8\", \"9\", \"10\", \"11\", \"12\", \"13\", \"14\", \"15\", \"16\", \"17\", \"18\", \"19\", \"20\", \"21\", \"22\", \"23\", \"24\", \"25\", \"26\", \"27\", \"28\", \"29\", \"30\", \"31\", \"32\", \"33\", \"34\", \"36\", \"37\", \"38\", \"39\", \"40\", \"41\", \"42\", \"43\", \"44\", \"45\", \"46\", \"47\", \"50\"], \"mode\": \"lines\", \"name\": \"precision_score_micro_max\", \"stepped\": true, \"type\": \"scatter\", \"data\": [0.942857142857143, 0.942857142857143, 0.942857142857143, 0.942857142857143, 0.942857142857143, 0.942857142857143, 0.942857142857143, 0.942857142857143, 0.9523809523809522, 0.9523809523809522, 0.9523809523809524, 0.9523809523809524, 0.9523809523809524, 0.9523809523809524, 0.9523809523809524, 0.9523809523809524, 0.9523809523809524, 0.9523809523809524, 0.9523809523809524, 0.9619047619047619, 0.9619047619047619, 0.9619047619047619, 0.9619047619047619, 0.9619047619047619, 0.9619047619047619, 0.9619047619047619, 0.9619047619047619, 0.9619047619047619, 0.9619047619047619, 0.9619047619047619, 0.9619047619047619, 0.9619047619047619, 0.9619047619047619, 0.980952380952381, 0.980952380952381, 0.980952380952381, 0.980952380952381, 0.980952380952381, 0.980952380952381, 0.980952380952381, 0.980952380952381, 0.980952380952381, 0.980952380952381, 0.980952380952381, 0.980952380952381, 0.980952380952381, 0.980952380952381, 0.9904761904761905]}], \"weighted_accuracy\": [{\"categories\": [\"0\", \"1\", \"2\", \"3\", \"4\", \"5\", \"6\", \"7\", \"8\", \"9\", \"10\", \"11\", \"12\", \"13\", \"14\", \"15\", \"16\", \"17\", \"18\", \"19\", \"20\", \"21\", \"22\", \"23\", \"24\", \"25\", \"26\", \"27\", \"28\", \"29\", \"30\", \"31\", \"32\", \"33\", \"34\", \"36\", \"37\", \"38\", \"39\", \"40\", \"41\", \"42\", \"43\", \"44\", \"45\", \"46\", \"47\", \"50\"], \"mode\": \"markers\", \"name\": \"weighted_accuracy\", \"stepped\": false, \"type\": \"scatter\", \"data\": [0.936506678186368, 0.9293807874500258, 0.9188373973445921, 0.9188373973445921, 0.9188373973445921, 0.9222350555888719, 0.9381105096350829, 0.9381105096350829, 0.9454284673247414, 0.9454284673247414, 0.947591856158727, 0.9188373973445921, 0.9512014224811353, 0.931736243237328, 0.9222350555888719, 0.9528230234481958, 0.9127338679404158, 0.9388621339736701, 0.9454284673247414, 0.9583273132174773, 0.9341131527067482, 0.9451359627692769, 0.9412588845679023, 0.9212143068140123, 0.931736243237328, 0.21725746430903561, 0.911691665483438, 0.9188373973445921, 0.9565131862479402, 0.9188373973445921, 0.9188373973445921, 0.9657218693409316, 0.944656542812182, 0.9799554222461101, 0.9657218693409316, 0.9188373973445921, 0.9775999664588081, 0.8573904107525981, 0.9383025765883994, 0.49491904968207834, 0.9259632880809342, 0.9222350555888719, 0.9222350555888719, 0.9670565763533743, 0.9456772915870418, 0.9385696294182054, 0.9412588845679023, 0.9904988123515439]}, {\"categories\": [\"0\", \"1\", \"2\", \"3\", \"4\", \"5\", \"6\", \"7\", \"8\", \"9\", \"10\", \"11\", \"12\", \"13\", \"14\", \"15\", \"16\", \"17\", \"18\", \"19\", \"20\", \"21\", \"22\", \"23\", \"24\", \"25\", \"26\", \"27\", \"28\", \"29\", \"30\", \"31\", \"32\", \"33\", \"34\", \"36\", \"37\", \"38\", \"39\", \"40\", \"41\", \"42\", \"43\", \"44\", \"45\", \"46\", \"47\", \"50\"], \"mode\": \"lines\", \"name\": \"weighted_accuracy_max\", \"stepped\": true, \"type\": \"scatter\", \"data\": [0.936506678186368, 0.936506678186368, 0.936506678186368, 0.936506678186368, 0.936506678186368, 0.936506678186368, 0.9381105096350829, 0.9381105096350829, 0.9454284673247414, 0.9454284673247414, 0.947591856158727, 0.947591856158727, 0.9512014224811353, 0.9512014224811353, 0.9512014224811353, 0.9528230234481958, 0.9528230234481958, 0.9528230234481958, 0.9528230234481958, 0.9583273132174773, 0.9583273132174773, 0.9583273132174773, 0.9583273132174773, 0.9583273132174773, 0.9583273132174773, 0.9583273132174773, 0.9583273132174773, 0.9583273132174773, 0.9583273132174773, 0.9583273132174773, 0.9583273132174773, 0.9657218693409316, 0.9657218693409316, 0.9799554222461101, 0.9799554222461101, 0.9799554222461101, 0.9799554222461101, 0.9799554222461101, 0.9799554222461101, 0.9799554222461101, 0.9799554222461101, 0.9799554222461101, 0.9799554222461101, 0.9799554222461101, 0.9799554222461101, 0.9799554222461101, 0.9799554222461101, 0.9904988123515439]}]}, \"metricName\": null, \"primaryMetricName\": \"accuracy\", \"showLegend\": false}, \"run_metrics\": [{\"name\": \"experiment_status\", \"run_id\": \"AutoML_a89b9f55-34c4-458c-af5e-bb73a4ba2a64\", \"categories\": [0, 1, 2, 3, 4, 5, 6, 7, 8, 9, 10, 11, 12, 13], \"series\": [{\"data\": [\"DatasetEvaluation\", \"FeaturesGeneration\", \"DatasetFeaturization\", \"DatasetFeaturizationCompleted\", \"DatasetCrossValidationSplit\", \"ModelSelection\", \"BestRunExplainModel\", \"ModelExplanationDataSetSetup\", \"PickSurrogateModel\", \"EngineeredFeatureExplanations\", \"EngineeredFeatureExplanations\", \"RawFeaturesExplanations\", \"RawFeaturesExplanations\", \"BestRunExplainModel\"]}]}, {\"name\": \"experiment_status_description\", \"run_id\": \"AutoML_a89b9f55-34c4-458c-af5e-bb73a4ba2a64\", \"categories\": [0, 1, 2, 3, 4, 5, 6, 7, 8, 9, 10, 11, 12, 13], \"series\": [{\"data\": [\"Gathering dataset statistics.\", \"Generating features for the dataset.\", \"Beginning to fit featurizers and featurize the dataset.\", \"Completed fit featurizers and featurizing the dataset.\", \"Generating individually featurized CV splits.\", \"Beginning model selection.\", \"Best run model explanations started\", \"Model explanations data setup completed\", \"Choosing LightGBM as the surrogate model for explanations\", \"Computation of engineered features started\", \"Computation of engineered features completed\", \"Computation of raw features started\", \"Computation of raw features completed\", \"Best run model explanations completed\"]}]}, {\"name\": \"balanced_accuracy\", \"run_id\": \"AutoML_a89b9f55-34c4-458c-af5e-bb73a4ba2a64\", \"categories\": [0], \"series\": [{\"data\": [0.9907407407407408]}]}, {\"name\": \"precision_score_weighted\", \"run_id\": \"AutoML_a89b9f55-34c4-458c-af5e-bb73a4ba2a64\", \"categories\": [0], \"series\": [{\"data\": [0.9914285714285714]}]}, {\"name\": \"AUC_micro\", \"run_id\": \"AutoML_a89b9f55-34c4-458c-af5e-bb73a4ba2a64\", \"categories\": [0], \"series\": [{\"data\": [0.999591836734694]}]}, {\"name\": \"weighted_accuracy\", \"run_id\": \"AutoML_a89b9f55-34c4-458c-af5e-bb73a4ba2a64\", \"categories\": [0], \"series\": [{\"data\": [0.9904988123515439]}]}, {\"name\": \"precision_score_micro\", \"run_id\": \"AutoML_a89b9f55-34c4-458c-af5e-bb73a4ba2a64\", \"categories\": [0], \"series\": [{\"data\": [0.9904761904761905]}]}, {\"name\": \"average_precision_score_weighted\", \"run_id\": \"AutoML_a89b9f55-34c4-458c-af5e-bb73a4ba2a64\", \"categories\": [0], \"series\": [{\"data\": [0.9983150183150182]}]}, {\"name\": \"accuracy\", \"run_id\": \"AutoML_a89b9f55-34c4-458c-af5e-bb73a4ba2a64\", \"categories\": [0], \"series\": [{\"data\": [0.9904761904761905]}]}, {\"name\": \"norm_macro_recall\", \"run_id\": \"AutoML_a89b9f55-34c4-458c-af5e-bb73a4ba2a64\", \"categories\": [0], \"series\": [{\"data\": [0.986111111111111]}]}, {\"name\": \"f1_score_weighted\", \"run_id\": \"AutoML_a89b9f55-34c4-458c-af5e-bb73a4ba2a64\", \"categories\": [0], \"series\": [{\"data\": [0.9905197777051323]}]}, {\"name\": \"AUC_macro\", \"run_id\": \"AutoML_a89b9f55-34c4-458c-af5e-bb73a4ba2a64\", \"categories\": [0], \"series\": [{\"data\": [0.9991225897022998]}]}, {\"name\": \"matthews_correlation\", \"run_id\": \"AutoML_a89b9f55-34c4-458c-af5e-bb73a4ba2a64\", \"categories\": [0], \"series\": [{\"data\": [0.9859397753211546]}]}, {\"name\": \"f1_score_macro\", \"run_id\": \"AutoML_a89b9f55-34c4-458c-af5e-bb73a4ba2a64\", \"categories\": [0], \"series\": [{\"data\": [0.9893211289092295]}]}, {\"name\": \"precision_score_macro\", \"run_id\": \"AutoML_a89b9f55-34c4-458c-af5e-bb73a4ba2a64\", \"categories\": [0], \"series\": [{\"data\": [0.9888888888888889]}]}, {\"name\": \"f1_score_micro\", \"run_id\": \"AutoML_a89b9f55-34c4-458c-af5e-bb73a4ba2a64\", \"categories\": [0], \"series\": [{\"data\": [0.9904761904761905]}]}, {\"name\": \"AUC_weighted\", \"run_id\": \"AutoML_a89b9f55-34c4-458c-af5e-bb73a4ba2a64\", \"categories\": [0], \"series\": [{\"data\": [0.9992196209587515]}]}, {\"name\": \"recall_score_macro\", \"run_id\": \"AutoML_a89b9f55-34c4-458c-af5e-bb73a4ba2a64\", \"categories\": [0], \"series\": [{\"data\": [0.9907407407407408]}]}, {\"name\": \"recall_score_weighted\", \"run_id\": \"AutoML_a89b9f55-34c4-458c-af5e-bb73a4ba2a64\", \"categories\": [0], \"series\": [{\"data\": [0.9904761904761905]}]}, {\"name\": \"average_precision_score_macro\", \"run_id\": \"AutoML_a89b9f55-34c4-458c-af5e-bb73a4ba2a64\", \"categories\": [0], \"series\": [{\"data\": [0.9980531813865148]}]}, {\"name\": \"log_loss\", \"run_id\": \"AutoML_a89b9f55-34c4-458c-af5e-bb73a4ba2a64\", \"categories\": [0], \"series\": [{\"data\": [0.24710593727103156]}]}, {\"name\": \"recall_score_micro\", \"run_id\": \"AutoML_a89b9f55-34c4-458c-af5e-bb73a4ba2a64\", \"categories\": [0], \"series\": [{\"data\": [0.9904761904761905]}]}, {\"name\": \"average_precision_score_micro\", \"run_id\": \"AutoML_a89b9f55-34c4-458c-af5e-bb73a4ba2a64\", \"categories\": [0], \"series\": [{\"data\": [0.999213090641662]}]}], \"run_logs\": \"\\nRun is completed.\", \"graph\": {}, \"widget_settings\": {\"childWidgetDisplay\": \"popup\", \"send_telemetry\": false, \"log_level\": \"INFO\", \"sdk_version\": \"1.19.0\"}, \"loading\": false}"
     },
     "metadata": {},
     "output_type": "display_data"
    },
    {
     "name": "stdout",
     "output_type": "stream",
     "text": [
      "\n",
      "\n",
      "****************************************************************************************************\n",
      "DATA GUARDRAILS: \n",
      "\n",
      "TYPE:         Class balancing detection\n",
      "STATUS:       PASSED\n",
      "DESCRIPTION:  Your inputs were analyzed, and all classes are balanced in your training data.\n",
      "              Learn more about imbalanced data: https://aka.ms/AutomatedMLImbalancedData\n",
      "\n",
      "****************************************************************************************************\n",
      "\n",
      "TYPE:         High cardinality feature detection\n",
      "STATUS:       PASSED\n",
      "DESCRIPTION:  Your inputs were analyzed, and no high cardinality features were detected.\n",
      "              Learn more about high cardinality feature handling: https://aka.ms/AutomatedMLFeaturization\n",
      "\n",
      "****************************************************************************************************\n",
      "\n",
      "****************************************************************************************************\n",
      "ITERATION: The iteration being evaluated.\n",
      "PIPELINE: A summary description of the pipeline being evaluated.\n",
      "DURATION: Time taken for the current iteration.\n",
      "METRIC: The result of computing score on the fitted pipeline.\n",
      "BEST: The best observed score thus far.\n",
      "****************************************************************************************************\n",
      "\n",
      " ITERATION   PIPELINE                                       DURATION      METRIC      BEST\n",
      "         0   MaxAbsScaler LightGBM                          0:00:55       0.9429    0.9429\n",
      "         1   MaxAbsScaler XGBoostClassifier                 0:00:59       0.9333    0.9429\n",
      "         2   MinMaxScaler RandomForest                      0:00:55       0.9238    0.9429\n",
      "         3   MinMaxScaler RandomForest                      0:00:56       0.9238    0.9429\n",
      "         4   MinMaxScaler RandomForest                      0:00:49       0.9238    0.9429\n",
      "         5   RobustScaler LightGBM                          0:00:50       0.9238    0.9429\n",
      "         6   MinMaxScaler SVM                               0:01:00       0.9429    0.9429\n",
      "         7   MinMaxScaler SVM                               0:00:49       0.9429    0.9429\n",
      "        10   SparseNormalizer XGBoostClassifier             0:00:48       0.9524    0.9524\n",
      "        11   StandardScalerWrapper RandomForest             0:00:58       0.9238    0.9524\n",
      "         8   SparseNormalizer XGBoostClassifier             0:00:47       0.9524    0.9524\n",
      "         9   SparseNormalizer XGBoostClassifier             0:00:54       0.9524    0.9524\n",
      "        12   SparseNormalizer XGBoostClassifier             0:03:27       0.9524    0.9524\n",
      "        13   MaxAbsScaler ExtremeRandomTrees                0:01:01       0.9333    0.9524\n",
      "        14   MinMaxScaler LightGBM                          0:00:48       0.9238    0.9524\n",
      "        15   StandardScalerWrapper LightGBM                 0:00:50       0.9524    0.9524\n",
      "        16   MaxAbsScaler LightGBM                          0:00:49       0.9143    0.9524\n",
      "        17   MaxAbsScaler LightGBM                          0:00:50       0.9429    0.9524\n",
      "        18   SparseNormalizer XGBoostClassifier             0:01:08       0.9524    0.9524\n",
      "        19   SparseNormalizer XGBoostClassifier             0:00:53       0.9619    0.9619\n",
      "        20   SparseNormalizer LightGBM                      0:00:52       0.9429    0.9619\n",
      "        21   StandardScalerWrapper LogisticRegression       0:00:56       0.9429    0.9619\n",
      "        22   MaxAbsScaler LogisticRegression                0:00:55       0.9524    0.9619\n",
      "        23   SparseNormalizer XGBoostClassifier             0:00:59       0.9333    0.9619\n",
      "        24   StandardScalerWrapper LightGBM                 0:00:57       0.9333    0.9619\n",
      "        25   StandardScalerWrapper XGBoostClassifier        0:00:53       0.2762    0.9619\n",
      "        26   MaxAbsScaler ExtremeRandomTrees                0:00:57       0.9143    0.9619\n",
      "        27   StandardScalerWrapper XGBoostClassifier        0:00:58       0.9238    0.9619\n",
      "        28   SparseNormalizer XGBoostClassifier             0:00:54       0.9619    0.9619\n",
      "        29   MaxAbsScaler RandomForest                      0:01:10       0.9238    0.9619\n",
      "        30   StandardScalerWrapper XGBoostClassifier        0:00:51       0.9238    0.9619\n",
      "        31   MaxAbsScaler ExtremeRandomTrees                0:00:59       0.9619    0.9619\n",
      "        32   SparseNormalizer ExtremeRandomTrees            0:01:02       0.9524    0.9619\n",
      "        33   SparseNormalizer ExtremeRandomTrees            0:00:54       0.9810    0.9810\n",
      "        34   StandardScalerWrapper ExtremeRandomTrees       0:00:43       0.9619    0.9810\n",
      "        35                                                  0:00:17          nan    0.9810\n",
      "        36   StandardScalerWrapper XGBoostClassifier        0:00:47       0.9238    0.9810\n",
      "        37   StandardScalerWrapper LogisticRegression       0:00:52       0.9810    0.9810\n",
      "        38   StandardScalerWrapper LightGBM                 0:00:53       0.8667    0.9810\n",
      "        39   SparseNormalizer XGBoostClassifier             0:00:56       0.9429    0.9810\n",
      "        40   MinMaxScaler ExtremeRandomTrees                0:00:52       0.5619    0.9810\n",
      "        41   StandardScalerWrapper KNN                      0:00:51       0.9333    0.9810\n",
      "        42   MaxAbsScaler LightGBM                          0:00:52       0.9238    0.9810\n",
      "        43   StandardScalerWrapper LightGBM                 0:00:50       0.9238    0.9810\n",
      "        44   SparseNormalizer ExtremeRandomTrees            0:00:55       0.9714    0.9810\n",
      "        45   MaxAbsScaler ExtremeRandomTrees                0:00:52       0.9429    0.9810\n",
      "        46   MaxAbsScaler LogisticRegression                0:00:53       0.9333    0.9810\n",
      "        47   RobustScaler LogisticRegression                0:00:55       0.9524    0.9810\n",
      "        48                                                  0:00:17          nan    0.9810\n",
      "        49                                                  0:00:16          nan    0.9810\n",
      "        50    VotingEnsemble                                0:01:25       0.9905    0.9905\n"
     ]
    },
    {
     "data": {
      "text/plain": [
       "{'runId': 'AutoML_a89b9f55-34c4-458c-af5e-bb73a4ba2a64',\n",
       " 'target': 'cpu-cluster-mla',\n",
       " 'status': 'Completed',\n",
       " 'startTimeUtc': '2020-12-27T22:46:51.137771Z',\n",
       " 'endTimeUtc': '2020-12-27T23:06:28.556924Z',\n",
       " 'properties': {'num_iterations': '1000',\n",
       "  'training_type': 'TrainFull',\n",
       "  'acquisition_function': 'EI',\n",
       "  'primary_metric': 'accuracy',\n",
       "  'train_split': '0',\n",
       "  'acquisition_parameter': '0',\n",
       "  'num_cross_validation': '3',\n",
       "  'target': 'cpu-cluster-mla',\n",
       "  'AMLSettingsJsonString': '{\"path\":null,\"name\":\"udacity-project\",\"subscription_id\":\"9a7511b8-150f-4a58-8528-3e7d50216c31\",\"resource_group\":\"aml-quickstarts-132084\",\"workspace_name\":\"quick-starts-ws-132084\",\"region\":\"southcentralus\",\"compute_target\":\"cpu-cluster-mla\",\"spark_service\":null,\"azure_service\":\"remote\",\"many_models\":false,\"pipeline_fetch_max_batch_size\":1,\"iterations\":1000,\"primary_metric\":\"accuracy\",\"task_type\":\"classification\",\"data_script\":null,\"validation_size\":0.0,\"n_cross_validations\":3,\"y_min\":null,\"y_max\":null,\"num_classes\":null,\"featurization\":\"auto\",\"_ignore_package_version_incompatibilities\":false,\"is_timeseries\":false,\"max_cores_per_iteration\":-1,\"max_concurrent_iterations\":4,\"iteration_timeout_minutes\":5,\"mem_in_mb\":null,\"enforce_time_on_windows\":false,\"experiment_timeout_minutes\":30,\"experiment_exit_score\":null,\"whitelist_models\":null,\"blacklist_algos\":[\"TensorFlowLinearClassifier\",\"TensorFlowDNN\"],\"supported_models\":[\"SGD\",\"DecisionTree\",\"TensorFlowDNN\",\"AveragedPerceptronClassifier\",\"TensorFlowLinearClassifier\",\"MultinomialNaiveBayes\",\"KNN\",\"LinearSVM\",\"BernoulliNaiveBayes\",\"LightGBM\",\"GradientBoosting\",\"LogisticRegression\",\"RandomForest\",\"SVM\",\"ExtremeRandomTrees\",\"XGBoostClassifier\"],\"auto_blacklist\":true,\"blacklist_samples_reached\":false,\"exclude_nan_labels\":true,\"verbosity\":20,\"_debug_log\":\"azureml_automl.log\",\"show_warnings\":false,\"model_explainability\":true,\"service_url\":null,\"sdk_url\":null,\"sdk_packages\":null,\"enable_onnx_compatible_models\":true,\"enable_split_onnx_featurizer_estimator_models\":false,\"vm_type\":\"STANDARD_D2_V2\",\"telemetry_verbosity\":20,\"send_telemetry\":true,\"enable_dnn\":false,\"scenario\":\"SDK-1.13.0\",\"environment_label\":null,\"force_text_dnn\":false,\"enable_feature_sweeping\":false,\"enable_early_stopping\":true,\"early_stopping_n_iters\":10,\"metrics\":null,\"enable_ensembling\":true,\"enable_stack_ensembling\":false,\"ensemble_iterations\":15,\"enable_tf\":false,\"enable_subsampling\":null,\"subsample_seed\":null,\"enable_nimbusml\":false,\"enable_streaming\":false,\"force_streaming\":false,\"track_child_runs\":true,\"allowed_private_models\":[],\"label_column_name\":\"species\",\"weight_column_name\":null,\"cv_split_column_names\":null,\"enable_local_managed\":false,\"_local_managed_run_id\":null,\"cost_mode\":1,\"lag_length\":0,\"metric_operation\":\"maximize\",\"preprocess\":true}',\n",
       "  'DataPrepJsonString': '{\\\\\"training_data\\\\\": \\\\\"{\\\\\\\\\\\\\"blocks\\\\\\\\\\\\\": [{\\\\\\\\\\\\\"id\\\\\\\\\\\\\": \\\\\\\\\\\\\"567cd688-4fa2-4419-bf47-16a0875f4a47\\\\\\\\\\\\\", \\\\\\\\\\\\\"type\\\\\\\\\\\\\": \\\\\\\\\\\\\"Microsoft.DPrep.GetDatastoreFilesBlock\\\\\\\\\\\\\", \\\\\\\\\\\\\"arguments\\\\\\\\\\\\\": {\\\\\\\\\\\\\"datastores\\\\\\\\\\\\\": [{\\\\\\\\\\\\\"datastoreName\\\\\\\\\\\\\": \\\\\\\\\\\\\"workspaceblobstore\\\\\\\\\\\\\", \\\\\\\\\\\\\"path\\\\\\\\\\\\\": \\\\\\\\\\\\\"automlclassifier/train_data.csv\\\\\\\\\\\\\", \\\\\\\\\\\\\"resourceGroup\\\\\\\\\\\\\": \\\\\\\\\\\\\"aml-quickstarts-132084\\\\\\\\\\\\\", \\\\\\\\\\\\\"subscription\\\\\\\\\\\\\": \\\\\\\\\\\\\"9a7511b8-150f-4a58-8528-3e7d50216c31\\\\\\\\\\\\\", \\\\\\\\\\\\\"workspaceName\\\\\\\\\\\\\": \\\\\\\\\\\\\"quick-starts-ws-132084\\\\\\\\\\\\\"}]}, \\\\\\\\\\\\\"localData\\\\\\\\\\\\\": {}, \\\\\\\\\\\\\"isEnabled\\\\\\\\\\\\\": true, \\\\\\\\\\\\\"name\\\\\\\\\\\\\": null, \\\\\\\\\\\\\"annotation\\\\\\\\\\\\\": null}, {\\\\\\\\\\\\\"id\\\\\\\\\\\\\": \\\\\\\\\\\\\"95c2a760-ceb4-4595-b1e0-57bd648c0d29\\\\\\\\\\\\\", \\\\\\\\\\\\\"type\\\\\\\\\\\\\": \\\\\\\\\\\\\"Microsoft.DPrep.ParseDelimitedBlock\\\\\\\\\\\\\", \\\\\\\\\\\\\"arguments\\\\\\\\\\\\\": {\\\\\\\\\\\\\"columnHeadersMode\\\\\\\\\\\\\": 3, \\\\\\\\\\\\\"fileEncoding\\\\\\\\\\\\\": 0, \\\\\\\\\\\\\"handleQuotedLineBreaks\\\\\\\\\\\\\": false, \\\\\\\\\\\\\"preview\\\\\\\\\\\\\": false, \\\\\\\\\\\\\"separator\\\\\\\\\\\\\": \\\\\\\\\\\\\",\\\\\\\\\\\\\", \\\\\\\\\\\\\"skipRows\\\\\\\\\\\\\": 0, \\\\\\\\\\\\\"skipRowsMode\\\\\\\\\\\\\": 0}, \\\\\\\\\\\\\"localData\\\\\\\\\\\\\": {}, \\\\\\\\\\\\\"isEnabled\\\\\\\\\\\\\": true, \\\\\\\\\\\\\"name\\\\\\\\\\\\\": null, \\\\\\\\\\\\\"annotation\\\\\\\\\\\\\": null}, {\\\\\\\\\\\\\"id\\\\\\\\\\\\\": \\\\\\\\\\\\\"3551e2f3-25ef-43d1-a127-c1e2ed829227\\\\\\\\\\\\\", \\\\\\\\\\\\\"type\\\\\\\\\\\\\": \\\\\\\\\\\\\"Microsoft.DPrep.DropColumnsBlock\\\\\\\\\\\\\", \\\\\\\\\\\\\"arguments\\\\\\\\\\\\\": {\\\\\\\\\\\\\"columns\\\\\\\\\\\\\": {\\\\\\\\\\\\\"type\\\\\\\\\\\\\": 0, \\\\\\\\\\\\\"details\\\\\\\\\\\\\": {\\\\\\\\\\\\\"selectedColumns\\\\\\\\\\\\\": [\\\\\\\\\\\\\"Path\\\\\\\\\\\\\"]}}}, \\\\\\\\\\\\\"localData\\\\\\\\\\\\\": {}, \\\\\\\\\\\\\"isEnabled\\\\\\\\\\\\\": true, \\\\\\\\\\\\\"name\\\\\\\\\\\\\": null, \\\\\\\\\\\\\"annotation\\\\\\\\\\\\\": null}, {\\\\\\\\\\\\\"id\\\\\\\\\\\\\": \\\\\\\\\\\\\"6665d710-4ede-44bc-9a41-0e092ec87e70\\\\\\\\\\\\\", \\\\\\\\\\\\\"type\\\\\\\\\\\\\": \\\\\\\\\\\\\"Microsoft.DPrep.SetColumnTypesBlock\\\\\\\\\\\\\", \\\\\\\\\\\\\"arguments\\\\\\\\\\\\\": {\\\\\\\\\\\\\"columnConversion\\\\\\\\\\\\\": [{\\\\\\\\\\\\\"column\\\\\\\\\\\\\": {\\\\\\\\\\\\\"type\\\\\\\\\\\\\": 2, \\\\\\\\\\\\\"details\\\\\\\\\\\\\": {\\\\\\\\\\\\\"selectedColumn\\\\\\\\\\\\\": \\\\\\\\\\\\\"sepal_length\\\\\\\\\\\\\"}}, \\\\\\\\\\\\\"typeProperty\\\\\\\\\\\\\": 3}, {\\\\\\\\\\\\\"column\\\\\\\\\\\\\": {\\\\\\\\\\\\\"type\\\\\\\\\\\\\": 2, \\\\\\\\\\\\\"details\\\\\\\\\\\\\": {\\\\\\\\\\\\\"selectedColumn\\\\\\\\\\\\\": \\\\\\\\\\\\\"sepal_width\\\\\\\\\\\\\"}}, \\\\\\\\\\\\\"typeProperty\\\\\\\\\\\\\": 3}, {\\\\\\\\\\\\\"column\\\\\\\\\\\\\": {\\\\\\\\\\\\\"type\\\\\\\\\\\\\": 2, \\\\\\\\\\\\\"details\\\\\\\\\\\\\": {\\\\\\\\\\\\\"selectedColumn\\\\\\\\\\\\\": \\\\\\\\\\\\\"petal_length\\\\\\\\\\\\\"}}, \\\\\\\\\\\\\"typeProperty\\\\\\\\\\\\\": 3}, {\\\\\\\\\\\\\"column\\\\\\\\\\\\\": {\\\\\\\\\\\\\"type\\\\\\\\\\\\\": 2, \\\\\\\\\\\\\"details\\\\\\\\\\\\\": {\\\\\\\\\\\\\"selectedColumn\\\\\\\\\\\\\": \\\\\\\\\\\\\"petal_width\\\\\\\\\\\\\"}}, \\\\\\\\\\\\\"typeProperty\\\\\\\\\\\\\": 3}, {\\\\\\\\\\\\\"column\\\\\\\\\\\\\": {\\\\\\\\\\\\\"type\\\\\\\\\\\\\": 2, \\\\\\\\\\\\\"details\\\\\\\\\\\\\": {\\\\\\\\\\\\\"selectedColumn\\\\\\\\\\\\\": \\\\\\\\\\\\\"species\\\\\\\\\\\\\"}}, \\\\\\\\\\\\\"typeProperty\\\\\\\\\\\\\": 0}]}, \\\\\\\\\\\\\"localData\\\\\\\\\\\\\": {}, \\\\\\\\\\\\\"isEnabled\\\\\\\\\\\\\": true, \\\\\\\\\\\\\"name\\\\\\\\\\\\\": null, \\\\\\\\\\\\\"annotation\\\\\\\\\\\\\": null}], \\\\\\\\\\\\\"inspectors\\\\\\\\\\\\\": [], \\\\\\\\\\\\\"meta\\\\\\\\\\\\\": {\\\\\\\\\\\\\"savedDatasetId\\\\\\\\\\\\\": \\\\\\\\\\\\\"45ae87ca-b9df-4f38-b217-0b8fdc764b16\\\\\\\\\\\\\", \\\\\\\\\\\\\"datasetType\\\\\\\\\\\\\": \\\\\\\\\\\\\"tabular\\\\\\\\\\\\\", \\\\\\\\\\\\\"subscriptionId\\\\\\\\\\\\\": \\\\\\\\\\\\\"9a7511b8-150f-4a58-8528-3e7d50216c31\\\\\\\\\\\\\", \\\\\\\\\\\\\"workspaceId\\\\\\\\\\\\\": \\\\\\\\\\\\\"21312b6f-597a-415d-8b7b-b0cd210a47b8\\\\\\\\\\\\\", \\\\\\\\\\\\\"workspaceLocation\\\\\\\\\\\\\": \\\\\\\\\\\\\"southcentralus\\\\\\\\\\\\\"}}\\\\\", \\\\\"activities\\\\\": 0}',\n",
       "  'EnableSubsampling': None,\n",
       "  'runTemplate': 'AutoML',\n",
       "  'azureml.runsource': 'automl',\n",
       "  'display_task_type': 'classification',\n",
       "  'dependencies_versions': '{\"azureml-widgets\": \"1.19.0\", \"azureml-train\": \"1.19.0\", \"azureml-train-restclients-hyperdrive\": \"1.19.0\", \"azureml-train-core\": \"1.19.0\", \"azureml-train-automl\": \"1.19.0\", \"azureml-train-automl-runtime\": \"1.19.0\", \"azureml-train-automl-client\": \"1.19.0\", \"azureml-tensorboard\": \"1.19.0\", \"azureml-telemetry\": \"1.19.0\", \"azureml-sdk\": \"1.19.0\", \"azureml-samples\": \"0+unknown\", \"azureml-pipeline\": \"1.19.0\", \"azureml-pipeline-steps\": \"1.19.0\", \"azureml-pipeline-core\": \"1.19.0\", \"azureml-opendatasets\": \"1.19.0\", \"azureml-model-management-sdk\": \"1.0.1b6.post1\", \"azureml-mlflow\": \"1.19.0\", \"azureml-interpret\": \"1.19.0\", \"azureml-explain-model\": \"1.19.0\", \"azureml-defaults\": \"1.19.0\", \"azureml-dataset-runtime\": \"1.19.0\", \"azureml-dataprep\": \"2.6.1\", \"azureml-dataprep-rslex\": \"1.4.0\", \"azureml-dataprep-native\": \"26.0.0\", \"azureml-datadrift\": \"1.19.0\", \"azureml-core\": \"1.19.0\", \"azureml-contrib-services\": \"1.19.0\", \"azureml-contrib-server\": \"1.19.0\", \"azureml-contrib-reinforcementlearning\": \"1.19.0\", \"azureml-contrib-pipeline-steps\": \"1.19.0\", \"azureml-contrib-notebook\": \"1.19.0\", \"azureml-contrib-interpret\": \"1.19.0\", \"azureml-contrib-gbdt\": \"1.19.0\", \"azureml-contrib-fairness\": \"1.19.0\", \"azureml-contrib-dataset\": \"1.19.0\", \"azureml-cli-common\": \"1.19.0\", \"azureml-automl-runtime\": \"1.19.0\", \"azureml-automl-core\": \"1.19.0\", \"azureml-accel-models\": \"1.19.0\"}',\n",
       "  '_aml_system_scenario_identification': 'Remote.Parent',\n",
       "  'ClientType': 'SDK',\n",
       "  'environment_cpu_name': 'AzureML-AutoML',\n",
       "  'environment_cpu_label': 'prod',\n",
       "  'environment_gpu_name': 'AzureML-AutoML-GPU',\n",
       "  'environment_gpu_label': 'prod',\n",
       "  'root_attribution': 'automl',\n",
       "  'attribution': 'AutoML',\n",
       "  'Orchestrator': 'AutoML',\n",
       "  'CancelUri': 'https://southcentralus.experiments.azureml.net/jasmine/v1.0/subscriptions/9a7511b8-150f-4a58-8528-3e7d50216c31/resourceGroups/aml-quickstarts-132084/providers/Microsoft.MachineLearningServices/workspaces/quick-starts-ws-132084/experimentids/ca25076f-b2e2-4a7d-895f-52da85badef7/cancel/AutoML_a89b9f55-34c4-458c-af5e-bb73a4ba2a64',\n",
       "  'ClientSdkVersion': '1.19.0',\n",
       "  'snapshotId': '00000000-0000-0000-0000-000000000000',\n",
       "  'SetupRunId': 'AutoML_a89b9f55-34c4-458c-af5e-bb73a4ba2a64_setup',\n",
       "  'SetupRunContainerId': 'dcid.AutoML_a89b9f55-34c4-458c-af5e-bb73a4ba2a64_setup',\n",
       "  'FeaturizationRunJsonPath': 'featurizer_container.json',\n",
       "  'FeaturizationRunId': 'AutoML_a89b9f55-34c4-458c-af5e-bb73a4ba2a64_featurize',\n",
       "  'ProblemInfoJsonString': '{\"dataset_num_categorical\": 0, \"is_sparse\": false, \"subsampling\": false, \"dataset_classes\": 3, \"dataset_features\": 4, \"dataset_samples\": 105, \"single_frequency_class_detected\": false}',\n",
       "  'ModelExplainRunId': 'AutoML_a89b9f55-34c4-458c-af5e-bb73a4ba2a64_ModelExplain'},\n",
       " 'inputDatasets': [{'dataset': {'id': '45ae87ca-b9df-4f38-b217-0b8fdc764b16'}, 'consumptionDetails': {'type': 'RunInput', 'inputName': 'training_data', 'mechanism': 'Direct'}}],\n",
       " 'outputDatasets': [],\n",
       " 'logFiles': {}}"
      ]
     },
     "execution_count": 15,
     "metadata": {},
     "output_type": "execute_result"
    }
   ],
   "source": [
    "# show run details\n",
    "from azureml.widgets import RunDetails\n",
    "RunDetails(automl_run).show()\n",
    "\n",
    "# wait for completion\n",
    "automl_run.wait_for_completion(show_output=True)"
   ]
  },
  {
   "cell_type": "code",
   "execution_count": 16,
   "metadata": {},
   "outputs": [
    {
     "name": "stdout",
     "output_type": "stream",
     "text": [
      "Pipeline(memory=None,\n",
      "         steps=[('datatransformer',\n",
      "                 DataTransformer(enable_dnn=None, enable_feature_sweeping=None,\n",
      "                                 feature_sweeping_config=None,\n",
      "                                 feature_sweeping_timeout=None,\n",
      "                                 featurization_config=None, force_text_dnn=None,\n",
      "                                 is_cross_validation=None,\n",
      "                                 is_onnx_compatible=None, logger=None,\n",
      "                                 observer=None, task=None, working_dir=None)),\n",
      "                ('prefittedsoftvotingclassifier',...\n",
      "                                                                                                  min_impurity_split=None,\n",
      "                                                                                                  min_samples_leaf=0.06157894736842105,\n",
      "                                                                                                  min_samples_split=0.01,\n",
      "                                                                                                  min_weight_fraction_leaf=0.0,\n",
      "                                                                                                  n_estimators=600,\n",
      "                                                                                                  n_jobs=-1,\n",
      "                                                                                                  oob_score=False,\n",
      "                                                                                                  random_state=None,\n",
      "                                                                                                  verbose=0,\n",
      "                                                                                                  warm_start=False))],\n",
      "                                                                     verbose=False))],\n",
      "                                               flatten_transform=None,\n",
      "                                               weights=[0.16666666666666666,\n",
      "                                                        0.3333333333333333,\n",
      "                                                        0.16666666666666666,\n",
      "                                                        0.16666666666666666,\n",
      "                                                        0.16666666666666666]))],\n",
      "         verbose=False)\n",
      "Y_transformer(['LabelEncoder', LabelEncoder()])\n"
     ]
    }
   ],
   "source": [
    "best_automl, best_fit_model = automl_run.get_output()\n",
    "print(best_fit_model)"
   ]
  },
  {
   "cell_type": "code",
   "execution_count": 17,
   "metadata": {},
   "outputs": [
    {
     "name": "stdout",
     "output_type": "stream",
     "text": [
      "Run(Experiment: udacity-project,\n",
      "Id: AutoML_a89b9f55-34c4-458c-af5e-bb73a4ba2a64_50,\n",
      "Type: azureml.scriptrun,\n",
      "Status: Completed)\n"
     ]
    }
   ],
   "source": [
    "print(best_automl)"
   ]
  },
  {
   "cell_type": "code",
   "execution_count": 18,
   "metadata": {},
   "outputs": [
    {
     "data": {
      "text/plain": [
       "['best_fit_automl_model.pkl']"
      ]
     },
     "execution_count": 18,
     "metadata": {},
     "output_type": "execute_result"
    }
   ],
   "source": [
    "#TODO: Save the best model\n",
    "\n",
    "import joblib\n",
    "joblib.dump(best_fit_model, 'best_fit_automl_model.pkl')"
   ]
  },
  {
   "cell_type": "code",
   "execution_count": 19,
   "metadata": {},
   "outputs": [
    {
     "name": "stdout",
     "output_type": "stream",
     "text": [
      "Registering model best_fit_automl_model\n",
      "best_fit_automl_model\tbest_fit_automl_model:1\t1\n"
     ]
    }
   ],
   "source": [
    "# Register the Model\n",
    "from azureml.core.model import Model\n",
    "model = Model.register(workspace = ws, model_name = 'best_fit_automl_model', model_path = 'best_fit_automl_model.pkl')\n",
    "print(model.name, model.id, model.version, sep='\\t')"
   ]
  },
  {
   "cell_type": "code",
   "execution_count": 22,
   "metadata": {},
   "outputs": [
    {
     "name": "stdout",
     "output_type": "stream",
     "text": [
      "Tips: You can try get_logs(): https://aka.ms/debugimage#dockerlog or local deployment: https://aka.ms/debugimage#debug-locally to debug if deployment takes longer than 10 minutes.\n",
      "Running...................................................\n",
      "Succeeded\n",
      "ACI service creation operation finished, operation \"Succeeded\"\n"
     ]
    }
   ],
   "source": [
    "from azureml.core.model import InferenceConfig\n",
    "from azureml.core.webservice import AciWebservice\n",
    "from azureml.core import Environment\n",
    "from azureml.core.model import Model\n",
    "\n",
    "service_name = 'my-ctg-service'\n",
    "env = Environment.get(workspace=ws, name=\"AzureML-Tutorial\")  \n",
    "env.python.conda_dependencies.add_pip_package(\"scikit-learn\")\n",
    "\n",
    "inference_config = InferenceConfig(entry_script='score3.py', environment=env)\n",
    "aci_config = AciWebservice.deploy_configuration(cpu_cores=1, memory_gb=4, enable_app_insights=True)\n",
    "\n",
    "model = Model(ws,name='best_fit_automl_model')\n",
    "service = Model.deploy(workspace=ws,\n",
    "                       name=service_name,\n",
    "                       models=[model],\n",
    "                       inference_config=inference_config,\n",
    "                       deployment_config=aci_config,\n",
    "                       overwrite=True)\n",
    "\n",
    "service.wait_for_deployment(show_output=True)"
   ]
  },
  {
   "cell_type": "code",
   "execution_count": 23,
   "metadata": {},
   "outputs": [
    {
     "name": "stdout",
     "output_type": "stream",
     "text": [
      "Healthy\n",
      "http://eaf74c91-d8f2-4b39-a93f-48eb29c8acb8.southcentralus.azurecontainer.io/score\n",
      "http://eaf74c91-d8f2-4b39-a93f-48eb29c8acb8.southcentralus.azurecontainer.io/swagger.json\n"
     ]
    }
   ],
   "source": [
    "print(service.state)\n",
    "print(service.scoring_uri)\n",
    "print(service.swagger_uri)"
   ]
  },
  {
   "cell_type": "code",
   "execution_count": 27,
   "metadata": {},
   "outputs": [
    {
     "name": "stdout",
     "output_type": "stream",
     "text": [
      "Response Code :  200\n",
      "Predicted Value :  [\"Iris-virginica\", \"Iris-setosa\"]\n"
     ]
    }
   ],
   "source": [
    "import requests\n",
    "import json\n",
    "\n",
    "# URL for the web service\n",
    "scoring_uri = 'http://eaf74c91-d8f2-4b39-a93f-48eb29c8acb8.southcentralus.azurecontainer.io/score'\n",
    "\n",
    "# Set the content type\n",
    "headers = {'Content-Type': 'application/json'}\n",
    "\n",
    "data = {\"data\":\n",
    "        [\n",
    "          {\n",
    "            \"sepal_length\": 6.0,\n",
    "            \"sepal_width\": 2.0,\n",
    "            \"petal_length\": 5.6,\n",
    "            \"petal_width\": 3.2,\n",
    "           \n",
    "          },\n",
    "          {\n",
    "            \"sepal_length\": 2.0,\n",
    "            \"sepal_width\": 3.0,\n",
    "            \"petal_length\": 1.6,\n",
    "            \"petal_width\": 1.2,\n",
    "          }\n",
    "      ]\n",
    "    }\n",
    "# Convert to JSON string\n",
    "input_data = json.dumps(data)\n",
    "\n",
    "# Make the request and display the response\n",
    "resp = requests.post(scoring_uri, input_data, headers=headers)\n",
    "\n",
    "print(\"Response Code : \", resp.status_code)\n",
    "print(\"Predicted Value : \",resp.text)"
   ]
  },
  {
   "cell_type": "code",
   "execution_count": 28,
   "metadata": {},
   "outputs": [
    {
     "name": "stdout",
     "output_type": "stream",
     "text": [
      "2020-12-27T23:19:15,463172400+00:00 - gunicorn/run \n",
      "2020-12-27T23:19:15,460960600+00:00 - rsyslog/run \n",
      "2020-12-27T23:19:15,464322300+00:00 - iot-server/run \n",
      "2020-12-27T23:19:15,582566400+00:00 - nginx/run \n",
      "/usr/sbin/nginx: /azureml-envs/azureml_a1736710baabf05d37337a101fa8d6d1/lib/libcrypto.so.1.0.0: no version information available (required by /usr/sbin/nginx)\n",
      "/usr/sbin/nginx: /azureml-envs/azureml_a1736710baabf05d37337a101fa8d6d1/lib/libcrypto.so.1.0.0: no version information available (required by /usr/sbin/nginx)\n",
      "/usr/sbin/nginx: /azureml-envs/azureml_a1736710baabf05d37337a101fa8d6d1/lib/libssl.so.1.0.0: no version information available (required by /usr/sbin/nginx)\n",
      "/usr/sbin/nginx: /azureml-envs/azureml_a1736710baabf05d37337a101fa8d6d1/lib/libssl.so.1.0.0: no version information available (required by /usr/sbin/nginx)\n",
      "/usr/sbin/nginx: /azureml-envs/azureml_a1736710baabf05d37337a101fa8d6d1/lib/libssl.so.1.0.0: no version information available (required by /usr/sbin/nginx)\n",
      "rsyslogd: /azureml-envs/azureml_a1736710baabf05d37337a101fa8d6d1/lib/libuuid.so.1: no version information available (required by rsyslogd)\n",
      "EdgeHubConnectionString and IOTEDGE_IOTHUBHOSTNAME are not set. Exiting...\n",
      "2020-12-27T23:19:17,257075400+00:00 - iot-server/finish 1 0\n",
      "2020-12-27T23:19:17,258744000+00:00 - Exit code 1 is normal. Not restarting iot-server.\n",
      "Starting gunicorn 19.9.0\n",
      "Listening at: http://127.0.0.1:31311 (58)\n",
      "Using worker: sync\n",
      "worker timeout is set to 300\n",
      "Booting worker with pid: 99\n",
      "SPARK_HOME not set. Skipping PySpark Initialization.\n",
      "Failure while loading azureml_run_type_providers. Failed to load entrypoint automl = azureml.train.automl.run:AutoMLRun._from_run_dto with exception (pyarrow 2.0.0 (/azureml-envs/azureml_a1736710baabf05d37337a101fa8d6d1/lib/python3.6/site-packages), Requirement.parse('pyarrow<2.0.0,>=0.17.0'), {'azureml-dataset-runtime'}).\n",
      "Initializing logger\n",
      "2020-12-27 23:19:26,994 | root | INFO | Starting up app insights client\n",
      "Starting up app insights client\n",
      "2020-12-27 23:19:26,995 | root | INFO | Starting up request id generator\n",
      "Starting up request id generator\n",
      "2020-12-27 23:19:26,995 | root | INFO | Starting up app insight hooks\n",
      "Starting up app insight hooks\n",
      "2020-12-27 23:19:26,996 | root | INFO | Invoking user's init function\n",
      "Invoking user's init function\n",
      "2020-12-27 23:19:32,440 | root | INFO | Users's init has completed successfully\n",
      "Users's init has completed successfully\n",
      "/azureml-envs/azureml_a1736710baabf05d37337a101fa8d6d1/lib/python3.6/site-packages/sklearn/externals/joblib/__init__.py:15: FutureWarning: sklearn.externals.joblib is deprecated in 0.21 and will be removed in 0.23. Please import this functionality directly from joblib, which can be installed with: pip install joblib. If this warning is raised when loading pickled models, you may need to re-serialize those models with scikit-learn 0.21+.\n",
      "  warnings.warn(msg, category=FutureWarning)\n",
      "2020-12-27 23:19:32,442 | root | INFO | Skipping middleware: dbg_model_info as it's not enabled.\n",
      "Skipping middleware: dbg_model_info as it's not enabled.\n",
      "2020-12-27 23:19:32,443 | root | INFO | Skipping middleware: dbg_resource_usage as it's not enabled.\n",
      "Skipping middleware: dbg_resource_usage as it's not enabled.\n",
      "2020-12-27 23:19:32,447 | root | INFO | Scoring timeout is found from os.environ: 60000 ms\n",
      "Scoring timeout is found from os.environ: 60000 ms\n",
      "2020-12-27 23:19:32,463 | root | INFO | Swagger file not present\n",
      "Swagger file not present\n",
      "2020-12-27 23:19:32,463 | root | INFO | 404\n",
      "404\n",
      "127.0.0.1 - - [27/Dec/2020:23:19:32 +0000] \"GET /swagger.json HTTP/1.0\" 404 19 \"-\" \"Go-http-client/1.1\"\n",
      "2020-12-27 23:19:39,750 | root | INFO | Swagger file not present\n",
      "Swagger file not present\n",
      "2020-12-27 23:19:39,751 | root | INFO | 404\n",
      "404\n",
      "127.0.0.1 - - [27/Dec/2020:23:19:39 +0000] \"GET /swagger.json HTTP/1.0\" 404 19 \"-\" \"Go-http-client/1.1\"\n",
      "2020-12-27 23:20:42,237 | root | INFO | Validation Request Content-Type\n",
      "Validation Request Content-Type\n",
      "2020-12-27 23:20:42,237 | root | INFO | \tHost: localhost:5001\n",
      "\tHost: localhost:5001\n",
      "2020-12-27 23:20:42,238 | root | INFO | \tX-Real-Ip: 127.0.0.1\n",
      "\tX-Real-Ip: 127.0.0.1\n",
      "2020-12-27 23:20:42,238 | root | INFO | \tX-Forwarded-For: 127.0.0.1\n",
      "\tX-Forwarded-For: 127.0.0.1\n",
      "2020-12-27 23:20:42,238 | root | INFO | \tX-Forwarded-Proto: http\n",
      "\tX-Forwarded-Proto: http\n",
      "2020-12-27 23:20:42,238 | root | INFO | \tConnection: close\n",
      "\tConnection: close\n",
      "2020-12-27 23:20:42,238 | root | INFO | \tContent-Length: 178\n",
      "\tContent-Length: 178\n",
      "2020-12-27 23:20:42,238 | root | INFO | \tUser-Agent: python-requests/2.25.0\n",
      "\tUser-Agent: python-requests/2.25.0\n",
      "2020-12-27 23:20:42,238 | root | INFO | \tAccept: */*\n",
      "\tAccept: */*\n",
      "2020-12-27 23:20:42,239 | root | INFO | \tAccept-Encoding: gzip, deflate\n",
      "\tAccept-Encoding: gzip, deflate\n",
      "2020-12-27 23:20:42,240 | root | INFO | \tContent-Type: application/json\n",
      "\tContent-Type: application/json\n",
      "2020-12-27 23:20:42,240 | root | INFO | \tX-Ms-Request-Id: 11b4f358-6072-4f55-aee5-751e1f60e320\n",
      "\tX-Ms-Request-Id: 11b4f358-6072-4f55-aee5-751e1f60e320\n",
      "2020-12-27 23:20:42,240 | root | INFO | Scoring Timer is set to 60.0 seconds\n",
      "Scoring Timer is set to 60.0 seconds\n",
      "[TRANSFORM] ['sepal_length']: 0.001278 secs\n",
      "[TRANSFORM] ['sepal_width']: 0.004524 secs\n",
      "[TRANSFORM] ['petal_length']: 0.000848 secs\n",
      "[TRANSFORM] ['petal_width']: 0.000965 secs\n",
      "2020-12-27 23:20:43,292 | root | INFO | 200\n",
      "200\n",
      "127.0.0.1 - - [27/Dec/2020:23:20:43 +0000] \"POST /score HTTP/1.0\" 200 36 \"-\" \"python-requests/2.25.0\"\n",
      "2020-12-27 23:20:55,015 | root | INFO | Validation Request Content-Type\n",
      "Validation Request Content-Type\n",
      "2020-12-27 23:20:55,016 | root | INFO | \tHost: localhost:5001\n",
      "\tHost: localhost:5001\n",
      "2020-12-27 23:20:55,017 | root | INFO | \tX-Real-Ip: 127.0.0.1\n",
      "\tX-Real-Ip: 127.0.0.1\n",
      "2020-12-27 23:20:55,017 | root | INFO | \tX-Forwarded-For: 127.0.0.1\n",
      "\tX-Forwarded-For: 127.0.0.1\n",
      "2020-12-27 23:20:55,017 | root | INFO | \tX-Forwarded-Proto: http\n",
      "\tX-Forwarded-Proto: http\n",
      "2020-12-27 23:20:55,018 | root | INFO | \tConnection: close\n",
      "\tConnection: close\n",
      "2020-12-27 23:20:55,018 | root | INFO | \tContent-Length: 178\n",
      "\tContent-Length: 178\n",
      "2020-12-27 23:20:55,019 | root | INFO | \tUser-Agent: python-requests/2.25.0\n",
      "\tUser-Agent: python-requests/2.25.0\n",
      "2020-12-27 23:20:55,019 | root | INFO | \tAccept: */*\n",
      "\tAccept: */*\n",
      "2020-12-27 23:20:55,020 | root | INFO | \tAccept-Encoding: gzip, deflate\n",
      "\tAccept-Encoding: gzip, deflate\n",
      "2020-12-27 23:20:55,020 | root | INFO | \tContent-Type: application/json\n",
      "\tContent-Type: application/json\n",
      "2020-12-27 23:20:55,020 | root | INFO | \tX-Ms-Request-Id: 98739df7-57a3-43e3-998d-319da0ce39da\n",
      "\tX-Ms-Request-Id: 98739df7-57a3-43e3-998d-319da0ce39da\n",
      "2020-12-27 23:20:55,021 | root | INFO | Scoring Timer is set to 60.0 seconds\n",
      "Scoring Timer is set to 60.0 seconds\n",
      "[TRANSFORM] ['sepal_length']: 0.001007 secs\n",
      "[TRANSFORM] ['sepal_width']: 0.00094 secs\n",
      "[TRANSFORM] ['petal_length']: 0.000852 secs\n",
      "[TRANSFORM] ['petal_width']: 0.001053 secs\n",
      "2020-12-27 23:20:56,058 | root | INFO | 200\n",
      "200\n",
      "127.0.0.1 - - [27/Dec/2020:23:20:56 +0000] \"POST /score HTTP/1.0\" 200 36 \"-\" \"python-requests/2.25.0\"\n",
      "2020-12-27 23:21:07,983 | root | INFO | Validation Request Content-Type\n",
      "Validation Request Content-Type\n",
      "2020-12-27 23:21:07,984 | root | INFO | \tHost: localhost:5001\n",
      "\tHost: localhost:5001\n",
      "2020-12-27 23:21:07,984 | root | INFO | \tX-Real-Ip: 127.0.0.1\n",
      "\tX-Real-Ip: 127.0.0.1\n",
      "2020-12-27 23:21:07,984 | root | INFO | \tX-Forwarded-For: 127.0.0.1\n",
      "\tX-Forwarded-For: 127.0.0.1\n",
      "2020-12-27 23:21:07,985 | root | INFO | \tX-Forwarded-Proto: http\n",
      "\tX-Forwarded-Proto: http\n",
      "2020-12-27 23:21:07,985 | root | INFO | \tConnection: close\n",
      "\tConnection: close\n",
      "2020-12-27 23:21:07,985 | root | INFO | \tContent-Length: 178\n",
      "\tContent-Length: 178\n",
      "2020-12-27 23:21:07,986 | root | INFO | \tUser-Agent: python-requests/2.25.0\n",
      "\tUser-Agent: python-requests/2.25.0\n",
      "2020-12-27 23:21:07,987 | root | INFO | \tAccept: */*\n",
      "\tAccept: */*\n",
      "2020-12-27 23:21:07,987 | root | INFO | \tAccept-Encoding: gzip, deflate\n",
      "\tAccept-Encoding: gzip, deflate\n",
      "2020-12-27 23:21:07,987 | root | INFO | \tContent-Type: application/json\n",
      "\tContent-Type: application/json\n",
      "2020-12-27 23:21:07,987 | root | INFO | \tX-Ms-Request-Id: dcb0b760-029f-4141-acd9-869ed701d3f9\n",
      "\tX-Ms-Request-Id: dcb0b760-029f-4141-acd9-869ed701d3f9\n",
      "2020-12-27 23:21:07,988 | root | INFO | Scoring Timer is set to 60.0 seconds\n",
      "Scoring Timer is set to 60.0 seconds\n",
      "[TRANSFORM] ['sepal_length']: 0.001011 secs\n",
      "[TRANSFORM] ['sepal_width']: 0.000703 secs\n",
      "[TRANSFORM] ['petal_length']: 0.000987 secs\n",
      "[TRANSFORM] ['petal_width']: 0.000769 secs\n",
      "2020-12-27 23:21:09,026 | root | INFO | 200\n",
      "200\n",
      "127.0.0.1 - - [27/Dec/2020:23:21:09 +0000] \"POST /score HTTP/1.0\" 200 33 \"-\" \"python-requests/2.25.0\"\n",
      "\n"
     ]
    }
   ],
   "source": [
    "# Web Service Logs\n",
    "print(service.get_logs())"
   ]
  },
  {
   "cell_type": "code",
   "execution_count": 30,
   "metadata": {},
   "outputs": [
    {
     "name": "stdout",
     "output_type": "stream",
     "text": [
      "No service with name my-ctg-service found to delete.\n"
     ]
    }
   ],
   "source": [
    "# Delete the service\n",
    "service.delete()"
   ]
  },
  {
   "cell_type": "code",
   "execution_count": null,
   "metadata": {},
   "outputs": [],
   "source": []
  }
 ],
 "metadata": {
  "kernelspec": {
   "display_name": "Python 3.6 - AzureML",
   "language": "python",
   "name": "python3-azureml"
  },
  "language_info": {
   "codemirror_mode": {
    "name": "ipython",
    "version": 3
   },
   "file_extension": ".py",
   "mimetype": "text/x-python",
   "name": "python",
   "nbconvert_exporter": "python",
   "pygments_lexer": "ipython3",
   "version": "3.6.9"
  }
 },
 "nbformat": 4,
 "nbformat_minor": 4
}
